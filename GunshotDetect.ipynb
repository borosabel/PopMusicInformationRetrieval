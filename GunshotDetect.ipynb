{
 "cells": [
  {
   "metadata": {
    "ExecuteTime": {
     "end_time": "2025-03-15T09:28:54.665033Z",
     "start_time": "2025-03-15T09:28:52.964574Z"
    }
   },
   "cell_type": "code",
   "source": [
    "import pandas as pd\n",
    "from sklearn.model_selection import train_test_split\n",
    "import GunshotDataset\n",
    "import gunshot_utils as utils\n",
    "import importlib\n",
    "import torch as th\n",
    "from torch.utils.data import DataLoader\n",
    "import torch.nn as nn\n",
    "import torch.nn.functional as F\n",
    "import librosa\n",
    "import ast\n",
    "import pickle\n",
    "import re\n",
    "import soundfile as sf\n",
    "from pydub.playback import play\n",
    "import os\n",
    "import numpy as np\n",
    "import torchaudio\n",
    "import GunshotModel\n",
    "import GunshotDetection\n",
    "from torch.optim import Adam\n",
    "import torch.nn as nn\n",
    "\n",
    "importlib.reload(utils)\n",
    "importlib.reload(GunshotDetection)\n",
    "importlib.reload(GunshotDataset)\n",
    "importlib.reload(GunshotModel)"
   ],
   "id": "2ac06f6cba0d1f6f",
   "outputs": [
    {
     "name": "stderr",
     "output_type": "stream",
     "text": [
      "/Users/abelboros/.pyenv/versions/thesis_env/lib/python3.9/site-packages/pydub/utils.py:170: RuntimeWarning: Couldn't find ffmpeg or avconv - defaulting to ffmpeg, but may not work\n",
      "  warn(\"Couldn't find ffmpeg or avconv - defaulting to ffmpeg, but may not work\", RuntimeWarning)\n"
     ]
    },
    {
     "data": {
      "text/plain": [
       "<module 'GunshotModel' from '/Users/abelboros/Documents/Personal/Code/PopMusicInformationRetrieval/GunshotModel.py'>"
      ]
     },
     "execution_count": 1,
     "metadata": {},
     "output_type": "execute_result"
    }
   ],
   "execution_count": 1
  },
  {
   "metadata": {
    "ExecuteTime": {
     "end_time": "2025-03-15T11:16:46.501397Z",
     "start_time": "2025-03-15T11:16:46.495331Z"
    }
   },
   "cell_type": "code",
   "source": [
    "# with open(\"pkl_data/gunshot_data.pkl\", \"wb\") as file:     # DUMP\n",
    "#     pickle.dump(gunshot_df, file)\n",
    "\n",
    "with open(\"./pkl_data/gunshot_data.pkl\", \"rb\") as file:     # OPEN\n",
    "    gunshot_df = pickle.load(file)\n",
    "    gunshot_df['label'] = 1"
   ],
   "id": "b4684caa09dc36fc",
   "outputs": [],
   "execution_count": 31
  },
  {
   "metadata": {
    "ExecuteTime": {
     "end_time": "2025-03-15T11:17:37.893784Z",
     "start_time": "2025-03-15T11:17:37.841294Z"
    }
   },
   "cell_type": "code",
   "source": [
    "# with open(\"./pkl_data/music_with_onsets_wav.pkl\", \"wb\") as file:  # DUMP\n",
    "#     pickle.dump(music_df, file)\n",
    "#\n",
    "with open(\"./pkl_data/music_with_onsets_wav.pkl\", \"rb\") as file:    # OPEN\n",
    "    music_df = pickle.load(file)"
   ],
   "id": "b985a548ee4223ee",
   "outputs": [],
   "execution_count": 33
  },
  {
   "metadata": {
    "ExecuteTime": {
     "end_time": "2025-03-15T11:18:05.158210Z",
     "start_time": "2025-03-15T11:18:04.314066Z"
    }
   },
   "cell_type": "code",
   "source": [
    "# Generate metadata\n",
    "gunshot_metadata = utils.generate_audio_metadata_from_df(gunshot_df, 'filename')\n",
    "#\n",
    "with open(\"./gunshot_metadata.pkl\", \"wb\") as file:\n",
    "    pickle.dump(gunshot_metadata, file)\n",
    "#\n",
    "# with open(\"pkl_data/gunshot_metadata.pkl\", \"rb\") as file:\n",
    "#     gunshot_metadata = pickle.load(file)"
   ],
   "id": "749cfc85835a26bc",
   "outputs": [],
   "execution_count": 35
  },
  {
   "metadata": {
    "ExecuteTime": {
     "end_time": "2025-03-15T11:19:04.659690Z",
     "start_time": "2025-03-15T11:18:06.796667Z"
    }
   },
   "cell_type": "code",
   "source": [
    "# Generate metadata\n",
    "audio_metadata = utils.generate_audio_metadata_from_df(music_df, 'filename')\n",
    "\n",
    "with open(\"./audio_metadata.pkl\", \"wb\") as file:\n",
    "    pickle.dump(audio_metadata, file)\n",
    "\n",
    "# with open(\"pkl_data/audio_metadata.pkl\", \"rb\") as file:\n",
    "#     audio_metadata = pickle.load(file)"
   ],
   "id": "944936406a7bf24d",
   "outputs": [],
   "execution_count": 36
  },
  {
   "metadata": {
    "ExecuteTime": {
     "end_time": "2025-03-15T11:19:04.719843Z",
     "start_time": "2025-03-15T11:19:04.704190Z"
    }
   },
   "cell_type": "code",
   "source": "music_df",
   "id": "d63d010a3398346",
   "outputs": [
    {
     "data": {
      "text/plain": [
       "                                               filename  num_gunshots  \\\n",
       "0                           Data/gunshot/8 Iz Enuff.wav             0   \n",
       "1                         Data/gunshot/Da Graveyard.wav             0   \n",
       "2                Data/gunshot/I Don't Understand It.wav             0   \n",
       "3                    Data/gunshot/No Endz, No Skinz.wav             0   \n",
       "4                                  Data/gunshot/MVP.wav             0   \n",
       "...                                                 ...           ...   \n",
       "1359  Data/gunshot/Dr. Dre - The Day the Niggaz Took...             0   \n",
       "1360  Data/gunshot/Dr. Dre - Bitches Ain't Shit (fea...             0   \n",
       "1361  Data/gunshot/Dr. Dre - Stranded On Death Row (...             0   \n",
       "1362  Data/gunshot/Dr. Dre - Nuthin' but a ＂G＂ Thang...             0   \n",
       "1363  Data/gunshot/Dr. Dre - The Roach (ft. Ruben Cr...             0   \n",
       "\n",
       "      gunshot_location_in_seconds  label  \\\n",
       "0                               0      0   \n",
       "1                               0      0   \n",
       "2                               0      0   \n",
       "3                               0      0   \n",
       "4                               0      0   \n",
       "...                           ...    ...   \n",
       "1359                            0      0   \n",
       "1360                            0      0   \n",
       "1361                            0      0   \n",
       "1362                            0      0   \n",
       "1363                            0      0   \n",
       "\n",
       "                                                 onsets  num_onsets  \n",
       "0     [0.14933333333333335, 0.384, 1.130666666666666...        1650  \n",
       "1     [0.128, 2.2826666666666666, 2.421333333333333,...        1811  \n",
       "2     [0.13866666666666666, 0.7893333333333333, 1.10...        1261  \n",
       "3     [0.14933333333333335, 4.074666666666666, 4.917...        1006  \n",
       "4     [0.13866666666666666, 0.23466666666666666, 0.5...         867  \n",
       "...                                                 ...         ...  \n",
       "1359  [0.07466666666666667, 0.16, 1.7813333333333334...        1327  \n",
       "1360  [0.256, 0.416, 0.448, 0.6186666666666667, 0.94...        1322  \n",
       "1361  [0.30933333333333335, 0.384, 1.792, 1.89866666...        1779  \n",
       "1362  [0.07466666666666667, 0.224, 0.874666666666666...         999  \n",
       "1363  [0.2773333333333333, 0.9706666666666667, 1.312...         888  \n",
       "\n",
       "[1364 rows x 6 columns]"
      ],
      "text/html": [
       "<div>\n",
       "<style scoped>\n",
       "    .dataframe tbody tr th:only-of-type {\n",
       "        vertical-align: middle;\n",
       "    }\n",
       "\n",
       "    .dataframe tbody tr th {\n",
       "        vertical-align: top;\n",
       "    }\n",
       "\n",
       "    .dataframe thead th {\n",
       "        text-align: right;\n",
       "    }\n",
       "</style>\n",
       "<table border=\"1\" class=\"dataframe\">\n",
       "  <thead>\n",
       "    <tr style=\"text-align: right;\">\n",
       "      <th></th>\n",
       "      <th>filename</th>\n",
       "      <th>num_gunshots</th>\n",
       "      <th>gunshot_location_in_seconds</th>\n",
       "      <th>label</th>\n",
       "      <th>onsets</th>\n",
       "      <th>num_onsets</th>\n",
       "    </tr>\n",
       "  </thead>\n",
       "  <tbody>\n",
       "    <tr>\n",
       "      <th>0</th>\n",
       "      <td>Data/gunshot/8 Iz Enuff.wav</td>\n",
       "      <td>0</td>\n",
       "      <td>0</td>\n",
       "      <td>0</td>\n",
       "      <td>[0.14933333333333335, 0.384, 1.130666666666666...</td>\n",
       "      <td>1650</td>\n",
       "    </tr>\n",
       "    <tr>\n",
       "      <th>1</th>\n",
       "      <td>Data/gunshot/Da Graveyard.wav</td>\n",
       "      <td>0</td>\n",
       "      <td>0</td>\n",
       "      <td>0</td>\n",
       "      <td>[0.128, 2.2826666666666666, 2.421333333333333,...</td>\n",
       "      <td>1811</td>\n",
       "    </tr>\n",
       "    <tr>\n",
       "      <th>2</th>\n",
       "      <td>Data/gunshot/I Don't Understand It.wav</td>\n",
       "      <td>0</td>\n",
       "      <td>0</td>\n",
       "      <td>0</td>\n",
       "      <td>[0.13866666666666666, 0.7893333333333333, 1.10...</td>\n",
       "      <td>1261</td>\n",
       "    </tr>\n",
       "    <tr>\n",
       "      <th>3</th>\n",
       "      <td>Data/gunshot/No Endz, No Skinz.wav</td>\n",
       "      <td>0</td>\n",
       "      <td>0</td>\n",
       "      <td>0</td>\n",
       "      <td>[0.14933333333333335, 4.074666666666666, 4.917...</td>\n",
       "      <td>1006</td>\n",
       "    </tr>\n",
       "    <tr>\n",
       "      <th>4</th>\n",
       "      <td>Data/gunshot/MVP.wav</td>\n",
       "      <td>0</td>\n",
       "      <td>0</td>\n",
       "      <td>0</td>\n",
       "      <td>[0.13866666666666666, 0.23466666666666666, 0.5...</td>\n",
       "      <td>867</td>\n",
       "    </tr>\n",
       "    <tr>\n",
       "      <th>...</th>\n",
       "      <td>...</td>\n",
       "      <td>...</td>\n",
       "      <td>...</td>\n",
       "      <td>...</td>\n",
       "      <td>...</td>\n",
       "      <td>...</td>\n",
       "    </tr>\n",
       "    <tr>\n",
       "      <th>1359</th>\n",
       "      <td>Data/gunshot/Dr. Dre - The Day the Niggaz Took...</td>\n",
       "      <td>0</td>\n",
       "      <td>0</td>\n",
       "      <td>0</td>\n",
       "      <td>[0.07466666666666667, 0.16, 1.7813333333333334...</td>\n",
       "      <td>1327</td>\n",
       "    </tr>\n",
       "    <tr>\n",
       "      <th>1360</th>\n",
       "      <td>Data/gunshot/Dr. Dre - Bitches Ain't Shit (fea...</td>\n",
       "      <td>0</td>\n",
       "      <td>0</td>\n",
       "      <td>0</td>\n",
       "      <td>[0.256, 0.416, 0.448, 0.6186666666666667, 0.94...</td>\n",
       "      <td>1322</td>\n",
       "    </tr>\n",
       "    <tr>\n",
       "      <th>1361</th>\n",
       "      <td>Data/gunshot/Dr. Dre - Stranded On Death Row (...</td>\n",
       "      <td>0</td>\n",
       "      <td>0</td>\n",
       "      <td>0</td>\n",
       "      <td>[0.30933333333333335, 0.384, 1.792, 1.89866666...</td>\n",
       "      <td>1779</td>\n",
       "    </tr>\n",
       "    <tr>\n",
       "      <th>1362</th>\n",
       "      <td>Data/gunshot/Dr. Dre - Nuthin' but a ＂G＂ Thang...</td>\n",
       "      <td>0</td>\n",
       "      <td>0</td>\n",
       "      <td>0</td>\n",
       "      <td>[0.07466666666666667, 0.224, 0.874666666666666...</td>\n",
       "      <td>999</td>\n",
       "    </tr>\n",
       "    <tr>\n",
       "      <th>1363</th>\n",
       "      <td>Data/gunshot/Dr. Dre - The Roach (ft. Ruben Cr...</td>\n",
       "      <td>0</td>\n",
       "      <td>0</td>\n",
       "      <td>0</td>\n",
       "      <td>[0.2773333333333333, 0.9706666666666667, 1.312...</td>\n",
       "      <td>888</td>\n",
       "    </tr>\n",
       "  </tbody>\n",
       "</table>\n",
       "<p>1364 rows × 6 columns</p>\n",
       "</div>"
      ]
     },
     "execution_count": 37,
     "metadata": {},
     "output_type": "execute_result"
    }
   ],
   "execution_count": 37
  },
  {
   "metadata": {
    "ExecuteTime": {
     "end_time": "2025-03-15T11:24:39.537194Z",
     "start_time": "2025-03-15T11:24:39.521644Z"
    }
   },
   "cell_type": "code",
   "source": [
    "music_train_df, music_valid_df = train_test_split(music_df, test_size=0.2, random_state=42)\n",
    "gunshot_train_df, gunshot_valid_df = train_test_split(gunshot_df, test_size=0.2, random_state=42)"
   ],
   "id": "4503b7cd851f2aff",
   "outputs": [],
   "execution_count": 38
  },
  {
   "metadata": {
    "ExecuteTime": {
     "end_time": "2025-03-15T11:24:40.239212Z",
     "start_time": "2025-03-15T11:24:40.231125Z"
    }
   },
   "cell_type": "code",
   "source": [
    "train_dataset = GunshotDataset.GunshotDataset(music_train_df, gunshot_train_df, audio_metadata, gunshot_prob=0.5, num_samples=8000, real_music_gunshot=False) # This means that with 50% probability it will generate gunshot samples. In total 800 samples.\n",
    "valid_dataset = GunshotDataset.GunshotDataset(music_valid_df, gunshot_valid_df, audio_metadata, gunshot_prob=0.5, num_samples=1000, real_music_gunshot=False)\n",
    "train_loader = DataLoader(train_dataset, batch_size=32, shuffle=True)\n",
    "valid_loader = DataLoader(valid_dataset, batch_size=32, shuffle=False)"
   ],
   "id": "c9060896d3ec5936",
   "outputs": [],
   "execution_count": 39
  },
  {
   "metadata": {
    "ExecuteTime": {
     "end_time": "2025-03-15T11:24:43.329188Z",
     "start_time": "2025-03-15T11:24:41.802668Z"
    }
   },
   "cell_type": "code",
   "source": [
    "waveform, spectrogram = train_dataset.get_random_music_onset()\n",
    "# plot_spectrogram_rgb(spectrogram)\n",
    "utils.play_audio(waveform)\n",
    "utils.plot_spectrogram_channels(spectrogram, save=True, filename='music_spectogram_triplet.png')"
   ],
   "id": "3c49e7e9d8a89149",
   "outputs": [],
   "execution_count": 40
  },
  {
   "metadata": {
    "ExecuteTime": {
     "end_time": "2025-03-15T11:24:44.987615Z",
     "start_time": "2025-03-15T11:24:43.708850Z"
    }
   },
   "cell_type": "code",
   "source": [
    "waveform, spectrogram = train_dataset.get_random_music_with_gunshot()\n",
    "# plot_spectrogram_rgb(spectrogram)\n",
    "utils.play_audio(waveform)\n",
    "utils.plot_spectrogram_channels(spectrogram, save=True, filename='gunshot_spectogram_triplet.png')"
   ],
   "id": "c5010e5a9117aa94",
   "outputs": [],
   "execution_count": 41
  },
  {
   "metadata": {
    "ExecuteTime": {
     "end_time": "2025-03-15T11:25:09.719469Z",
     "start_time": "2025-03-15T11:24:46.678351Z"
    }
   },
   "cell_type": "code",
   "source": [
    "device = th.device(\"cuda\" if th.cuda.is_available() else \"cpu\")\n",
    "use_cuda = th.cuda.is_available()\n",
    "torchaudio.set_audio_backend(\"soundfile\")\n",
    "\n",
    "mean, std = utils.compute_mean_std(train_loader)\n",
    "mean = mean.to(device)\n",
    "std = std.to(device)"
   ],
   "id": "55359a0151cb9558",
   "outputs": [
    {
     "name": "stderr",
     "output_type": "stream",
     "text": [
      "/var/folders/17/b1txq3n15cb37zv_2hv6vwjr0000gn/T/ipykernel_85334/2989080760.py:3: UserWarning: torchaudio._backend.set_audio_backend has been deprecated. With dispatcher enabled, this function is no-op. You can remove the function call.\n",
      "  torchaudio.set_audio_backend(\"soundfile\")\n",
      "Computing mean and std: 100%|██████████| 250/250 [00:22<00:00, 11.12it/s]\n"
     ]
    }
   ],
   "execution_count": 42
  },
  {
   "metadata": {
    "ExecuteTime": {
     "end_time": "2025-03-15T11:28:38.526716Z",
     "start_time": "2025-03-15T11:25:12.905877Z"
    }
   },
   "cell_type": "code",
   "source": [
    "# Initialize model\n",
    "num_frames = utils.NUM_FRAMES\n",
    "model = GunshotModel.GunshotDetectionCNN(num_frames)\n",
    "\n",
    "# Define optimizer and loss\n",
    "criterion = nn.BCELoss()\n",
    "optimizer = Adam(model.parameters(), lr=0.001)\n",
    "\n",
    "# Calculate mean and std for normalization\n",
    "means = []\n",
    "stds = []\n",
    "for spectrogram, _, _ in train_loader:\n",
    "    means.append(spectrogram.mean())\n",
    "    stds.append(spectrogram.std())\n",
    "mean = th.tensor(means).mean()\n",
    "std = th.tensor(stds).mean()\n",
    "\n",
    "# Initialize training manager\n",
    "training_manager = GunshotDetection.GunshotDetectionTrainer(\n",
    "    model=model,\n",
    "    train_loader=train_loader,\n",
    "    valid_loader=valid_loader,\n",
    "    optimizer=optimizer,\n",
    "    criterion=criterion,\n",
    "    num_epochs=10,\n",
    "    mean=mean,\n",
    "    std=std,\n",
    "    eval_metric='f1',\n",
    "    patience=3\n",
    ")\n",
    "\n",
    "# Train the model\n",
    "best_threshold, best_score, last_failed_samples = training_manager.train()"
   ],
   "id": "e657dc6ec3d52aa8",
   "outputs": [
    {
     "name": "stderr",
     "output_type": "stream",
     "text": [
      "/Users/abelboros/.pyenv/versions/thesis_env/lib/python3.9/site-packages/torch/optim/lr_scheduler.py:62: UserWarning: The verbose parameter is deprecated. Please use get_last_lr() to access the learning rate.\n",
      "  warnings.warn(\n"
     ]
    },
    {
     "name": "stdout",
     "output_type": "stream",
     "text": [
      "Epoch 1/10\n"
     ]
    },
    {
     "name": "stderr",
     "output_type": "stream",
     "text": [
      "Epoch [1] Training: 100%|██████████| 250/250 [00:39<00:00,  6.32it/s, loss=0.0959] \n"
     ]
    },
    {
     "name": "stdout",
     "output_type": "stream",
     "text": [
      "Epoch [1], Training Loss: 0.1467\n",
      "Epoch [1], Validation Loss: 0.0450\n",
      "Epoch [1], AUC-ROC: 0.9969, PR-AUC: 0.9976\n",
      "New best f1: 0.9819, model saved.\n",
      "Epoch 2/10\n"
     ]
    },
    {
     "name": "stderr",
     "output_type": "stream",
     "text": [
      "Epoch [2] Training: 100%|██████████| 250/250 [00:35<00:00,  7.06it/s, loss=0.243]   \n"
     ]
    },
    {
     "name": "stdout",
     "output_type": "stream",
     "text": [
      "Epoch [2], Training Loss: 0.0779\n",
      "Epoch [2], Validation Loss: 0.0443\n",
      "Epoch [2], AUC-ROC: 0.9974, PR-AUC: 0.9980\n",
      "Epoch 3/10\n"
     ]
    },
    {
     "name": "stderr",
     "output_type": "stream",
     "text": [
      "Epoch [3] Training: 100%|██████████| 250/250 [00:37<00:00,  6.74it/s, loss=0.0141]  \n"
     ]
    },
    {
     "name": "stdout",
     "output_type": "stream",
     "text": [
      "Epoch [3], Training Loss: 0.0763\n",
      "Epoch [3], Validation Loss: 0.0963\n",
      "Epoch [3], AUC-ROC: 0.9988, PR-AUC: 0.9987\n",
      "Epoch 4/10\n"
     ]
    },
    {
     "name": "stderr",
     "output_type": "stream",
     "text": [
      "Epoch [4] Training: 100%|██████████| 250/250 [00:35<00:00,  7.11it/s, loss=0.0474]  \n"
     ]
    },
    {
     "name": "stdout",
     "output_type": "stream",
     "text": [
      "Epoch [4], Training Loss: 0.0484\n",
      "Epoch [4], Validation Loss: 0.2005\n",
      "Epoch [4], AUC-ROC: 0.9993, PR-AUC: 0.9993\n",
      "No improvement in f1 for 3 epochs. Stopping training.\n"
     ]
    },
    {
     "data": {
      "text/plain": [
       "<Figure size 1000x600 with 1 Axes>"
      ],
      "image/png": "[encoded data removed]"
     },
     "metadata": {},
     "output_type": "display_data"
    }
   ],
   "execution_count": 43
  },
  {
   "metadata": {
    "ExecuteTime": {
     "end_time": "2025-01-27T17:57:29.926389Z",
     "start_time": "2025-01-27T17:57:29.915574Z"
    }
   },
   "cell_type": "code",
   "source": [
    "def manual_evaluate_test(model, feature, threshold, frame_size=utils.NUM_FRAMES, sampling_rate=utils.SAMPLING_RATE, hop_length=utils.HOP_LENGTH, mean=None, std=None, step_size=None, filter_time_sec=0):\n",
    "    \"\"\"\n",
    "    Manually evaluate the model on an audio feature, returning time positions where gunshots are detected.\n",
    "\n",
    "    Parameters:\n",
    "        model: The trained model.\n",
    "        feature: The feature (e.g., spectrogram) to evaluate.\n",
    "        threshold: The prediction threshold for gunshots.\n",
    "        frame_size: Number of frames to use in each evaluation.\n",
    "        sampling_rate: Audio sampling rate.\n",
    "        hop_length: Hop length in samples for each frame.\n",
    "        mean: Mean for normalization.\n",
    "        std: Standard deviation for normalization.\n",
    "        step_size: Step size for moving through frames (default: frame_size // 2).\n",
    "        filter_time_sec: Time (in seconds) to filter out close consecutive predictions.\n",
    "    \n",
    "    Returns:\n",
    "        List of tuples (minutes, seconds, output) where gunshots are detected along with the model's output.\n",
    "    \"\"\"\n",
    "    if mean is None or std is None:\n",
    "        raise ValueError(\"Mean and std must be provided for normalization.\")\n",
    "\n",
    "    mean = mean.to(device)\n",
    "    std = std.to(device)\n",
    "    model = model.to(device)\n",
    "    model.eval()\n",
    "\n",
    "    predictions = []\n",
    "\n",
    "    feature = feature.to(device)\n",
    "    feature = (feature - mean) / std\n",
    "\n",
    "    num_frames = feature.shape[2]\n",
    "\n",
    "    if step_size is None:\n",
    "        step_size = 1\n",
    "\n",
    "    total_iterations = 0\n",
    "\n",
    "    with th.no_grad():\n",
    "        for j in range(0, num_frames - frame_size + 1, step_size):\n",
    "            total_iterations += 1\n",
    "            start = j\n",
    "            end = j + frame_size\n",
    "\n",
    "            input_frame = feature[:, :, start:end].unsqueeze(0).float()\n",
    "            output = model(input_frame).squeeze().item()\n",
    "            predictions.append((output, start))\n",
    "\n",
    "        print(\"Number of predictions\", len(predictions))\n",
    "\n",
    "        res = []\n",
    "        for output, start in predictions:\n",
    "            if output >= threshold:\n",
    "                time_in_seconds = start * hop_length / sampling_rate\n",
    "                minutes = int(time_in_seconds // 60)\n",
    "                seconds = time_in_seconds % 60\n",
    "                res.append((minutes, seconds, time_in_seconds, output))\n",
    "\n",
    "    print(len(res))\n",
    "\n",
    "    filtered_res = []\n",
    "    last_detection_time = -float('inf')\n",
    "\n",
    "    for minutes, seconds, time_in_seconds, output in res:\n",
    "        if time_in_seconds - last_detection_time >= filter_time_sec:\n",
    "            filtered_res.append((minutes, seconds, output))\n",
    "            last_detection_time = time_in_seconds\n",
    "\n",
    "    return filtered_res"
   ],
   "id": "3b4e2804c3bd2c90",
   "outputs": [],
   "execution_count": 108
  },
  {
   "metadata": {
    "ExecuteTime": {
     "end_time": "2025-01-27T17:57:59.532257Z",
     "start_time": "2025-01-27T17:57:57.868703Z"
    }
   },
   "cell_type": "code",
   "source": "spectrograms, sample_rates = utils.preprocess_audio(['/Users/borosabel/Documents/Uni/Thesis/PopMIR/50 Cent - Many Men (Wish Death) (Dirty Version).mp3'])",
   "id": "bb9a0a5f794ee55a",
   "outputs": [
    {
     "name": "stderr",
     "output_type": "stream",
     "text": [
      "100%|██████████| 1/1 [00:01<00:00,  1.64s/it]\n"
     ]
    }
   ],
   "execution_count": 110
  },
  {
   "metadata": {
    "ExecuteTime": {
     "end_time": "2025-01-27T17:58:36.641877Z",
     "start_time": "2025-01-27T17:58:32.156758Z"
    }
   },
   "cell_type": "code",
   "source": [
    "predictions = manual_evaluate_test(model, spectrograms[0], threshold=best_threshold, mean=mean, std=std, step_size=1, filter_time_sec=1)\n",
    "\n",
    "if(len(predictions) > 0):\n",
    "    print(f\"Current treshold is {best_threshold} \\n\")\n",
    "\n",
    "    for minutes, seconds, output in predictions:\n",
    "        print(f\"Detected gunshot at {minutes}m {seconds:.2f}s with model output: {output:.4f}\")\n",
    "else:\n",
    "    print(\"No predictions\")"
   ],
   "id": "6c2eff7a51ed245b",
   "outputs": [
    {
     "name": "stdout",
     "output_type": "stream",
     "text": [
      "Number of predictions 25598\n",
      "2192\n",
      "Current treshold is 0.5 \n",
      "\n",
      "Detected gunshot at 0m 2.79s with model output: 0.5851\n",
      "Detected gunshot at 0m 5.58s with model output: 0.5480\n",
      "Detected gunshot at 0m 8.38s with model output: 0.5358\n",
      "Detected gunshot at 0m 10.51s with model output: 0.5147\n",
      "Detected gunshot at 0m 11.52s with model output: 0.9789\n",
      "Detected gunshot at 0m 12.53s with model output: 0.9997\n",
      "Detected gunshot at 0m 13.54s with model output: 0.9995\n",
      "Detected gunshot at 0m 33.76s with model output: 0.5824\n",
      "Detected gunshot at 0m 38.65s with model output: 0.5282\n",
      "Detected gunshot at 0m 43.04s with model output: 0.5475\n",
      "Detected gunshot at 0m 44.05s with model output: 0.9880\n",
      "Detected gunshot at 0m 45.06s with model output: 0.9979\n",
      "Detected gunshot at 0m 46.07s with model output: 0.9570\n",
      "Detected gunshot at 0m 47.08s with model output: 0.9985\n",
      "Detected gunshot at 0m 48.09s with model output: 0.9065\n",
      "Detected gunshot at 0m 49.10s with model output: 0.9821\n",
      "Detected gunshot at 0m 50.11s with model output: 0.8627\n",
      "Detected gunshot at 0m 54.27s with model output: 0.5087\n",
      "Detected gunshot at 1m 5.79s with model output: 0.6053\n",
      "Detected gunshot at 1m 9.43s with model output: 0.5270\n",
      "Detected gunshot at 1m 10.44s with model output: 0.5923\n",
      "Detected gunshot at 1m 11.58s with model output: 0.5207\n",
      "Detected gunshot at 1m 12.59s with model output: 0.6674\n",
      "Detected gunshot at 1m 13.97s with model output: 0.6913\n",
      "Detected gunshot at 1m 15.45s with model output: 0.6028\n",
      "Detected gunshot at 1m 18.08s with model output: 0.5766\n",
      "Detected gunshot at 1m 20.91s with model output: 0.5362\n",
      "Detected gunshot at 1m 23.72s with model output: 0.6140\n",
      "Detected gunshot at 1m 25.82s with model output: 0.5611\n",
      "Detected gunshot at 1m 27.59s with model output: 0.5657\n",
      "Detected gunshot at 1m 28.65s with model output: 0.6251\n",
      "Detected gunshot at 1m 29.66s with model output: 0.7985\n",
      "Detected gunshot at 1m 31.86s with model output: 0.5627\n",
      "Detected gunshot at 1m 37.80s with model output: 0.5391\n",
      "Detected gunshot at 1m 39.36s with model output: 0.5984\n",
      "Detected gunshot at 1m 40.79s with model output: 0.5421\n",
      "Detected gunshot at 1m 47.78s with model output: 0.5725\n",
      "Detected gunshot at 1m 51.11s with model output: 0.5313\n",
      "Detected gunshot at 1m 56.78s with model output: 0.5567\n",
      "Detected gunshot at 1m 59.59s with model output: 0.5276\n",
      "Detected gunshot at 2m 1.24s with model output: 0.6790\n",
      "Detected gunshot at 2m 4.58s with model output: 0.7139\n",
      "Detected gunshot at 2m 5.68s with model output: 0.5415\n",
      "Detected gunshot at 2m 7.18s with model output: 0.5350\n",
      "Detected gunshot at 2m 8.62s with model output: 0.6155\n",
      "Detected gunshot at 2m 11.72s with model output: 0.5374\n",
      "Detected gunshot at 2m 13.07s with model output: 0.5048\n",
      "Detected gunshot at 2m 14.08s with model output: 0.6016\n",
      "Detected gunshot at 2m 15.09s with model output: 0.5614\n",
      "Detected gunshot at 2m 17.28s with model output: 0.5352\n",
      "Detected gunshot at 2m 18.98s with model output: 0.5470\n",
      "Detected gunshot at 2m 20.03s with model output: 0.6577\n",
      "Detected gunshot at 2m 23.23s with model output: 0.5275\n",
      "Detected gunshot at 2m 26.15s with model output: 0.5875\n",
      "Detected gunshot at 2m 28.46s with model output: 0.5220\n",
      "Detected gunshot at 2m 34.33s with model output: 0.5003\n",
      "Detected gunshot at 2m 35.45s with model output: 0.6299\n",
      "Detected gunshot at 2m 44.80s with model output: 0.5282\n",
      "Detected gunshot at 2m 50.30s with model output: 0.5303\n",
      "Detected gunshot at 2m 51.80s with model output: 0.5099\n",
      "Detected gunshot at 2m 54.61s with model output: 0.5913\n",
      "Detected gunshot at 2m 56.23s with model output: 0.5300\n",
      "Detected gunshot at 2m 57.77s with model output: 0.5703\n",
      "Detected gunshot at 2m 59.36s with model output: 0.5892\n",
      "Detected gunshot at 3m 1.06s with model output: 0.5551\n",
      "Detected gunshot at 3m 2.53s with model output: 0.5700\n",
      "Detected gunshot at 3m 5.19s with model output: 0.5219\n",
      "Detected gunshot at 3m 6.69s with model output: 0.5388\n",
      "Detected gunshot at 3m 8.13s with model output: 0.6413\n",
      "Detected gunshot at 3m 11.23s with model output: 0.5463\n",
      "Detected gunshot at 3m 12.60s with model output: 0.5384\n",
      "Detected gunshot at 3m 13.61s with model output: 0.5642\n",
      "Detected gunshot at 3m 16.79s with model output: 0.5325\n",
      "Detected gunshot at 3m 18.50s with model output: 0.5294\n",
      "Detected gunshot at 3m 19.54s with model output: 0.6350\n",
      "Detected gunshot at 3m 22.75s with model output: 0.5300\n",
      "Detected gunshot at 3m 25.66s with model output: 0.5412\n",
      "Detected gunshot at 3m 27.97s with model output: 0.5149\n",
      "Detected gunshot at 3m 29.01s with model output: 0.6153\n",
      "Detected gunshot at 3m 30.88s with model output: 0.5747\n",
      "Detected gunshot at 3m 40.93s with model output: 0.5429\n",
      "Detected gunshot at 3m 54.72s with model output: 0.6662\n",
      "Detected gunshot at 3m 58.69s with model output: 0.6030\n",
      "Detected gunshot at 4m 0.67s with model output: 0.5858\n",
      "Detected gunshot at 4m 1.73s with model output: 0.6142\n",
      "Detected gunshot at 4m 2.99s with model output: 0.5767\n",
      "Detected gunshot at 4m 4.72s with model output: 0.5704\n",
      "Detected gunshot at 4m 6.21s with model output: 0.6776\n",
      "Detected gunshot at 4m 7.34s with model output: 0.5334\n",
      "Detected gunshot at 4m 10.74s with model output: 0.5109\n",
      "Detected gunshot at 4m 12.10s with model output: 0.5127\n",
      "Detected gunshot at 4m 13.11s with model output: 0.6600\n",
      "Detected gunshot at 4m 14.12s with model output: 0.5011\n",
      "Detected gunshot at 4m 16.31s with model output: 0.5796\n",
      "Detected gunshot at 4m 18.01s with model output: 0.5501\n",
      "Detected gunshot at 4m 19.05s with model output: 0.5746\n",
      "Detected gunshot at 4m 22.26s with model output: 0.5547\n",
      "Detected gunshot at 4m 25.17s with model output: 0.5349\n",
      "Detected gunshot at 4m 27.83s with model output: 0.6735\n"
     ]
    }
   ],
   "execution_count": 111
  },
  {
   "metadata": {},
   "cell_type": "code",
   "outputs": [],
   "execution_count": null,
   "source": "",
   "id": "9825c15b950eba7b"
  }
 ],
 "metadata": {
  "kernelspec": {
   "display_name": "Python 3",
   "language": "python",
   "name": "python3"
  },
  "language_info": {
   "codemirror_mode": {
    "name": "ipython",
    "version": 2
   },
   "file_extension": ".py",
   "mimetype": "text/x-python",
   "name": "python",
   "nbconvert_exporter": "python",
   "pygments_lexer": "ipython2",
   "version": "2.7.6"
  }
 },
 "nbformat": 4,
 "nbformat_minor": 5
}
