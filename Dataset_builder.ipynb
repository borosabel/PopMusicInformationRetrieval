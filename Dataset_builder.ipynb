{
 "cells": [
  {
   "metadata": {
    "ExecuteTime": {
     "end_time": "2024-10-19T12:24:21.300361Z",
     "start_time": "2024-10-19T12:24:21.287437Z"
    }
   },
   "cell_type": "code",
   "source": [
    "import pandas as pd\n",
    "import re\n",
    "import ast\n",
    "import gunshot_utils as utils\n",
    "import importlib\n",
    "import os\n",
    "import random\n",
    "import pandas as pd\n",
    "import torchaudio\n",
    "\n",
    "importlib.reload(utils)"
   ],
   "id": "81f58edc559d8088",
   "outputs": [
    {
     "data": {
      "text/plain": [
       "<module 'gunshot_utils' from '/Users/borosabel/Documents/Uni/Thesis/PopMusicInformationRetrieval/gunshot_utils.py'>"
      ]
     },
     "execution_count": 69,
     "metadata": {},
     "output_type": "execute_result"
    }
   ],
   "execution_count": 69
  },
  {
   "cell_type": "code",
   "id": "initial_id",
   "metadata": {
    "collapsed": true,
    "ExecuteTime": {
     "end_time": "2024-10-19T12:24:21.636641Z",
     "start_time": "2024-10-19T12:24:21.615734Z"
    }
   },
   "source": "audio_csv = pd.read_csv('/Users/borosabel/Documents/Uni/Thesis/PopMIR/Data/Audio/Gunshots/csv/edge-collected-gunshot-audio/updated_gunshot_metadata.csv')",
   "outputs": [],
   "execution_count": 70
  },
  {
   "metadata": {
    "ExecuteTime": {
     "end_time": "2024-10-19T12:24:21.915938Z",
     "start_time": "2024-10-19T12:24:21.910331Z"
    }
   },
   "cell_type": "code",
   "source": "audio_csv = audio_csv[['filename', 'firearm', 'caliber', 'gunshot_location_in_seconds', 'num_gunshots']]",
   "id": "5ed2323b3e07aee5",
   "outputs": [],
   "execution_count": 71
  },
  {
   "metadata": {
    "ExecuteTime": {
     "end_time": "2024-10-19T12:24:33.169974Z",
     "start_time": "2024-10-19T12:24:22.290500Z"
    }
   },
   "cell_type": "code",
   "source": [
    "LOUDNESS_THRESHOLD = -15\n",
    "\n",
    "# List to store the valid rows based on loudness\n",
    "valid_rows = []\n",
    "\n",
    "for index, row in audio_csv.iterrows():\n",
    "    try:\n",
    "        audio_path = row['filename']\n",
    "        avg_loudness = utils.calculate_loudness(audio_path)\n",
    "        if avg_loudness > LOUDNESS_THRESHOLD:\n",
    "            valid_rows.append(row)\n",
    "    except FileNotFoundError:\n",
    "        print(f\"File not found: {audio_path}\")\n",
    "        continue\n",
    "    \n",
    "filtered_df = pd.DataFrame(valid_rows)"
   ],
   "id": "6864fabef7bce21d",
   "outputs": [
    {
     "name": "stderr",
     "output_type": "stream",
     "text": [
      "/Users/borosabel/Documents/Uni/Thesis/PopMusicInformationRetrieval/gunshot_utils.py:647: UserWarning: PySoundFile failed. Trying audioread instead.\n",
      "  avg_loudness = rms_db.mean()\n",
      "/Users/borosabel/lib/python3.9/site-packages/librosa/core/audio.py:184: FutureWarning: librosa.core.audio.__audioread_load\n",
      "\tDeprecated as of librosa version 0.10.0.\n",
      "\tIt will be removed in librosa version 1.0.\n",
      "  y, sr_native = __audioread_load(path, offset, duration, dtype)\n"
     ]
    },
    {
     "name": "stdout",
     "output_type": "stream",
     "text": [
      "File not found: 0a07b229-7d2b-4d2b-8f32-c94cbc7b1487_chan0_v0\n",
      "File not found: 0a07b229-7d2b-4d2b-8f32-c94cbc7b1487_chan0_v1\n",
      "File not found: 0a07b229-7d2b-4d2b-8f32-c94cbc7b1487_chan1_v0\n",
      "File not found: 0a07b229-7d2b-4d2b-8f32-c94cbc7b1487_chan1_v1\n"
     ]
    }
   ],
   "execution_count": 72
  },
  {
   "metadata": {
    "ExecuteTime": {
     "end_time": "2024-10-19T12:24:33.179226Z",
     "start_time": "2024-10-19T12:24:33.171083Z"
    }
   },
   "cell_type": "code",
   "source": [
    "filtered_df['gunshot_location_in_seconds'] = filtered_df['gunshot_location_in_seconds'].apply(\n",
    "    lambda x: utils.preprocess_gunshot_times(x)\n",
    ")"
   ],
   "id": "921c4aacbd817e6c",
   "outputs": [],
   "execution_count": 73
  },
  {
   "metadata": {
    "ExecuteTime": {
     "end_time": "2024-10-19T12:24:33.185974Z",
     "start_time": "2024-10-19T12:24:33.179970Z"
    }
   },
   "cell_type": "code",
   "source": "filtered_df",
   "id": "316d0b0c9d2da6be",
   "outputs": [
    {
     "data": {
      "text/plain": [
       "                                               filename        firearm  \\\n",
       "0     /Users/borosabel/Documents/Uni/Thesis/PopMIR/D...       Glock 17   \n",
       "13    /Users/borosabel/Documents/Uni/Thesis/PopMIR/D...      Ruger 556   \n",
       "18    /Users/borosabel/Documents/Uni/Thesis/PopMIR/D...      Ruger 556   \n",
       "21    /Users/borosabel/Documents/Uni/Thesis/PopMIR/D...  Remington 870   \n",
       "41    /Users/borosabel/Documents/Uni/Thesis/PopMIR/D...       Glock 17   \n",
       "...                                                 ...            ...   \n",
       "2143  /Users/borosabel/Documents/Uni/Thesis/PopMIR/D...      Ruger 556   \n",
       "2144  /Users/borosabel/Documents/Uni/Thesis/PopMIR/D...      Ruger 556   \n",
       "2145  /Users/borosabel/Documents/Uni/Thesis/PopMIR/D...      Ruger 556   \n",
       "2146  /Users/borosabel/Documents/Uni/Thesis/PopMIR/D...      Ruger 556   \n",
       "2147  /Users/borosabel/Documents/Uni/Thesis/PopMIR/D...      Ruger 556   \n",
       "\n",
       "       caliber                        gunshot_location_in_seconds  \\\n",
       "0          9mm                                       [1.72269841]   \n",
       "13     .223 mm  [1.60142857, 1.75, 2.07111111, 2.40210884, 2.6...   \n",
       "18     .223 mm  [1.75, 2.19632653, 2.65365079, 3.27027211, 3.7...   \n",
       "21    12 guage                                       [1.62145125]   \n",
       "41         9mm                                             [1.75]   \n",
       "...        ...                                                ...   \n",
       "2143   .223 mm                                        [1.7406576]   \n",
       "2144   .223 mm                                       [1.66732426]   \n",
       "2145   .223 mm  [1.53469388, 1.74122449, 2.14659864, 2.3253288...   \n",
       "2146   .223 mm  [1.75, 1.94283447, 2.34698413, 2.52979592, 2.7...   \n",
       "2147   .223 mm  [1.73544218, 1.9731746, 2.04947846, 2.38258503...   \n",
       "\n",
       "      num_gunshots  \n",
       "0                1  \n",
       "13              11  \n",
       "18              14  \n",
       "21               1  \n",
       "41               1  \n",
       "...            ...  \n",
       "2143             1  \n",
       "2144             1  \n",
       "2145             5  \n",
       "2146             5  \n",
       "2147             6  \n",
       "\n",
       "[554 rows x 5 columns]"
      ],
      "text/html": [
       "<div>\n",
       "<style scoped>\n",
       "    .dataframe tbody tr th:only-of-type {\n",
       "        vertical-align: middle;\n",
       "    }\n",
       "\n",
       "    .dataframe tbody tr th {\n",
       "        vertical-align: top;\n",
       "    }\n",
       "\n",
       "    .dataframe thead th {\n",
       "        text-align: right;\n",
       "    }\n",
       "</style>\n",
       "<table border=\"1\" class=\"dataframe\">\n",
       "  <thead>\n",
       "    <tr style=\"text-align: right;\">\n",
       "      <th></th>\n",
       "      <th>filename</th>\n",
       "      <th>firearm</th>\n",
       "      <th>caliber</th>\n",
       "      <th>gunshot_location_in_seconds</th>\n",
       "      <th>num_gunshots</th>\n",
       "    </tr>\n",
       "  </thead>\n",
       "  <tbody>\n",
       "    <tr>\n",
       "      <th>0</th>\n",
       "      <td>/Users/borosabel/Documents/Uni/Thesis/PopMIR/D...</td>\n",
       "      <td>Glock 17</td>\n",
       "      <td>9mm</td>\n",
       "      <td>[1.72269841]</td>\n",
       "      <td>1</td>\n",
       "    </tr>\n",
       "    <tr>\n",
       "      <th>13</th>\n",
       "      <td>/Users/borosabel/Documents/Uni/Thesis/PopMIR/D...</td>\n",
       "      <td>Ruger 556</td>\n",
       "      <td>.223 mm</td>\n",
       "      <td>[1.60142857, 1.75, 2.07111111, 2.40210884, 2.6...</td>\n",
       "      <td>11</td>\n",
       "    </tr>\n",
       "    <tr>\n",
       "      <th>18</th>\n",
       "      <td>/Users/borosabel/Documents/Uni/Thesis/PopMIR/D...</td>\n",
       "      <td>Ruger 556</td>\n",
       "      <td>.223 mm</td>\n",
       "      <td>[1.75, 2.19632653, 2.65365079, 3.27027211, 3.7...</td>\n",
       "      <td>14</td>\n",
       "    </tr>\n",
       "    <tr>\n",
       "      <th>21</th>\n",
       "      <td>/Users/borosabel/Documents/Uni/Thesis/PopMIR/D...</td>\n",
       "      <td>Remington 870</td>\n",
       "      <td>12 guage</td>\n",
       "      <td>[1.62145125]</td>\n",
       "      <td>1</td>\n",
       "    </tr>\n",
       "    <tr>\n",
       "      <th>41</th>\n",
       "      <td>/Users/borosabel/Documents/Uni/Thesis/PopMIR/D...</td>\n",
       "      <td>Glock 17</td>\n",
       "      <td>9mm</td>\n",
       "      <td>[1.75]</td>\n",
       "      <td>1</td>\n",
       "    </tr>\n",
       "    <tr>\n",
       "      <th>...</th>\n",
       "      <td>...</td>\n",
       "      <td>...</td>\n",
       "      <td>...</td>\n",
       "      <td>...</td>\n",
       "      <td>...</td>\n",
       "    </tr>\n",
       "    <tr>\n",
       "      <th>2143</th>\n",
       "      <td>/Users/borosabel/Documents/Uni/Thesis/PopMIR/D...</td>\n",
       "      <td>Ruger 556</td>\n",
       "      <td>.223 mm</td>\n",
       "      <td>[1.7406576]</td>\n",
       "      <td>1</td>\n",
       "    </tr>\n",
       "    <tr>\n",
       "      <th>2144</th>\n",
       "      <td>/Users/borosabel/Documents/Uni/Thesis/PopMIR/D...</td>\n",
       "      <td>Ruger 556</td>\n",
       "      <td>.223 mm</td>\n",
       "      <td>[1.66732426]</td>\n",
       "      <td>1</td>\n",
       "    </tr>\n",
       "    <tr>\n",
       "      <th>2145</th>\n",
       "      <td>/Users/borosabel/Documents/Uni/Thesis/PopMIR/D...</td>\n",
       "      <td>Ruger 556</td>\n",
       "      <td>.223 mm</td>\n",
       "      <td>[1.53469388, 1.74122449, 2.14659864, 2.3253288...</td>\n",
       "      <td>5</td>\n",
       "    </tr>\n",
       "    <tr>\n",
       "      <th>2146</th>\n",
       "      <td>/Users/borosabel/Documents/Uni/Thesis/PopMIR/D...</td>\n",
       "      <td>Ruger 556</td>\n",
       "      <td>.223 mm</td>\n",
       "      <td>[1.75, 1.94283447, 2.34698413, 2.52979592, 2.7...</td>\n",
       "      <td>5</td>\n",
       "    </tr>\n",
       "    <tr>\n",
       "      <th>2147</th>\n",
       "      <td>/Users/borosabel/Documents/Uni/Thesis/PopMIR/D...</td>\n",
       "      <td>Ruger 556</td>\n",
       "      <td>.223 mm</td>\n",
       "      <td>[1.73544218, 1.9731746, 2.04947846, 2.38258503...</td>\n",
       "      <td>6</td>\n",
       "    </tr>\n",
       "  </tbody>\n",
       "</table>\n",
       "<p>554 rows × 5 columns</p>\n",
       "</div>"
      ]
     },
     "execution_count": 74,
     "metadata": {},
     "output_type": "execute_result"
    }
   ],
   "execution_count": 74
  },
  {
   "metadata": {
    "ExecuteTime": {
     "end_time": "2024-10-19T12:24:33.189980Z",
     "start_time": "2024-10-19T12:24:33.187149Z"
    }
   },
   "cell_type": "code",
   "source": "glock_df = utils.filter_by_firearm(filtered_df, ['glock'])",
   "id": "e0ce929d10e65d16",
   "outputs": [],
   "execution_count": 75
  },
  {
   "metadata": {
    "ExecuteTime": {
     "end_time": "2024-10-19T12:24:37.886833Z",
     "start_time": "2024-10-19T12:24:37.879353Z"
    }
   },
   "cell_type": "code",
   "source": "glock_df.to_pickle('./pkl_data/gunshot_data_glock_only.pkl')",
   "id": "33d308725250cd41",
   "outputs": [],
   "execution_count": 76
  },
  {
   "metadata": {},
   "cell_type": "code",
   "outputs": [],
   "execution_count": null,
   "source": "# Let's also resample the whole music dataset and convert to .wav - only need to do it once.",
   "id": "2abd5c132691fea5"
  },
  {
   "metadata": {
    "ExecuteTime": {
     "end_time": "2024-10-19T11:58:34.637049Z",
     "start_time": "2024-10-19T11:58:31.248670Z"
    }
   },
   "cell_type": "code",
   "source": "music_df = pd.read_excel('/Users/borosabel/Documents/Uni/Thesis/PopMIR/Data/Excel/baseline_data_w_topics_w_features.xlsx', engine='openpyxl')",
   "id": "63c6892f6faee65f",
   "outputs": [],
   "execution_count": 51
  },
  {
   "metadata": {
    "ExecuteTime": {
     "end_time": "2024-10-19T12:21:26.387289Z",
     "start_time": "2024-10-19T12:19:40.049143Z"
    }
   },
   "cell_type": "code",
   "source": "resampled_df = utils.resample_and_convert_to_wav(music_df, 'Path', './Data/music', limit=300)",
   "id": "dcfce4a5a944d7ce",
   "outputs": [
    {
     "name": "stderr",
     "output_type": "stream",
     "text": [
      "Processing audio files: 100%|██████████| 300/300 [01:46<00:00,  2.82it/s]\n",
      "/Users/borosabel/Documents/Uni/Thesis/PopMusicInformationRetrieval/gunshot_utils.py:171: SettingWithCopyWarning: \n",
      "A value is trying to be set on a copy of a slice from a DataFrame.\n",
      "Try using .loc[row_indexer,col_indexer] = value instead\n",
      "\n",
      "See the caveats in the documentation: https://pandas.pydata.org/pandas-docs/stable/user_guide/indexing.html#returning-a-view-versus-a-copy\n",
      "  df = df.dropna(subset=['Path'])\n",
      "/Users/borosabel/Documents/Uni/Thesis/PopMusicInformationRetrieval/gunshot_utils.py:172: SettingWithCopyWarning: \n",
      "A value is trying to be set on a copy of a slice from a DataFrame.\n",
      "Try using .loc[row_indexer,col_indexer] = value instead\n",
      "\n",
      "See the caveats in the documentation: https://pandas.pydata.org/pandas-docs/stable/user_guide/indexing.html#returning-a-view-versus-a-copy\n",
      "  df['file_extension'] = '.wav'\n"
     ]
    }
   ],
   "execution_count": 65
  },
  {
   "metadata": {
    "ExecuteTime": {
     "end_time": "2024-10-19T12:21:26.397091Z",
     "start_time": "2024-10-19T12:21:26.389866Z"
    }
   },
   "cell_type": "code",
   "source": "resampled_df.to_pickle('./pkl_data/music_data_resampled_300.pkl')",
   "id": "c967199846ac68c9",
   "outputs": [],
   "execution_count": 66
  },
  {
   "metadata": {},
   "cell_type": "code",
   "outputs": [],
   "execution_count": null,
   "source": "",
   "id": "5288f8b2f7cda49d"
  }
 ],
 "metadata": {
  "kernelspec": {
   "display_name": "Python 3",
   "language": "python",
   "name": "python3"
  },
  "language_info": {
   "codemirror_mode": {
    "name": "ipython",
    "version": 2
   },
   "file_extension": ".py",
   "mimetype": "text/x-python",
   "name": "python",
   "nbconvert_exporter": "python",
   "pygments_lexer": "ipython2",
   "version": "2.7.6"
  }
 },
 "nbformat": 4,
 "nbformat_minor": 5
}
