{
 "cells": [
  {
   "cell_type": "code",
   "id": "initial_id",
   "metadata": {
    "collapsed": true,
    "ExecuteTime": {
     "end_time": "2024-10-30T21:16:32.769879Z",
     "start_time": "2024-10-30T21:16:32.765540Z"
    }
   },
   "source": [
    "import numpy as np\n",
    "\n",
    "# Create monkey patches\n",
    "np.float = float\n",
    "np.int = int\n",
    "np.object = object\n",
    "np.bool = bool"
   ],
   "outputs": [],
   "execution_count": 235
  },
  {
   "metadata": {
    "ExecuteTime": {
     "end_time": "2024-10-30T21:16:32.918399Z",
     "start_time": "2024-10-30T21:16:32.908556Z"
    }
   },
   "cell_type": "code",
   "source": [
    "import pandas as pd\n",
    "from sklearn.model_selection import train_test_split\n",
    "from PopMusicInformationRetrieval import gunshot_utils as utils\n",
    "import importlib\n",
    "import torch as th\n",
    "from torch.utils.data import DataLoader\n",
    "import torch.nn as nn\n",
    "import torch.nn.functional as F\n",
    "from pydub.playback import play\n",
    "import os\n",
    "import numpy as np\n",
    "import torchaudio\n",
    "\n",
    "importlib.reload(utils)"
   ],
   "id": "33f48b3e50ac82de",
   "outputs": [
    {
     "data": {
      "text/plain": [
       "<module 'PopMusicInformationRetrieval.gunshot_utils' from '/Users/borosabel/Documents/Uni/Thesis/PopMusicInformationRetrieval/gunshot_utils.py'>"
      ]
     },
     "execution_count": 236,
     "metadata": {},
     "output_type": "execute_result"
    }
   ],
   "execution_count": 236
  },
  {
   "metadata": {
    "ExecuteTime": {
     "end_time": "2024-10-30T21:16:33.043363Z",
     "start_time": "2024-10-30T21:16:33.036184Z"
    }
   },
   "cell_type": "code",
   "source": [
    "gunshot_df = pd.read_pickle('pkl_data/gunshot_data_glock_only_5db.pkl')\n",
    "gunshot_df = gunshot_df[['filename', 'gunshot_location_in_seconds', 'num_gunshots']]\n",
    "gunshot_df"
   ],
   "id": "50d0dc29516314e0",
   "outputs": [
    {
     "data": {
      "text/plain": [
       "                                               filename  \\\n",
       "1     /Users/borosabel/Documents/Uni/Thesis/PopMIR/D...   \n",
       "2     /Users/borosabel/Documents/Uni/Thesis/PopMIR/D...   \n",
       "28    /Users/borosabel/Documents/Uni/Thesis/PopMIR/D...   \n",
       "31    /Users/borosabel/Documents/Uni/Thesis/PopMIR/D...   \n",
       "32    /Users/borosabel/Documents/Uni/Thesis/PopMIR/D...   \n",
       "...                                                 ...   \n",
       "1507  /Users/borosabel/Documents/Uni/Thesis/PopMIR/D...   \n",
       "1508  /Users/borosabel/Documents/Uni/Thesis/PopMIR/D...   \n",
       "1509  /Users/borosabel/Documents/Uni/Thesis/PopMIR/D...   \n",
       "1510  /Users/borosabel/Documents/Uni/Thesis/PopMIR/D...   \n",
       "1511  /Users/borosabel/Documents/Uni/Thesis/PopMIR/D...   \n",
       "\n",
       "                            gunshot_location_in_seconds  num_gunshots  \n",
       "1                                          [1.67290249]             1  \n",
       "2                  [1.61977324, 3.50795918, 5.42746032]             3  \n",
       "28                                         [1.77839002]             1  \n",
       "31                                         [1.62344671]             1  \n",
       "32                                         [1.62072562]             1  \n",
       "...                                                 ...           ...  \n",
       "1507                                        [2.9039229]             1  \n",
       "1508         [0.52068027, 1.75, 3.38430839, 4.56836735]             4  \n",
       "1509               [0.40544218, 1.58984127, 2.72292517]             3  \n",
       "1510   [0.10052154, 1.62954649, 3.93353741, 5.52342404]             4  \n",
       "1511  [0.68546485, 1.61004535, 3.2129932, 4.45827664...             6  \n",
       "\n",
       "[67 rows x 3 columns]"
      ],
      "text/html": [
       "<div>\n",
       "<style scoped>\n",
       "    .dataframe tbody tr th:only-of-type {\n",
       "        vertical-align: middle;\n",
       "    }\n",
       "\n",
       "    .dataframe tbody tr th {\n",
       "        vertical-align: top;\n",
       "    }\n",
       "\n",
       "    .dataframe thead th {\n",
       "        text-align: right;\n",
       "    }\n",
       "</style>\n",
       "<table border=\"1\" class=\"dataframe\">\n",
       "  <thead>\n",
       "    <tr style=\"text-align: right;\">\n",
       "      <th></th>\n",
       "      <th>filename</th>\n",
       "      <th>gunshot_location_in_seconds</th>\n",
       "      <th>num_gunshots</th>\n",
       "    </tr>\n",
       "  </thead>\n",
       "  <tbody>\n",
       "    <tr>\n",
       "      <th>1</th>\n",
       "      <td>/Users/borosabel/Documents/Uni/Thesis/PopMIR/D...</td>\n",
       "      <td>[1.67290249]</td>\n",
       "      <td>1</td>\n",
       "    </tr>\n",
       "    <tr>\n",
       "      <th>2</th>\n",
       "      <td>/Users/borosabel/Documents/Uni/Thesis/PopMIR/D...</td>\n",
       "      <td>[1.61977324, 3.50795918, 5.42746032]</td>\n",
       "      <td>3</td>\n",
       "    </tr>\n",
       "    <tr>\n",
       "      <th>28</th>\n",
       "      <td>/Users/borosabel/Documents/Uni/Thesis/PopMIR/D...</td>\n",
       "      <td>[1.77839002]</td>\n",
       "      <td>1</td>\n",
       "    </tr>\n",
       "    <tr>\n",
       "      <th>31</th>\n",
       "      <td>/Users/borosabel/Documents/Uni/Thesis/PopMIR/D...</td>\n",
       "      <td>[1.62344671]</td>\n",
       "      <td>1</td>\n",
       "    </tr>\n",
       "    <tr>\n",
       "      <th>32</th>\n",
       "      <td>/Users/borosabel/Documents/Uni/Thesis/PopMIR/D...</td>\n",
       "      <td>[1.62072562]</td>\n",
       "      <td>1</td>\n",
       "    </tr>\n",
       "    <tr>\n",
       "      <th>...</th>\n",
       "      <td>...</td>\n",
       "      <td>...</td>\n",
       "      <td>...</td>\n",
       "    </tr>\n",
       "    <tr>\n",
       "      <th>1507</th>\n",
       "      <td>/Users/borosabel/Documents/Uni/Thesis/PopMIR/D...</td>\n",
       "      <td>[2.9039229]</td>\n",
       "      <td>1</td>\n",
       "    </tr>\n",
       "    <tr>\n",
       "      <th>1508</th>\n",
       "      <td>/Users/borosabel/Documents/Uni/Thesis/PopMIR/D...</td>\n",
       "      <td>[0.52068027, 1.75, 3.38430839, 4.56836735]</td>\n",
       "      <td>4</td>\n",
       "    </tr>\n",
       "    <tr>\n",
       "      <th>1509</th>\n",
       "      <td>/Users/borosabel/Documents/Uni/Thesis/PopMIR/D...</td>\n",
       "      <td>[0.40544218, 1.58984127, 2.72292517]</td>\n",
       "      <td>3</td>\n",
       "    </tr>\n",
       "    <tr>\n",
       "      <th>1510</th>\n",
       "      <td>/Users/borosabel/Documents/Uni/Thesis/PopMIR/D...</td>\n",
       "      <td>[0.10052154, 1.62954649, 3.93353741, 5.52342404]</td>\n",
       "      <td>4</td>\n",
       "    </tr>\n",
       "    <tr>\n",
       "      <th>1511</th>\n",
       "      <td>/Users/borosabel/Documents/Uni/Thesis/PopMIR/D...</td>\n",
       "      <td>[0.68546485, 1.61004535, 3.2129932, 4.45827664...</td>\n",
       "      <td>6</td>\n",
       "    </tr>\n",
       "  </tbody>\n",
       "</table>\n",
       "<p>67 rows × 3 columns</p>\n",
       "</div>"
      ]
     },
     "execution_count": 237,
     "metadata": {},
     "output_type": "execute_result"
    }
   ],
   "execution_count": 237
  },
  {
   "metadata": {
    "ExecuteTime": {
     "end_time": "2024-10-30T21:16:33.208244Z",
     "start_time": "2024-10-30T21:16:33.196284Z"
    }
   },
   "cell_type": "code",
   "source": [
    "def process_gunshot_data(file_path):\n",
    "    # Extract the base filename and replace .txt with .wav\n",
    "    base_name = os.path.basename(file_path)\n",
    "    wav_filename = os.path.splitext(base_name)[0] + '.wav'\n",
    "\n",
    "    # Read the file and extract the start times\n",
    "    start_times = []\n",
    "    with open(file_path, 'r') as file:\n",
    "        for line in file:\n",
    "            columns = line.split()\n",
    "            if len(columns) >= 1:\n",
    "                start_time = float(columns[0])\n",
    "                start_times.append(start_time)\n",
    "\n",
    "    # Get the length of the list\n",
    "    list_length = len(start_times)\n",
    "\n",
    "    # Construct the full path for the wav file\n",
    "    full_wav_path = os.path.join(os.path.dirname(file_path), wav_filename)\n",
    "\n",
    "    return full_wav_path, start_times, list_length\n",
    "\n",
    "def build_dataframe_from_folder(folder_path):\n",
    "    data = {\n",
    "        'filename': [],\n",
    "        'gunshot_location_in_seconds': [],\n",
    "        'num_gunshots': []\n",
    "    }\n",
    "\n",
    "    # Iterate through the folder and find all .txt files\n",
    "    for file_name in os.listdir(folder_path):\n",
    "        if file_name.endswith('.txt'):\n",
    "            file_path = os.path.join(folder_path, file_name)\n",
    "            wav_filename, start_times, list_length = process_gunshot_data(file_path)\n",
    "\n",
    "            # Append data to the dataframe columns\n",
    "            data['filename'].append(wav_filename)\n",
    "            data['gunshot_location_in_seconds'].append(start_times)\n",
    "            data['num_gunshots'].append(list_length)\n",
    "\n",
    "    # Create the DataFrame\n",
    "    df = pd.DataFrame(data, columns=['filename', 'gunshot_location_in_seconds', 'num_gunshots'])\n",
    "    return df\n",
    "\n",
    "folder_path = './test_data_wav/'\n",
    "gunshot_valid_df = build_dataframe_from_folder(folder_path)"
   ],
   "id": "68d197a0b9cf9afe",
   "outputs": [],
   "execution_count": 238
  },
  {
   "metadata": {
    "ExecuteTime": {
     "end_time": "2024-10-30T21:16:33.416643Z",
     "start_time": "2024-10-30T21:16:33.397893Z"
    }
   },
   "cell_type": "code",
   "source": [
    "music_df = pd.read_pickle('pkl_data/music_with_onsets_df.pkl')\n",
    "music_df.head()"
   ],
   "id": "cc0d031674341bc9",
   "outputs": [
    {
     "data": {
      "text/plain": [
       "                                           file_path  \\\n",
       "0  ./Data/music/RUN DMC - Faces (Official Video).wav   \n",
       "1                ./Data/music/Beats to the Rhyme.wav   \n",
       "2                           ./Data/music/Regrets.wav   \n",
       "3            ./Data/music/Can't Knock The Hustle.wav   \n",
       "4     ./Data/music/Just A Test (Remastered 2009).wav   \n",
       "\n",
       "                                   onsets_in_seconds  num_onsets  \n",
       "0  [0.09287981859410431, 0.2786394557823129, 0.52...         922  \n",
       "1  [0.19736961451247165, 0.2786394557823129, 0.34...         927  \n",
       "2  [0.19736961451247165, 0.29024943310657597, 0.7...        1355  \n",
       "3  [1.0332879818594105, 1.7414965986394557, 1.996...        1344  \n",
       "4  [0.1509297052154195, 0.33668934240362813, 0.46...         719  "
      ],
      "text/html": [
       "<div>\n",
       "<style scoped>\n",
       "    .dataframe tbody tr th:only-of-type {\n",
       "        vertical-align: middle;\n",
       "    }\n",
       "\n",
       "    .dataframe tbody tr th {\n",
       "        vertical-align: top;\n",
       "    }\n",
       "\n",
       "    .dataframe thead th {\n",
       "        text-align: right;\n",
       "    }\n",
       "</style>\n",
       "<table border=\"1\" class=\"dataframe\">\n",
       "  <thead>\n",
       "    <tr style=\"text-align: right;\">\n",
       "      <th></th>\n",
       "      <th>file_path</th>\n",
       "      <th>onsets_in_seconds</th>\n",
       "      <th>num_onsets</th>\n",
       "    </tr>\n",
       "  </thead>\n",
       "  <tbody>\n",
       "    <tr>\n",
       "      <th>0</th>\n",
       "      <td>./Data/music/RUN DMC - Faces (Official Video).wav</td>\n",
       "      <td>[0.09287981859410431, 0.2786394557823129, 0.52...</td>\n",
       "      <td>922</td>\n",
       "    </tr>\n",
       "    <tr>\n",
       "      <th>1</th>\n",
       "      <td>./Data/music/Beats to the Rhyme.wav</td>\n",
       "      <td>[0.19736961451247165, 0.2786394557823129, 0.34...</td>\n",
       "      <td>927</td>\n",
       "    </tr>\n",
       "    <tr>\n",
       "      <th>2</th>\n",
       "      <td>./Data/music/Regrets.wav</td>\n",
       "      <td>[0.19736961451247165, 0.29024943310657597, 0.7...</td>\n",
       "      <td>1355</td>\n",
       "    </tr>\n",
       "    <tr>\n",
       "      <th>3</th>\n",
       "      <td>./Data/music/Can't Knock The Hustle.wav</td>\n",
       "      <td>[1.0332879818594105, 1.7414965986394557, 1.996...</td>\n",
       "      <td>1344</td>\n",
       "    </tr>\n",
       "    <tr>\n",
       "      <th>4</th>\n",
       "      <td>./Data/music/Just A Test (Remastered 2009).wav</td>\n",
       "      <td>[0.1509297052154195, 0.33668934240362813, 0.46...</td>\n",
       "      <td>719</td>\n",
       "    </tr>\n",
       "  </tbody>\n",
       "</table>\n",
       "</div>"
      ]
     },
     "execution_count": 239,
     "metadata": {},
     "output_type": "execute_result"
    }
   ],
   "execution_count": 239
  },
  {
   "metadata": {
    "ExecuteTime": {
     "end_time": "2024-10-30T21:16:33.697712Z",
     "start_time": "2024-10-30T21:16:33.692941Z"
    }
   },
   "cell_type": "code",
   "source": [
    "music_train_df, music_valid_df = train_test_split(music_df, test_size=0.2, random_state=42)\n",
    "gunshot_train_df, _ = train_test_split(gunshot_df, test_size=0.2, random_state=42)"
   ],
   "id": "3f2ae447f3746e1e",
   "outputs": [],
   "execution_count": 240
  },
  {
   "metadata": {
    "ExecuteTime": {
     "end_time": "2024-10-30T21:16:34.046281Z",
     "start_time": "2024-10-30T21:16:34.043129Z"
    }
   },
   "cell_type": "code",
   "source": [
    "print(\"SHAPES:\")\n",
    "print(f\"music_train_df: {music_train_df.shape}, music_valid_df: {music_valid_df.shape}\")\n",
    "print(f\"gunshot_train_df: {gunshot_train_df.shape}, gunshot_valid_df: {gunshot_valid_df.shape}\")"
   ],
   "id": "c4eff94ddd5f4bae",
   "outputs": [
    {
     "name": "stdout",
     "output_type": "stream",
     "text": [
      "SHAPES:\n",
      "music_train_df: (240, 3), music_valid_df: (60, 3)\n",
      "gunshot_train_df: (53, 3), gunshot_valid_df: (19, 3)\n"
     ]
    }
   ],
   "execution_count": 241
  },
  {
   "metadata": {
    "ExecuteTime": {
     "end_time": "2024-10-30T21:16:34.344437Z",
     "start_time": "2024-10-30T21:16:34.332665Z"
    }
   },
   "cell_type": "code",
   "source": [
    "# class GunshotDetectionCNN(nn.Module):\n",
    "#     def __init__(self, num_frames):\n",
    "#         super(GunshotDetectionCNN, self).__init__()\n",
    "#         self.conv1 = nn.Conv2d(3, 10, kernel_size=(3, 7))\n",
    "#         self.pool1 = nn.MaxPool2d(kernel_size=(3, 1))\n",
    "#         self.conv2 = nn.Conv2d(10, 20, kernel_size=(3, 3))\n",
    "#         self.pool2 = nn.MaxPool2d(kernel_size=(3, 1))\n",
    "# \n",
    "#         dummy_input = th.zeros(1, 3, 80, num_frames)\n",
    "#         dummy_output = self.pool2(F.relu(self.conv2(self.pool1(F.relu(self.conv1(dummy_input))))))\n",
    "#         output_size = dummy_output.view(-1).shape[0]\n",
    "# \n",
    "#         self.fc1 = nn.Linear(output_size, 256)\n",
    "#         self.fc2 = nn.Linear(256, 1)\n",
    "#         self.dropout = nn.Dropout(0.5)\n",
    "#         self.sigmoid = nn.Sigmoid()\n",
    "# \n",
    "#     def forward(self, x):\n",
    "#         x = self.pool1(F.relu(self.conv1(x)))\n",
    "#         x = self.pool2(F.relu(self.conv2(x)))\n",
    "#         x = x.view(x.size(0), -1)\n",
    "# \n",
    "#         x = self.dropout(F.relu(self.fc1(x))) \n",
    "#         x = self.sigmoid(self.fc2(x))\n",
    "#         return x\n",
    "\n",
    "class GunshotDetectionCNN(nn.Module):\n",
    "    def __init__(self, num_frames, n_mels):\n",
    "        super(GunshotDetectionCNN, self).__init__()\n",
    "        self.conv1 = nn.Conv2d(3, 10, kernel_size=(3, 7))\n",
    "        self.pool1 = nn.MaxPool2d(kernel_size=(3, 1))\n",
    "        self.conv2 = nn.Conv2d(10, 20, kernel_size=(3, 3))\n",
    "        self.pool2 = nn.MaxPool2d(kernel_size=(3, 1))\n",
    "        self.dropout = nn.Dropout(0.5)\n",
    "        self.sigmoid = nn.Sigmoid()\n",
    "\n",
    "        # Update dummy_input with new dimensions\n",
    "        dummy_input = th.zeros(1, 3, n_mels, num_frames)  # n_mels = 20\n",
    "        dummy_output = self.pool2(F.relu(self.conv2(self.pool1(F.relu(self.conv1(dummy_input))))))\n",
    "        output_size = dummy_output.view(-1).shape[0]\n",
    "\n",
    "        self.fc1 = nn.Linear(output_size, 256)\n",
    "        self.fc2 = nn.Linear(256, 1)\n",
    "\n",
    "    def forward(self, x):\n",
    "        x = self.pool1(F.relu(self.conv1(x)))\n",
    "        x = self.pool2(F.relu(self.conv2(x)))\n",
    "        x = x.view(x.size(0), -1)\n",
    "        x = self.dropout(F.relu(self.fc1(x)))\n",
    "        x = self.sigmoid(self.fc2(x))\n",
    "        return x\n",
    "    \n",
    "model = GunshotDetectionCNN(num_frames=utils.NUM_FRAMES, n_mels=utils.N_MELS)"
   ],
   "id": "6cd7aeffc55bfc7b",
   "outputs": [],
   "execution_count": 242
  },
  {
   "metadata": {
    "ExecuteTime": {
     "end_time": "2024-10-30T21:16:34.683696Z",
     "start_time": "2024-10-30T21:16:34.671450Z"
    }
   },
   "cell_type": "code",
   "source": [
    "class GunshotDataset(th.utils.data.Dataset):\n",
    "    def __init__(self, music_df, gunshot_df, music_metadata, gunshot_prob=0.5, num_samples=1000, real_music_gunshot=False):\n",
    "        super().__init__()\n",
    "        self.music_paths = music_df['file_path'].tolist()\n",
    "        self.music_onsets = music_df['onsets_in_seconds'].tolist()\n",
    "        self.gunshot_paths = gunshot_df['filename'].tolist()\n",
    "        self.gunshot_truth = gunshot_df['gunshot_location_in_seconds'].tolist()\n",
    "        self.music_metadata = music_metadata\n",
    "        self.gunshot_prob = gunshot_prob\n",
    "        self.num_samples = num_samples\n",
    "        self.real_music_gunshot = real_music_gunshot\n",
    "    \n",
    "    def __getitem__(self, idx):\n",
    "        # Similar logic for sampling music and gunshot as in the original __getitem__\n",
    "        spectrograms = []\n",
    "        labels = []\n",
    "    \n",
    "        # Randomly pick a music sample\n",
    "        music_idx = np.random.randint(0, len(self.music_paths))\n",
    "        fn_music = self.music_paths[music_idx]\n",
    "        onset_times = self.music_onsets[music_idx]\n",
    "        fn_music_metadata = self.music_metadata[fn_music]\n",
    "    \n",
    "        # Decide whether to add a gunshot or not\n",
    "        add_gunshot = (np.random.rand() < self.gunshot_prob)\n",
    "    \n",
    "        if add_gunshot:\n",
    "            # This is the scenario when the validation set consists only gunshots from real music.\n",
    "            if self.real_music_gunshot:\n",
    "                gunshot_idx = np.random.randint(0, len(self.gunshot_paths))\n",
    "                fn_gunshot = self.gunshot_paths[gunshot_idx]\n",
    "                gunshot_times = self.gunshot_truth[gunshot_idx]\n",
    "                if len(gunshot_times) > 0:\n",
    "                    gunshot_time = gunshot_times[np.random.randint(0, len(gunshot_times))]\n",
    "                    gunshot_waveform, sr_gunshot = torchaudio.load(fn_gunshot)\n",
    "                    gunshot_segment = utils.select_gunshot_segment(gunshot_waveform, sr_gunshot, gunshot_time)\n",
    "                    gunshot_only_spectrograms, gunshot_only_labels = utils.preprocess_audio_train(gunshot_segment, label=1)\n",
    "                    if gunshot_only_spectrograms and gunshot_only_labels:\n",
    "                        spectrograms.extend(gunshot_only_spectrograms)\n",
    "                        labels.extend(gunshot_only_labels)\n",
    "            \n",
    "            # This is the normal scenario when we have to combine music and gunshot\n",
    "            else:\n",
    "                gunshot_idx = np.random.randint(0, len(self.gunshot_paths))\n",
    "                fn_gunshot = self.gunshot_paths[gunshot_idx]\n",
    "                gunshot_times = self.gunshot_truth[gunshot_idx][0]\n",
    "                music_waveform = utils.select_random_segment(file_path=fn_music, metadata=fn_music_metadata)\n",
    "                segment, sr = utils.combine_music_and_gunshot(music_waveform, fn_gunshot, gunshot_times, gunshot_volume_increase_dB=0)\n",
    "                combined_spectrograms, combined_labels = utils.preprocess_audio_train(segment, label=1)\n",
    "        \n",
    "                if combined_spectrograms and combined_labels:\n",
    "                    spectrograms.extend(combined_spectrograms)\n",
    "                    labels.extend(combined_labels)\n",
    "    \n",
    "        else:\n",
    "            music_waveform = utils.select_valid_onset_segment(file_path=fn_music, metadata=fn_music_metadata, onset_times=onset_times)\n",
    "            music_spectrograms, music_labels = utils.preprocess_audio_train(music_waveform, label=0)\n",
    "    \n",
    "            if music_spectrograms and music_labels:\n",
    "                spectrograms.extend(music_spectrograms)\n",
    "                labels.extend(music_labels)\n",
    "    \n",
    "        if not spectrograms or not labels:\n",
    "            raise ValueError(\"Spectrograms or labels are empty after preprocessing\")\n",
    "    \n",
    "        return spectrograms[0], labels[0]\n",
    "    \n",
    "    def get_random_music_with_gunshot(self):\n",
    "        \"\"\"\n",
    "        Function to return a random waveform that contains both music and gunshot.\n",
    "        \"\"\"\n",
    "        spectrograms = []\n",
    "\n",
    "        if self.real_music_gunshot:\n",
    "            gunshot_idx = np.random.randint(0, len(self.gunshot_paths))\n",
    "            fn_gunshot = self.gunshot_paths[gunshot_idx]\n",
    "            gunshot_times = self.gunshot_truth[gunshot_idx]\n",
    "            if len(gunshot_times) > 0:\n",
    "                gunshot_time = gunshot_times[np.random.randint(0, len(gunshot_times))]\n",
    "                gunshot_waveform, sr_gunshot = torchaudio.load(fn_gunshot)\n",
    "                segment = utils.select_gunshot_segment(gunshot_waveform, sr_gunshot, gunshot_time)\n",
    "                gunshot_only_spectrograms, gunshot_only_labels = utils.preprocess_audio_train(segment, label=1)\n",
    "                if gunshot_only_spectrograms and gunshot_only_labels:\n",
    "                    spectrograms.extend(gunshot_only_spectrograms)\n",
    "        \n",
    "        else:\n",
    "            music_idx = np.random.randint(0, len(self.music_paths))\n",
    "            fn_music = self.music_paths[music_idx]\n",
    "            onset_times = self.music_onsets[music_idx]\n",
    "            fn_music_metadata = self.music_metadata[fn_music]\n",
    "            # Select a random music segment\n",
    "            music_waveform = utils.select_valid_onset_segment(file_path=fn_music, metadata=fn_music_metadata, onset_times=onset_times)\n",
    "            # Randomly select a gunshot index\n",
    "            gunshot_idx = np.random.randint(0, len(self.gunshot_paths))\n",
    "            fn_gunshot = self.gunshot_paths[gunshot_idx]\n",
    "            gunshot_times = self.gunshot_truth[gunshot_idx][0]\n",
    "            segment, sr = utils.combine_music_and_gunshot(music_waveform, fn_gunshot, gunshot_times)\n",
    "            combined_spectrograms, combined_labels = utils.preprocess_audio_train(segment, label=1)\n",
    "            \n",
    "            if combined_spectrograms and combined_labels:\n",
    "                spectrograms.extend(combined_spectrograms)\n",
    "\n",
    "                \n",
    "        return segment, spectrograms[0]\n",
    "    \n",
    "    def get_random_music_onset(self):\n",
    "        spectrograms = []\n",
    "        \n",
    "        music_idx = np.random.randint(0, len(self.music_paths))\n",
    "        fn_music = self.music_paths[music_idx]\n",
    "        onset_times = self.music_onsets[music_idx]\n",
    "        fn_music_metadata = self.music_metadata[fn_music]\n",
    "        music_waveform = utils.select_valid_onset_segment(file_path=fn_music, metadata=fn_music_metadata, onset_times=onset_times)\n",
    "        music_spectrograms, music_labels = utils.preprocess_audio_train(music_waveform, label=0)\n",
    "        return music_waveform, music_spectrograms[0]\n",
    "    \n",
    "    def __len__(self):\n",
    "        return self.num_samples  # Define the length of the dataset to be the number of samples you desire"
   ],
   "id": "21ecd05884f0d99d",
   "outputs": [],
   "execution_count": 243
  },
  {
   "metadata": {
    "ExecuteTime": {
     "end_time": "2024-10-30T21:16:35.261723Z",
     "start_time": "2024-10-30T21:16:35.195269Z"
    }
   },
   "cell_type": "code",
   "source": "music_metadata = utils.create_metadata_map('./Data/music')",
   "id": "497277154b2e6aa5",
   "outputs": [],
   "execution_count": 244
  },
  {
   "metadata": {
    "ExecuteTime": {
     "end_time": "2024-10-30T21:16:35.595398Z",
     "start_time": "2024-10-30T21:16:35.589271Z"
    }
   },
   "cell_type": "code",
   "source": [
    "train_dataset = GunshotDataset(music_train_df, gunshot_train_df, music_metadata, gunshot_prob=0.5, num_samples=800)\n",
    "valid_dataset = GunshotDataset(music_valid_df, gunshot_valid_df, music_metadata, gunshot_prob=0.5, num_samples=320, real_music_gunshot=True)\n",
    "train_loader = DataLoader(train_dataset, batch_size=32, shuffle=True)\n",
    "valid_loader = DataLoader(valid_dataset, batch_size=32, shuffle=False)"
   ],
   "id": "a936bb3c29d05716",
   "outputs": [],
   "execution_count": 245
  },
  {
   "metadata": {
    "ExecuteTime": {
     "end_time": "2024-10-30T21:16:36.095533Z",
     "start_time": "2024-10-30T21:16:36.021548Z"
    }
   },
   "cell_type": "code",
   "source": [
    "a, b = valid_dataset[0]\n",
    "print(a.shape)"
   ],
   "id": "53e3a6ea3c8248e0",
   "outputs": [
    {
     "name": "stdout",
     "output_type": "stream",
     "text": [
      "torch.Size([3, 20, 86])\n"
     ]
    }
   ],
   "execution_count": 246
  },
  {
   "metadata": {
    "ExecuteTime": {
     "end_time": "2024-10-30T21:16:37.854919Z",
     "start_time": "2024-10-30T21:16:36.417189Z"
    }
   },
   "cell_type": "code",
   "source": [
    "import matplotlib.pyplot as plt\n",
    "import numpy as np\n",
    "\n",
    "# Assuming you have already loaded a spectrogram from your dataset\n",
    "waveform, spectrogram = train_dataset.get_random_music_onset()\n",
    "# plot_spectrogram_rgb(spectrogram)\n",
    "utils.play_audio(waveform)\n",
    "utils.plot_spectrogram_channels(spectrogram)"
   ],
   "id": "9b6166a6d9908f58",
   "outputs": [
    {
     "data": {
      "text/plain": [
       "<Figure size 1500x500 with 3 Axes>"
      ],
      "image/png": "[encoded data removed]"
     },
     "metadata": {},
     "output_type": "display_data"
    }
   ],
   "execution_count": 247
  },
  {
   "metadata": {
    "ExecuteTime": {
     "end_time": "2024-10-30T21:16:39.411749Z",
     "start_time": "2024-10-30T21:16:37.994998Z"
    }
   },
   "cell_type": "code",
   "source": [
    "waveform, spectrogram = train_dataset.get_random_music_with_gunshot() \n",
    "# plot_spectrogram_rgb(spectrogram)\n",
    "utils.play_audio(waveform)\n",
    "utils.plot_spectrogram_channels(spectrogram)"
   ],
   "id": "e0f320bec816cf6",
   "outputs": [
    {
     "data": {
      "text/plain": [
       "<Figure size 1500x500 with 3 Axes>"
      ],
      "image/png": "[encoded data removed]"
     },
     "metadata": {},
     "output_type": "display_data"
    }
   ],
   "execution_count": 248
  },
  {
   "metadata": {
    "ExecuteTime": {
     "end_time": "2024-10-30T21:16:44.411079Z",
     "start_time": "2024-10-30T21:16:42.725267Z"
    }
   },
   "cell_type": "code",
   "source": [
    "device = th.device(\"cuda\" if th.cuda.is_available() else \"cpu\")\n",
    "use_cuda = th.cuda.is_available()\n",
    "\n",
    "mean, std = utils.compute_mean_std(train_loader)\n",
    "mean = mean.to(device)\n",
    "std = std.to(device)"
   ],
   "id": "46f097dcfa3b38af",
   "outputs": [
    {
     "name": "stderr",
     "output_type": "stream",
     "text": [
      "Computing mean and std: 100%|██████████| 25/25 [00:01<00:00, 15.01it/s]\n"
     ]
    }
   ],
   "execution_count": 249
  },
  {
   "metadata": {
    "ExecuteTime": {
     "end_time": "2024-10-30T21:18:20.514653Z",
     "start_time": "2024-10-30T21:16:44.412649Z"
    }
   },
   "cell_type": "code",
   "source": [
    "epochs = 10\n",
    "lr = 3e-4\n",
    "\n",
    "optimizer = th.optim.Adam(model.parameters(), lr=1e-4, weight_decay=1e-5)\n",
    "criterion = th.nn.BCELoss()\n",
    "\n",
    "best_threshold, best_score = utils.train_model(\n",
    "    model, optimizer, criterion, train_loader, valid_loader, num_epochs=epochs, mean=mean, std=std, patience=3\n",
    ")"
   ],
   "id": "29d384e6eaeed9d7",
   "outputs": [
    {
     "name": "stderr",
     "output_type": "stream",
     "text": [
      "Epoch [1] Training: 100%|██████████| 25/25 [00:01<00:00, 12.66it/s, loss=0.504]\n"
     ]
    },
    {
     "name": "stdout",
     "output_type": "stream",
     "text": [
      "Epoch [1], Loss: 0.6056\n"
     ]
    },
    {
     "name": "stderr",
     "output_type": "stream",
     "text": [
      "Validation: 100%|██████████| 10/10 [00:08<00:00,  1.12it/s]\n"
     ]
    },
    {
     "name": "stdout",
     "output_type": "stream",
     "text": [
      "Optimal threshold: 0.5492\n",
      "New best f1: 0.7938, model saved.\n"
     ]
    },
    {
     "name": "stderr",
     "output_type": "stream",
     "text": [
      "Epoch [2] Training: 100%|██████████| 25/25 [00:02<00:00, 12.44it/s, loss=0.407]\n"
     ]
    },
    {
     "name": "stdout",
     "output_type": "stream",
     "text": [
      "Epoch [2], Loss: 0.4342\n"
     ]
    },
    {
     "name": "stderr",
     "output_type": "stream",
     "text": [
      "Validation: 100%|██████████| 10/10 [00:08<00:00,  1.23it/s]\n"
     ]
    },
    {
     "name": "stdout",
     "output_type": "stream",
     "text": [
      "Optimal threshold: 0.4375\n",
      "New best f1: 0.8344, model saved.\n"
     ]
    },
    {
     "name": "stderr",
     "output_type": "stream",
     "text": [
      "Epoch [3] Training: 100%|██████████| 25/25 [00:02<00:00, 11.95it/s, loss=0.215]\n"
     ]
    },
    {
     "name": "stdout",
     "output_type": "stream",
     "text": [
      "Epoch [3], Loss: 0.2957\n"
     ]
    },
    {
     "name": "stderr",
     "output_type": "stream",
     "text": [
      "Validation: 100%|██████████| 10/10 [00:09<00:00,  1.05it/s]\n"
     ]
    },
    {
     "name": "stdout",
     "output_type": "stream",
     "text": [
      "Optimal threshold: 0.4808\n",
      "New best f1: 0.8350, model saved.\n"
     ]
    },
    {
     "name": "stderr",
     "output_type": "stream",
     "text": [
      "Epoch [4] Training: 100%|██████████| 25/25 [00:02<00:00, 11.86it/s, loss=0.149]\n"
     ]
    },
    {
     "name": "stdout",
     "output_type": "stream",
     "text": [
      "Epoch [4], Loss: 0.2291\n"
     ]
    },
    {
     "name": "stderr",
     "output_type": "stream",
     "text": [
      "Validation: 100%|██████████| 10/10 [00:08<00:00,  1.14it/s]\n"
     ]
    },
    {
     "name": "stdout",
     "output_type": "stream",
     "text": [
      "Optimal threshold: 0.2616\n"
     ]
    },
    {
     "name": "stderr",
     "output_type": "stream",
     "text": [
      "Epoch [5] Training: 100%|██████████| 25/25 [00:02<00:00, 11.89it/s, loss=0.116] \n"
     ]
    },
    {
     "name": "stdout",
     "output_type": "stream",
     "text": [
      "Epoch [5], Loss: 0.1790\n"
     ]
    },
    {
     "name": "stderr",
     "output_type": "stream",
     "text": [
      "Validation: 100%|██████████| 10/10 [00:08<00:00,  1.18it/s]\n"
     ]
    },
    {
     "name": "stdout",
     "output_type": "stream",
     "text": [
      "Optimal threshold: 0.3483\n",
      "New best f1: 0.8516, model saved.\n"
     ]
    },
    {
     "name": "stderr",
     "output_type": "stream",
     "text": [
      "Epoch [6] Training: 100%|██████████| 25/25 [00:01<00:00, 12.66it/s, loss=0.23]  \n"
     ]
    },
    {
     "name": "stdout",
     "output_type": "stream",
     "text": [
      "Epoch [6], Loss: 0.1749\n"
     ]
    },
    {
     "name": "stderr",
     "output_type": "stream",
     "text": [
      "Validation: 100%|██████████| 10/10 [00:08<00:00,  1.19it/s]\n"
     ]
    },
    {
     "name": "stdout",
     "output_type": "stream",
     "text": [
      "Optimal threshold: 0.2092\n"
     ]
    },
    {
     "name": "stderr",
     "output_type": "stream",
     "text": [
      "Epoch [7] Training: 100%|██████████| 25/25 [00:02<00:00, 11.79it/s, loss=0.105] \n"
     ]
    },
    {
     "name": "stdout",
     "output_type": "stream",
     "text": [
      "Epoch [7], Loss: 0.1584\n"
     ]
    },
    {
     "name": "stderr",
     "output_type": "stream",
     "text": [
      "Validation: 100%|██████████| 10/10 [00:08<00:00,  1.15it/s]\n"
     ]
    },
    {
     "name": "stdout",
     "output_type": "stream",
     "text": [
      "Optimal threshold: 0.1084\n"
     ]
    },
    {
     "name": "stderr",
     "output_type": "stream",
     "text": [
      "Epoch [8] Training: 100%|██████████| 25/25 [00:02<00:00, 10.84it/s, loss=0.379] \n"
     ]
    },
    {
     "name": "stdout",
     "output_type": "stream",
     "text": [
      "Epoch [8], Loss: 0.1430\n"
     ]
    },
    {
     "name": "stderr",
     "output_type": "stream",
     "text": [
      "Validation: 100%|██████████| 10/10 [00:09<00:00,  1.05it/s]\n"
     ]
    },
    {
     "name": "stdout",
     "output_type": "stream",
     "text": [
      "Optimal threshold: 0.1088\n",
      "No improvement in f1 for 3 epochs. Stopping training.\n"
     ]
    },
    {
     "name": "stderr",
     "output_type": "stream",
     "text": [
      "Computing Confusion Matrix: 100%|██████████| 10/10 [00:08<00:00,  1.13it/s]\n"
     ]
    },
    {
     "data": {
      "text/plain": [
       "<Figure size 640x480 with 2 Axes>"
      ],
      "image/png": "[encoded data removed]"
     },
     "metadata": {},
     "output_type": "display_data"
    }
   ],
   "execution_count": 250
  },
  {
   "metadata": {
    "ExecuteTime": {
     "end_time": "2024-10-30T21:15:01.969551Z",
     "start_time": "2024-10-30T21:15:01.961079Z"
    }
   },
   "cell_type": "code",
   "source": [
    "def manual_evaluate_test(model, feature, threshold, frame_size=utils.NUM_FRAMES, sampling_rate=utils.SAMPLING_RATE, hop_length=utils.HOP_LENGTH, mean=None, std=None, step_size=None, filter_time_sec=0):\n",
    "    \"\"\"\n",
    "    Manually evaluate the model on an audio feature, returning time positions where gunshots are detected.\n",
    "\n",
    "    Parameters:\n",
    "        model: The trained model.\n",
    "        feature: The feature (e.g., spectrogram) to evaluate.\n",
    "        threshold: The prediction threshold for gunshots.\n",
    "        frame_size: Number of frames to use in each evaluation.\n",
    "        sampling_rate: Audio sampling rate.\n",
    "        hop_length: Hop length in samples for each frame.\n",
    "        mean: Mean for normalization.\n",
    "        std: Standard deviation for normalization.\n",
    "        step_size: Step size for moving through frames (default: frame_size // 2).\n",
    "        filter_time_sec: Time (in seconds) to filter out close consecutive predictions.\n",
    "    \n",
    "    Returns:\n",
    "        List of tuples (minutes, seconds, output) where gunshots are detected along with the model's output.\n",
    "    \"\"\"\n",
    "    if mean is None or std is None:\n",
    "        raise ValueError(\"Mean and std must be provided for normalization.\")\n",
    "\n",
    "    mean = mean.to(device)\n",
    "    std = std.to(device)\n",
    "    model = model.to(device)\n",
    "    model.eval()\n",
    "\n",
    "    predictions = []\n",
    "\n",
    "    feature = feature.to(device)\n",
    "    feature = (feature - mean) / std\n",
    "\n",
    "    num_frames = feature.shape[2]\n",
    "\n",
    "    if step_size is None:\n",
    "        step_size = 1\n",
    "\n",
    "    total_iterations = 0\n",
    "\n",
    "    with th.no_grad():\n",
    "        for j in range(0, num_frames - frame_size + 1, step_size):\n",
    "            total_iterations += 1\n",
    "            start = j\n",
    "            end = j + frame_size\n",
    "\n",
    "            input_frame = feature[:, :, start:end].unsqueeze(0).float()\n",
    "            output = model(input_frame).squeeze().item()\n",
    "            predictions.append((output, start))\n",
    "\n",
    "        print(\"Number of predictions\", len(predictions))\n",
    "\n",
    "        res = []\n",
    "        for output, start in predictions:\n",
    "            if output >= threshold:\n",
    "                time_in_seconds = start * hop_length / sampling_rate\n",
    "                minutes = int(time_in_seconds // 60)\n",
    "                seconds = time_in_seconds % 60\n",
    "                res.append((minutes, seconds, time_in_seconds, output))\n",
    "\n",
    "    print(len(res))\n",
    "\n",
    "    filtered_res = []\n",
    "    last_detection_time = -float('inf')\n",
    "\n",
    "    for minutes, seconds, time_in_seconds, output in res:\n",
    "        if time_in_seconds - last_detection_time >= filter_time_sec:\n",
    "            filtered_res.append((minutes, seconds, output))\n",
    "            last_detection_time = time_in_seconds\n",
    "\n",
    "    return filtered_res"
   ],
   "id": "99b4f17680dc4c12",
   "outputs": [],
   "execution_count": 230
  },
  {
   "metadata": {
    "ExecuteTime": {
     "end_time": "2024-10-30T21:16:16.766268Z",
     "start_time": "2024-10-30T21:16:16.508939Z"
    }
   },
   "cell_type": "code",
   "source": [
    "audio_path = '/Users/borosabel/Documents/Uni/Thesis/50 Cent - Many Men (Wish Death) (Dirty Version).mp3'\n",
    "spectrograms, sample_rates = utils.preprocess_audio(['/Users/borosabel/Documents/Uni/Thesis/PopMusicInformationRetrieval/test_data_wav/Big L - Lifestylez Ov Da Poor And Dangerous.wav'])\n",
    "# spectrograms, sample_rates = utils.preprocess_audio(['/Users/borosabel/Documents/Uni/Thesis/M.I.A. - Paper Planes.mp3'])\n",
    "# print(f\"Got back spectogram in shape: {spectrograms[0].shape} and sample rate: {sample_rates}\")"
   ],
   "id": "de0354e270b88c05",
   "outputs": [
    {
     "name": "stderr",
     "output_type": "stream",
     "text": [
      "100%|██████████| 1/1 [00:00<00:00,  4.06it/s]\n"
     ]
    }
   ],
   "execution_count": 233
  },
  {
   "metadata": {
    "ExecuteTime": {
     "end_time": "2024-10-30T21:16:21.000368Z",
     "start_time": "2024-10-30T21:16:16.862202Z"
    }
   },
   "cell_type": "code",
   "source": [
    "predictions = manual_evaluate_test(model, spectrograms[0], threshold=best_threshold, mean=mean, std=std, step_size=1, filter_time_sec=1)\n",
    "\n",
    "if(len(predictions) > 0):\n",
    "    print(f\"Current treshold is {best_threshold} \\n\")\n",
    "\n",
    "    for minutes, seconds, output in predictions:\n",
    "        print(f\"Detected gunshot at {minutes}m {seconds:.2f}s with model output: {output:.4f}\")\n",
    "else:\n",
    "    print(\"No predictions\")"
   ],
   "id": "cbbfe45ee6d6735c",
   "outputs": [
    {
     "name": "stdout",
     "output_type": "stream",
     "text": [
      "Number of predictions 21418\n",
      "1851\n",
      "Current treshold is 0.19201205670833588 \n",
      "\n",
      "Detected gunshot at 0m 16.85s with model output: 0.1973\n",
      "Detected gunshot at 0m 18.27s with model output: 0.2890\n",
      "Detected gunshot at 0m 19.67s with model output: 0.2245\n",
      "Detected gunshot at 0m 21.04s with model output: 0.2552\n",
      "Detected gunshot at 0m 22.47s with model output: 0.2407\n",
      "Detected gunshot at 0m 23.90s with model output: 0.2369\n",
      "Detected gunshot at 0m 25.31s with model output: 0.2141\n",
      "Detected gunshot at 0m 26.73s with model output: 0.2539\n",
      "Detected gunshot at 0m 28.14s with model output: 0.2536\n",
      "Detected gunshot at 0m 29.50s with model output: 0.2525\n",
      "Detected gunshot at 0m 30.95s with model output: 0.1989\n",
      "Detected gunshot at 0m 32.36s with model output: 0.2059\n",
      "Detected gunshot at 0m 33.79s with model output: 0.2293\n",
      "Detected gunshot at 0m 35.20s with model output: 0.2692\n",
      "Detected gunshot at 0m 36.63s with model output: 0.1962\n",
      "Detected gunshot at 0m 37.79s with model output: 0.1933\n",
      "Detected gunshot at 0m 38.80s with model output: 0.2462\n",
      "Detected gunshot at 0m 39.90s with model output: 0.2086\n",
      "Detected gunshot at 0m 40.91s with model output: 0.4313\n",
      "Detected gunshot at 0m 42.25s with model output: 0.2300\n",
      "Detected gunshot at 0m 43.27s with model output: 0.1960\n",
      "Detected gunshot at 0m 45.07s with model output: 0.2094\n",
      "Detected gunshot at 0m 46.49s with model output: 0.2106\n",
      "Detected gunshot at 0m 47.82s with model output: 0.2034\n",
      "Detected gunshot at 0m 49.26s with model output: 0.2353\n",
      "Detected gunshot at 0m 50.72s with model output: 0.2755\n",
      "Detected gunshot at 0m 52.13s with model output: 0.2136\n",
      "Detected gunshot at 0m 53.43s with model output: 0.2651\n",
      "Detected gunshot at 0m 54.44s with model output: 0.2476\n",
      "Detected gunshot at 0m 55.54s with model output: 0.2066\n",
      "Detected gunshot at 0m 56.80s with model output: 0.2160\n",
      "Detected gunshot at 0m 57.81s with model output: 0.5793\n",
      "Detected gunshot at 0m 59.00s with model output: 0.2093\n",
      "Detected gunshot at 1m 0.53s with model output: 0.2701\n",
      "Detected gunshot at 1m 2.00s with model output: 0.2066\n",
      "Detected gunshot at 1m 3.43s with model output: 0.2051\n",
      "Detected gunshot at 1m 4.82s with model output: 0.2181\n",
      "Detected gunshot at 1m 6.25s with model output: 0.1991\n",
      "Detected gunshot at 1m 7.66s with model output: 0.2455\n",
      "Detected gunshot at 1m 9.08s with model output: 0.2143\n",
      "Detected gunshot at 1m 10.43s with model output: 0.2095\n",
      "Detected gunshot at 1m 11.84s with model output: 0.2139\n",
      "Detected gunshot at 1m 13.31s with model output: 0.2094\n",
      "Detected gunshot at 1m 14.68s with model output: 0.2022\n",
      "Detected gunshot at 1m 16.06s with model output: 0.1939\n",
      "Detected gunshot at 1m 17.52s with model output: 0.2358\n",
      "Detected gunshot at 1m 18.91s with model output: 0.2435\n",
      "Detected gunshot at 1m 20.34s with model output: 0.1937\n",
      "Detected gunshot at 1m 21.78s with model output: 0.2061\n",
      "Detected gunshot at 1m 23.20s with model output: 0.2619\n",
      "Detected gunshot at 1m 24.58s with model output: 0.2006\n",
      "Detected gunshot at 1m 26.00s with model output: 0.2038\n",
      "Detected gunshot at 1m 27.42s with model output: 0.2122\n",
      "Detected gunshot at 1m 28.76s with model output: 0.2004\n",
      "Detected gunshot at 1m 30.23s with model output: 0.2217\n",
      "Detected gunshot at 1m 31.60s with model output: 0.2200\n",
      "Detected gunshot at 1m 33.05s with model output: 0.2480\n",
      "Detected gunshot at 1m 35.90s with model output: 0.2073\n",
      "Detected gunshot at 1m 37.28s with model output: 0.2264\n",
      "Detected gunshot at 1m 38.71s with model output: 0.2385\n",
      "Detected gunshot at 1m 40.08s with model output: 0.2519\n",
      "Detected gunshot at 1m 41.52s with model output: 0.2388\n",
      "Detected gunshot at 1m 42.92s with model output: 0.2226\n",
      "Detected gunshot at 1m 44.32s with model output: 0.2147\n",
      "Detected gunshot at 1m 45.70s with model output: 0.2270\n",
      "Detected gunshot at 1m 47.15s with model output: 0.2012\n",
      "Detected gunshot at 1m 48.60s with model output: 0.1987\n",
      "Detected gunshot at 1m 49.99s with model output: 0.2542\n",
      "Detected gunshot at 1m 51.43s with model output: 0.2480\n",
      "Detected gunshot at 1m 52.84s with model output: 0.2031\n",
      "Detected gunshot at 1m 54.24s with model output: 0.2378\n",
      "Detected gunshot at 1m 55.55s with model output: 0.2642\n",
      "Detected gunshot at 1m 57.01s with model output: 0.2873\n",
      "Detected gunshot at 1m 58.46s with model output: 0.2634\n",
      "Detected gunshot at 1m 59.87s with model output: 0.2663\n",
      "Detected gunshot at 2m 1.28s with model output: 0.2529\n",
      "Detected gunshot at 2m 2.69s with model output: 0.1964\n",
      "Detected gunshot at 2m 3.70s with model output: 0.6803\n",
      "Detected gunshot at 2m 5.54s with model output: 0.2492\n",
      "Detected gunshot at 2m 6.91s with model output: 0.2318\n",
      "Detected gunshot at 2m 8.31s with model output: 0.2290\n",
      "Detected gunshot at 2m 9.75s with model output: 0.2712\n",
      "Detected gunshot at 2m 11.16s with model output: 0.1924\n",
      "Detected gunshot at 2m 12.57s with model output: 0.2884\n",
      "Detected gunshot at 2m 13.98s with model output: 0.2416\n",
      "Detected gunshot at 2m 15.38s with model output: 0.2131\n",
      "Detected gunshot at 2m 16.81s with model output: 0.2160\n",
      "Detected gunshot at 2m 18.19s with model output: 0.1923\n",
      "Detected gunshot at 2m 19.63s with model output: 0.2378\n",
      "Detected gunshot at 2m 21.04s with model output: 0.2425\n",
      "Detected gunshot at 2m 22.47s with model output: 0.2712\n",
      "Detected gunshot at 2m 23.87s with model output: 0.1970\n",
      "Detected gunshot at 2m 25.32s with model output: 0.2227\n",
      "Detected gunshot at 2m 26.61s with model output: 0.2631\n",
      "Detected gunshot at 2m 28.09s with model output: 0.2041\n",
      "Detected gunshot at 2m 29.51s with model output: 0.3064\n",
      "Detected gunshot at 2m 30.92s with model output: 0.1963\n",
      "Detected gunshot at 2m 32.32s with model output: 0.2529\n",
      "Detected gunshot at 2m 33.73s with model output: 0.2328\n",
      "Detected gunshot at 2m 35.12s with model output: 0.1955\n",
      "Detected gunshot at 2m 36.53s with model output: 0.1995\n",
      "Detected gunshot at 2m 37.98s with model output: 0.2604\n",
      "Detected gunshot at 2m 39.27s with model output: 0.2628\n",
      "Detected gunshot at 2m 40.28s with model output: 0.2064\n",
      "Detected gunshot at 2m 42.20s with model output: 0.1955\n",
      "Detected gunshot at 2m 43.60s with model output: 0.2279\n",
      "Detected gunshot at 2m 45.00s with model output: 0.2895\n",
      "Detected gunshot at 2m 46.01s with model output: 0.2190\n",
      "Detected gunshot at 2m 47.02s with model output: 0.2870\n",
      "Detected gunshot at 2m 48.23s with model output: 0.2054\n",
      "Detected gunshot at 2m 49.24s with model output: 0.2062\n",
      "Detected gunshot at 2m 50.66s with model output: 0.2713\n",
      "Detected gunshot at 2m 52.08s with model output: 0.2476\n",
      "Detected gunshot at 2m 53.09s with model output: 0.5543\n",
      "Detected gunshot at 2m 54.73s with model output: 0.1971\n",
      "Detected gunshot at 2m 56.32s with model output: 0.2674\n",
      "Detected gunshot at 2m 57.74s with model output: 0.2003\n",
      "Detected gunshot at 2m 59.13s with model output: 0.2251\n",
      "Detected gunshot at 3m 0.56s with model output: 0.2302\n",
      "Detected gunshot at 3m 1.96s with model output: 0.3018\n",
      "Detected gunshot at 3m 3.29s with model output: 0.2067\n",
      "Detected gunshot at 3m 4.75s with model output: 0.2108\n",
      "Detected gunshot at 3m 6.08s with model output: 0.2254\n",
      "Detected gunshot at 3m 7.54s with model output: 0.2110\n",
      "Detected gunshot at 3m 8.87s with model output: 0.2196\n",
      "Detected gunshot at 3m 10.35s with model output: 0.2452\n"
     ]
    }
   ],
   "execution_count": 234
  },
  {
   "metadata": {
    "ExecuteTime": {
     "end_time": "2024-10-29T20:04:50.960965Z",
     "start_time": "2024-10-29T20:04:49.062329Z"
    }
   },
   "cell_type": "code",
   "source": "prediction = utils.process_and_predict(model, audio_path, start_time_sec=66.12, mean=mean, std=std, threshold=best_threshold)",
   "id": "695e1a4c4fae776",
   "outputs": [
    {
     "name": "stdout",
     "output_type": "stream",
     "text": [
      "Treshold 0.5936126708984375\n",
      "Playing the audio sample from 66.12 seconds.\n"
     ]
    },
    {
     "name": "stderr",
     "output_type": "stream",
     "text": [
      "Input #0, wav, from '/var/folders/99/617f3z715_g8nc26tll89ddc0000gn/T/tmp7p104gvn.wav':\n",
      "  Duration: 00:00:00.99, bitrate: 1411 kb/s\n",
      "  Stream #0:0: Audio: pcm_s16le ([1][0][0][0] / 0x0001), 44100 Hz, 2 channels, s16, 1411 kb/s\n",
      "   0.81 M-A:  0.000 fd=   0 aq=    0KB vq=    0KB sq=    0B \r"
     ]
    },
    {
     "name": "stdout",
     "output_type": "stream",
     "text": [
      "\n",
      "Model Prediction: Gunshot with output: 0.6831712126731873\n"
     ]
    },
    {
     "name": "stderr",
     "output_type": "stream",
     "text": [
      "   0.87 M-A:  0.000 fd=   0 aq=    0KB vq=    0KB sq=    0B \r"
     ]
    }
   ],
   "execution_count": 210
  },
  {
   "metadata": {},
   "cell_type": "code",
   "outputs": [],
   "execution_count": null,
   "source": "",
   "id": "e99492149cff8254"
  }
 ],
 "metadata": {
  "kernelspec": {
   "display_name": "Python 3",
   "language": "python",
   "name": "python3"
  },
  "language_info": {
   "codemirror_mode": {
    "name": "ipython",
    "version": 2
   },
   "file_extension": ".py",
   "mimetype": "text/x-python",
   "name": "python",
   "nbconvert_exporter": "python",
   "pygments_lexer": "ipython2",
   "version": "2.7.6"
  }
 },
 "nbformat": 4,
 "nbformat_minor": 5
}
