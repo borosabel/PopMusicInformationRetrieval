{
 "cells": [
  {
   "cell_type": "code",
   "id": "initial_id",
   "metadata": {
    "collapsed": true,
    "ExecuteTime": {
     "end_time": "2024-10-14T16:00:17.457829Z",
     "start_time": "2024-10-14T16:00:17.301227Z"
    }
   },
   "source": [
    "import numpy as np\n",
    "\n",
    "# Create monkey patches\n",
    "np.float = float\n",
    "np.int = int\n",
    "np.object = object\n",
    "np.bool = bool"
   ],
   "outputs": [],
   "execution_count": 1
  },
  {
   "metadata": {
    "ExecuteTime": {
     "end_time": "2024-10-14T16:45:45.194817Z",
     "start_time": "2024-10-14T16:45:45.181447Z"
    }
   },
   "cell_type": "code",
   "source": [
    "import pandas as pd\n",
    "from sklearn.model_selection import train_test_split\n",
    "import gunshot_utils as utils\n",
    "import importlib\n",
    "import random\n",
    "import torch as th\n",
    "import torchaudio\n",
    "from torch.utils.data import DataLoader\n",
    "import torch.nn as nn\n",
    "import torch.nn.functional as F\n",
    "from pydub import AudioSegment\n",
    "from pydub.playback import play\n",
    "import numpy as np\n",
    "from sklearn.metrics import roc_auc_score, roc_curve, confusion_matrix\n",
    "import matplotlib.pyplot as plt\n",
    "from sklearn.metrics import ConfusionMatrixDisplay\n",
    "from tqdm import tqdm\n",
    "\n",
    "importlib.reload(utils)"
   ],
   "id": "30ec1e4f3c907ee3",
   "outputs": [
    {
     "data": {
      "text/plain": [
       "<module 'gunshot_utils' from '/Users/borosabel/Documents/Uni/Thesis/PopMusicInformationRetrieval/gunshot_utils.py'>"
      ]
     },
     "execution_count": 80,
     "metadata": {},
     "output_type": "execute_result"
    }
   ],
   "execution_count": 80
  },
  {
   "metadata": {
    "ExecuteTime": {
     "end_time": "2024-10-14T16:00:20.373730Z",
     "start_time": "2024-10-14T16:00:20.371457Z"
    }
   },
   "cell_type": "code",
   "source": [
    "# # This cell is only intented to create a subset of data so I can present it effectively without needing to wait too much on testing.\n",
    "#\n",
    "# # SAMPLE GUNSHOT DATASET\n",
    "# # Load the gunshot DataFrame\n",
    "# gunshot_df = pd.read_csv('./filtered_gunshot_metadata_glocks.csv')\n",
    "# gunshot_df = gunshot_df[['filename', 'gunshot_location_in_seconds', 'num_gunshots']]\n",
    "#\n",
    "# gunshot_df['gunshot_location_in_seconds'] = gunshot_df['gunshot_location_in_seconds'].apply(\n",
    "#     lambda x: utils.preprocess_gunshot_times(x, include_first_gunshot_only=True)\n",
    "# ).tolist()\n",
    "#\n",
    "# sampled_gunshot_df = gunshot_df.sample(n=100, random_state=42)\n",
    "# destination_directory = './selected_gunshots'\n",
    "# os.makedirs(destination_directory, exist_ok=True)\n",
    "# new_paths = []\n",
    "#\n",
    "# for path in sampled_gunshot_df['filename']:\n",
    "#     filename = os.path.basename(path)\n",
    "#     destination_path = os.path.join(destination_directory, filename)\n",
    "#     shutil.copy(path, destination_path)\n",
    "#     new_paths.append(destination_path)\n",
    "#\n",
    "# sampled_gunshot_df['filename'] = new_paths\n",
    "# sampled_gunshot_df.to_pickle('./sampled_gunshot_metadata.pkl')\n",
    "#\n",
    "# # SAMPLE MUSIC DATASET\n",
    "# # Load the music DataFrame\n",
    "# music_df = pd.read_excel('/Users/borosabel/Documents/Uni/Thesis/PopMIR/Data/Excel/baseline_data_w_topics_w_features.xlsx', engine='openpyxl')\n",
    "# music_df = music_df[['Path', 'Sample Rate (Hz)']]\n",
    "# sampled_music_df = music_df.sample(n=100, random_state=42)\n",
    "# destination_directory = './selected_music'\n",
    "# os.makedirs(destination_directory, exist_ok=True)\n",
    "# new_music_paths = []\n",
    "#\n",
    "# for path in sampled_music_df['Path']:\n",
    "#     filename = os.path.basename(path)\n",
    "#     destination_path = os.path.join(destination_directory, filename)\n",
    "#     shutil.copy(path, destination_path)\n",
    "#     new_music_paths.append(destination_path)\n",
    "#\n",
    "# sampled_music_df['Path'] = new_music_paths\n",
    "# sampled_music_df.to_pickle('./sampled_music_metadata.pkl')"
   ],
   "id": "c2fea9d844a71b65",
   "outputs": [],
   "execution_count": 3
  },
  {
   "metadata": {
    "ExecuteTime": {
     "end_time": "2024-10-14T16:00:20.387649Z",
     "start_time": "2024-10-14T16:00:20.374862Z"
    }
   },
   "cell_type": "code",
   "source": [
    "gunshot_df = pd.read_pickle('./sampled_gunshot_metadata.pkl')\n",
    "gunshot_df = gunshot_df[['filename', 'gunshot_location_in_seconds', 'num_gunshots']]\n",
    "gunshot_df.head()"
   ],
   "id": "248141f128afd6c",
   "outputs": [
    {
     "data": {
      "text/plain": [
       "                                      filename gunshot_location_in_seconds  \\\n",
       "15    ./selected_gunshots/glock_17_9mm(16).wav                [0.07517007]   \n",
       "9     ./selected_gunshots/glock_17_9mm(10).wav                [1.62344671]   \n",
       "201  ./selected_gunshots/glock_17_9mm(665).wav                      [1.75]   \n",
       "82    ./selected_gunshots/glock_17_9mm(91).wav                [0.14414966]   \n",
       "68    ./selected_gunshots/glock_17_9mm(77).wav                      [1.75]   \n",
       "\n",
       "     num_gunshots  \n",
       "15              2  \n",
       "9               1  \n",
       "201             4  \n",
       "82              2  \n",
       "68              1  "
      ],
      "text/html": [
       "<div>\n",
       "<style scoped>\n",
       "    .dataframe tbody tr th:only-of-type {\n",
       "        vertical-align: middle;\n",
       "    }\n",
       "\n",
       "    .dataframe tbody tr th {\n",
       "        vertical-align: top;\n",
       "    }\n",
       "\n",
       "    .dataframe thead th {\n",
       "        text-align: right;\n",
       "    }\n",
       "</style>\n",
       "<table border=\"1\" class=\"dataframe\">\n",
       "  <thead>\n",
       "    <tr style=\"text-align: right;\">\n",
       "      <th></th>\n",
       "      <th>filename</th>\n",
       "      <th>gunshot_location_in_seconds</th>\n",
       "      <th>num_gunshots</th>\n",
       "    </tr>\n",
       "  </thead>\n",
       "  <tbody>\n",
       "    <tr>\n",
       "      <th>15</th>\n",
       "      <td>./selected_gunshots/glock_17_9mm(16).wav</td>\n",
       "      <td>[0.07517007]</td>\n",
       "      <td>2</td>\n",
       "    </tr>\n",
       "    <tr>\n",
       "      <th>9</th>\n",
       "      <td>./selected_gunshots/glock_17_9mm(10).wav</td>\n",
       "      <td>[1.62344671]</td>\n",
       "      <td>1</td>\n",
       "    </tr>\n",
       "    <tr>\n",
       "      <th>201</th>\n",
       "      <td>./selected_gunshots/glock_17_9mm(665).wav</td>\n",
       "      <td>[1.75]</td>\n",
       "      <td>4</td>\n",
       "    </tr>\n",
       "    <tr>\n",
       "      <th>82</th>\n",
       "      <td>./selected_gunshots/glock_17_9mm(91).wav</td>\n",
       "      <td>[0.14414966]</td>\n",
       "      <td>2</td>\n",
       "    </tr>\n",
       "    <tr>\n",
       "      <th>68</th>\n",
       "      <td>./selected_gunshots/glock_17_9mm(77).wav</td>\n",
       "      <td>[1.75]</td>\n",
       "      <td>1</td>\n",
       "    </tr>\n",
       "  </tbody>\n",
       "</table>\n",
       "</div>"
      ]
     },
     "execution_count": 4,
     "metadata": {},
     "output_type": "execute_result"
    }
   ],
   "execution_count": 4
  },
  {
   "metadata": {
    "ExecuteTime": {
     "end_time": "2024-10-14T16:00:20.392899Z",
     "start_time": "2024-10-14T16:00:20.388300Z"
    }
   },
   "cell_type": "code",
   "source": [
    "music_df = pd.read_pickle('./sampled_music_metadata.pkl')\n",
    "music_df = music_df[['Path', 'Sample Rate (Hz)']]\n",
    "music_df.head()"
   ],
   "id": "ef62985a0a1d1027",
   "outputs": [
    {
     "data": {
      "text/plain": [
       "                                                  Path  Sample Rate (Hz)\n",
       "428                ./selected_music/Pollywanacraka.mp3             48000\n",
       "930  ./selected_music/Doggy Dogg World (feat. The D...             48000\n",
       "781    ./selected_music/Coolio - Bright as the Sun.mp3             48000\n",
       "451         ./selected_music/Yo! Bum Rush The Show.mp3             48000\n",
       "429     ./selected_music/Welcome To The Terrordome.mp3             48000"
      ],
      "text/html": [
       "<div>\n",
       "<style scoped>\n",
       "    .dataframe tbody tr th:only-of-type {\n",
       "        vertical-align: middle;\n",
       "    }\n",
       "\n",
       "    .dataframe tbody tr th {\n",
       "        vertical-align: top;\n",
       "    }\n",
       "\n",
       "    .dataframe thead th {\n",
       "        text-align: right;\n",
       "    }\n",
       "</style>\n",
       "<table border=\"1\" class=\"dataframe\">\n",
       "  <thead>\n",
       "    <tr style=\"text-align: right;\">\n",
       "      <th></th>\n",
       "      <th>Path</th>\n",
       "      <th>Sample Rate (Hz)</th>\n",
       "    </tr>\n",
       "  </thead>\n",
       "  <tbody>\n",
       "    <tr>\n",
       "      <th>428</th>\n",
       "      <td>./selected_music/Pollywanacraka.mp3</td>\n",
       "      <td>48000</td>\n",
       "    </tr>\n",
       "    <tr>\n",
       "      <th>930</th>\n",
       "      <td>./selected_music/Doggy Dogg World (feat. The D...</td>\n",
       "      <td>48000</td>\n",
       "    </tr>\n",
       "    <tr>\n",
       "      <th>781</th>\n",
       "      <td>./selected_music/Coolio - Bright as the Sun.mp3</td>\n",
       "      <td>48000</td>\n",
       "    </tr>\n",
       "    <tr>\n",
       "      <th>451</th>\n",
       "      <td>./selected_music/Yo! Bum Rush The Show.mp3</td>\n",
       "      <td>48000</td>\n",
       "    </tr>\n",
       "    <tr>\n",
       "      <th>429</th>\n",
       "      <td>./selected_music/Welcome To The Terrordome.mp3</td>\n",
       "      <td>48000</td>\n",
       "    </tr>\n",
       "  </tbody>\n",
       "</table>\n",
       "</div>"
      ]
     },
     "execution_count": 5,
     "metadata": {},
     "output_type": "execute_result"
    }
   ],
   "execution_count": 5
  },
  {
   "metadata": {},
   "cell_type": "markdown",
   "source": "<b>At this point we have two dataframes with 100-100 audio files, one contains the gunshots and the other contains the musical pieces</b>",
   "id": "bc3b36b2dabc91ed"
  },
  {
   "metadata": {
    "ExecuteTime": {
     "end_time": "2024-10-14T16:00:20.397383Z",
     "start_time": "2024-10-14T16:00:20.393885Z"
    }
   },
   "cell_type": "code",
   "source": [
    "music_train_df, music_valid_df = train_test_split(music_df, test_size=0.2, random_state=42)\n",
    "gunshot_train_df, gunshot_valid_df = train_test_split(gunshot_df, test_size=0.2, random_state=42)"
   ],
   "id": "85913fb23cc8e10d",
   "outputs": [],
   "execution_count": 6
  },
  {
   "metadata": {
    "ExecuteTime": {
     "end_time": "2024-10-14T16:00:20.400175Z",
     "start_time": "2024-10-14T16:00:20.397961Z"
    }
   },
   "cell_type": "code",
   "source": [
    "print(\"SHAPES:\")\n",
    "print(f\"music_train_df: {music_train_df.shape}, music_valid_df: {music_valid_df.shape}\")\n",
    "print(f\"gunshot_train_df: {gunshot_train_df.shape}, gunshot_valid_df: {gunshot_valid_df.shape}\")"
   ],
   "id": "fd77120151060515",
   "outputs": [
    {
     "name": "stdout",
     "output_type": "stream",
     "text": [
      "SHAPES:\n",
      "music_train_df: (80, 2), music_valid_df: (20, 2)\n",
      "gunshot_train_df: (80, 3), gunshot_valid_df: (20, 3)\n"
     ]
    }
   ],
   "execution_count": 7
  },
  {
   "metadata": {
    "ExecuteTime": {
     "end_time": "2024-10-14T16:00:20.763552Z",
     "start_time": "2024-10-14T16:00:20.728039Z"
    }
   },
   "cell_type": "code",
   "source": [
    "class GunshotDetectionCNN(nn.Module):\n",
    "    def __init__(self, num_frames):\n",
    "        super(GunshotDetectionCNN, self).__init__()\n",
    "        self.conv1 = nn.Conv2d(3, 10, kernel_size=(3, 7))\n",
    "        self.pool1 = nn.MaxPool2d(kernel_size=(3, 1))\n",
    "        self.conv2 = nn.Conv2d(10, 20, kernel_size=(3, 3))\n",
    "        self.pool2 = nn.MaxPool2d(kernel_size=(3, 1))\n",
    "\n",
    "        dummy_input = th.zeros(1, 3, 80, num_frames) \n",
    "        dummy_output = self.pool2(F.relu(self.conv2(self.pool1(F.relu(self.conv1(dummy_input))))))\n",
    "        output_size = dummy_output.view(-1).shape[0]\n",
    "\n",
    "        self.fc1 = nn.Linear(output_size, 256)\n",
    "        self.fc2 = nn.Linear(256, 1)\n",
    "        self.dropout = nn.Dropout(0.5)\n",
    "        self.sigmoid = nn.Sigmoid()\n",
    "\n",
    "    def forward(self, x):\n",
    "        x = self.pool1(F.relu(self.conv1(x)))\n",
    "        x = self.pool2(F.relu(self.conv2(x)))\n",
    "\n",
    "        # Flatten the tensor\n",
    "        x = x.view(x.size(0), -1)\n",
    "\n",
    "        x = self.dropout(F.relu(self.fc1(x)))  # Apply dropout\n",
    "        x = self.sigmoid(self.fc2(x))\n",
    "        return x\n",
    "\n",
    "model = GunshotDetectionCNN(num_frames=utils.NUM_FRAMES)"
   ],
   "id": "375039e3f516b75b",
   "outputs": [],
   "execution_count": 8
  },
  {
   "metadata": {
    "ExecuteTime": {
     "end_time": "2024-10-14T16:00:21.295812Z",
     "start_time": "2024-10-14T16:00:21.289661Z"
    }
   },
   "cell_type": "code",
   "source": [
    "class GunshotDataset(th.utils.data.Dataset):\n",
    "    def __init__(self, music_df, gunshot_df, excerpt_len=5.0, gunshot_placement_sec=2.0, gunshot_prob=1.0, min_db=3, max_db=5, max_non_gunshot_samples=1, mean=None, std=None):\n",
    "        \"\"\"\n",
    "        :param music_df: DataFrame containing paths to music files.\n",
    "        :param gunshot_df: DataFrame containing paths to gunshot files and timing info.\n",
    "        :param excerpt_len: Length of the music segment in seconds.\n",
    "        :param gunshot_placement_sec: Time in seconds where to place the gunshot in the music.\n",
    "        :param gunshot_prob: Probability of adding a gunshot to the segment.\n",
    "        :param min_db: Minimum gain (in dB) to apply to the gunshot.\n",
    "        :param max_db: Maximum gain (in dB) to apply to the gunshot.\n",
    "        :param max_non_gunshot_samples: Max number of non-gunshot samples to extract when no gunshots are present.\n",
    "        \"\"\"\n",
    "        super().__init__()\n",
    "        self.music_paths = music_df['Path'].tolist()\n",
    "        self.gunshot_paths = gunshot_df['filename'].tolist()\n",
    "        self.gunshot_truth = gunshot_df['gunshot_location_in_seconds'].tolist()\n",
    "        self.excerpt_len = excerpt_len\n",
    "        self.gunshot_placement_sec = gunshot_placement_sec\n",
    "        self.gunshot_prob = gunshot_prob\n",
    "        self.min_db = min_db\n",
    "        self.max_db = max_db\n",
    "        self.max_non_gunshot_samples = max_non_gunshot_samples\n",
    "\n",
    "    def __getitem__(self, idx):\n",
    "        fn_music = self.music_paths[idx]\n",
    "        add_gunshot = (np.random.rand() < self.gunshot_prob)\n",
    "\n",
    "        if add_gunshot:\n",
    "            gunshot_idx = np.random.randint(0, len(self.gunshot_paths) - 1)\n",
    "            fn_gunshot = self.gunshot_paths[gunshot_idx]\n",
    "            gunshot_times = self.gunshot_truth[gunshot_idx][0]\n",
    "            \n",
    "            music_segment, sr = utils.combine_music_and_gunshot(\n",
    "                music_file=fn_music,\n",
    "                gunshot_file=fn_gunshot,\n",
    "                gunshot_time=gunshot_times,\n",
    "                gunshot_volume_increase_dB=self.max_db,\n",
    "                gunshot_placement_sec=self.gunshot_placement_sec,\n",
    "                excerpt_len_sec=self.excerpt_len,\n",
    "                sample_rate=utils.SAMPLING_RATE\n",
    "            )\n",
    "            label = 1\n",
    "            spectrograms, labels = utils.preprocess_audio_train(music_segment, sr, label, gunshot_placement_sec)\n",
    "        else:\n",
    "            music_segment, sr = utils.extract_music_segment(\n",
    "                music_file=fn_music,\n",
    "                excerpt_len=self.excerpt_len,\n",
    "                sample_rate=utils.SAMPLING_RATE\n",
    "            )\n",
    "            label = 0\n",
    "            spectrograms, labels = utils.preprocess_audio_train(music_segment, sr, label)\n",
    "\n",
    "        if not spectrograms or not labels:\n",
    "            raise ValueError(\"Spectrograms or labels are empty after preprocessing\")\n",
    "\n",
    "        return spectrograms[0], labels[0]\n",
    "\n",
    "    def __len__(self):\n",
    "        return len(self.music_paths)"
   ],
   "id": "18971f1c1625f911",
   "outputs": [],
   "execution_count": 9
  },
  {
   "metadata": {},
   "cell_type": "markdown",
   "source": "<b>When we use the GunshotDataset which contains preprocessing the audio, preprocessing the gunshot sound, below I will cut out codes from the utility functions just to show what kind of data we have during the intermediate steps.</b>",
   "id": "5504eaac422630f7"
  },
  {
   "metadata": {
    "ExecuteTime": {
     "end_time": "2024-10-14T16:00:27.187749Z",
     "start_time": "2024-10-14T16:00:22.105851Z"
    }
   },
   "cell_type": "code",
   "source": [
    "music_waveform, sr = torchaudio.load(music_df.iloc[0]['Path'])\n",
    "if sr != utils.SAMPLING_RATE:\n",
    "    print(f\"Resampling music from {sr} Hz to {utils.SAMPLING_RATE} Hz. \\n\")\n",
    "    music_waveform = torchaudio.transforms.Resample(sr, utils.SAMPLING_RATE)(music_waveform)\n",
    "\n",
    "excerpt_len_sec = 5\n",
    "excerpt_len_samples = int(excerpt_len_sec * utils.SAMPLING_RATE)\n",
    "total_music_samples = music_waveform.size(1)\n",
    "max_start_sample = max(0, total_music_samples - excerpt_len_samples)\n",
    "start_pos_music = random.randint(0, max_start_sample)\n",
    "music_segment = music_waveform[:, start_pos_music:start_pos_music + excerpt_len_samples]\n",
    "utils.play_audio(music_segment, sr)"
   ],
   "id": "6eb9e38d7f298e52",
   "outputs": [
    {
     "name": "stdout",
     "output_type": "stream",
     "text": [
      "Resampling music from 48000 Hz to 44100 Hz. \n",
      "\n"
     ]
    }
   ],
   "execution_count": 10
  },
  {
   "metadata": {
    "ExecuteTime": {
     "end_time": "2024-10-14T16:00:38.321338Z",
     "start_time": "2024-10-14T16:00:37.757075Z"
    }
   },
   "cell_type": "code",
   "source": [
    "gunshot_filename = gunshot_df.iloc[1]['filename']\n",
    "gunshot_time = gunshot_df.iloc[0]['gunshot_location_in_seconds']\n",
    "pre_gunshot_time = 0.5\n",
    "\n",
    "# First we play the nomral gunshot file\n",
    "gunshot_waveform, sr_gunshot = torchaudio.load(gunshot_df.iloc[0]['filename'])\n",
    "\n",
    "if sr_gunshot != utils.SAMPLING_RATE:\n",
    "    print(f\"Resampling gunshot from {sr_gunshot} Hz to {utils.SAMPLING_RATE} Hz.\\n\")\n",
    "    gunshot_waveform = torchaudio.transforms.Resample(sr_gunshot, utils.SAMPLING_RATE)(gunshot_waveform)\n",
    "\n",
    "# Here we just set the gunshot audio so it won't start too later than 0.5 so we can just take it, overlay on the music audio and then we know that it if we take\n",
    "# frame size which is over than 0.5 seconds the gunshot will be there somewhere\n",
    "gunshot_start_sample = int((gunshot_time[0] - pre_gunshot_time) * utils.SAMPLING_RATE)\n",
    "gunshot_segment = gunshot_waveform[:, gunshot_start_sample:]\n",
    "\n",
    "utils.play_audio(gunshot_segment, sr)"
   ],
   "id": "e2f3a5e21dad5ac4",
   "outputs": [],
   "execution_count": 12
  },
  {
   "metadata": {
    "ExecuteTime": {
     "end_time": "2024-10-14T16:00:38.797606Z",
     "start_time": "2024-10-14T16:00:38.794874Z"
    }
   },
   "cell_type": "code",
   "source": "assert utils.SAMPLING_RATE == sr_gunshot, f\"Expected sample rate: {utils.SAMPLING_RATE}, but got: {sr_gunshot}\"",
   "id": "273dc35a1b4c5e01",
   "outputs": [],
   "execution_count": 13
  },
  {
   "metadata": {
    "ExecuteTime": {
     "end_time": "2024-10-14T16:00:45.588759Z",
     "start_time": "2024-10-14T16:00:39.659563Z"
    }
   },
   "cell_type": "code",
   "source": [
    "gunshot_placement_sec = 2\n",
    "gunshot_placement_sample = int(gunshot_placement_sec * utils.SAMPLING_RATE)\n",
    "combined_segment = music_segment.clone()\n",
    "combined_segment[:, gunshot_placement_sample:gunshot_placement_sample + gunshot_segment.size(1)] += gunshot_segment\n",
    "\n",
    "# Vertical line at the point where the gunshot fires\n",
    "utils.plot_waveform(combined_segment, utils.SAMPLING_RATE, vertical_lines=[2])\n",
    "\n",
    "utils.play_audio(combined_segment, utils.SAMPLING_RATE)"
   ],
   "id": "5c5cec107037b54b",
   "outputs": [
    {
     "data": {
      "text/plain": [
       "<Figure size 1000x400 with 1 Axes>"
      ],
      "image/png": "[encoded data removed]"
     },
     "metadata": {},
     "output_type": "display_data"
    }
   ],
   "execution_count": 14
  },
  {
   "metadata": {},
   "cell_type": "markdown",
   "source": "<b>Now we show you steps during processing this new audio we just computed above</b>",
   "id": "ac8e1e44a53ed2f4"
  },
  {
   "metadata": {
    "ExecuteTime": {
     "end_time": "2024-10-14T16:00:47.161769Z",
     "start_time": "2024-10-14T16:00:47.159445Z"
    }
   },
   "cell_type": "code",
   "source": "print(f\"Currently we have a 5 second audio with shapes: {combined_segment.shape}\")",
   "id": "a627834d86cc1c21",
   "outputs": [
    {
     "name": "stdout",
     "output_type": "stream",
     "text": [
      "Currently we have a 5 second audio with shapes: torch.Size([2, 220500])\n"
     ]
    }
   ],
   "execution_count": 15
  },
  {
   "metadata": {
    "ExecuteTime": {
     "end_time": "2024-10-14T16:00:49.225203Z",
     "start_time": "2024-10-14T16:00:48.082095Z"
    }
   },
   "cell_type": "code",
   "source": [
    "segment = utils.select_gunshot_segment(combined_segment, utils.SAMPLING_RATE, 1.5)\n",
    "utils.play_audio(segment, utils.SAMPLING_RATE)"
   ],
   "id": "c13c4c07da0a960",
   "outputs": [],
   "execution_count": 16
  },
  {
   "metadata": {
    "ExecuteTime": {
     "end_time": "2024-10-14T16:00:54.442747Z",
     "start_time": "2024-10-14T16:00:53.503900Z"
    }
   },
   "cell_type": "code",
   "source": [
    "mel_specgram = utils.calculate_melbands(segment[0], utils.SAMPLING_RATE)\n",
    "print(mel_specgram.shape)"
   ],
   "id": "9d1d50c1f5a3b8da",
   "outputs": [
    {
     "name": "stdout",
     "output_type": "stream",
     "text": [
      "torch.Size([3, 81, 86])\n"
     ]
    }
   ],
   "execution_count": 17
  },
  {
   "metadata": {
    "ExecuteTime": {
     "end_time": "2024-10-14T16:00:58.542553Z",
     "start_time": "2024-10-14T16:00:58.538777Z"
    }
   },
   "cell_type": "code",
   "source": [
    "train_dataset = GunshotDataset(music_train_df, gunshot_train_df, excerpt_len=5.0, gunshot_placement_sec=2.0, min_db=5, max_db=10, gunshot_prob=0.5)\n",
    "valid_dataset = GunshotDataset(music_valid_df, gunshot_valid_df, excerpt_len=5.0, gunshot_placement_sec=2.0, min_db=5, max_db=10, gunshot_prob=0.5)\n",
    "train_loader = DataLoader(train_dataset, batch_size=32, shuffle=True)\n",
    "valid_loader = DataLoader(valid_dataset, batch_size=32, shuffle=False)"
   ],
   "id": "bfd4750fea8bf572",
   "outputs": [],
   "execution_count": 18
  },
  {
   "metadata": {
    "ExecuteTime": {
     "end_time": "2024-10-14T16:00:59.711829Z",
     "start_time": "2024-10-14T16:00:59.694868Z"
    }
   },
   "cell_type": "code",
   "source": [
    "device = th.device(\"cuda\" if th.cuda.is_available() else \"cpu\")\n",
    "use_cuda = th.cuda.is_available()\n",
    "\n",
    "def train_model(model, optimizer, criterion, train_loader, valid_loader, epochs=10, mean=None, std=None, patience=3):\n",
    "    if mean is None or std is None:\n",
    "        raise ValueError(\"Mean and std must be provided for normalization.\")\n",
    "\n",
    "    mean = mean.to(device)\n",
    "    std = std.to(device)\n",
    "    model = model.to(device)\n",
    "    best_score = 0.0\n",
    "    epochs_since_improvement = 0\n",
    "\n",
    "    if use_cuda:\n",
    "        scaler = th.cuda.amp.GradScaler() \n",
    "    else:\n",
    "        scaler = None \n",
    "\n",
    "    for epoch in range(epochs):\n",
    "        model.train()\n",
    "        running_loss = 0.0\n",
    "\n",
    "        # Add tqdm progress bar for training loop\n",
    "        train_loader_tqdm = tqdm(train_loader, desc=f\"Epoch [{epoch+1}/{epochs}] Training\")\n",
    "\n",
    "        for features, labels in train_loader_tqdm:\n",
    "            features, labels = features.to(device), labels.to(device).float().to(device)\n",
    "            optimizer.zero_grad()\n",
    "            features = (features - mean) / std\n",
    "\n",
    "            if use_cuda:\n",
    "                with th.cuda.amp.autocast():\n",
    "                    outputs = model(features).view(-1)\n",
    "                    loss = criterion(outputs, labels)\n",
    "                scaler.scale(loss).backward()\n",
    "                scaler.step(optimizer)\n",
    "                scaler.update()\n",
    "            else:\n",
    "                outputs = model(features).view(-1)\n",
    "                loss = criterion(outputs, labels)\n",
    "                loss.backward()\n",
    "                optimizer.step()\n",
    "\n",
    "            running_loss += loss.item() * features.size(0)\n",
    "\n",
    "            # Update tqdm description with current loss\n",
    "            train_loader_tqdm.set_postfix(loss=loss.item())\n",
    "\n",
    "        epoch_loss = running_loss / len(train_loader.dataset)\n",
    "        print(f\"Epoch [{epoch+1}/{epochs}], Loss: {epoch_loss:.4f}\")\n",
    "\n",
    "        model.eval()\n",
    "        val_score = evaluate_model_simple(model, valid_loader, mean, std)\n",
    "\n",
    "        if val_score > best_score:\n",
    "            best_score = val_score\n",
    "            epochs_since_improvement = 0\n",
    "            print(f\"New best ROC AUC score: {best_score:.4f}, model saved.\")\n",
    "            # Save the model if desired\n",
    "            # torch.save(model.state_dict(), 'best_model.pth')\n",
    "        else:\n",
    "            epochs_since_improvement += 1\n",
    "\n",
    "        if epochs_since_improvement >= patience:\n",
    "            print(f\"No improvement in ROC AUC score for {patience} epochs. Stopping training.\")\n",
    "            break\n",
    "\n",
    "    # After training, find the optimal threshold\n",
    "    best_threshold = find_optimal_threshold_after_training(model, valid_loader, mean, std)\n",
    "\n",
    "    # Compute and display the confusion matrix\n",
    "    cm = compute_confusion_matrix(model, valid_loader, best_threshold, mean, std)\n",
    "    display_confusion_matrix(cm)\n",
    "\n",
    "    return best_threshold, best_score\n",
    "\n",
    "\n",
    "def evaluate_model_simple(model, valid_loader, mean, std):\n",
    "\n",
    "    all_outputs = []\n",
    "    all_labels = []\n",
    "\n",
    "    valid_loader_tqdm = tqdm(valid_loader, desc=\"Validation\")\n",
    "\n",
    "    with th.no_grad():\n",
    "        for features, labels in valid_loader_tqdm:\n",
    "            features = features.to(device)\n",
    "            labels = labels.to(device).float()\n",
    "            features = (features - mean) / std\n",
    "            outputs = model(features).view(-1).cpu().numpy()\n",
    "            all_outputs.append(outputs)\n",
    "            all_labels.append(labels.cpu().numpy())\n",
    "\n",
    "    all_outputs = np.concatenate(all_outputs)\n",
    "    all_labels = np.concatenate(all_labels)\n",
    "    auc = roc_auc_score(all_labels, all_outputs)\n",
    "    print(f\"Validation ROC AUC: {auc:.4f}\")\n",
    "    return auc\n",
    "\n",
    "def find_optimal_threshold_after_training(model, valid_loader, mean, std):\n",
    "    \n",
    "    all_outputs = []\n",
    "    all_labels = []\n",
    "\n",
    "    # Add tqdm progress bar for validation loop\n",
    "    valid_loader_tqdm = tqdm(valid_loader, desc=\"Finding Optimal Threshold\")\n",
    "\n",
    "    with th.no_grad():\n",
    "        for features, labels in valid_loader_tqdm:\n",
    "            features = features.to(device)\n",
    "            labels = labels.to(device).float()\n",
    "            features = (features - mean) / std\n",
    "            outputs = model(features).view(-1).cpu().numpy()\n",
    "            all_outputs.append(outputs)\n",
    "            all_labels.append(labels.cpu().numpy())\n",
    "\n",
    "    all_outputs = np.concatenate(all_outputs)\n",
    "    all_labels = np.concatenate(all_labels)\n",
    "\n",
    "    fpr, tpr, thresholds = roc_curve(all_labels, all_outputs)\n",
    "    youdens_j = tpr - fpr\n",
    "    idx = np.argmax(youdens_j)\n",
    "    optimal_threshold = thresholds[idx]\n",
    "\n",
    "    print(f\"Optimal threshold found: {optimal_threshold:.4f}\")\n",
    "    return optimal_threshold\n",
    "\n",
    "def compute_confusion_matrix(model, valid_loader, threshold, mean, std):\n",
    "    \"\"\"\n",
    "    Compute confusion matrix using batch processing.\n",
    "\n",
    "    Parameters:\n",
    "        model (torch.nn.Module): The trained model.\n",
    "        valid_loader (DataLoader): DataLoader for validation data.\n",
    "        threshold (float): Threshold to convert probabilities to binary predictions.\n",
    "        mean (torch.Tensor): Mean for normalization.\n",
    "        std (torch.Tensor): Standard deviation for normalization.\n",
    "\n",
    "    Returns:\n",
    "        cm (numpy.ndarray): Confusion matrix.\n",
    "    \"\"\"\n",
    "    all_outputs = []\n",
    "    all_labels = []\n",
    "\n",
    "    # Add tqdm progress bar for validation loop\n",
    "    valid_loader_tqdm = tqdm(valid_loader, desc=\"Computing Confusion Matrix\")\n",
    "\n",
    "    with th.no_grad():\n",
    "        for features, labels in valid_loader_tqdm:\n",
    "            features = features.to(device)\n",
    "            labels = labels.cpu().numpy()\n",
    "            features = (features - mean) / std\n",
    "            outputs = model(features).view(-1).cpu().numpy()\n",
    "            all_outputs.append(outputs)\n",
    "            all_labels.append(labels)\n",
    "\n",
    "    all_outputs = np.concatenate(all_outputs)\n",
    "    all_labels = np.concatenate(all_labels)\n",
    "\n",
    "    predictions = (all_outputs >= threshold).astype(int)\n",
    "    cm = confusion_matrix(all_labels, predictions)\n",
    "\n",
    "    return cm\n",
    "\n",
    "def display_confusion_matrix(cm):\n",
    "    \"\"\"\n",
    "    Displays the confusion matrix using matplotlib.\n",
    "\n",
    "    Parameters:\n",
    "        cm (numpy.ndarray): Confusion matrix.\n",
    "    \"\"\"\n",
    "    disp = ConfusionMatrixDisplay(confusion_matrix=cm, display_labels=[0, 1])\n",
    "    disp.plot(cmap='magma')\n",
    "    plt.title('Confusion Matrix')\n",
    "    plt.show()"
   ],
   "id": "42e303038974af31",
   "outputs": [],
   "execution_count": 19
  },
  {
   "metadata": {
    "ExecuteTime": {
     "end_time": "2024-10-14T16:01:24.873556Z",
     "start_time": "2024-10-14T16:01:01.933556Z"
    }
   },
   "cell_type": "code",
   "source": [
    "mean, std = utils.compute_mean_std(train_loader)\n",
    "mean = mean.to(device)\n",
    "std = std.to(device)"
   ],
   "id": "6e0c05f63a21d839",
   "outputs": [
    {
     "name": "stderr",
     "output_type": "stream",
     "text": [
      "Computing mean and std: 100%|██████████| 3/3 [00:22<00:00,  7.64s/it]\n"
     ]
    }
   ],
   "execution_count": 20
  },
  {
   "metadata": {
    "ExecuteTime": {
     "end_time": "2024-10-14T16:06:06.665772Z",
     "start_time": "2024-10-14T16:01:46.240547Z"
    }
   },
   "cell_type": "code",
   "source": [
    "epochs = 2\n",
    "lr = 3e-4\n",
    "\n",
    "optimizer = th.optim.Adam(model.parameters(), lr=1e-4, weight_decay=1e-5)\n",
    "criterion = th.nn.BCELoss()\n",
    "\n",
    "best_threshold, best_score = train_model(\n",
    "    model, optimizer, criterion, train_loader, valid_loader,\n",
    "    epochs=10, mean=mean, std=std, patience=3\n",
    ")\n",
    "\n",
    "print(f\"Training completed. Best ROC AUC: {best_score:.4f}, Optimal Threshold: {best_threshold:.4f}\")"
   ],
   "id": "ef962832158050cd",
   "outputs": [
    {
     "name": "stderr",
     "output_type": "stream",
     "text": [
      "/Users/borosabel/lib/python3.9/site-packages/urllib3/__init__.py:35: NotOpenSSLWarning: urllib3 v2 only supports OpenSSL 1.1.1+, currently the 'ssl' module is compiled with 'LibreSSL 2.8.3'. See: https://github.com/urllib3/urllib3/issues/3020\n",
      "  warnings.warn(\n",
      "Epoch [1/10] Training: 100%|██████████| 3/3 [00:23<00:00,  7.72s/it, loss=0.621]\n"
     ]
    },
    {
     "name": "stdout",
     "output_type": "stream",
     "text": [
      "Epoch [1/10], Loss: 0.6600\n"
     ]
    },
    {
     "name": "stderr",
     "output_type": "stream",
     "text": [
      "Validation: 100%|██████████| 1/1 [00:07<00:00,  7.73s/it]\n"
     ]
    },
    {
     "name": "stdout",
     "output_type": "stream",
     "text": [
      "Validation ROC AUC: 0.8788\n",
      "New best ROC AUC score: 0.8788, model saved.\n"
     ]
    },
    {
     "name": "stderr",
     "output_type": "stream",
     "text": [
      "Epoch [2/10] Training: 100%|██████████| 3/3 [00:22<00:00,  7.60s/it, loss=0.543]\n"
     ]
    },
    {
     "name": "stdout",
     "output_type": "stream",
     "text": [
      "Epoch [2/10], Loss: 0.5299\n"
     ]
    },
    {
     "name": "stderr",
     "output_type": "stream",
     "text": [
      "Validation: 100%|██████████| 1/1 [00:07<00:00,  7.70s/it]\n"
     ]
    },
    {
     "name": "stdout",
     "output_type": "stream",
     "text": [
      "Validation ROC AUC: 0.9400\n",
      "New best ROC AUC score: 0.9400, model saved.\n"
     ]
    },
    {
     "name": "stderr",
     "output_type": "stream",
     "text": [
      "Epoch [3/10] Training: 100%|██████████| 3/3 [00:22<00:00,  7.64s/it, loss=0.452]\n"
     ]
    },
    {
     "name": "stdout",
     "output_type": "stream",
     "text": [
      "Epoch [3/10], Loss: 0.4522\n"
     ]
    },
    {
     "name": "stderr",
     "output_type": "stream",
     "text": [
      "Validation: 100%|██████████| 1/1 [00:07<00:00,  7.61s/it]\n"
     ]
    },
    {
     "name": "stdout",
     "output_type": "stream",
     "text": [
      "Validation ROC AUC: 0.8485\n"
     ]
    },
    {
     "name": "stderr",
     "output_type": "stream",
     "text": [
      "Epoch [4/10] Training: 100%|██████████| 3/3 [00:22<00:00,  7.59s/it, loss=0.45] \n"
     ]
    },
    {
     "name": "stdout",
     "output_type": "stream",
     "text": [
      "Epoch [4/10], Loss: 0.3726\n"
     ]
    },
    {
     "name": "stderr",
     "output_type": "stream",
     "text": [
      "Validation: 100%|██████████| 1/1 [00:07<00:00,  7.76s/it]\n"
     ]
    },
    {
     "name": "stdout",
     "output_type": "stream",
     "text": [
      "Validation ROC AUC: 0.8854\n"
     ]
    },
    {
     "name": "stderr",
     "output_type": "stream",
     "text": [
      "Epoch [5/10] Training: 100%|██████████| 3/3 [00:22<00:00,  7.61s/it, loss=0.291]\n"
     ]
    },
    {
     "name": "stdout",
     "output_type": "stream",
     "text": [
      "Epoch [5/10], Loss: 0.4191\n"
     ]
    },
    {
     "name": "stderr",
     "output_type": "stream",
     "text": [
      "Validation: 100%|██████████| 1/1 [00:07<00:00,  7.70s/it]\n"
     ]
    },
    {
     "name": "stdout",
     "output_type": "stream",
     "text": [
      "Validation ROC AUC: 1.0000\n",
      "New best ROC AUC score: 1.0000, model saved.\n"
     ]
    },
    {
     "name": "stderr",
     "output_type": "stream",
     "text": [
      "Epoch [6/10] Training: 100%|██████████| 3/3 [00:22<00:00,  7.62s/it, loss=0.401]\n"
     ]
    },
    {
     "name": "stdout",
     "output_type": "stream",
     "text": [
      "Epoch [6/10], Loss: 0.3650\n"
     ]
    },
    {
     "name": "stderr",
     "output_type": "stream",
     "text": [
      "Validation: 100%|██████████| 1/1 [00:07<00:00,  7.82s/it]\n"
     ]
    },
    {
     "name": "stdout",
     "output_type": "stream",
     "text": [
      "Validation ROC AUC: 0.9798\n"
     ]
    },
    {
     "name": "stderr",
     "output_type": "stream",
     "text": [
      "Epoch [7/10] Training: 100%|██████████| 3/3 [00:22<00:00,  7.60s/it, loss=0.403]\n"
     ]
    },
    {
     "name": "stdout",
     "output_type": "stream",
     "text": [
      "Epoch [7/10], Loss: 0.4343\n"
     ]
    },
    {
     "name": "stderr",
     "output_type": "stream",
     "text": [
      "Validation: 100%|██████████| 1/1 [00:07<00:00,  7.60s/it]\n"
     ]
    },
    {
     "name": "stdout",
     "output_type": "stream",
     "text": [
      "Validation ROC AUC: 0.9479\n"
     ]
    },
    {
     "name": "stderr",
     "output_type": "stream",
     "text": [
      "Epoch [8/10] Training: 100%|██████████| 3/3 [00:22<00:00,  7.54s/it, loss=0.306]\n"
     ]
    },
    {
     "name": "stdout",
     "output_type": "stream",
     "text": [
      "Epoch [8/10], Loss: 0.2584\n"
     ]
    },
    {
     "name": "stderr",
     "output_type": "stream",
     "text": [
      "Validation: 100%|██████████| 1/1 [00:07<00:00,  7.74s/it]\n"
     ]
    },
    {
     "name": "stdout",
     "output_type": "stream",
     "text": [
      "Validation ROC AUC: 0.8750\n",
      "No improvement in ROC AUC score for 3 epochs. Stopping training.\n"
     ]
    },
    {
     "name": "stderr",
     "output_type": "stream",
     "text": [
      "Finding Optimal Threshold: 100%|██████████| 1/1 [00:07<00:00,  7.58s/it]\n"
     ]
    },
    {
     "name": "stdout",
     "output_type": "stream",
     "text": [
      "Optimal threshold found: 0.5510\n"
     ]
    },
    {
     "name": "stderr",
     "output_type": "stream",
     "text": [
      "Computing Confusion Matrix: 100%|██████████| 1/1 [00:07<00:00,  7.56s/it]\n"
     ]
    },
    {
     "data": {
      "text/plain": [
       "<Figure size 640x480 with 2 Axes>"
      ],
      "image/png": "[encoded data removed]"
     },
     "metadata": {},
     "output_type": "display_data"
    },
    {
     "name": "stdout",
     "output_type": "stream",
     "text": [
      "Training completed. Best ROC AUC: 1.0000, Optimal Threshold: 0.5510\n"
     ]
    }
   ],
   "execution_count": 21
  },
  {
   "metadata": {
    "ExecuteTime": {
     "end_time": "2024-10-14T16:32:13.267191Z",
     "start_time": "2024-10-14T16:32:13.258298Z"
    }
   },
   "cell_type": "code",
   "source": [
    "def manual_evaluate_test(model, feature, threshold, frame_size=utils.NUM_FRAMES, sampling_rate=utils.SAMPLING_RATE, hop_length=utils.HOP_LENGTH, mean=None, std=None, step_size=None, filter_time_sec=1):\n",
    "    \"\"\"\n",
    "    Manually evaluate the model on an audio feature, returning time positions where gunshots are detected.\n",
    "\n",
    "    Parameters:\n",
    "        model: The trained model.\n",
    "        feature: The feature (e.g., spectrogram) to evaluate.\n",
    "        threshold: The prediction threshold for gunshots.\n",
    "        frame_size: Number of frames to use in each evaluation.\n",
    "        sampling_rate: Audio sampling rate.\n",
    "        hop_length: Hop length in samples for each frame.\n",
    "        mean: Mean for normalization.\n",
    "        std: Standard deviation for normalization.\n",
    "        step_size: Step size for moving through frames (default: frame_size // 2).\n",
    "        filter_time_sec: Time (in seconds) to filter out close consecutive predictions.\n",
    "    \n",
    "    Returns:\n",
    "        List of tuples (minutes, seconds, output) where gunshots are detected along with the model's output.\n",
    "    \"\"\"\n",
    "    if mean is None or std is None:\n",
    "        raise ValueError(\"Mean and std must be provided for normalization.\")\n",
    "\n",
    "    mean = mean.to(device)\n",
    "    std = std.to(device)\n",
    "    model = model.to(device)\n",
    "    model.eval()\n",
    "\n",
    "    predictions = []\n",
    "    \n",
    "    feature = feature.to(device)\n",
    "    feature = (feature - mean) / std\n",
    "\n",
    "    num_frames = feature.shape[2]\n",
    "\n",
    "    if step_size is None:\n",
    "        step_size = 1\n",
    "\n",
    "    total_iterations = 0\n",
    "\n",
    "    with th.no_grad():\n",
    "        for j in range(0, num_frames - frame_size + 1, step_size):\n",
    "            total_iterations += 1\n",
    "            start = j\n",
    "            end = j + frame_size\n",
    "\n",
    "            input_frame = feature[:, :, start:end].unsqueeze(0).float()\n",
    "            output = model(input_frame).squeeze().item()\n",
    "            predictions.append((output, start))\n",
    "    \n",
    "        print(\"Number of predictions\", len(predictions))\n",
    "        \n",
    "        res = []\n",
    "        for output, start in predictions:\n",
    "            if output >= threshold:\n",
    "                time_in_seconds = start * hop_length / sampling_rate\n",
    "                minutes = int(time_in_seconds // 60)\n",
    "                seconds = time_in_seconds % 60\n",
    "                res.append((minutes, seconds, time_in_seconds, output))\n",
    "                \n",
    "        print(\"Number of results after comapring against the threshold:\", len(res))\n",
    "        \n",
    "    filtered_res = []\n",
    "    last_detection_time = -float('inf')\n",
    "\n",
    "    for minutes, seconds, time_in_seconds, output in res:\n",
    "        if time_in_seconds - last_detection_time >= filter_time_sec:\n",
    "            filtered_res.append((minutes, seconds, output))\n",
    "            last_detection_time = time_in_seconds\n",
    "\n",
    "    return filtered_res"
   ],
   "id": "ea86cce6c341bad9",
   "outputs": [],
   "execution_count": 71
  },
  {
   "metadata": {
    "ExecuteTime": {
     "end_time": "2024-10-14T16:32:29.868235Z",
     "start_time": "2024-10-14T16:32:14.310197Z"
    }
   },
   "cell_type": "code",
   "source": [
    "spectrograms, sample_rates = utils.preprocess_audio(['/Users/borosabel/Documents/Uni/Thesis/PopMIR/M.I.A. - Paper Planes.mp3'])\n",
    "\n",
    "print(f\"Got back spectogram in shape: {spectrograms[0].shape} and sample rate: {sample_rates}\")\n",
    "\n",
    "predictions = manual_evaluate_test(model, spectrograms[0], threshold=best_threshold, mean=mean, std=std, step_size=1,\n",
    "                                   filter_time_sec=1.5)\n",
    "\n",
    "if(len(predictions) > 0):\n",
    "    print(f\"Current treshold is {best_threshold} \\n\")\n",
    "    \n",
    "    for minutes, seconds, output in predictions:\n",
    "        print(f\"Detected gunshot at {minutes}m {seconds:.2f}s with model output: {output:.4f}\")\n",
    "else:\n",
    "    print(\"No predictions\")"
   ],
   "id": "d52be314e2a0f275",
   "outputs": [
    {
     "name": "stderr",
     "output_type": "stream",
     "text": [
      "100%|██████████| 1/1 [00:01<00:00,  1.57s/it]\n"
     ]
    },
    {
     "name": "stdout",
     "output_type": "stream",
     "text": [
      "Got back spectogram in shape: torch.Size([3, 81, 17601]) and sample rate: [44100]\n",
      "Number of predictions 17516\n",
      "Number of results after comapring against the threshold: 0\n",
      "No predictions\n"
     ]
    }
   ],
   "execution_count": 72
  },
  {
   "metadata": {},
   "cell_type": "markdown",
   "source": "<b>This is for manual checking</b>",
   "id": "2b634f052a76b536"
  },
  {
   "metadata": {
    "ExecuteTime": {
     "end_time": "2024-10-14T16:38:25.867508Z",
     "start_time": "2024-10-14T16:38:23.869169Z"
    }
   },
   "cell_type": "code",
   "source": [
    "def process_and_predict(model, audio_path, start_time_sec, mean, std, threshold=best_threshold):\n",
    "\n",
    "    # Extract the waveform and the audio sample\n",
    "    waveform, sample, sample_rate = utils.extract_sample_at_time(audio_path, start_time_sec)\n",
    "\n",
    "    print(f\"Playing the audio sample from {start_time_sec:.2f} seconds.\")\n",
    "    play(sample)\n",
    "\n",
    "    mean = mean.to(device)\n",
    "    std = std.to(device)\n",
    "    model = model.to(device)\n",
    "    waveform = waveform.to(device)\n",
    "\n",
    "    mel_spectrogram = utils.calculate_melbands(waveform[0], sample_rate)\n",
    "    mel_spectrogram = (mel_spectrogram - mean) / std\n",
    "\n",
    "    # Reshape and feed to model\n",
    "    with th.no_grad():\n",
    "        input_tensor = mel_spectrogram.unsqueeze(0).float()\n",
    "        output = model(input_tensor).squeeze().item()\n",
    "\n",
    "    if output >= threshold:\n",
    "        prediction = \"Gunshot\"\n",
    "    else:\n",
    "        prediction = \"No Gunshot\"\n",
    "\n",
    "    print(f\"Model Prediction: {prediction} with output: {output}\")\n",
    "    return prediction\n",
    "\n",
    "audio_path = './M.I.A. - Paper Planes.mp3'\n",
    "# audio_path = '''./2Pac - Hit 'Em Up (Dirty) (Music Video) HD.mp3'''\n",
    "# audio_path = './50 Cent - Many Men (Wish Death) (Dirty Version).mp3'\n",
    "\n",
    "prediction = process_and_predict(model, audio_path, start_time_sec=44.4, mean=mean, std=std)"
   ],
   "id": "f6829671136a676d",
   "outputs": [
    {
     "name": "stdout",
     "output_type": "stream",
     "text": [
      "0.55103946\n",
      "Playing the audio sample from 44.40 seconds.\n"
     ]
    },
    {
     "name": "stderr",
     "output_type": "stream",
     "text": [
      "Input #0, wav, from '/var/folders/99/617f3z715_g8nc26tll89ddc0000gn/T/tmp1zqfo1ui.wav':\n",
      "  Duration: 00:00:00.99, bitrate: 1411 kb/s\n",
      "  Stream #0:0: Audio: pcm_s16le ([1][0][0][0] / 0x0001), 44100 Hz, 2 channels, s16, 1411 kb/s\n",
      "   0.90 M-A:  0.000 fd=   0 aq=    0KB vq=    0KB sq=    0B \r"
     ]
    },
    {
     "name": "stdout",
     "output_type": "stream",
     "text": [
      "\n",
      "Model Prediction: No Gunshot with output: 0.03707350417971611\n"
     ]
    }
   ],
   "execution_count": 76
  },
  {
   "metadata": {},
   "cell_type": "code",
   "outputs": [],
   "execution_count": null,
   "source": "",
   "id": "27636f58225dd367"
  }
 ],
 "metadata": {
  "kernelspec": {
   "display_name": "Python 3",
   "language": "python",
   "name": "python3"
  },
  "language_info": {
   "codemirror_mode": {
    "name": "ipython",
    "version": 2
   },
   "file_extension": ".py",
   "mimetype": "text/x-python",
   "name": "python",
   "nbconvert_exporter": "python",
   "pygments_lexer": "ipython2",
   "version": "2.7.6"
  }
 },
 "nbformat": 4,
 "nbformat_minor": 5
}
