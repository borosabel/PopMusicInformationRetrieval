{
 "cells": [
  {
   "cell_type": "code",
   "id": "initial_id",
   "metadata": {
    "collapsed": true,
    "ExecuteTime": {
     "end_time": "2025-05-07T20:17:50.012470Z",
     "start_time": "2025-05-07T20:17:49.626007Z"
    }
   },
   "source": [
    "import spacy\n",
    "spacy_nlp = spacy.load(\"en_core_web_sm\")\n",
    "import utility_functions_topic_modeling as utils\n",
    "import importlib\n",
    "import pandas as pd\n",
    "import seaborn as sns\n",
    "\n",
    "\n",
    "# Text processing\n",
    "from gensim import corpora\n",
    "\n",
    "# Visualization\n",
    "import pyLDAvis\n",
    "import pyLDAvis.gensim_models as gensimvis\n",
    "import matplotlib.pyplot as plt\n",
    "\n",
    "importlib.reload(utils)\n",
    "\n",
    "data_path = '../Data/dataframes/preprocessed_df.pkl'"
   ],
   "outputs": [],
   "execution_count": 2
  },
  {
   "metadata": {
    "ExecuteTime": {
     "end_time": "2025-05-07T20:17:50.050649Z",
     "start_time": "2025-05-07T20:17:50.022970Z"
    }
   },
   "cell_type": "code",
   "source": [
    "df = pd.read_pickle(data_path)\n",
    "df[['Artist', 'Song', 'Tokens', 'Lyrics', 'Coast']].head()"
   ],
   "id": "f2660c040bd72de1",
   "outputs": [
    {
     "data": {
      "text/plain": [
       "  Artist                       Song  \\\n",
       "0  Big L             8 Iz Enuff.mp3   \n",
       "1  Big L           Da Graveyard.mp3   \n",
       "2  Big L  I Don't Understand It.mp3   \n",
       "3  Big L      No Endz, No Skinz.mp3   \n",
       "4  Big L                    MVP.mp3   \n",
       "\n",
       "                                              Tokens  \\\n",
       "0  [crew, house, bless, big, mike, imma, set, fol...   \n",
       "1  [number, one, crew, big, nigga, men, win, kill...   \n",
       "2  [many, mcs, ask, even, supposed, make, rap, kn...   \n",
       "3  [let, point, real, quick, pocket, thick, mad, ...   \n",
       "4  [pass, make, quick, money, grip, ass, street, ...   \n",
       "\n",
       "                                              Lyrics       Coast  \n",
       "0  \\n\\nYo\\nMy crew is in the house\\nTerra, Herb M...  east_coast  \n",
       "1  \\n\\n[Intro:]\\nIt's the number one crew in the ...  east_coast  \n",
       "2  \\n\\n[Verse 1]\\nThere are too many MC's who are...  east_coast  \n",
       "3  \\n\\n[Verse 1:]\\nLet me get to the point real q...  east_coast  \n",
       "4  \\n\\n[Big L]\\n A yo spark up the phillies and p...  east_coast  "
      ],
      "text/html": [
       "<div>\n",
       "<style scoped>\n",
       "    .dataframe tbody tr th:only-of-type {\n",
       "        vertical-align: middle;\n",
       "    }\n",
       "\n",
       "    .dataframe tbody tr th {\n",
       "        vertical-align: top;\n",
       "    }\n",
       "\n",
       "    .dataframe thead th {\n",
       "        text-align: right;\n",
       "    }\n",
       "</style>\n",
       "<table border=\"1\" class=\"dataframe\">\n",
       "  <thead>\n",
       "    <tr style=\"text-align: right;\">\n",
       "      <th></th>\n",
       "      <th>Artist</th>\n",
       "      <th>Song</th>\n",
       "      <th>Tokens</th>\n",
       "      <th>Lyrics</th>\n",
       "      <th>Coast</th>\n",
       "    </tr>\n",
       "  </thead>\n",
       "  <tbody>\n",
       "    <tr>\n",
       "      <th>0</th>\n",
       "      <td>Big L</td>\n",
       "      <td>8 Iz Enuff.mp3</td>\n",
       "      <td>[crew, house, bless, big, mike, imma, set, fol...</td>\n",
       "      <td>\\n\\nYo\\nMy crew is in the house\\nTerra, Herb M...</td>\n",
       "      <td>east_coast</td>\n",
       "    </tr>\n",
       "    <tr>\n",
       "      <th>1</th>\n",
       "      <td>Big L</td>\n",
       "      <td>Da Graveyard.mp3</td>\n",
       "      <td>[number, one, crew, big, nigga, men, win, kill...</td>\n",
       "      <td>\\n\\n[Intro:]\\nIt's the number one crew in the ...</td>\n",
       "      <td>east_coast</td>\n",
       "    </tr>\n",
       "    <tr>\n",
       "      <th>2</th>\n",
       "      <td>Big L</td>\n",
       "      <td>I Don't Understand It.mp3</td>\n",
       "      <td>[many, mcs, ask, even, supposed, make, rap, kn...</td>\n",
       "      <td>\\n\\n[Verse 1]\\nThere are too many MC's who are...</td>\n",
       "      <td>east_coast</td>\n",
       "    </tr>\n",
       "    <tr>\n",
       "      <th>3</th>\n",
       "      <td>Big L</td>\n",
       "      <td>No Endz, No Skinz.mp3</td>\n",
       "      <td>[let, point, real, quick, pocket, thick, mad, ...</td>\n",
       "      <td>\\n\\n[Verse 1:]\\nLet me get to the point real q...</td>\n",
       "      <td>east_coast</td>\n",
       "    </tr>\n",
       "    <tr>\n",
       "      <th>4</th>\n",
       "      <td>Big L</td>\n",
       "      <td>MVP.mp3</td>\n",
       "      <td>[pass, make, quick, money, grip, ass, street, ...</td>\n",
       "      <td>\\n\\n[Big L]\\n A yo spark up the phillies and p...</td>\n",
       "      <td>east_coast</td>\n",
       "    </tr>\n",
       "  </tbody>\n",
       "</table>\n",
       "</div>"
      ]
     },
     "execution_count": 3,
     "metadata": {},
     "output_type": "execute_result"
    }
   ],
   "execution_count": 3
  },
  {
   "metadata": {
    "ExecuteTime": {
     "end_time": "2025-05-07T20:17:51.231791Z",
     "start_time": "2025-05-07T20:17:51.145712Z"
    }
   },
   "cell_type": "code",
   "source": [
    "# Create a dictionary representation of the documents\n",
    "dictionary = corpora.Dictionary(df['Tokens'])\n",
    "dictionary.filter_extremes(no_below=5, no_above=0.5)\n",
    "print(f\"Number of unique tokens: {len(dictionary)}\")"
   ],
   "id": "143514f57d9c8a2e",
   "outputs": [
    {
     "name": "stdout",
     "output_type": "stream",
     "text": [
      "Number of unique tokens: 921\n"
     ]
    }
   ],
   "execution_count": 4
  },
  {
   "metadata": {
    "ExecuteTime": {
     "end_time": "2025-05-07T20:17:51.981432Z",
     "start_time": "2025-05-07T20:17:51.925220Z"
    }
   },
   "cell_type": "code",
   "source": [
    "# Convert documents to a bag-of-words representation\n",
    "corpus = [dictionary.doc2bow(text) for text in df['Tokens']]"
   ],
   "id": "1d16f9c2c26ac682",
   "outputs": [],
   "execution_count": 5
  },
  {
   "metadata": {
    "ExecuteTime": {
     "end_time": "2025-05-07T20:18:17.730743Z",
     "start_time": "2025-05-07T20:17:52.852313Z"
    }
   },
   "cell_type": "code",
   "source": [
    "start = 2\n",
    "limit = 6\n",
    "step = 1\n",
    "chunksize = 200\n",
    "passes = 15\n",
    "iterations = 100\n",
    "eval_every = 10\n",
    "\n",
    "model_list, coherence_values = utils.compute_coherence_values(\n",
    "    dictionary=dictionary,\n",
    "    corpus=corpus,\n",
    "    texts=df['Tokens'],\n",
    "    start=start,\n",
    "    limit=limit,\n",
    "    step=step,\n",
    "    chunksize=chunksize,\n",
    "    passes=passes,\n",
    "    iterations=iterations,\n",
    "    eval_every=eval_every\n",
    ")"
   ],
   "id": "fbbef797391c9dbc",
   "outputs": [
    {
     "name": "stderr",
     "output_type": "stream",
     "text": [
      "Computing coherence: 100%|██████████| 4/4 [00:24<00:00,  6.21s/it]\n"
     ]
    }
   ],
   "execution_count": 6
  },
  {
   "metadata": {
    "ExecuteTime": {
     "end_time": "2025-05-07T20:18:33.886641Z",
     "start_time": "2025-05-07T20:18:33.732771Z"
    }
   },
   "cell_type": "code",
   "source": [
    "# Prepare data for Seaborn\n",
    "x = list(range(start, limit, step))\n",
    "\n",
    "# Create a barplot with Seaborn\n",
    "plt.figure(figsize=(10, 6))\n",
    "sns.barplot(x=x, y=coherence_values)\n",
    "\n",
    "# Set plot labels and title\n",
    "plt.xlabel(\"Number of Topics\")\n",
    "plt.ylabel(\"Coherence Score\")\n",
    "plt.title(\"Coherence Scores for Different Numbers of Topics\")\n",
    "\n",
    "plt.xticks(ticks=range(start, limit, step))\n",
    "\n",
    "plt.show()"
   ],
   "id": "1d615cd04185e696",
   "outputs": [
    {
     "data": {
      "text/plain": [
       "<Figure size 1000x600 with 1 Axes>"
      ],
      "image/png": "[encoded data removed]"
     },
     "metadata": {},
     "output_type": "display_data"
    }
   ],
   "execution_count": 7
  },
  {
   "metadata": {
    "ExecuteTime": {
     "end_time": "2025-05-07T20:18:41.696503Z",
     "start_time": "2025-05-07T20:18:41.692910Z"
    }
   },
   "cell_type": "code",
   "source": [
    "# Select the model with highest coherence\n",
    "optimal_index = coherence_values.index(max(coherence_values))\n",
    "optimal_model = model_list[optimal_index]\n",
    "optimal_num_topics = x[optimal_index]\n",
    "\n",
    "print(f'Optimal Number of Topics: {optimal_num_topics}')\n",
    "print(f'Highest Coherence Score: {coherence_values[optimal_index]:.4f}')"
   ],
   "id": "48071e2fe87f2f30",
   "outputs": [
    {
     "name": "stdout",
     "output_type": "stream",
     "text": [
      "Optimal Number of Topics: 4\n",
      "Highest Coherence Score: 0.2839\n"
     ]
    }
   ],
   "execution_count": 8
  },
  {
   "metadata": {
    "ExecuteTime": {
     "end_time": "2025-05-07T20:18:45.655909Z",
     "start_time": "2025-05-07T20:18:43.994454Z"
    }
   },
   "cell_type": "code",
   "source": [
    "# Prepare the visualization\n",
    "pyLDAvis.enable_notebook()\n",
    "vis = gensimvis.prepare(optimal_model, corpus, dictionary)\n",
    "\n",
    "# Display the visualization\n",
    "pyLDAvis.display(vis)"
   ],
   "id": "93cc9fae3837ae9e",
   "outputs": [
    {
     "data": {
      "text/plain": [
       "<IPython.core.display.HTML object>"
      ],
      "text/html": [
       "\n",
       "<link rel=\"stylesheet\" type=\"text/css\" href=\"https://cdn.jsdelivr.net/gh/bmabey/pyLDAvis@3.4.0/pyLDAvis/js/ldavis.v1.0.0.css\">\n",
       "\n",
       "\n",
       "<div id=\"ldavis_el3536762800825921418885945\" style=\"background-color:white;\"></div>\n",
       "<script type=\"text/javascript\">\n",
       "\n",
       "var ldavis_el3536762800825921418885945_data = {\"mdsDat\": {\"x\": [0.07810851542654342, 0.10119288090293364, -0.022179415269682357, -0.1571219810597946], \"y\": [0.05356961280843161, -0.11562634066951816, 0.1279566274043595, -0.0658998995432729], \"topics\": [1, 2, 3, 4], \"cluster\": [1, 1, 1, 1], \"Freq\": [28.385579451455, 27.132239813659766, 26.318812297724598, 18.16336843716064]}, \"tinfo\": {\"Term\": [\"fuck\", \"bitch\", \"motherfucker\", \"ass\", \"rhyme\", \"girl\", \"baby\", \"said\", \"live\", \"life\", \"mic\", \"rap\", \"would\", \"rock\", \"love\", \"hoe\", \"la\", \"around\", \"good\", \"look\", \"world\", \"freak\", \"die\", \"mc\", \"gangster\", \"dog\", \"god\", \"party\", \"dick\", \"record\", \"rhyme\", \"mic\", \"la\", \"mc\", \"mcs\", \"microphone\", \"jam\", \"wack\", \"beats\", \"stage\", \"radio\", \"groove\", \"rhythm\", \"def\", \"plug\", \"effect\", \"skills\", \"lyrics\", \"tribe\", \"flavor\", \"party\", \"raps\", \"wreck\", \"crowd\", \"music\", \"swing\", \"wax\", \"dj\", \"rock\", \"record\", \"hip\", \"hop\", \"sound\", \"rap\", \"style\", \"funk\", \"yes\", \"beat\", \"flow\", \"funky\", \"move\", \"sucker\", \"track\", \"cut\", \"kick\", \"check\", \"stop\", \"new\", \"keep\", \"word\", \"play\", \"step\", \"way\", \"give\", \"show\", \"us\", \"hit\", \"well\", \"think\", \"brother\", \"fuck\", \"gat\", \"murder\", \"trigger\", \"glock\", \"clip\", \"niggas\", \"bang\", \"creep\", \"mob\", \"clique\", \"bitch\", \"motherfucker\", \"compton\", \"buck\", \"gangster\", \"ass\", \"hole\", \"thang\", \"bounce\", \"criminal\", \"police\", \"plot\", \"south\", \"cock\", \"platinum\", \"gang\", \"spit\", \"cube\", \"click\", \"hoe\", \"loot\", \"dog\", \"punk\", \"blast\", \"hood\", \"roll\", \"gun\", \"wit\", \"fool\", \"hit\", \"smoke\", \"game\", \"dick\", \"real\", \"cop\", \"put\", \"give\", \"drop\", \"street\", \"quick\", \"ice\", \"kill\", \"money\", \"run\", \"talk\", \"bust\", \"shot\", \"crew\", \"straight\", \"head\", \"still\", \"big\", \"trapped\", \"rise\", \"heaven\", \"grow\", \"sky\", \"survive\", \"ghetto\", \"war\", \"instead\", \"pain\", \"lord\", \"escape\", \"cry\", \"tears\", \"family\", \"enemy\", \"live\", \"pray\", \"teach\", \"thug\", \"different\", \"earth\", \"hustle\", \"bless\", \"drug\", \"race\", \"life\", \"explain\", \"god\", \"blame\", \"world\", \"eye\", \"change\", \"love\", \"many\", \"die\", \"high\", \"feel\", \"every\", \"day\", \"black\", \"remember\", \"heart\", \"death\", \"mind\", \"brother\", \"us\", \"mom\", \"thing\", \"people\", \"stay\", \"even\", \"would\", \"keep\", \"right\", \"still\", \"hard\", \"could\", \"look\", \"way\", \"street\", \"baby\", \"think\", \"grabbed\", \"asked\", \"freaky\", \"girl\", \"rub\", \"saw\", \"sister\", \"met\", \"sex\", \"hort\", \"naked\", \"butt\", \"named\", \"freak\", \"kiss\", \"legs\", \"booty\", \"pipe\", \"lips\", \"food\", \"okay\", \"said\", \"guy\", \"pimp\", \"honey\", \"hat\", \"went\", \"threw\", \"fine\", \"jumped\", \"car\", \"baby\", \"good\", \"around\", \"hey\", \"little\", \"player\", \"please\", \"would\", \"look\", \"call\", \"big\", \"took\", \"cool\", \"tried\", \"homie\", \"play\", \"house\", \"ride\", \"way\", \"walk\", \"talk\", \"money\", \"tell\", \"start\", \"could\", \"need\", \"love\", \"right\", \"name\", \"well\"], \"Freq\": [2857.0, 2028.0, 1736.0, 1432.0, 1030.0, 901.0, 1113.0, 979.0, 1097.0, 993.0, 545.0, 876.0, 1214.0, 700.0, 1214.0, 609.0, 402.0, 881.0, 630.0, 1184.0, 561.0, 332.0, 586.0, 327.0, 362.0, 473.0, 448.0, 338.0, 446.0, 384.0, 1029.9716066477608, 545.0569657368048, 401.60561833684227, 327.12760614803864, 242.70007547539646, 215.3258443903927, 186.37303142986667, 189.910866569841, 205.95701040387885, 113.05661298439668, 136.01868366598617, 109.19932403090537, 103.39852744136422, 92.54997455933852, 82.29829469015276, 77.23417801551217, 66.71038698210296, 165.73689810119777, 51.43209372238256, 112.4620733917188, 323.9838215539574, 118.21916958270096, 120.98356517740314, 127.85417211381872, 166.24040125627852, 177.19921319865273, 63.19940930988618, 107.4166901809288, 652.1323155485323, 357.2828510098619, 232.03625279124245, 216.77728461323244, 362.45844303184765, 728.9855247136209, 355.62232840819576, 301.28150746921773, 333.28915742693954, 447.8517320208519, 363.5702086698511, 316.61135080580436, 472.73088253733573, 324.1473592729635, 222.6209487091501, 283.43762535157646, 466.0187763052989, 478.8744539215036, 472.51237393428534, 422.96076236768323, 576.2939127949969, 378.5317021336043, 436.756444745147, 285.4144618954367, 443.99192456004687, 426.8667622933393, 283.7875987143518, 387.02804850768393, 366.0031263964336, 311.0764781814167, 321.3130139554431, 307.044063731174, 2856.5679897738414, 193.01581109906257, 155.74203720013892, 140.48276961711034, 103.60595460910002, 90.70677462748141, 76.16851065696838, 160.93621768733658, 109.60251951476879, 62.32427711103423, 49.847822396624494, 1978.003858148189, 1685.5784608435197, 96.0397321350213, 152.03766884308567, 339.98032181188165, 1336.0320274799005, 71.70338340548403, 96.83055390792572, 111.33074960546652, 59.990265486812056, 175.5200751280185, 40.01108491396415, 125.47257279268177, 66.3351313962308, 52.111301882890004, 133.44992629647493, 74.52753747079286, 112.11722432910872, 62.93884120048089, 512.9630849420424, 110.45842065889543, 370.17472379893877, 393.7950478037783, 141.89128939869698, 157.74012553791442, 590.2073196950008, 355.05232508381465, 357.6058879693213, 355.07186153195244, 670.997786251328, 337.13128594425507, 428.80218934204424, 282.40807720363847, 502.4625852608071, 195.84205023160473, 460.08047246084357, 530.489022796042, 284.26297828795396, 362.96066918057005, 210.8539530201333, 290.5606900859716, 267.84323810347877, 325.4381530790953, 338.1263811221706, 330.22582127641965, 259.93997398871005, 243.2854678705326, 244.77905839523925, 243.77160445517703, 260.3983602239945, 263.4992722134077, 254.39685434082125, 85.87949767010306, 83.65717366903418, 90.54157051638586, 85.87260259047902, 69.5288245555354, 75.06762669513496, 203.77079683317857, 153.02753397240977, 84.3466632445601, 205.46357871912048, 111.71393297381333, 55.32595955041955, 107.12042479931208, 67.84787769070819, 147.64525320475593, 133.05818210506874, 1000.241706547758, 60.55215410226389, 54.42494118994713, 278.9706068014263, 88.67992353373124, 91.04713001234049, 82.529555411797, 62.808279315889784, 120.40423391565898, 65.11837001937323, 845.1240134605132, 39.63682489082182, 378.1824549484296, 49.08783391951025, 464.2558974181979, 435.95427391684984, 192.22964707653404, 840.6837047618188, 328.1561455314492, 406.0273483754806, 401.3514179513934, 575.6044831063316, 456.94909879963745, 559.9804900945421, 460.00230134676315, 176.2932487326582, 182.5235323596751, 222.995063331865, 382.83259471024303, 443.1924281871531, 582.9071630639966, 158.72440198179086, 385.1820455927004, 334.9644390866304, 254.54277999894143, 350.35217296122187, 495.4720128515147, 474.16240460029053, 432.12117351016775, 379.05664072348503, 327.6293246744139, 363.8552517385732, 401.5090302781597, 416.215787702201, 318.47631179363736, 352.65653921637744, 325.97791326621626, 71.25132379296208, 48.45992532647897, 59.68567870019977, 811.3948310560551, 55.26974687870373, 111.9456727114738, 56.40699275427812, 101.4778012700603, 151.4548735963148, 169.71271453582725, 64.62232072695888, 119.88507156420641, 91.82887273704932, 277.3665653704286, 185.5768433949986, 46.66472586164585, 51.81343169399581, 83.80635042198482, 58.52266505887503, 51.661955130133116, 111.55704979919366, 771.7849531586747, 166.93933819846856, 173.23851640072996, 47.33047914887627, 44.89051875095242, 228.0589050834357, 45.793046166740474, 79.17575771542144, 54.146032040988054, 233.47717423017662, 737.8145445192763, 398.42227685331494, 485.473640013221, 253.9580136870485, 374.8796075868075, 130.23043191448514, 213.00163044676492, 559.9079342611059, 492.79591525745457, 423.8180596110268, 327.98606379610766, 178.76422173428293, 178.41853099901627, 171.10525670775652, 282.19501831111376, 371.23906049057257, 245.49990954057048, 228.2992745174575, 413.49322211029187, 207.94025246925438, 286.7999701450608, 265.1864487356685, 292.5012278997731, 229.53142376797288, 254.65727945097623, 243.76793669465337, 258.85613941785834, 243.65183793655822, 209.0371167198093, 213.62276387829928], \"Total\": [2857.0, 2028.0, 1736.0, 1432.0, 1030.0, 901.0, 1113.0, 979.0, 1097.0, 993.0, 545.0, 876.0, 1214.0, 700.0, 1214.0, 609.0, 402.0, 881.0, 630.0, 1184.0, 561.0, 332.0, 586.0, 327.0, 362.0, 473.0, 448.0, 338.0, 446.0, 384.0, 1030.777780991913, 545.8407939138148, 402.3464229139706, 327.86731904923414, 243.4272237884168, 216.07963374845323, 187.1183826765893, 190.720487890367, 207.0889106040325, 113.81276961211137, 136.9479778380742, 109.95154436452358, 104.13338952892653, 93.28459607123769, 83.03690985058265, 77.99070386179548, 67.44588531939154, 167.90750748518215, 52.207616667624414, 114.43157723982199, 338.1799938961358, 124.02950440745424, 127.42933944919092, 135.0235316534636, 176.21863853759325, 189.7370823014012, 67.87449176138966, 115.40138777910465, 700.8642566610741, 384.34175485215695, 250.42710111019886, 235.79377243000926, 400.5448780308442, 876.6150770758416, 411.9298372639581, 347.2869399444323, 395.14390684904924, 552.9489099195232, 459.43176868977224, 400.58204229439036, 662.0204664034034, 421.49898818056766, 267.40817343550117, 365.69383065507407, 718.5910056120597, 797.5303435782242, 782.4512311491013, 684.5505645161686, 1280.2585598033756, 692.8481353302068, 1027.5073942890576, 449.20060702137215, 1375.4512044175153, 1358.3664932410916, 453.03607796198787, 1281.9142034335812, 1215.838216006622, 664.3206559605236, 1078.2620883730199, 850.8413765374539, 2857.5754947946075, 193.8091384223954, 156.55554072039246, 141.32165541555364, 104.40195011938688, 91.51812691531853, 76.97391594333362, 162.87166643942584, 111.01128472538073, 63.18399688250483, 50.67434349459696, 2028.328857827403, 1736.0593035756954, 98.98736041919113, 160.36778131070878, 362.14914418172316, 1432.0044380023464, 78.06967382456057, 106.60115953424575, 123.24270106473082, 66.46322125528333, 196.65432046246576, 44.88585897664977, 142.0622407230097, 75.63170705444833, 59.44402419652479, 152.42809478113713, 85.33284310447243, 128.95811553103073, 72.84364580038007, 609.8556067994793, 130.09665055558148, 473.9303891169569, 521.6918951421277, 172.6150594428204, 195.36875413121408, 874.2595036097869, 499.5573524235748, 521.2615734335363, 525.150657124199, 1215.838216006622, 540.8785219089488, 771.1038745440361, 446.0294435157716, 1055.9099260027665, 279.67615263163117, 1000.9066384376849, 1358.3664932410916, 516.336439599661, 785.4712045367382, 323.88850435242773, 569.3616670685905, 501.221200584758, 784.7251482272477, 854.5371569696126, 907.9233199573964, 522.36359967206, 460.7383681319664, 504.8555322557608, 500.6032142013372, 715.0185044175844, 925.1685661280219, 717.2956521311039, 86.64878171305071, 84.41509046969844, 91.47752437359597, 88.33590539095276, 72.49408258616543, 78.43772411287512, 213.12714979055653, 160.18789843704872, 88.67232975877187, 216.68116223426006, 118.16346000661163, 58.60791590368459, 114.04075659896961, 73.20468200782724, 159.88189129028723, 145.65395068880136, 1097.8394974163555, 66.61800660373608, 60.797507663114956, 313.4182440097744, 100.03191180769768, 102.70817581393919, 93.57545149826048, 72.16159215315955, 140.7455459476316, 76.33618361191711, 993.5141393842681, 46.958883972713586, 448.5373950638837, 58.68048044183727, 561.138057105627, 544.4009061561742, 243.24774418813087, 1214.6485662593097, 453.9333488451628, 586.9892964409037, 589.5101085987587, 903.3050611255926, 713.7153422137285, 932.2293029538376, 767.7100490080934, 236.42824217926332, 247.21579320291988, 323.8797388652364, 672.1779324197524, 850.8413765374539, 1281.9142034335812, 207.67034690945033, 749.2606357574027, 638.5260025210346, 422.1372089142227, 685.3306272803623, 1214.2695211861378, 1280.2585598033756, 1143.3798685313313, 925.1685661280219, 714.9176457204661, 916.4289717593825, 1184.7993054878016, 1375.4512044175153, 785.4712045367382, 1113.5700929703635, 1078.2620883730199, 72.06110746263387, 49.23650381840549, 62.598073924311585, 901.6295509488966, 61.439484442409835, 125.38880906798934, 63.682110626892175, 116.89885972372872, 176.05226024993163, 197.67347341345115, 75.60848384739562, 140.62126837308784, 108.39699620700164, 332.3531509078101, 222.93242000912778, 57.75464873234428, 64.76463036341244, 105.22807372739247, 73.51026007566456, 65.3951846440809, 141.36854882376718, 979.100556430496, 212.51945335013897, 220.73426795090967, 62.19976323108094, 59.74331074741002, 310.0071358505512, 64.9077370956413, 112.46968155660261, 77.30879095477565, 343.1301107966566, 1113.5700929703635, 630.4589925379279, 881.9495468632324, 431.0574780185981, 726.7501309092884, 200.3745832577786, 365.2381476799314, 1214.2695211861378, 1184.7993054878016, 1005.0126796780328, 717.2956521311039, 313.3533229568104, 312.6307852710574, 297.31149865898414, 638.3553267802869, 1027.5073942890576, 531.1934381428324, 487.55147458512005, 1375.4512044175153, 430.28104307982574, 907.9233199573964, 784.7251482272477, 1048.459638851805, 664.9507640177042, 916.4289717593825, 804.2462304948573, 1214.6485662593097, 1143.3798685313313, 554.1489974035035, 664.3206559605236], \"Category\": [\"Default\", \"Default\", \"Default\", \"Default\", \"Default\", \"Default\", \"Default\", \"Default\", \"Default\", \"Default\", \"Default\", \"Default\", \"Default\", \"Default\", \"Default\", \"Default\", \"Default\", \"Default\", \"Default\", \"Default\", \"Default\", \"Default\", \"Default\", \"Default\", \"Default\", \"Default\", \"Default\", \"Default\", \"Default\", \"Default\", \"Topic1\", \"Topic1\", \"Topic1\", \"Topic1\", \"Topic1\", \"Topic1\", \"Topic1\", \"Topic1\", \"Topic1\", \"Topic1\", \"Topic1\", \"Topic1\", \"Topic1\", \"Topic1\", \"Topic1\", \"Topic1\", \"Topic1\", \"Topic1\", \"Topic1\", \"Topic1\", \"Topic1\", \"Topic1\", \"Topic1\", \"Topic1\", \"Topic1\", \"Topic1\", \"Topic1\", \"Topic1\", \"Topic1\", \"Topic1\", \"Topic1\", \"Topic1\", \"Topic1\", \"Topic1\", \"Topic1\", \"Topic1\", \"Topic1\", \"Topic1\", \"Topic1\", \"Topic1\", \"Topic1\", \"Topic1\", \"Topic1\", \"Topic1\", \"Topic1\", \"Topic1\", \"Topic1\", \"Topic1\", \"Topic1\", \"Topic1\", \"Topic1\", \"Topic1\", \"Topic1\", \"Topic1\", \"Topic1\", \"Topic1\", \"Topic1\", \"Topic1\", \"Topic1\", \"Topic1\", \"Topic2\", \"Topic2\", \"Topic2\", \"Topic2\", \"Topic2\", \"Topic2\", \"Topic2\", \"Topic2\", \"Topic2\", \"Topic2\", \"Topic2\", \"Topic2\", \"Topic2\", \"Topic2\", \"Topic2\", \"Topic2\", \"Topic2\", \"Topic2\", \"Topic2\", \"Topic2\", \"Topic2\", \"Topic2\", \"Topic2\", \"Topic2\", \"Topic2\", \"Topic2\", \"Topic2\", \"Topic2\", \"Topic2\", \"Topic2\", \"Topic2\", \"Topic2\", \"Topic2\", \"Topic2\", \"Topic2\", \"Topic2\", \"Topic2\", \"Topic2\", \"Topic2\", \"Topic2\", \"Topic2\", \"Topic2\", \"Topic2\", \"Topic2\", \"Topic2\", \"Topic2\", \"Topic2\", \"Topic2\", \"Topic2\", \"Topic2\", \"Topic2\", \"Topic2\", \"Topic2\", \"Topic2\", \"Topic2\", \"Topic2\", \"Topic2\", \"Topic2\", \"Topic2\", \"Topic2\", \"Topic2\", \"Topic2\", \"Topic2\", \"Topic3\", \"Topic3\", \"Topic3\", \"Topic3\", \"Topic3\", \"Topic3\", \"Topic3\", \"Topic3\", \"Topic3\", \"Topic3\", \"Topic3\", \"Topic3\", \"Topic3\", \"Topic3\", \"Topic3\", \"Topic3\", \"Topic3\", \"Topic3\", \"Topic3\", \"Topic3\", \"Topic3\", \"Topic3\", \"Topic3\", \"Topic3\", \"Topic3\", \"Topic3\", \"Topic3\", \"Topic3\", \"Topic3\", \"Topic3\", \"Topic3\", \"Topic3\", \"Topic3\", \"Topic3\", \"Topic3\", \"Topic3\", \"Topic3\", \"Topic3\", \"Topic3\", \"Topic3\", \"Topic3\", \"Topic3\", \"Topic3\", \"Topic3\", \"Topic3\", \"Topic3\", \"Topic3\", \"Topic3\", \"Topic3\", \"Topic3\", \"Topic3\", \"Topic3\", \"Topic3\", \"Topic3\", \"Topic3\", \"Topic3\", \"Topic3\", \"Topic3\", \"Topic3\", \"Topic3\", \"Topic3\", \"Topic3\", \"Topic3\", \"Topic4\", \"Topic4\", \"Topic4\", \"Topic4\", \"Topic4\", \"Topic4\", \"Topic4\", \"Topic4\", \"Topic4\", \"Topic4\", \"Topic4\", \"Topic4\", \"Topic4\", \"Topic4\", \"Topic4\", \"Topic4\", \"Topic4\", \"Topic4\", \"Topic4\", \"Topic4\", \"Topic4\", \"Topic4\", \"Topic4\", \"Topic4\", \"Topic4\", \"Topic4\", \"Topic4\", \"Topic4\", \"Topic4\", \"Topic4\", \"Topic4\", \"Topic4\", \"Topic4\", \"Topic4\", \"Topic4\", \"Topic4\", \"Topic4\", \"Topic4\", \"Topic4\", \"Topic4\", \"Topic4\", \"Topic4\", \"Topic4\", \"Topic4\", \"Topic4\", \"Topic4\", \"Topic4\", \"Topic4\", \"Topic4\", \"Topic4\", \"Topic4\", \"Topic4\", \"Topic4\", \"Topic4\", \"Topic4\", \"Topic4\", \"Topic4\", \"Topic4\", \"Topic4\", \"Topic4\", \"Topic4\"], \"logprob\": [30.0, 29.0, 28.0, 27.0, 26.0, 25.0, 24.0, 23.0, 22.0, 21.0, 20.0, 19.0, 18.0, 17.0, 16.0, 15.0, 14.0, 13.0, 12.0, 11.0, 10.0, 9.0, 8.0, 7.0, 6.0, 5.0, 4.0, 3.0, 2.0, 1.0, -4.0097, -4.6461, -4.9515, -5.1566, -5.4551, -5.5748, -5.7192, -5.7004, -5.6193, -6.2191, -6.0342, -6.2538, -6.3084, -6.4192, -6.5366, -6.6001, -6.7466, -5.8366, -7.0067, -6.2244, -5.1663, -6.1744, -6.1513, -6.0961, -5.8335, -5.7697, -6.8007, -6.2703, -4.4667, -5.0684, -5.5001, -5.5681, -5.0541, -4.3553, -5.0731, -5.2389, -5.138, -4.8425, -5.051, -5.1893, -4.7884, -5.1658, -5.5415, -5.3, -4.8027, -4.7755, -4.7889, -4.8997, -4.5904, -5.0107, -4.8676, -5.293, -4.8512, -4.8905, -5.2987, -4.9885, -5.0443, -5.2069, -5.1746, -5.22, -2.9444, -5.639, -5.8536, -5.9567, -6.2612, -6.3942, -6.5689, -5.8208, -6.2049, -6.7695, -6.9928, -3.312, -3.4719, -6.337, -5.8777, -5.0729, -3.7044, -6.6293, -6.3288, -6.1893, -6.8076, -5.7341, -7.2127, -6.0697, -6.7071, -6.9484, -6.0081, -6.5906, -6.1823, -6.7596, -4.6616, -6.1972, -4.9878, -4.926, -5.9467, -5.8409, -4.5213, -5.0295, -5.0224, -5.0295, -4.393, -5.0813, -4.8408, -5.2585, -4.6823, -5.6245, -4.7704, -4.628, -5.2519, -5.0075, -5.5506, -5.23, -5.3114, -5.1166, -5.0784, -5.102, -5.3414, -5.4076, -5.4015, -5.4056, -5.3396, -5.3278, -5.3629, -6.4184, -6.4446, -6.3656, -6.4185, -6.6296, -6.553, -5.5544, -5.8408, -6.4364, -5.5461, -6.1554, -6.8581, -6.1974, -6.6541, -5.8766, -5.9806, -3.9634, -6.7679, -6.8745, -5.2403, -6.3863, -6.36, -6.4582, -6.7313, -6.0805, -6.6952, -4.1319, -7.1916, -4.936, -6.9778, -4.7309, -4.7938, -5.6127, -4.1372, -5.0779, -4.865, -4.8765, -4.516, -4.7468, -4.5435, -4.7401, -5.6992, -5.6645, -5.4642, -4.9238, -4.7774, -4.5033, -5.8042, -4.9177, -5.0573, -5.3319, -5.0124, -4.6659, -4.7098, -4.8027, -4.9337, -5.0795, -4.9746, -4.8761, -4.8402, -5.1078, -5.0059, -5.0845, -6.2343, -6.6198, -6.4114, -3.8017, -6.4883, -5.7825, -6.4679, -5.8807, -5.4802, -5.3664, -6.3319, -5.714, -5.9806, -4.8752, -5.277, -6.6575, -6.5528, -6.072, -6.4311, -6.5558, -5.786, -3.8518, -5.3829, -5.3458, -6.6433, -6.6963, -5.0709, -6.6764, -6.1288, -6.5088, -5.0474, -3.8968, -4.513, -4.3154, -4.9633, -4.5739, -5.6312, -5.1392, -4.1727, -4.3004, -4.4512, -4.7075, -5.3144, -5.3164, -5.3582, -4.8579, -4.5836, -4.9972, -5.0698, -4.4759, -5.1632, -4.8417, -4.9201, -4.822, -5.0645, -4.9606, -5.0043, -4.9442, -5.0048, -5.158, -5.1363], \"loglift\": [30.0, 29.0, 28.0, 27.0, 26.0, 25.0, 24.0, 23.0, 22.0, 21.0, 20.0, 19.0, 18.0, 17.0, 16.0, 15.0, 14.0, 13.0, 12.0, 11.0, 10.0, 9.0, 8.0, 7.0, 6.0, 5.0, 4.0, 3.0, 2.0, 1.0, 1.2585, 1.2579, 1.2574, 1.257, 1.2563, 1.2558, 1.2553, 1.255, 1.2538, 1.2526, 1.2525, 1.2524, 1.2522, 1.2514, 1.2504, 1.2495, 1.2483, 1.2463, 1.2443, 1.2419, 1.2164, 1.2113, 1.2074, 1.2047, 1.201, 1.1909, 1.1879, 1.1876, 1.1872, 1.1863, 1.183, 1.1752, 1.1594, 1.0749, 1.1123, 1.1172, 1.089, 1.0485, 1.0253, 1.024, 0.9225, 0.9967, 1.076, 1.0045, 0.8262, 0.7492, 0.7549, 0.7778, 0.4611, 0.6548, 0.4038, 0.8058, 0.1286, 0.1017, 0.7915, 0.0617, 0.0587, 0.5006, 0.0486, 0.2401, 1.3041, 1.3003, 1.2992, 1.2985, 1.2968, 1.2955, 1.2939, 1.2925, 1.2917, 1.2907, 1.288, 1.2793, 1.2749, 1.2742, 1.2511, 1.2413, 1.2351, 1.2194, 1.2083, 1.2028, 1.202, 1.1908, 1.1895, 1.1803, 1.1733, 1.1728, 1.1715, 1.1691, 1.1645, 1.1583, 1.1314, 1.1408, 1.0574, 1.0232, 1.1084, 1.0905, 0.9115, 0.963, 0.9276, 0.9131, 0.71, 0.8317, 0.7176, 0.8474, 0.5618, 0.9481, 0.5272, 0.3642, 0.7076, 0.5325, 0.8752, 0.6317, 0.6778, 0.4243, 0.3773, 0.2931, 0.6065, 0.6659, 0.5805, 0.5849, 0.2944, 0.0485, 0.2679, 1.326, 1.3259, 1.3246, 1.3066, 1.2931, 1.291, 1.29, 1.2892, 1.2849, 1.2817, 1.2788, 1.2773, 1.2723, 1.2589, 1.2553, 1.2444, 1.2418, 1.2394, 1.2242, 1.2185, 1.2144, 1.2144, 1.2093, 1.1961, 1.1788, 1.1759, 1.1731, 1.1654, 1.1643, 1.1564, 1.1454, 1.1127, 1.0995, 0.9669, 1.0104, 0.9663, 0.9504, 0.8842, 0.889, 0.8252, 0.8227, 1.0414, 1.0315, 0.9617, 0.772, 0.6827, 0.5468, 1.0661, 0.6695, 0.6897, 0.829, 0.6639, 0.4385, 0.3416, 0.3618, 0.4426, 0.5546, 0.4112, 0.2528, 0.1396, 0.4322, 0.1851, 0.1386, 1.6945, 1.6899, 1.6581, 1.6003, 1.5999, 1.5924, 1.5845, 1.5643, 1.5553, 1.5533, 1.5488, 1.5462, 1.5399, 1.5249, 1.5224, 1.4925, 1.4827, 1.4781, 1.4778, 1.47, 1.4689, 1.4678, 1.4644, 1.4635, 1.4326, 1.4199, 1.3988, 1.3569, 1.3547, 1.3496, 1.3207, 1.2941, 1.2468, 1.1088, 1.1767, 1.0438, 1.2749, 1.1665, 0.9316, 0.8285, 0.8423, 0.9232, 1.1445, 1.1449, 1.1533, 0.8895, 0.6877, 0.9339, 0.947, 0.5039, 0.9786, 0.5534, 0.6209, 0.4292, 0.6421, 0.4252, 0.5121, 0.1598, 0.1598, 0.7308, 0.5712]}, \"token.table\": {\"Topic\": [1, 2, 3, 4, 4, 1, 2, 4, 1, 2, 3, 4, 2, 3, 1, 2, 3, 4, 1, 2, 1, 2, 3, 4, 2, 4, 1, 2, 3, 4, 2, 3, 1, 2, 3, 1, 3, 1, 4, 1, 2, 3, 1, 3, 4, 1, 2, 1, 2, 3, 4, 1, 4, 1, 2, 3, 4, 1, 2, 3, 4, 1, 2, 3, 4, 1, 2, 3, 4, 1, 2, 2, 2, 1, 2, 1, 2, 1, 2, 3, 4, 2, 3, 4, 1, 2, 3, 4, 2, 3, 1, 2, 3, 1, 2, 1, 2, 2, 3, 2, 4, 1, 2, 3, 4, 1, 2, 3, 4, 2, 3, 1, 2, 4, 2, 3, 1, 3, 1, 4, 1, 2, 4, 1, 2, 3, 4, 1, 2, 3, 1, 3, 1, 1, 3, 1, 3, 1, 2, 3, 4, 1, 2, 3, 4, 1, 2, 3, 1, 2, 3, 4, 1, 2, 3, 1, 2, 3, 4, 1, 2, 3, 4, 1, 2, 1, 2, 3, 1, 2, 3, 4, 1, 2, 3, 4, 1, 4, 2, 3, 4, 2, 1, 2, 1, 4, 1, 2, 3, 4, 1, 2, 4, 1, 2, 2, 2, 3, 1, 3, 4, 1, 2, 3, 4, 2, 1, 2, 3, 1, 2, 3, 4, 4, 1, 3, 4, 1, 2, 3, 1, 3, 4, 1, 2, 3, 4, 1, 3, 4, 1, 2, 3, 4, 1, 3, 3, 1, 2, 3, 4, 1, 2, 3, 4, 1, 2, 1, 2, 3, 4, 2, 4, 1, 2, 4, 1, 2, 3, 4, 1, 3, 4, 2, 3, 4, 1, 2, 1, 2, 4, 1, 2, 4, 1, 2, 3, 1, 2, 4, 1, 2, 3, 1, 1, 2, 4, 1, 2, 3, 4, 1, 2, 3, 4, 1, 2, 3, 4, 3, 4, 1, 1, 2, 4, 1, 2, 3, 4, 2, 4, 1, 2, 3, 4, 1, 2, 3, 4, 1, 2, 3, 4, 1, 2, 3, 4, 1, 3, 1, 2, 3, 4, 1, 3, 1, 2, 3, 4, 1, 1, 1, 3, 4, 1, 1, 1, 2, 3, 4, 2, 1, 2, 3, 4, 1, 2, 3, 4, 2, 3, 4, 1, 2, 3, 2, 1, 2, 2, 3, 4, 1, 2, 3, 4, 1, 2, 4, 1, 2, 3, 4, 1, 2, 3, 4, 2, 1, 3, 4, 1, 2, 3, 1, 2, 1, 2, 3, 4, 2, 4, 1, 2, 4, 1, 2, 4, 1, 2, 3, 4, 2, 3, 4, 1, 3, 4, 1, 2, 1, 2, 3, 4, 1, 2, 3, 1, 2, 4, 1, 2, 3, 4, 1, 2, 3, 4, 1, 3, 1, 1, 2, 4, 1, 2, 1, 2, 3, 4, 1, 2, 3, 4, 1, 2, 3, 4, 1, 1, 1, 2, 3, 4, 1, 2, 3, 4, 3, 1, 2, 3, 4, 1, 2, 3, 4, 2, 4, 1, 2, 3, 4, 1, 2, 3, 4, 3, 4, 1, 3, 4, 1, 2, 3, 4, 1, 2, 3, 4, 1, 3, 4, 1, 2, 3, 1, 2, 3, 4, 1, 2, 3, 4, 2, 3, 4, 1, 2, 1, 1, 2, 3, 4, 1, 2, 3, 4, 1, 2, 3, 1, 2, 3, 4, 1, 2, 3, 4, 1, 2, 3, 4, 1, 2, 3, 4, 1, 2, 3, 1, 2, 3, 4, 2, 3, 1, 2, 4, 1, 2, 3, 4, 1, 3, 2, 3, 1, 2, 3, 4, 2, 4, 1, 2, 3, 4, 1, 2, 3, 4, 2, 4, 2, 3, 1, 2, 3, 4, 1, 2, 3, 1, 1, 2, 3, 4, 2, 1, 2, 3, 4, 1, 1, 2, 3, 4, 2, 3, 1, 2, 1, 2, 3, 4, 1, 2, 3, 4, 1, 2, 3, 4, 1, 2, 3, 1, 2, 3, 4, 1, 2, 3, 4, 1, 2, 3, 4, 1, 2, 1, 2, 3, 4], \"Freq\": [0.11451902249875807, 0.22223493475006517, 0.11225131908294109, 0.5499180783356205, 0.974886441511648, 0.016759724595183604, 0.9329580024652206, 0.049580851927418165, 0.0008980126229257613, 0.019756277704366748, 0.31699845589279374, 0.6627333157192119, 0.9885083361621898, 0.006139803330199937, 0.8102014344601971, 0.05968001637764844, 0.018084853447772255, 0.112126091376188, 0.9947418207915799, 0.004828843790250388, 0.14638315412625505, 0.3541078204577979, 0.041823758321787155, 0.4572730909848729, 0.9751870325991854, 0.024650834999979408, 0.18366309022810973, 0.17845278979610663, 0.599184549680358, 0.03907725324002335, 0.15337297738931419, 0.8350306546751549, 0.028966186473760563, 0.8226396958548, 0.14483093236880282, 0.12472008628770175, 0.8730406040139123, 0.18528631959550526, 0.802907384913856, 0.06491256626871685, 0.9006618569784463, 0.02434221235076882, 0.3608193118785002, 0.520661091733471, 0.11753072048159616, 0.04988533192025766, 0.9478213064848955, 0.35415944012205874, 0.4977375915228934, 0.0938043922485453, 0.05551688520832272, 0.14222599633319485, 0.8533559779991691, 0.27661342550330853, 0.19104236581523468, 0.11144138005888689, 0.42188522450864324, 0.032057810299600156, 0.2040042473610919, 0.0845160453353095, 0.6790427090733487, 0.13566415635278156, 0.06988759569688748, 0.7893187278707291, 0.004111035040993381, 0.6006041072379815, 0.2294583541222351, 0.037616123626595915, 0.13165643269308572, 0.12355230028798259, 0.8648661020158781, 0.9943385323456417, 0.9866926052101916, 0.11899771075536843, 0.8726498788727018, 0.020204599774460204, 0.9698207891740898, 0.36464739037507016, 0.04478125846711388, 0.019191967914477377, 0.5693617147961622, 0.7008105559080569, 0.2252605358275897, 0.07151128121510784, 0.23351509674465837, 0.09166013143248272, 0.3971939028740918, 0.27825397042003686, 0.9908902529334522, 0.00900809320848593, 0.4516143439713656, 0.48528734330256384, 0.06338446932931446, 0.09027549201917512, 0.9027549201917512, 0.9479829066277912, 0.05184281520620733, 0.05261276914444999, 0.9382610497426915, 0.8684990435755076, 0.12407129193935823, 0.7738714090228345, 0.1832133724541693, 0.016407167682462923, 0.024610751523694383, 0.12657829959443267, 0.11692402250672171, 0.6007105743464601, 0.15554113085756557, 0.30875657844595567, 0.6885271699344812, 0.9969491632785723, 0.6322452566744698, 0.3654467263756688, 0.30664954385266524, 0.691665082245456, 0.10996490820995711, 0.8897160755169257, 0.9271985550538946, 0.06065784939604918, 0.012660087088273453, 0.7807053704435296, 0.20678142244179976, 0.3718505712067625, 0.5500289699100029, 0.021303938975387435, 0.05616493002602142, 0.007105020576438551, 0.13499539095233246, 0.852602469172626, 0.10709955573475503, 0.8860054156238826, 0.9872971544973992, 0.08238705468167314, 0.9131231893885439, 0.05118762463640845, 0.9384397850008216, 0.17947541683363563, 0.16050647033902374, 0.5107024056241665, 0.14883327249618566, 0.18074432812370422, 0.1345074069757799, 0.6403113019576189, 0.04623692114792434, 0.12777135000666587, 0.02129522500111098, 0.8518090000444392, 0.06061709234284995, 0.03122698696449846, 0.8008803715600781, 0.10653913199652415, 0.018763851089008535, 0.056291553267025604, 0.9256833203910877, 0.19262595493839219, 0.05645933161987357, 0.6376583335891604, 0.11291866323974714, 0.2667385519794675, 0.0177825701319645, 0.00889128506598225, 0.7024115202125977, 0.9787508194986602, 0.008738846602666609, 0.7922830435476224, 0.19371755735092966, 0.015236212375915815, 0.12233316632624727, 0.030583291581561818, 0.061166583163123636, 0.7951655811206072, 0.16757096045904377, 0.6759964882154607, 0.09521077298809304, 0.06093489471237955, 0.16247777357458784, 0.8334508014844599, 0.015974932411005446, 0.03194986482201089, 0.9584959446603267, 0.9997986073174074, 0.8667184549127058, 0.1295758487411022, 0.7913485042523065, 0.20719850426795408, 0.08299789705744125, 0.5563452787131609, 0.2956800082671345, 0.0661389492176485, 0.07216517411566599, 0.8725425597621433, 0.052483762993211634, 0.06074845227015254, 0.9388397169023575, 0.9958250760052815, 0.042228313046200096, 0.9571750957138688, 0.08983733942033471, 0.009981926602259413, 0.8994824971591537, 0.3143481542902084, 0.39017452406044606, 0.14870802615133982, 0.14649949110948823, 0.9961499749867964, 0.044589370295761994, 0.111473425739405, 0.8427390985899017, 0.16813147445687854, 0.04599823357782526, 0.15385616058789828, 0.6312861022060157, 0.985274893767292, 0.9913457844542054, 0.9735565579974007, 0.022640850185986064, 0.04403898750217211, 0.7106291165123227, 0.24421620342113626, 0.17410170888704576, 0.03764361273233422, 0.7858104157874769, 0.2545747766745742, 0.1916304637605311, 0.4587941030179139, 0.09511585062566508, 0.23433585827191414, 0.01673827559085101, 0.7532224015882955, 0.22516899773264182, 0.3636269528601669, 0.26293025822196686, 0.1468493463473751, 0.25888313675602215, 0.7402439691617508, 0.9947798721394585, 0.1600714603471581, 0.07423603958129071, 0.17631059400556545, 0.5892485641764951, 0.0441044175846296, 0.13909854776690875, 0.6802258250552489, 0.13570590026039878, 0.9264173045628551, 0.07187720466435944, 0.30102689254341275, 0.55188263632959, 0.04770371521179764, 0.09951981966599163, 0.8411827230583689, 0.15741431074776496, 0.012809071064485502, 0.9222531166429562, 0.06404535532242751, 0.010965679624397187, 0.3305369143925438, 0.21618054116668742, 0.44176023629714384, 0.1125406213202775, 0.12861785293746, 0.7556298860075775, 0.8087270694979384, 0.005118525756316066, 0.18426692722737836, 0.9202957218236635, 0.07633789397615641, 0.025294238592864043, 0.11129464980860178, 0.8600041121573774, 0.34262471433440805, 0.19578555104823317, 0.4612255769886262, 0.010686563452152721, 0.10686563452152721, 0.8869847665286759, 0.2581838724001963, 0.5110986861799804, 0.23183857929813545, 0.022554950404944683, 0.033832425607417026, 0.9473079170076767, 0.9940231277088244, 0.025870279114440772, 0.2716379307016281, 0.6984975360899008, 0.4499091184271895, 0.16715373497121278, 0.3702377120390414, 0.012497475511866375, 0.6484912785724122, 0.20178376693776773, 0.011132897486221668, 0.13776960639199315, 0.06982944847338196, 0.5346940625961818, 0.36710338626006517, 0.027931779389352783, 0.16596957947383814, 0.8343335616792945, 0.999138993428942, 0.06925849412637643, 0.10388774118956463, 0.813787305984923, 0.004026112806486082, 0.11675727138809637, 0.8505163303701848, 0.028182789645402575, 0.19044960506995506, 0.8026090499376677, 0.12934294195776747, 0.21327825535589318, 0.14035085191162003, 0.5159957790868384, 0.04463311815189389, 0.030969918717640658, 0.9108799622835487, 0.013663199434253231, 0.07427418263363088, 0.17133703493894395, 0.33929797066726836, 0.4161042277088639, 0.03843296486610037, 0.8455252270542082, 0.06149274378576059, 0.05380615081254052, 0.05077711840584458, 0.9478395435757656, 0.03210805255392206, 0.06256953831020709, 0.6923813384063706, 0.21323040029399523, 0.9886395342665039, 0.011911319689957879, 0.16522249398684868, 0.09913349639210921, 0.7225730403691516, 0.013217799518947896, 0.9973546645278668, 0.9982449629841397, 0.04277201686839957, 0.08554403373679914, 0.8639947407416714, 0.9984596352577717, 0.9950035376785668, 0.34514670715956175, 0.007438506619818141, 0.5697896070780697, 0.0788481701700723, 0.9812611271694863, 0.004815323973220048, 0.1300137472769413, 0.7656365117419875, 0.101121803437621, 0.03313261982075626, 0.41415774775945324, 0.21536202883491568, 0.3376978558654003, 0.9711649806705392, 0.027648825072470868, 0.0017280515670294292, 0.7144794217159091, 0.11026849426059483, 0.1752211689620411, 0.9964514783837344, 0.9420115907012113, 0.05107291756813796, 0.10580823199876352, 0.03967808699953632, 0.8596918849899536, 0.33384523091592333, 0.09203300960384912, 0.1966980009180305, 0.37715488249420526, 0.009225347887780377, 0.13838021831670563, 0.8487320056757947, 0.20640444891841053, 0.15293823624677408, 0.3369614798607787, 0.3033896719041697, 0.6179236741977868, 0.15484612166658487, 0.13439474710684723, 0.093491997987372, 0.987347454895622, 0.1839164383897872, 0.021221127506513907, 0.7922554269098525, 0.032305530983039975, 0.018460303418879987, 0.9460905502175994, 0.9580696843335716, 0.04139807277984569, 0.44947269001867396, 0.0015661069338629755, 0.5246458228440968, 0.023491604007944634, 0.21292570671651487, 0.783747814084193, 0.009503167401796549, 0.19006334803593097, 0.7982660617509101, 0.10093529301050871, 0.8747725394244089, 0.016822548835084786, 0.4253010756213239, 0.13722528984578186, 0.07591186246787933, 0.36106796122542606, 0.3393643988894496, 0.009981305849689693, 0.64878488022983, 0.11773140421707025, 0.29569748035915316, 0.583181141819441, 0.08911492597436653, 0.8911492597436653, 0.9875126633150431, 0.8949714381362502, 0.09661623479879974, 0.010170129978821026, 0.07505478255663671, 0.015010956511327342, 0.9156683471909679, 0.22043662374449932, 0.7552350413507194, 0.024918922684160794, 0.3057228199401648, 0.45958332409305824, 0.11189854847483156, 0.12188949030294152, 0.1914238979366088, 0.6514587494294267, 0.10188691341787243, 0.05248719782132822, 0.14409942283625968, 0.851496589486989, 0.9930778252221067, 0.8316078733573157, 0.1619867188158283, 0.006844509245739224, 0.951386531484908, 0.04031298862224186, 0.1913041965280955, 0.47541933988665314, 0.19603944891740477, 0.13732231928996952, 0.9288608263167389, 0.03642591475751917, 0.0208148084328681, 0.013009255270542561, 0.059214583972523036, 0.029607291986261518, 0.7444119127974325, 0.16495491249488559, 0.9992454426101768, 0.9891159835087122, 0.016408523852394392, 0.41841735823605697, 0.09640007763281705, 0.4676429297932401, 0.23876579211654989, 0.16967239439784132, 0.3778271875250899, 0.21340239295398597, 0.9950827456632598, 0.930279999020261, 0.01426809814448253, 0.002853619628896506, 0.05136515332013711, 0.1692861208701915, 0.6748568331987363, 0.05833508219175518, 0.09722513698625863, 0.0813808912196641, 0.8951898034163052, 0.2808537909002059, 0.39553575551778997, 0.29138580805896364, 0.03276627560502402, 0.08068629874750563, 0.0173628744140202, 0.11336935646801424, 0.7884787675072703, 0.10367751393946995, 0.8932216585554333, 0.1136026312391963, 0.02272052624783926, 0.857699865855932, 0.073794592227799, 0.5274142915104457, 0.39718854052021224, 0.0021704291831705588, 0.6268816410330771, 0.10374449693153036, 0.145683761648532, 0.1258177941510049, 0.015702997123617824, 0.09421798274170695, 0.8793678389225983, 0.9933889915258723, 0.027588458652784916, 0.9655960528474721, 0.09613988704242477, 0.6230604217941759, 0.1793378662137539, 0.10168641898718003, 0.9037688904665608, 0.06740817691325178, 0.017476194014546757, 0.009986396579741003, 0.8798960185607847, 0.042235008890917664, 0.07039168148486277, 0.1171881732307579, 0.8789112992306842, 0.9928587133510467, 0.22106899932231097, 0.2000148089106623, 0.2330999652718245, 0.3458902710485138, 0.18951184190980855, 0.18714294388593594, 0.6040689960875147, 0.018951184190980856, 0.6344604070992278, 0.30721240764804714, 0.05565442167537086, 0.27022102690571287, 0.28427252030480993, 0.4096550767890607, 0.0356691755515541, 0.6045105192119848, 0.20704165774279396, 0.08818440977933817, 0.10096475902272051, 0.3515758489101804, 0.4874119723527501, 0.11586022293630945, 0.045944571164398575, 0.10694217625653409, 0.4621429759657366, 0.4048525243997362, 0.025462422918222403, 0.8642248455818481, 0.13109028556578595, 0.0048551957616957755, 0.768685119265815, 0.016607394552039214, 0.10676182212025208, 0.10676182212025208, 0.03824690267253135, 0.9561725668132838, 0.9328698315220845, 0.0158113530766455, 0.0474340592299365, 0.2390069681327081, 0.3634668178976667, 0.08150468037705254, 0.31610599011100105, 0.09868825599310085, 0.8881943039379078, 0.06830164222918673, 0.9289023343169397, 0.19361737207386495, 0.22413833712984366, 0.30330209024378846, 0.27945758629380507, 0.9099338170785903, 0.08442684900729189, 0.1801776225218785, 0.08274824145449235, 0.5138398864512831, 0.2242210413605599, 0.297701276397795, 0.21423362880962815, 0.30233836793047086, 0.18548366130703736, 0.2773167083837335, 0.7086982547584302, 0.10848124080147568, 0.8901842995179916, 0.08297342997566867, 0.09892985881714342, 0.24892028992700602, 0.5712401525247959, 0.8339311290864023, 0.1645424649318462, 0.9925125120027741, 0.9768689562039844, 0.09081384380282231, 0.14126597924883472, 0.1917181146948471, 0.5751543440845412, 0.990647891778034, 0.3018922787214841, 0.185659850996675, 0.4547886266010988, 0.05772617215863004, 0.9962222837287352, 0.17430468110603237, 0.08366624693089554, 0.2579709280369279, 0.4834049822673964, 0.043698681787444064, 0.9551283304969916, 0.9281837456915956, 0.0589323013137521, 0.32280316348119953, 0.07415748350243773, 0.30244620722562837, 0.30026510476967433, 0.4681474182830178, 0.0948337213885213, 0.11590788169708158, 0.32213359328799296, 0.0709661083756659, 0.07419184057455981, 0.11612635916018058, 0.7354669413478103, 0.2513133648757311, 0.6867953024848223, 0.06330794687709256, 0.547017420808055, 0.08226911078115867, 0.35072620911967645, 0.020206448262038972, 0.14969578152170862, 0.007128370548652792, 0.8268909836437238, 0.014256741097305584, 0.07164801428517746, 0.05929490837393997, 0.4076524950708373, 0.46118262068619975, 0.9495458465296804, 0.04708491800973622, 0.8427309499858007, 0.08098315435298986, 0.06579881291180426, 0.010122894294123733], \"Term\": [\"around\", \"around\", \"around\", \"around\", \"asked\", \"ass\", \"ass\", \"ass\", \"baby\", \"baby\", \"baby\", \"baby\", \"bang\", \"bang\", \"beat\", \"beat\", \"beat\", \"beat\", \"beats\", \"beats\", \"big\", \"big\", \"big\", \"big\", \"bitch\", \"bitch\", \"black\", \"black\", \"black\", \"black\", \"blame\", \"blame\", \"blast\", \"blast\", \"blast\", \"bless\", \"bless\", \"booty\", \"booty\", \"bounce\", \"bounce\", \"bounce\", \"brother\", \"brother\", \"brother\", \"buck\", \"buck\", \"bust\", \"bust\", \"bust\", \"bust\", \"butt\", \"butt\", \"call\", \"call\", \"call\", \"call\", \"car\", \"car\", \"car\", \"car\", \"change\", \"change\", \"change\", \"change\", \"check\", \"check\", \"check\", \"check\", \"click\", \"click\", \"clip\", \"clique\", \"cock\", \"cock\", \"compton\", \"compton\", \"cool\", \"cool\", \"cool\", \"cool\", \"cop\", \"cop\", \"cop\", \"could\", \"could\", \"could\", \"could\", \"creep\", \"creep\", \"crew\", \"crew\", \"crew\", \"criminal\", \"criminal\", \"crowd\", \"crowd\", \"cry\", \"cry\", \"cube\", \"cube\", \"cut\", \"cut\", \"cut\", \"cut\", \"day\", \"day\", \"day\", \"day\", \"death\", \"death\", \"def\", \"dick\", \"dick\", \"die\", \"die\", \"different\", \"different\", \"dj\", \"dj\", \"dog\", \"dog\", \"dog\", \"drop\", \"drop\", \"drop\", \"drop\", \"drug\", \"drug\", \"drug\", \"earth\", \"earth\", \"effect\", \"enemy\", \"enemy\", \"escape\", \"escape\", \"even\", \"even\", \"even\", \"even\", \"every\", \"every\", \"every\", \"every\", \"explain\", \"explain\", \"explain\", \"eye\", \"eye\", \"eye\", \"eye\", \"family\", \"family\", \"family\", \"feel\", \"feel\", \"feel\", \"feel\", \"fine\", \"fine\", \"fine\", \"fine\", \"flavor\", \"flavor\", \"flow\", \"flow\", \"flow\", \"food\", \"food\", \"food\", \"food\", \"fool\", \"fool\", \"fool\", \"fool\", \"freak\", \"freak\", \"freaky\", \"freaky\", \"freaky\", \"fuck\", \"funk\", \"funk\", \"funky\", \"funky\", \"game\", \"game\", \"game\", \"game\", \"gang\", \"gang\", \"gang\", \"gangster\", \"gangster\", \"gat\", \"ghetto\", \"ghetto\", \"girl\", \"girl\", \"girl\", \"give\", \"give\", \"give\", \"give\", \"glock\", \"god\", \"god\", \"god\", \"good\", \"good\", \"good\", \"good\", \"grabbed\", \"groove\", \"grow\", \"grow\", \"gun\", \"gun\", \"gun\", \"guy\", \"guy\", \"guy\", \"hard\", \"hard\", \"hard\", \"hard\", \"hat\", \"hat\", \"hat\", \"head\", \"head\", \"head\", \"head\", \"heart\", \"heart\", \"heaven\", \"hey\", \"hey\", \"hey\", \"hey\", \"high\", \"high\", \"high\", \"high\", \"hip\", \"hip\", \"hit\", \"hit\", \"hit\", \"hit\", \"hoe\", \"hoe\", \"hole\", \"hole\", \"hole\", \"homie\", \"homie\", \"homie\", \"homie\", \"honey\", \"honey\", \"honey\", \"hood\", \"hood\", \"hood\", \"hop\", \"hop\", \"hort\", \"hort\", \"hort\", \"house\", \"house\", \"house\", \"hustle\", \"hustle\", \"hustle\", \"ice\", \"ice\", \"ice\", \"instead\", \"instead\", \"instead\", \"jam\", \"jumped\", \"jumped\", \"jumped\", \"keep\", \"keep\", \"keep\", \"keep\", \"kick\", \"kick\", \"kick\", \"kick\", \"kill\", \"kill\", \"kill\", \"kill\", \"kiss\", \"kiss\", \"la\", \"legs\", \"legs\", \"legs\", \"life\", \"life\", \"life\", \"life\", \"lips\", \"lips\", \"little\", \"little\", \"little\", \"little\", \"live\", \"live\", \"live\", \"live\", \"look\", \"look\", \"look\", \"look\", \"loot\", \"loot\", \"loot\", \"loot\", \"lord\", \"lord\", \"love\", \"love\", \"love\", \"love\", \"lyrics\", \"lyrics\", \"many\", \"many\", \"many\", \"many\", \"mc\", \"mcs\", \"met\", \"met\", \"met\", \"mic\", \"microphone\", \"mind\", \"mind\", \"mind\", \"mind\", \"mob\", \"mom\", \"mom\", \"mom\", \"mom\", \"money\", \"money\", \"money\", \"money\", \"motherfucker\", \"motherfucker\", \"motherfucker\", \"move\", \"move\", \"move\", \"murder\", \"music\", \"music\", \"naked\", \"naked\", \"naked\", \"name\", \"name\", \"name\", \"name\", \"named\", \"named\", \"named\", \"need\", \"need\", \"need\", \"need\", \"new\", \"new\", \"new\", \"new\", \"niggas\", \"okay\", \"okay\", \"okay\", \"pain\", \"pain\", \"pain\", \"party\", \"party\", \"people\", \"people\", \"people\", \"people\", \"pimp\", \"pimp\", \"pipe\", \"pipe\", \"pipe\", \"platinum\", \"platinum\", \"platinum\", \"play\", \"play\", \"play\", \"play\", \"player\", \"player\", \"player\", \"please\", \"please\", \"please\", \"plot\", \"plot\", \"plug\", \"police\", \"police\", \"police\", \"pray\", \"pray\", \"pray\", \"punk\", \"punk\", \"punk\", \"put\", \"put\", \"put\", \"put\", \"quick\", \"quick\", \"quick\", \"quick\", \"race\", \"race\", \"radio\", \"rap\", \"rap\", \"rap\", \"raps\", \"raps\", \"real\", \"real\", \"real\", \"real\", \"record\", \"record\", \"record\", \"record\", \"remember\", \"remember\", \"remember\", \"remember\", \"rhyme\", \"rhythm\", \"ride\", \"ride\", \"ride\", \"ride\", \"right\", \"right\", \"right\", \"right\", \"rise\", \"rock\", \"rock\", \"rock\", \"rock\", \"roll\", \"roll\", \"roll\", \"roll\", \"rub\", \"rub\", \"run\", \"run\", \"run\", \"run\", \"said\", \"said\", \"said\", \"said\", \"saw\", \"saw\", \"sex\", \"sex\", \"sex\", \"shot\", \"shot\", \"shot\", \"shot\", \"show\", \"show\", \"show\", \"show\", \"sister\", \"sister\", \"sister\", \"skills\", \"sky\", \"sky\", \"smoke\", \"smoke\", \"smoke\", \"smoke\", \"sound\", \"sound\", \"sound\", \"sound\", \"south\", \"south\", \"south\", \"spit\", \"spit\", \"stage\", \"start\", \"start\", \"start\", \"start\", \"stay\", \"stay\", \"stay\", \"stay\", \"step\", \"step\", \"step\", \"still\", \"still\", \"still\", \"still\", \"stop\", \"stop\", \"stop\", \"stop\", \"straight\", \"straight\", \"straight\", \"straight\", \"street\", \"street\", \"street\", \"street\", \"style\", \"style\", \"style\", \"sucker\", \"sucker\", \"sucker\", \"sucker\", \"survive\", \"survive\", \"swing\", \"swing\", \"swing\", \"talk\", \"talk\", \"talk\", \"talk\", \"teach\", \"teach\", \"tears\", \"tears\", \"tell\", \"tell\", \"tell\", \"tell\", \"thang\", \"thang\", \"thing\", \"thing\", \"thing\", \"thing\", \"think\", \"think\", \"think\", \"think\", \"threw\", \"threw\", \"thug\", \"thug\", \"took\", \"took\", \"took\", \"took\", \"track\", \"track\", \"trapped\", \"tribe\", \"tried\", \"tried\", \"tried\", \"tried\", \"trigger\", \"us\", \"us\", \"us\", \"us\", \"wack\", \"walk\", \"walk\", \"walk\", \"walk\", \"war\", \"war\", \"wax\", \"wax\", \"way\", \"way\", \"way\", \"way\", \"well\", \"well\", \"well\", \"well\", \"went\", \"went\", \"went\", \"went\", \"wit\", \"wit\", \"wit\", \"word\", \"word\", \"word\", \"word\", \"world\", \"world\", \"world\", \"world\", \"would\", \"would\", \"would\", \"would\", \"wreck\", \"wreck\", \"yes\", \"yes\", \"yes\", \"yes\"]}, \"R\": 30, \"lambda.step\": 0.01, \"plot.opts\": {\"xlab\": \"PC1\", \"ylab\": \"PC2\"}, \"topic.order\": [3, 2, 1, 4]};\n",
       "\n",
       "function LDAvis_load_lib(url, callback){\n",
       "  var s = document.createElement('script');\n",
       "  s.src = url;\n",
       "  s.async = true;\n",
       "  s.onreadystatechange = s.onload = callback;\n",
       "  s.onerror = function(){console.warn(\"failed to load library \" + url);};\n",
       "  document.getElementsByTagName(\"head\")[0].appendChild(s);\n",
       "}\n",
       "\n",
       "if(typeof(LDAvis) !== \"undefined\"){\n",
       "   // already loaded: just create the visualization\n",
       "   !function(LDAvis){\n",
       "       new LDAvis(\"#\" + \"ldavis_el3536762800825921418885945\", ldavis_el3536762800825921418885945_data);\n",
       "   }(LDAvis);\n",
       "}else if(typeof define === \"function\" && define.amd){\n",
       "   // require.js is available: use it to load d3/LDAvis\n",
       "   require.config({paths: {d3: \"https://d3js.org/d3.v5\"}});\n",
       "   require([\"d3\"], function(d3){\n",
       "      window.d3 = d3;\n",
       "      LDAvis_load_lib(\"https://cdn.jsdelivr.net/gh/bmabey/pyLDAvis@3.4.0/pyLDAvis/js/ldavis.v3.0.0.js\", function(){\n",
       "        new LDAvis(\"#\" + \"ldavis_el3536762800825921418885945\", ldavis_el3536762800825921418885945_data);\n",
       "      });\n",
       "    });\n",
       "}else{\n",
       "    // require.js not available: dynamically load d3 & LDAvis\n",
       "    LDAvis_load_lib(\"https://d3js.org/d3.v5.js\", function(){\n",
       "         LDAvis_load_lib(\"https://cdn.jsdelivr.net/gh/bmabey/pyLDAvis@3.4.0/pyLDAvis/js/ldavis.v3.0.0.js\", function(){\n",
       "                 new LDAvis(\"#\" + \"ldavis_el3536762800825921418885945\", ldavis_el3536762800825921418885945_data);\n",
       "            })\n",
       "         });\n",
       "}\n",
       "</script>"
      ]
     },
     "execution_count": 9,
     "metadata": {},
     "output_type": "execute_result"
    }
   ],
   "execution_count": 9
  },
  {
   "metadata": {
    "ExecuteTime": {
     "end_time": "2025-05-07T20:25:45.400666Z",
     "start_time": "2025-05-07T20:25:44.972545Z"
    }
   },
   "cell_type": "code",
   "source": [
    "def format_topics_sentences(ldamodel, corpus, texts):\n",
    "    # Init output\n",
    "    sent_topics_df = pd.DataFrame()\n",
    "\n",
    "    # Get main topic in each document\n",
    "    for i, row_list in enumerate(ldamodel[corpus]):\n",
    "        row = sorted(row_list, key=lambda x: (x[1]), reverse=True)\n",
    "        # Get the dominant topic, its percentage, and keywords\n",
    "        for j, (topic_num, prop_topic) in enumerate(row):\n",
    "            if j == 0:  # Only the dominant topic\n",
    "                wp = ldamodel.show_topic(topic_num)\n",
    "                topic_keywords = \", \".join([word for word, prop in wp])\n",
    "\n",
    "                # Creating a temporary DataFrame to hold the new row\n",
    "                temp_df = pd.DataFrame([[int(topic_num), round(prop_topic, 4), topic_keywords]],\n",
    "                                       columns=['Dominant_Topic', 'Perc_Contribution', 'Topic_Keywords'])\n",
    "\n",
    "                # Use pd.concat() instead of append\n",
    "                sent_topics_df = pd.concat([sent_topics_df, temp_df], ignore_index=True)\n",
    "\n",
    "            else:\n",
    "                break\n",
    "\n",
    "    # Add original text to the DataFrame\n",
    "    contents = pd.Series(texts)\n",
    "    sent_topics_df = pd.concat([sent_topics_df, contents.rename('Text')], axis=1)\n",
    "\n",
    "    return sent_topics_df\n",
    "\n",
    "# Apply the updated function\n",
    "df_topic_sents_keywords = format_topics_sentences(\n",
    "    ldamodel=optimal_model,\n",
    "    corpus=corpus,\n",
    "    texts=df['Lyrics']\n",
    ")\n",
    "\n",
    "# Format the output\n",
    "df_dominant_topic = df_topic_sents_keywords.reset_index()\n",
    "df_dominant_topic.columns = ['Document_No', 'Dominant_Topic', 'Topic_Perc_Contrib', 'Keywords', 'Text']\n",
    "\n",
    "# Display the result\n",
    "df_dominant_topic.head()"
   ],
   "id": "40fd12776f4eb9d9",
   "outputs": [
    {
     "data": {
      "text/plain": [
       "   Document_No  Dominant_Topic  Topic_Perc_Contrib  \\\n",
       "0            0               2              0.4467   \n",
       "1            1               1              0.5864   \n",
       "2            2               2              0.7749   \n",
       "3            3               3              0.6271   \n",
       "4            4               2              0.3542   \n",
       "\n",
       "                                            Keywords  \\\n",
       "0  rhyme, rap, rock, keep, mic, check, move, stop...   \n",
       "1  fuck, bitch, motherfucker, ass, hit, roll, giv...   \n",
       "2  rhyme, rap, rock, keep, mic, check, move, stop...   \n",
       "3  girl, said, baby, would, look, around, call, w...   \n",
       "4  rhyme, rap, rock, keep, mic, check, move, stop...   \n",
       "\n",
       "                                                Text  \n",
       "0  \\n\\nYo\\nMy crew is in the house\\nTerra, Herb M...  \n",
       "1  \\n\\n[Intro:]\\nIt's the number one crew in the ...  \n",
       "2  \\n\\n[Verse 1]\\nThere are too many MC's who are...  \n",
       "3  \\n\\n[Verse 1:]\\nLet me get to the point real q...  \n",
       "4  \\n\\n[Big L]\\n A yo spark up the phillies and p...  "
      ],
      "text/html": [
       "<div>\n",
       "<style scoped>\n",
       "    .dataframe tbody tr th:only-of-type {\n",
       "        vertical-align: middle;\n",
       "    }\n",
       "\n",
       "    .dataframe tbody tr th {\n",
       "        vertical-align: top;\n",
       "    }\n",
       "\n",
       "    .dataframe thead th {\n",
       "        text-align: right;\n",
       "    }\n",
       "</style>\n",
       "<table border=\"1\" class=\"dataframe\">\n",
       "  <thead>\n",
       "    <tr style=\"text-align: right;\">\n",
       "      <th></th>\n",
       "      <th>Document_No</th>\n",
       "      <th>Dominant_Topic</th>\n",
       "      <th>Topic_Perc_Contrib</th>\n",
       "      <th>Keywords</th>\n",
       "      <th>Text</th>\n",
       "    </tr>\n",
       "  </thead>\n",
       "  <tbody>\n",
       "    <tr>\n",
       "      <th>0</th>\n",
       "      <td>0</td>\n",
       "      <td>2</td>\n",
       "      <td>0.4467</td>\n",
       "      <td>rhyme, rap, rock, keep, mic, check, move, stop...</td>\n",
       "      <td>\\n\\nYo\\nMy crew is in the house\\nTerra, Herb M...</td>\n",
       "    </tr>\n",
       "    <tr>\n",
       "      <th>1</th>\n",
       "      <td>1</td>\n",
       "      <td>1</td>\n",
       "      <td>0.5864</td>\n",
       "      <td>fuck, bitch, motherfucker, ass, hit, roll, giv...</td>\n",
       "      <td>\\n\\n[Intro:]\\nIt's the number one crew in the ...</td>\n",
       "    </tr>\n",
       "    <tr>\n",
       "      <th>2</th>\n",
       "      <td>2</td>\n",
       "      <td>2</td>\n",
       "      <td>0.7749</td>\n",
       "      <td>rhyme, rap, rock, keep, mic, check, move, stop...</td>\n",
       "      <td>\\n\\n[Verse 1]\\nThere are too many MC's who are...</td>\n",
       "    </tr>\n",
       "    <tr>\n",
       "      <th>3</th>\n",
       "      <td>3</td>\n",
       "      <td>3</td>\n",
       "      <td>0.6271</td>\n",
       "      <td>girl, said, baby, would, look, around, call, w...</td>\n",
       "      <td>\\n\\n[Verse 1:]\\nLet me get to the point real q...</td>\n",
       "    </tr>\n",
       "    <tr>\n",
       "      <th>4</th>\n",
       "      <td>4</td>\n",
       "      <td>2</td>\n",
       "      <td>0.3542</td>\n",
       "      <td>rhyme, rap, rock, keep, mic, check, move, stop...</td>\n",
       "      <td>\\n\\n[Big L]\\n A yo spark up the phillies and p...</td>\n",
       "    </tr>\n",
       "  </tbody>\n",
       "</table>\n",
       "</div>"
      ]
     },
     "execution_count": 10,
     "metadata": {},
     "output_type": "execute_result"
    }
   ],
   "execution_count": 10
  },
  {
   "metadata": {
    "ExecuteTime": {
     "end_time": "2025-05-07T20:25:55.057230Z",
     "start_time": "2025-05-07T20:25:55.046072Z"
    }
   },
   "cell_type": "code",
   "source": [
    "# Assuming you have a 'Region' column indicating 'East' or 'West'\n",
    "df_dominant_topic['Coast'] = df['Coast']\n",
    "\n",
    "# Calculate the distribution of topics by region (East vs West) in percentages\n",
    "topic_region_dist = pd.crosstab(df_dominant_topic['Dominant_Topic'],\n",
    "                                df_dominant_topic['Coast'],\n",
    "                                normalize='index') * 100\n",
    "print(topic_region_dist)"
   ],
   "id": "bd13b4cea73ca753",
   "outputs": [
    {
     "name": "stdout",
     "output_type": "stream",
     "text": [
      "Coast           east_coast  west_coast\n",
      "Dominant_Topic                        \n",
      "0                57.348703   42.651297\n",
      "1                24.709302   75.290698\n",
      "2                70.065076   29.934924\n",
      "3                43.981481   56.018519\n"
     ]
    }
   ],
   "execution_count": 11
  },
  {
   "metadata": {
    "ExecuteTime": {
     "end_time": "2025-05-07T20:25:57.057303Z",
     "start_time": "2025-05-07T20:25:56.824277Z"
    }
   },
   "cell_type": "code",
   "source": [
    "# Reset the index to convert 'Dominant_Topic' from index to column\n",
    "topic_region_dist = topic_region_dist.reset_index()\n",
    "\n",
    "# Melt the DataFrame for easier plotting with seaborn\n",
    "topic_region_dist_melted = topic_region_dist.melt(id_vars='Dominant_Topic',\n",
    "                                                  value_vars=['east_coast', 'west_coast'],\n",
    "                                                  var_name='Coast',\n",
    "                                                  value_name='Percentage')\n",
    "\n",
    "# Define custom colors for East Coast (blue) and West Coast (red)\n",
    "palette = {\"east_coast\": \"blue\", \"west_coast\": \"red\"}\n",
    "\n",
    "# Create the bar plot with custom colors\n",
    "plt.figure(figsize=(12, 6))\n",
    "sns.barplot(x='Dominant_Topic', y='Percentage', hue='Coast', data=topic_region_dist_melted, palette=palette)\n",
    "\n",
    "# Set plot labels and title\n",
    "plt.xlabel(\"Dominant Topic\")\n",
    "plt.ylabel(\"Percentage Contribution\")\n",
    "plt.title(\"Percentage Contribution of East and West Coast to Each Topic\")\n",
    "\n",
    "# Show the plot\n",
    "plt.show()"
   ],
   "id": "8d9662bc11e19eea",
   "outputs": [
    {
     "data": {
      "text/plain": [
       "<Figure size 1200x600 with 1 Axes>"
      ],
      "image/png": "[encoded data removed]"
     },
     "metadata": {},
     "output_type": "display_data"
    }
   ],
   "execution_count": 12
  },
  {
   "metadata": {
    "ExecuteTime": {
     "end_time": "2025-05-07T20:25:59.378840Z",
     "start_time": "2025-05-07T20:25:59.368281Z"
    }
   },
   "cell_type": "code",
   "source": "df.head()",
   "id": "a8da7b53267d4f1f",
   "outputs": [
    {
     "data": {
      "text/plain": [
       "  Artist                                Album                       Song  \\\n",
       "0  Big L  Lifestylez Ov Da Poor and Dangerous             8 Iz Enuff.mp3   \n",
       "1  Big L  Lifestylez Ov Da Poor and Dangerous           Da Graveyard.mp3   \n",
       "2  Big L  Lifestylez Ov Da Poor and Dangerous  I Don't Understand It.mp3   \n",
       "3  Big L  Lifestylez Ov Da Poor and Dangerous      No Endz, No Skinz.mp3   \n",
       "4  Big L  Lifestylez Ov Da Poor and Dangerous                    MVP.mp3   \n",
       "\n",
       "        Coast  Release Year      Tempo1     Tempo2  Duration (s)  \\\n",
       "0  east_coast          1995   96.774194  48.000000    298.840000   \n",
       "1  east_coast          1995   93.750000  46.511628    323.760000   \n",
       "2  east_coast          1995   93.750000  47.244094    260.226667   \n",
       "3  east_coast          1995  100.000000  50.420168    208.733333   \n",
       "4  east_coast          1995   86.956522  43.478261    218.866667   \n",
       "\n",
       "   Sample Rate (Hz)                                               Path  \\\n",
       "0             48000  /Users/borosabel/Documents/Uni/Thesis/PopMIR/D...   \n",
       "1             48000  /Users/borosabel/Documents/Uni/Thesis/PopMIR/D...   \n",
       "2             48000  /Users/borosabel/Documents/Uni/Thesis/PopMIR/D...   \n",
       "3             48000  /Users/borosabel/Documents/Uni/Thesis/PopMIR/D...   \n",
       "4             48000  /Users/borosabel/Documents/Uni/Thesis/PopMIR/D...   \n",
       "\n",
       "                                              Lyrics  \\\n",
       "0  \\n\\nYo\\nMy crew is in the house\\nTerra, Herb M...   \n",
       "1  \\n\\n[Intro:]\\nIt's the number one crew in the ...   \n",
       "2  \\n\\n[Verse 1]\\nThere are too many MC's who are...   \n",
       "3  \\n\\n[Verse 1:]\\nLet me get to the point real q...   \n",
       "4  \\n\\n[Big L]\\n A yo spark up the phillies and p...   \n",
       "\n",
       "                                              Tokens  \\\n",
       "0  [crew, house, bless, big, mike, imma, set, fol...   \n",
       "1  [number, one, crew, big, nigga, men, win, kill...   \n",
       "2  [many, mcs, ask, even, supposed, make, rap, kn...   \n",
       "3  [let, point, real, quick, pocket, thick, mad, ...   \n",
       "4  [pass, make, quick, money, grip, ass, street, ...   \n",
       "\n",
       "                                    Processed_Lyrics  \n",
       "0  crew house terra herb mcgruff buddah bless big...  \n",
       "1  number one crew area big lightin nigga incense...  \n",
       "2  many mcs overrated ask even supposed make rap ...  \n",
       "3  let get point real quick pocket thick mad chic...  \n",
       "4  spark phillies pass stout make quick money gri...  "
      ],
      "text/html": [
       "<div>\n",
       "<style scoped>\n",
       "    .dataframe tbody tr th:only-of-type {\n",
       "        vertical-align: middle;\n",
       "    }\n",
       "\n",
       "    .dataframe tbody tr th {\n",
       "        vertical-align: top;\n",
       "    }\n",
       "\n",
       "    .dataframe thead th {\n",
       "        text-align: right;\n",
       "    }\n",
       "</style>\n",
       "<table border=\"1\" class=\"dataframe\">\n",
       "  <thead>\n",
       "    <tr style=\"text-align: right;\">\n",
       "      <th></th>\n",
       "      <th>Artist</th>\n",
       "      <th>Album</th>\n",
       "      <th>Song</th>\n",
       "      <th>Coast</th>\n",
       "      <th>Release Year</th>\n",
       "      <th>Tempo1</th>\n",
       "      <th>Tempo2</th>\n",
       "      <th>Duration (s)</th>\n",
       "      <th>Sample Rate (Hz)</th>\n",
       "      <th>Path</th>\n",
       "      <th>Lyrics</th>\n",
       "      <th>Tokens</th>\n",
       "      <th>Processed_Lyrics</th>\n",
       "    </tr>\n",
       "  </thead>\n",
       "  <tbody>\n",
       "    <tr>\n",
       "      <th>0</th>\n",
       "      <td>Big L</td>\n",
       "      <td>Lifestylez Ov Da Poor and Dangerous</td>\n",
       "      <td>8 Iz Enuff.mp3</td>\n",
       "      <td>east_coast</td>\n",
       "      <td>1995</td>\n",
       "      <td>96.774194</td>\n",
       "      <td>48.000000</td>\n",
       "      <td>298.840000</td>\n",
       "      <td>48000</td>\n",
       "      <td>/Users/borosabel/Documents/Uni/Thesis/PopMIR/D...</td>\n",
       "      <td>\\n\\nYo\\nMy crew is in the house\\nTerra, Herb M...</td>\n",
       "      <td>[crew, house, bless, big, mike, imma, set, fol...</td>\n",
       "      <td>crew house terra herb mcgruff buddah bless big...</td>\n",
       "    </tr>\n",
       "    <tr>\n",
       "      <th>1</th>\n",
       "      <td>Big L</td>\n",
       "      <td>Lifestylez Ov Da Poor and Dangerous</td>\n",
       "      <td>Da Graveyard.mp3</td>\n",
       "      <td>east_coast</td>\n",
       "      <td>1995</td>\n",
       "      <td>93.750000</td>\n",
       "      <td>46.511628</td>\n",
       "      <td>323.760000</td>\n",
       "      <td>48000</td>\n",
       "      <td>/Users/borosabel/Documents/Uni/Thesis/PopMIR/D...</td>\n",
       "      <td>\\n\\n[Intro:]\\nIt's the number one crew in the ...</td>\n",
       "      <td>[number, one, crew, big, nigga, men, win, kill...</td>\n",
       "      <td>number one crew area big lightin nigga incense...</td>\n",
       "    </tr>\n",
       "    <tr>\n",
       "      <th>2</th>\n",
       "      <td>Big L</td>\n",
       "      <td>Lifestylez Ov Da Poor and Dangerous</td>\n",
       "      <td>I Don't Understand It.mp3</td>\n",
       "      <td>east_coast</td>\n",
       "      <td>1995</td>\n",
       "      <td>93.750000</td>\n",
       "      <td>47.244094</td>\n",
       "      <td>260.226667</td>\n",
       "      <td>48000</td>\n",
       "      <td>/Users/borosabel/Documents/Uni/Thesis/PopMIR/D...</td>\n",
       "      <td>\\n\\n[Verse 1]\\nThere are too many MC's who are...</td>\n",
       "      <td>[many, mcs, ask, even, supposed, make, rap, kn...</td>\n",
       "      <td>many mcs overrated ask even supposed make rap ...</td>\n",
       "    </tr>\n",
       "    <tr>\n",
       "      <th>3</th>\n",
       "      <td>Big L</td>\n",
       "      <td>Lifestylez Ov Da Poor and Dangerous</td>\n",
       "      <td>No Endz, No Skinz.mp3</td>\n",
       "      <td>east_coast</td>\n",
       "      <td>1995</td>\n",
       "      <td>100.000000</td>\n",
       "      <td>50.420168</td>\n",
       "      <td>208.733333</td>\n",
       "      <td>48000</td>\n",
       "      <td>/Users/borosabel/Documents/Uni/Thesis/PopMIR/D...</td>\n",
       "      <td>\\n\\n[Verse 1:]\\nLet me get to the point real q...</td>\n",
       "      <td>[let, point, real, quick, pocket, thick, mad, ...</td>\n",
       "      <td>let get point real quick pocket thick mad chic...</td>\n",
       "    </tr>\n",
       "    <tr>\n",
       "      <th>4</th>\n",
       "      <td>Big L</td>\n",
       "      <td>Lifestylez Ov Da Poor and Dangerous</td>\n",
       "      <td>MVP.mp3</td>\n",
       "      <td>east_coast</td>\n",
       "      <td>1995</td>\n",
       "      <td>86.956522</td>\n",
       "      <td>43.478261</td>\n",
       "      <td>218.866667</td>\n",
       "      <td>48000</td>\n",
       "      <td>/Users/borosabel/Documents/Uni/Thesis/PopMIR/D...</td>\n",
       "      <td>\\n\\n[Big L]\\n A yo spark up the phillies and p...</td>\n",
       "      <td>[pass, make, quick, money, grip, ass, street, ...</td>\n",
       "      <td>spark phillies pass stout make quick money gri...</td>\n",
       "    </tr>\n",
       "  </tbody>\n",
       "</table>\n",
       "</div>"
      ]
     },
     "execution_count": 13,
     "metadata": {},
     "output_type": "execute_result"
    }
   ],
   "execution_count": 13
  },
  {
   "metadata": {},
   "cell_type": "code",
   "outputs": [],
   "execution_count": null,
   "source": "",
   "id": "ff1e7a0e62b2c6c4"
  }
 ],
 "metadata": {
  "kernelspec": {
   "display_name": "Python 3",
   "language": "python",
   "name": "python3"
  },
  "language_info": {
   "codemirror_mode": {
    "name": "ipython",
    "version": 2
   },
   "file_extension": ".py",
   "mimetype": "text/x-python",
   "name": "python",
   "nbconvert_exporter": "python",
   "pygments_lexer": "ipython2",
   "version": "2.7.6"
  }
 },
 "nbformat": 4,
 "nbformat_minor": 5
}
