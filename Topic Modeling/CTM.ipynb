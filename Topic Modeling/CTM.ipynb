{
 "cells": [
  {
   "metadata": {
    "ExecuteTime": {
     "end_time": "2024-10-21T19:59:13.350041Z",
     "start_time": "2024-10-21T19:59:09.410054Z"
    }
   },
   "cell_type": "code",
   "source": [
    "import pandas as pd\n",
    "import itertools\n",
    "from contextualized_topic_models.utils.data_preparation import TopicModelDataPreparation\n",
    "from contextualized_topic_models.models.ctm import CombinedTM\n",
    "from gensim.models.coherencemodel import CoherenceModel\n",
    "from gensim import corpora\n",
    "import matplotlib.pyplot as plt\n",
    "import os\n",
    "import importlib\n",
    "import utility_functions as utils\n",
    "importlib.reload(utils)\n",
    "\n",
    "os.environ[\"TOKENIZERS_PARALLELISM\"] = \"false\""
   ],
   "id": "eaf48881963c5795",
   "outputs": [],
   "execution_count": 1
  },
  {
   "metadata": {
    "ExecuteTime": {
     "end_time": "2024-10-21T19:59:13.353471Z",
     "start_time": "2024-10-21T19:59:13.351077Z"
    }
   },
   "cell_type": "code",
   "source": [
    "num_topics_list = [2, 3, 4]\n",
    "ctm_epochs_list = [5, 10, 20]\n",
    "ctm_learning_rates = [2e-3, 5e-3, 1e-2]\n",
    "ctm_batch_sizes = [64, 128]\n",
    "\n",
    "# Create all combinations of parameters\n",
    "ctm_param_grid = list(itertools.product(num_topics_list, ctm_epochs_list, ctm_learning_rates, ctm_batch_sizes))"
   ],
   "id": "dae93c2d889dcaf",
   "outputs": [],
   "execution_count": 2
  },
  {
   "metadata": {
    "ExecuteTime": {
     "end_time": "2024-10-21T19:59:13.704631Z",
     "start_time": "2024-10-21T19:59:13.354182Z"
    }
   },
   "cell_type": "code",
   "source": [
    "# Load your dataframe\n",
    "df = pd.read_pickle('./preprocessed_df.pkl')\n",
    "\n",
    "if isinstance(df['Tokens'].iloc[0], str):\n",
    "    import ast\n",
    "    df['Tokens'] = df['Tokens'].apply(ast.literal_eval)\n",
    "\n",
    "texts = df['Tokens']\n",
    "texts_bow = [' '.join(tokens) for tokens in df['Tokens']]\n",
    "df['Lyrics'] = df['Lyrics'].apply(utils.light_preprocessing)\n",
    "documents = df['Lyrics']"
   ],
   "id": "652e2a994b70cf6f",
   "outputs": [],
   "execution_count": 3
  },
  {
   "metadata": {
    "ExecuteTime": {
     "end_time": "2024-10-21T19:59:13.719055Z",
     "start_time": "2024-10-21T19:59:13.705417Z"
    }
   },
   "cell_type": "code",
   "source": "df",
   "id": "d924c38df1b885bf",
   "outputs": [
    {
     "data": {
      "text/plain": [
       "      Artist                                Album  \\\n",
       "0      Big L  Lifestylez Ov Da Poor and Dangerous   \n",
       "1      Big L  Lifestylez Ov Da Poor and Dangerous   \n",
       "2      Big L  Lifestylez Ov Da Poor and Dangerous   \n",
       "3      Big L  Lifestylez Ov Da Poor and Dangerous   \n",
       "4      Big L  Lifestylez Ov Da Poor and Dangerous   \n",
       "...      ...                                  ...   \n",
       "1363  Dr.Dre                          The Chronic   \n",
       "1364  Dr.Dre                          The Chronic   \n",
       "1365  Dr.Dre                          The Chronic   \n",
       "1366  Dr.Dre                          The Chronic   \n",
       "1367  Dr.Dre                          The Chronic   \n",
       "\n",
       "                                                   Song       Coast  \\\n",
       "0                                        8 Iz Enuff.mp3  east_coast   \n",
       "1                                      Da Graveyard.mp3  east_coast   \n",
       "2                             I Don't Understand It.mp3  east_coast   \n",
       "3                                 No Endz, No Skinz.mp3  east_coast   \n",
       "4                                               MVP.mp3  east_coast   \n",
       "...                                                 ...         ...   \n",
       "1363  Dr. Dre - The Day the Niggaz Took Over (feat. ...  west_coast   \n",
       "1364  Dr. Dre - Bitches Ain't Shit (feat. Jewell, Sn...  west_coast   \n",
       "1365  Dr. Dre - Stranded On Death Row (feat. Bushwic...  west_coast   \n",
       "1366  Dr. Dre - Nuthin' but a ＂G＂ Thang (feat. Snoop...  west_coast   \n",
       "1367  Dr. Dre - The Roach (ft. Ruben Cruz, Daz Dilli...  west_coast   \n",
       "\n",
       "      Release Year      Tempo1     Tempo2  Duration (s)  Sample Rate (Hz)  \\\n",
       "0             1995   96.774194  48.000000    298.840000             48000   \n",
       "1             1995   93.750000  46.511628    323.760000             48000   \n",
       "2             1995   93.750000  47.244094    260.226667             48000   \n",
       "3             1995  100.000000  50.420168    208.733333             48000   \n",
       "4             1995   86.956522  43.478261    218.866667             48000   \n",
       "...            ...         ...        ...           ...               ...   \n",
       "1363          1992   93.750000  46.875000    273.206000             48000   \n",
       "1364          1992   92.307692  46.153846    287.207625             48000   \n",
       "1365          1992   90.909091  45.801527    287.335333             48000   \n",
       "1366          1992   95.238095  47.244094    238.677917             48000   \n",
       "1367          1992   89.552239  44.117647    277.072125             48000   \n",
       "\n",
       "                                                   Path  \\\n",
       "0     /Users/borosabel/Documents/Uni/Thesis/PopMIR/D...   \n",
       "1     /Users/borosabel/Documents/Uni/Thesis/PopMIR/D...   \n",
       "2     /Users/borosabel/Documents/Uni/Thesis/PopMIR/D...   \n",
       "3     /Users/borosabel/Documents/Uni/Thesis/PopMIR/D...   \n",
       "4     /Users/borosabel/Documents/Uni/Thesis/PopMIR/D...   \n",
       "...                                                 ...   \n",
       "1363  /Users/borosabel/Documents/Uni/Thesis/PopMIR/D...   \n",
       "1364  /Users/borosabel/Documents/Uni/Thesis/PopMIR/D...   \n",
       "1365  /Users/borosabel/Documents/Uni/Thesis/PopMIR/D...   \n",
       "1366  /Users/borosabel/Documents/Uni/Thesis/PopMIR/D...   \n",
       "1367  /Users/borosabel/Documents/Uni/Thesis/PopMIR/D...   \n",
       "\n",
       "                                                 Lyrics  \\\n",
       "0     yo my crew is in the house terra herb mcgruff ...   \n",
       "1     it's the number one crew in the area big l be ...   \n",
       "2     there are too many mc's who are overrated you ...   \n",
       "3     let me get to the point real quick when ya poc...   \n",
       "4     a yo spark up the phillies and pass the stout ...   \n",
       "...                                                 ...   \n",
       "1363  i'ma say this and i'ma end mine if you ain't d...   \n",
       "1364  bitches ain't shit but hoes and tricks bitches...   \n",
       "1365  yes it is i \" says me and all who agree are mo...   \n",
       "1366  one two three and to the four snoop doggy dogg...   \n",
       "1367  cannabis sativa ha ha or in the heart of la kn...   \n",
       "\n",
       "                                                 Tokens  \\\n",
       "0     [crew, house, bless, big, mike, imma, set, fol...   \n",
       "1     [number, one, crew, big, nigga, men, win, kill...   \n",
       "2     [many, mcs, ask, even, supposed, make, rap, kn...   \n",
       "3     [let, point, real, quick, pocket, thick, mad, ...   \n",
       "4     [pass, make, quick, money, grip, ass, street, ...   \n",
       "...                                                 ...   \n",
       "1363  [say, end, mine, point, one, south, shit, need...   \n",
       "1364  [bitch, shit, hoe, trick, bitch, shit, hoe, tr...   \n",
       "1365  [yes, say, three, yes, house, sure, want, talk...   \n",
       "1366  [one, two, three, four, dog, dr, dre, door, re...   \n",
       "1367  [heart, la, know, even, though, six, million, ...   \n",
       "\n",
       "                                       Processed_Lyrics  \n",
       "0     crew house terra herb mcgruff buddah bless big...  \n",
       "1     number one crew area big lightin nigga incense...  \n",
       "2     many mcs overrated ask even supposed make rap ...  \n",
       "3     let get point real quick pocket thick mad chic...  \n",
       "4     spark phillies pass stout make quick money gri...  \n",
       "...                                                 ...  \n",
       "1363  say end mine africans united states period poi...  \n",
       "1364  bitch shit hoe trick bitch shit hoe trick lick...  \n",
       "1365  yes say agree three yes house sure want talk h...  \n",
       "1366  one two three four snoop doggy dog dr dre door...  \n",
       "1367  cannabis sativa heart la know chronic confused...  \n",
       "\n",
       "[1368 rows x 13 columns]"
      ],
      "text/html": [
       "<div>\n",
       "<style scoped>\n",
       "    .dataframe tbody tr th:only-of-type {\n",
       "        vertical-align: middle;\n",
       "    }\n",
       "\n",
       "    .dataframe tbody tr th {\n",
       "        vertical-align: top;\n",
       "    }\n",
       "\n",
       "    .dataframe thead th {\n",
       "        text-align: right;\n",
       "    }\n",
       "</style>\n",
       "<table border=\"1\" class=\"dataframe\">\n",
       "  <thead>\n",
       "    <tr style=\"text-align: right;\">\n",
       "      <th></th>\n",
       "      <th>Artist</th>\n",
       "      <th>Album</th>\n",
       "      <th>Song</th>\n",
       "      <th>Coast</th>\n",
       "      <th>Release Year</th>\n",
       "      <th>Tempo1</th>\n",
       "      <th>Tempo2</th>\n",
       "      <th>Duration (s)</th>\n",
       "      <th>Sample Rate (Hz)</th>\n",
       "      <th>Path</th>\n",
       "      <th>Lyrics</th>\n",
       "      <th>Tokens</th>\n",
       "      <th>Processed_Lyrics</th>\n",
       "    </tr>\n",
       "  </thead>\n",
       "  <tbody>\n",
       "    <tr>\n",
       "      <th>0</th>\n",
       "      <td>Big L</td>\n",
       "      <td>Lifestylez Ov Da Poor and Dangerous</td>\n",
       "      <td>8 Iz Enuff.mp3</td>\n",
       "      <td>east_coast</td>\n",
       "      <td>1995</td>\n",
       "      <td>96.774194</td>\n",
       "      <td>48.000000</td>\n",
       "      <td>298.840000</td>\n",
       "      <td>48000</td>\n",
       "      <td>/Users/borosabel/Documents/Uni/Thesis/PopMIR/D...</td>\n",
       "      <td>yo my crew is in the house terra herb mcgruff ...</td>\n",
       "      <td>[crew, house, bless, big, mike, imma, set, fol...</td>\n",
       "      <td>crew house terra herb mcgruff buddah bless big...</td>\n",
       "    </tr>\n",
       "    <tr>\n",
       "      <th>1</th>\n",
       "      <td>Big L</td>\n",
       "      <td>Lifestylez Ov Da Poor and Dangerous</td>\n",
       "      <td>Da Graveyard.mp3</td>\n",
       "      <td>east_coast</td>\n",
       "      <td>1995</td>\n",
       "      <td>93.750000</td>\n",
       "      <td>46.511628</td>\n",
       "      <td>323.760000</td>\n",
       "      <td>48000</td>\n",
       "      <td>/Users/borosabel/Documents/Uni/Thesis/PopMIR/D...</td>\n",
       "      <td>it's the number one crew in the area big l be ...</td>\n",
       "      <td>[number, one, crew, big, nigga, men, win, kill...</td>\n",
       "      <td>number one crew area big lightin nigga incense...</td>\n",
       "    </tr>\n",
       "    <tr>\n",
       "      <th>2</th>\n",
       "      <td>Big L</td>\n",
       "      <td>Lifestylez Ov Da Poor and Dangerous</td>\n",
       "      <td>I Don't Understand It.mp3</td>\n",
       "      <td>east_coast</td>\n",
       "      <td>1995</td>\n",
       "      <td>93.750000</td>\n",
       "      <td>47.244094</td>\n",
       "      <td>260.226667</td>\n",
       "      <td>48000</td>\n",
       "      <td>/Users/borosabel/Documents/Uni/Thesis/PopMIR/D...</td>\n",
       "      <td>there are too many mc's who are overrated you ...</td>\n",
       "      <td>[many, mcs, ask, even, supposed, make, rap, kn...</td>\n",
       "      <td>many mcs overrated ask even supposed make rap ...</td>\n",
       "    </tr>\n",
       "    <tr>\n",
       "      <th>3</th>\n",
       "      <td>Big L</td>\n",
       "      <td>Lifestylez Ov Da Poor and Dangerous</td>\n",
       "      <td>No Endz, No Skinz.mp3</td>\n",
       "      <td>east_coast</td>\n",
       "      <td>1995</td>\n",
       "      <td>100.000000</td>\n",
       "      <td>50.420168</td>\n",
       "      <td>208.733333</td>\n",
       "      <td>48000</td>\n",
       "      <td>/Users/borosabel/Documents/Uni/Thesis/PopMIR/D...</td>\n",
       "      <td>let me get to the point real quick when ya poc...</td>\n",
       "      <td>[let, point, real, quick, pocket, thick, mad, ...</td>\n",
       "      <td>let get point real quick pocket thick mad chic...</td>\n",
       "    </tr>\n",
       "    <tr>\n",
       "      <th>4</th>\n",
       "      <td>Big L</td>\n",
       "      <td>Lifestylez Ov Da Poor and Dangerous</td>\n",
       "      <td>MVP.mp3</td>\n",
       "      <td>east_coast</td>\n",
       "      <td>1995</td>\n",
       "      <td>86.956522</td>\n",
       "      <td>43.478261</td>\n",
       "      <td>218.866667</td>\n",
       "      <td>48000</td>\n",
       "      <td>/Users/borosabel/Documents/Uni/Thesis/PopMIR/D...</td>\n",
       "      <td>a yo spark up the phillies and pass the stout ...</td>\n",
       "      <td>[pass, make, quick, money, grip, ass, street, ...</td>\n",
       "      <td>spark phillies pass stout make quick money gri...</td>\n",
       "    </tr>\n",
       "    <tr>\n",
       "      <th>...</th>\n",
       "      <td>...</td>\n",
       "      <td>...</td>\n",
       "      <td>...</td>\n",
       "      <td>...</td>\n",
       "      <td>...</td>\n",
       "      <td>...</td>\n",
       "      <td>...</td>\n",
       "      <td>...</td>\n",
       "      <td>...</td>\n",
       "      <td>...</td>\n",
       "      <td>...</td>\n",
       "      <td>...</td>\n",
       "      <td>...</td>\n",
       "    </tr>\n",
       "    <tr>\n",
       "      <th>1363</th>\n",
       "      <td>Dr.Dre</td>\n",
       "      <td>The Chronic</td>\n",
       "      <td>Dr. Dre - The Day the Niggaz Took Over (feat. ...</td>\n",
       "      <td>west_coast</td>\n",
       "      <td>1992</td>\n",
       "      <td>93.750000</td>\n",
       "      <td>46.875000</td>\n",
       "      <td>273.206000</td>\n",
       "      <td>48000</td>\n",
       "      <td>/Users/borosabel/Documents/Uni/Thesis/PopMIR/D...</td>\n",
       "      <td>i'ma say this and i'ma end mine if you ain't d...</td>\n",
       "      <td>[say, end, mine, point, one, south, shit, need...</td>\n",
       "      <td>say end mine africans united states period poi...</td>\n",
       "    </tr>\n",
       "    <tr>\n",
       "      <th>1364</th>\n",
       "      <td>Dr.Dre</td>\n",
       "      <td>The Chronic</td>\n",
       "      <td>Dr. Dre - Bitches Ain't Shit (feat. Jewell, Sn...</td>\n",
       "      <td>west_coast</td>\n",
       "      <td>1992</td>\n",
       "      <td>92.307692</td>\n",
       "      <td>46.153846</td>\n",
       "      <td>287.207625</td>\n",
       "      <td>48000</td>\n",
       "      <td>/Users/borosabel/Documents/Uni/Thesis/PopMIR/D...</td>\n",
       "      <td>bitches ain't shit but hoes and tricks bitches...</td>\n",
       "      <td>[bitch, shit, hoe, trick, bitch, shit, hoe, tr...</td>\n",
       "      <td>bitch shit hoe trick bitch shit hoe trick lick...</td>\n",
       "    </tr>\n",
       "    <tr>\n",
       "      <th>1365</th>\n",
       "      <td>Dr.Dre</td>\n",
       "      <td>The Chronic</td>\n",
       "      <td>Dr. Dre - Stranded On Death Row (feat. Bushwic...</td>\n",
       "      <td>west_coast</td>\n",
       "      <td>1992</td>\n",
       "      <td>90.909091</td>\n",
       "      <td>45.801527</td>\n",
       "      <td>287.335333</td>\n",
       "      <td>48000</td>\n",
       "      <td>/Users/borosabel/Documents/Uni/Thesis/PopMIR/D...</td>\n",
       "      <td>yes it is i \" says me and all who agree are mo...</td>\n",
       "      <td>[yes, say, three, yes, house, sure, want, talk...</td>\n",
       "      <td>yes say agree three yes house sure want talk h...</td>\n",
       "    </tr>\n",
       "    <tr>\n",
       "      <th>1366</th>\n",
       "      <td>Dr.Dre</td>\n",
       "      <td>The Chronic</td>\n",
       "      <td>Dr. Dre - Nuthin' but a ＂G＂ Thang (feat. Snoop...</td>\n",
       "      <td>west_coast</td>\n",
       "      <td>1992</td>\n",
       "      <td>95.238095</td>\n",
       "      <td>47.244094</td>\n",
       "      <td>238.677917</td>\n",
       "      <td>48000</td>\n",
       "      <td>/Users/borosabel/Documents/Uni/Thesis/PopMIR/D...</td>\n",
       "      <td>one two three and to the four snoop doggy dogg...</td>\n",
       "      <td>[one, two, three, four, dog, dr, dre, door, re...</td>\n",
       "      <td>one two three four snoop doggy dog dr dre door...</td>\n",
       "    </tr>\n",
       "    <tr>\n",
       "      <th>1367</th>\n",
       "      <td>Dr.Dre</td>\n",
       "      <td>The Chronic</td>\n",
       "      <td>Dr. Dre - The Roach (ft. Ruben Cruz, Daz Dilli...</td>\n",
       "      <td>west_coast</td>\n",
       "      <td>1992</td>\n",
       "      <td>89.552239</td>\n",
       "      <td>44.117647</td>\n",
       "      <td>277.072125</td>\n",
       "      <td>48000</td>\n",
       "      <td>/Users/borosabel/Documents/Uni/Thesis/PopMIR/D...</td>\n",
       "      <td>cannabis sativa ha ha or in the heart of la kn...</td>\n",
       "      <td>[heart, la, know, even, though, six, million, ...</td>\n",
       "      <td>cannabis sativa heart la know chronic confused...</td>\n",
       "    </tr>\n",
       "  </tbody>\n",
       "</table>\n",
       "<p>1368 rows × 13 columns</p>\n",
       "</div>"
      ]
     },
     "execution_count": 4,
     "metadata": {},
     "output_type": "execute_result"
    }
   ],
   "execution_count": 4
  },
  {
   "metadata": {
    "ExecuteTime": {
     "end_time": "2024-10-21T20:01:26.138549Z",
     "start_time": "2024-10-21T19:59:13.720428Z"
    }
   },
   "cell_type": "code",
   "source": [
    "tp = TopicModelDataPreparation(\"all-mpnet-base-v2\", max_seq_length=512)\n",
    "training_dataset = tp.fit(text_for_contextual=documents, text_for_bow=texts_bow)"
   ],
   "id": "727caaf1bebe0cab",
   "outputs": [
    {
     "name": "stderr",
     "output_type": "stream",
     "text": [
      "/Users/borosabel/lib/python3.9/site-packages/contextualized_topic_models/utils/data_preparation.py:64: UserWarning: the longest document in your collection has 1919 words, the model instead truncates to 512 tokens.\n",
      "  warnings.warn(\n"
     ]
    },
    {
     "data": {
      "text/plain": [
       "Batches:   0%|          | 0/7 [00:00<?, ?it/s]"
      ],
      "application/vnd.jupyter.widget-view+json": {
       "version_major": 2,
       "version_minor": 0,
       "model_id": "d090c40e2c824c62901f26595256f87a"
      }
     },
     "metadata": {},
     "output_type": "display_data"
    }
   ],
   "execution_count": 5
  },
  {
   "metadata": {
    "ExecuteTime": {
     "end_time": "2024-10-21T20:01:26.732502Z",
     "start_time": "2024-10-21T20:01:26.163399Z"
    }
   },
   "cell_type": "code",
   "source": "dictionary = corpora.Dictionary(texts)",
   "id": "8c113371d24b16e9",
   "outputs": [],
   "execution_count": 6
  },
  {
   "metadata": {
    "ExecuteTime": {
     "end_time": "2024-10-21T20:04:40.158526Z",
     "start_time": "2024-10-21T20:01:26.734026Z"
    }
   },
   "cell_type": "code",
   "source": [
    "# Function to evaluate CTM models and save results into a DataFrame\n",
    "def evaluate_ctm_models(training_dataset, tp, texts, dictionary, ctm_param_grid, metrics=('coherence',), save_dir='saved_models'):\n",
    "    \"\"\"\n",
    "    Evaluate CTM models with a given set of hyperparameters and metrics, and save results to a DataFrame.\n",
    "\n",
    "    Parameters:\n",
    "    - training_dataset: The training dataset prepared by TopicModelDataPreparation.\n",
    "    - tp: The TopicModelDataPreparation object with vocabulary info.\n",
    "    - texts: The list of tokenized texts.\n",
    "    - dictionary: The Gensim dictionary.\n",
    "    - ctm_param_grid: List of tuples for hyperparameters (num_topics, epochs, learning_rate, batch_size).\n",
    "    - metrics: Tuple of metrics to evaluate ('coherence', 'diversity', or both).\n",
    "    - save_dir: Directory to save the results DataFrame.\n",
    "\n",
    "    Returns:\n",
    "    - results_df: A DataFrame containing the evaluation results.\n",
    "    \"\"\"\n",
    "    ctm_results = []\n",
    "\n",
    "    # Create directory if it doesn't exist\n",
    "    if not os.path.exists(save_dir):\n",
    "        os.makedirs(save_dir)\n",
    "\n",
    "    # Iterate through each parameter combination\n",
    "    for idx, (num_topics, epochs, learning_rate, batch_size) in enumerate(ctm_param_grid):\n",
    "        try:\n",
    "            print(f\"Training CTM model {idx+1}/{len(ctm_param_grid)} with num_topics={num_topics}, epochs={epochs}, learning_rate={learning_rate}, batch_size={batch_size}\")\n",
    "\n",
    "            # Initialize the model\n",
    "            ctm_model = CombinedTM(\n",
    "                bow_size=len(tp.vocab),\n",
    "                contextual_size=768,\n",
    "                n_components=num_topics,\n",
    "                num_epochs=epochs,\n",
    "                batch_size=batch_size,\n",
    "                activation='softplus',\n",
    "                dropout=0.2,\n",
    "                solver='adam',\n",
    "                num_data_loader_workers=0,\n",
    "            )\n",
    "\n",
    "            # Train the model\n",
    "            ctm_model.fit(training_dataset)\n",
    "\n",
    "            # Get topics\n",
    "            ctm_topics = ctm_model.get_topic_lists(10)\n",
    "\n",
    "            # Initialize result dictionary\n",
    "            result = {\n",
    "                'model_id': idx + 1,\n",
    "                'num_topics': num_topics,\n",
    "                'epochs': epochs,\n",
    "                'learning_rate': learning_rate,\n",
    "                'batch_size': batch_size\n",
    "            }\n",
    "\n",
    "            # Evaluate the model based on specified metrics\n",
    "            if 'coherence' in metrics:\n",
    "                coherence_model_ctm = CoherenceModel(\n",
    "                    topics=ctm_topics,\n",
    "                    texts=texts,\n",
    "                    dictionary=dictionary,\n",
    "                    coherence='c_v'\n",
    "                )\n",
    "                coherence_ctm = coherence_model_ctm.get_coherence()\n",
    "                result['coherence_score'] = coherence_ctm\n",
    "\n",
    "            if 'diversity' in metrics:\n",
    "                unique_words = set()\n",
    "                total_words = 0\n",
    "\n",
    "                for topic in ctm_topics:\n",
    "                    unique_words.update(topic)\n",
    "                    total_words += len(topic)\n",
    "\n",
    "                topic_diversity = len(unique_words) / total_words if total_words > 0 else 0\n",
    "                result['topic_diversity'] = topic_diversity\n",
    "\n",
    "            # Save the result\n",
    "            ctm_results.append(result)\n",
    "\n",
    "        except Exception as e:\n",
    "            print(f\"An error occurred while training model {idx+1}: {e}\")\n",
    "            continue  # Skip this iteration if there's an error\n",
    "\n",
    "    # Create a DataFrame from the results\n",
    "    results_df = pd.DataFrame(ctm_results)\n",
    "\n",
    "    # Sort by coherence_score if it is one of the metrics\n",
    "    if 'coherence' in metrics:\n",
    "        results_df = results_df.sort_values(by='coherence_score', ascending=False)\n",
    "\n",
    "    # Save results DataFrame for future reference\n",
    "    results_df_path = os.path.join(save_dir, 'ctm_model_results_summary.csv')\n",
    "    results_df.to_csv(results_df_path, index=False)\n",
    "\n",
    "    return results_df\n",
    "\n",
    "# Example Usage\n",
    "results_df = evaluate_ctm_models(\n",
    "    training_dataset=training_dataset,\n",
    "    tp=tp,\n",
    "    texts=texts,\n",
    "    dictionary=dictionary,\n",
    "    ctm_param_grid=ctm_param_grid,\n",
    "    metrics=('coherence', 'diversity'),\n",
    "    save_dir='saved_models'\n",
    ")"
   ],
   "id": "53d4dcca10d0e83",
   "outputs": [
    {
     "name": "stdout",
     "output_type": "stream",
     "text": [
      "Training CTM model 1/54 with num_topics=2, epochs=5, learning_rate=0.002, batch_size=64\n"
     ]
    },
    {
     "name": "stderr",
     "output_type": "stream",
     "text": [
      "Epoch: [5/5]\t Seen Samples: [6720/6840]\tTrain Loss: 1250.9378662109375\tTime: 0:00:00.210703: : 5it [00:01,  3.54it/s]\n",
      "100%|██████████| 22/22 [00:00<00:00, 75.52it/s]\n"
     ]
    },
    {
     "name": "stdout",
     "output_type": "stream",
     "text": [
      "Training CTM model 2/54 with num_topics=2, epochs=5, learning_rate=0.002, batch_size=128\n"
     ]
    },
    {
     "name": "stderr",
     "output_type": "stream",
     "text": [
      "Epoch: [5/5]\t Seen Samples: [6400/6840]\tTrain Loss: 1245.0567749023437\tTime: 0:00:00.159747: : 5it [00:00,  6.06it/s]\n",
      "100%|██████████| 11/11 [00:00<00:00, 90.40it/s]\n"
     ]
    },
    {
     "name": "stdout",
     "output_type": "stream",
     "text": [
      "Training CTM model 3/54 with num_topics=2, epochs=5, learning_rate=0.005, batch_size=64\n"
     ]
    },
    {
     "name": "stderr",
     "output_type": "stream",
     "text": [
      "Epoch: [5/5]\t Seen Samples: [6720/6840]\tTrain Loss: 1249.2088855561756\tTime: 0:00:00.197293: : 5it [00:01,  4.76it/s]\n",
      "100%|██████████| 22/22 [00:00<00:00, 165.66it/s]\n"
     ]
    },
    {
     "name": "stdout",
     "output_type": "stream",
     "text": [
      "Training CTM model 4/54 with num_topics=2, epochs=5, learning_rate=0.005, batch_size=128\n"
     ]
    },
    {
     "name": "stderr",
     "output_type": "stream",
     "text": [
      "Epoch: [5/5]\t Seen Samples: [6400/6840]\tTrain Loss: 1264.5521728515625\tTime: 0:00:00.147815: : 5it [00:00,  6.54it/s]\n",
      "100%|██████████| 11/11 [00:00<00:00, 96.94it/s]\n"
     ]
    },
    {
     "name": "stdout",
     "output_type": "stream",
     "text": [
      "Training CTM model 5/54 with num_topics=2, epochs=5, learning_rate=0.01, batch_size=64\n"
     ]
    },
    {
     "name": "stderr",
     "output_type": "stream",
     "text": [
      "Epoch: [5/5]\t Seen Samples: [6720/6840]\tTrain Loss: 1247.5923025948662\tTime: 0:00:00.214302: : 5it [00:01,  4.48it/s]\n",
      "100%|██████████| 22/22 [00:00<00:00, 180.85it/s]\n"
     ]
    },
    {
     "name": "stdout",
     "output_type": "stream",
     "text": [
      "Training CTM model 6/54 with num_topics=2, epochs=5, learning_rate=0.01, batch_size=128\n"
     ]
    },
    {
     "name": "stderr",
     "output_type": "stream",
     "text": [
      "Epoch: [5/5]\t Seen Samples: [6400/6840]\tTrain Loss: 1249.9501831054688\tTime: 0:00:00.145440: : 5it [00:00,  6.22it/s]\n",
      "100%|██████████| 11/11 [00:00<00:00, 97.99it/s]\n"
     ]
    },
    {
     "name": "stdout",
     "output_type": "stream",
     "text": [
      "Training CTM model 7/54 with num_topics=2, epochs=10, learning_rate=0.002, batch_size=64\n"
     ]
    },
    {
     "name": "stderr",
     "output_type": "stream",
     "text": [
      "Epoch: [10/10]\t Seen Samples: [13440/13680]\tTrain Loss: 1210.1102236793154\tTime: 0:00:00.197613: : 10it [00:01,  5.20it/s]\n",
      "100%|██████████| 22/22 [00:00<00:00, 175.66it/s]\n"
     ]
    },
    {
     "name": "stdout",
     "output_type": "stream",
     "text": [
      "Training CTM model 8/54 with num_topics=2, epochs=10, learning_rate=0.002, batch_size=128\n"
     ]
    },
    {
     "name": "stderr",
     "output_type": "stream",
     "text": [
      "Epoch: [10/10]\t Seen Samples: [12800/13680]\tTrain Loss: 1226.56953125\tTime: 0:00:00.152233: : 10it [00:01,  6.61it/s]    \n",
      "100%|██████████| 11/11 [00:00<00:00, 95.93it/s]\n"
     ]
    },
    {
     "name": "stdout",
     "output_type": "stream",
     "text": [
      "Training CTM model 9/54 with num_topics=2, epochs=10, learning_rate=0.005, batch_size=64\n"
     ]
    },
    {
     "name": "stderr",
     "output_type": "stream",
     "text": [
      "Epoch: [10/10]\t Seen Samples: [13440/13680]\tTrain Loss: 1209.660900297619\tTime: 0:00:00.212532: : 10it [00:01,  5.29it/s]\n",
      "100%|██████████| 22/22 [00:00<00:00, 184.11it/s]\n"
     ]
    },
    {
     "name": "stdout",
     "output_type": "stream",
     "text": [
      "Training CTM model 10/54 with num_topics=2, epochs=10, learning_rate=0.005, batch_size=128\n"
     ]
    },
    {
     "name": "stderr",
     "output_type": "stream",
     "text": [
      "Epoch: [10/10]\t Seen Samples: [12800/13680]\tTrain Loss: 1227.9771484375\tTime: 0:00:00.147343: : 10it [00:01,  6.76it/s]  \n",
      "100%|██████████| 11/11 [00:00<00:00, 97.36it/s]\n"
     ]
    },
    {
     "name": "stdout",
     "output_type": "stream",
     "text": [
      "Training CTM model 11/54 with num_topics=2, epochs=10, learning_rate=0.01, batch_size=64\n"
     ]
    },
    {
     "name": "stderr",
     "output_type": "stream",
     "text": [
      "Epoch: [10/10]\t Seen Samples: [13440/13680]\tTrain Loss: 1207.6840239025298\tTime: 0:00:00.215175: : 10it [00:02,  5.00it/s]\n",
      "100%|██████████| 22/22 [00:00<00:00, 172.40it/s]\n"
     ]
    },
    {
     "name": "stdout",
     "output_type": "stream",
     "text": [
      "Training CTM model 12/54 with num_topics=2, epochs=10, learning_rate=0.01, batch_size=128\n"
     ]
    },
    {
     "name": "stderr",
     "output_type": "stream",
     "text": [
      "Epoch: [10/10]\t Seen Samples: [12800/13680]\tTrain Loss: 1222.3059814453125\tTime: 0:00:00.143861: : 10it [00:01,  6.61it/s]\n",
      "100%|██████████| 11/11 [00:00<00:00, 96.93it/s]\n"
     ]
    },
    {
     "name": "stdout",
     "output_type": "stream",
     "text": [
      "Training CTM model 13/54 with num_topics=2, epochs=20, learning_rate=0.002, batch_size=64\n"
     ]
    },
    {
     "name": "stderr",
     "output_type": "stream",
     "text": [
      "Epoch: [20/20]\t Seen Samples: [26880/27360]\tTrain Loss: 1200.9877232142858\tTime: 0:00:00.199593: : 20it [00:03,  5.32it/s]\n",
      "100%|██████████| 22/22 [00:00<00:00, 186.96it/s]\n"
     ]
    },
    {
     "name": "stdout",
     "output_type": "stream",
     "text": [
      "Training CTM model 14/54 with num_topics=2, epochs=20, learning_rate=0.002, batch_size=128\n"
     ]
    },
    {
     "name": "stderr",
     "output_type": "stream",
     "text": [
      "Epoch: [20/20]\t Seen Samples: [25600/27360]\tTrain Loss: 1210.2033447265626\tTime: 0:00:00.141540: : 20it [00:02,  7.10it/s]\n",
      "100%|██████████| 11/11 [00:00<00:00, 100.10it/s]\n"
     ]
    },
    {
     "name": "stdout",
     "output_type": "stream",
     "text": [
      "Training CTM model 15/54 with num_topics=2, epochs=20, learning_rate=0.005, batch_size=64\n"
     ]
    },
    {
     "name": "stderr",
     "output_type": "stream",
     "text": [
      "Epoch: [20/20]\t Seen Samples: [26880/27360]\tTrain Loss: 1200.9680466424852\tTime: 0:00:00.184613: : 20it [00:03,  5.16it/s]\n",
      "100%|██████████| 22/22 [00:00<00:00, 190.54it/s]\n"
     ]
    },
    {
     "name": "stdout",
     "output_type": "stream",
     "text": [
      "Training CTM model 16/54 with num_topics=2, epochs=20, learning_rate=0.005, batch_size=128\n"
     ]
    },
    {
     "name": "stderr",
     "output_type": "stream",
     "text": [
      "Epoch: [20/20]\t Seen Samples: [25600/27360]\tTrain Loss: 1204.1236206054687\tTime: 0:00:00.129817: : 20it [00:02,  7.14it/s]\n",
      "100%|██████████| 11/11 [00:00<00:00, 103.70it/s]\n"
     ]
    },
    {
     "name": "stdout",
     "output_type": "stream",
     "text": [
      "Training CTM model 17/54 with num_topics=2, epochs=20, learning_rate=0.01, batch_size=64\n"
     ]
    },
    {
     "name": "stderr",
     "output_type": "stream",
     "text": [
      "Epoch: [20/20]\t Seen Samples: [26880/27360]\tTrain Loss: 1199.5248151506696\tTime: 0:00:00.166265: : 20it [00:03,  5.57it/s]\n",
      "100%|██████████| 22/22 [00:00<00:00, 193.01it/s]\n"
     ]
    },
    {
     "name": "stdout",
     "output_type": "stream",
     "text": [
      "Training CTM model 18/54 with num_topics=2, epochs=20, learning_rate=0.01, batch_size=128\n"
     ]
    },
    {
     "name": "stderr",
     "output_type": "stream",
     "text": [
      "Epoch: [20/20]\t Seen Samples: [25600/27360]\tTrain Loss: 1220.3905639648438\tTime: 0:00:00.144550: : 20it [00:02,  6.76it/s]\n",
      "100%|██████████| 11/11 [00:00<00:00, 103.19it/s]\n"
     ]
    },
    {
     "name": "stdout",
     "output_type": "stream",
     "text": [
      "Training CTM model 19/54 with num_topics=3, epochs=5, learning_rate=0.002, batch_size=64\n"
     ]
    },
    {
     "name": "stderr",
     "output_type": "stream",
     "text": [
      "Epoch: [5/5]\t Seen Samples: [6720/6840]\tTrain Loss: 1237.635463169643\tTime: 0:00:00.250372: : 5it [00:01,  4.27it/s] \n",
      "100%|██████████| 22/22 [00:00<00:00, 152.31it/s]\n"
     ]
    },
    {
     "name": "stdout",
     "output_type": "stream",
     "text": [
      "Training CTM model 20/54 with num_topics=3, epochs=5, learning_rate=0.002, batch_size=128\n"
     ]
    },
    {
     "name": "stderr",
     "output_type": "stream",
     "text": [
      "Epoch: [5/5]\t Seen Samples: [6400/6840]\tTrain Loss: 1250.7444091796874\tTime: 0:00:00.149228: : 5it [00:00,  6.06it/s]\n",
      "100%|██████████| 11/11 [00:00<00:00, 99.53it/s]\n"
     ]
    },
    {
     "name": "stdout",
     "output_type": "stream",
     "text": [
      "Training CTM model 21/54 with num_topics=3, epochs=5, learning_rate=0.005, batch_size=64\n"
     ]
    },
    {
     "name": "stderr",
     "output_type": "stream",
     "text": [
      "Epoch: [5/5]\t Seen Samples: [6720/6840]\tTrain Loss: 1245.0137125651042\tTime: 0:00:00.180328: : 5it [00:00,  5.35it/s]\n",
      "100%|██████████| 22/22 [00:00<00:00, 195.76it/s]\n"
     ]
    },
    {
     "name": "stdout",
     "output_type": "stream",
     "text": [
      "Training CTM model 22/54 with num_topics=3, epochs=5, learning_rate=0.005, batch_size=128\n"
     ]
    },
    {
     "name": "stderr",
     "output_type": "stream",
     "text": [
      "Epoch: [5/5]\t Seen Samples: [6400/6840]\tTrain Loss: 1263.6735107421875\tTime: 0:00:00.141100: : 5it [00:00,  6.75it/s]\n",
      "100%|██████████| 11/11 [00:00<00:00, 102.60it/s]\n"
     ]
    },
    {
     "name": "stdout",
     "output_type": "stream",
     "text": [
      "Training CTM model 23/54 with num_topics=3, epochs=5, learning_rate=0.01, batch_size=64\n"
     ]
    },
    {
     "name": "stderr",
     "output_type": "stream",
     "text": [
      "Epoch: [5/5]\t Seen Samples: [6720/6840]\tTrain Loss: 1243.4447719029017\tTime: 0:00:00.173802: : 5it [00:00,  5.45it/s]\n",
      "100%|██████████| 22/22 [00:00<00:00, 190.25it/s]\n"
     ]
    },
    {
     "name": "stdout",
     "output_type": "stream",
     "text": [
      "Training CTM model 24/54 with num_topics=3, epochs=5, learning_rate=0.01, batch_size=128\n"
     ]
    },
    {
     "name": "stderr",
     "output_type": "stream",
     "text": [
      "Epoch: [5/5]\t Seen Samples: [6400/6840]\tTrain Loss: 1254.5193603515625\tTime: 0:00:00.135826: : 5it [00:00,  7.04it/s]\n",
      "100%|██████████| 11/11 [00:00<00:00, 101.45it/s]\n"
     ]
    },
    {
     "name": "stdout",
     "output_type": "stream",
     "text": [
      "Training CTM model 25/54 with num_topics=3, epochs=10, learning_rate=0.002, batch_size=64\n"
     ]
    },
    {
     "name": "stderr",
     "output_type": "stream",
     "text": [
      "Epoch: [10/10]\t Seen Samples: [13440/13680]\tTrain Loss: 1204.8066871279761\tTime: 0:00:00.165760: : 10it [00:01,  5.54it/s]\n",
      "100%|██████████| 22/22 [00:00<00:00, 191.84it/s]\n"
     ]
    },
    {
     "name": "stdout",
     "output_type": "stream",
     "text": [
      "Training CTM model 26/54 with num_topics=3, epochs=10, learning_rate=0.002, batch_size=128\n"
     ]
    },
    {
     "name": "stderr",
     "output_type": "stream",
     "text": [
      "Epoch: [10/10]\t Seen Samples: [12800/13680]\tTrain Loss: 1225.8701416015624\tTime: 0:00:00.133110: : 10it [00:01,  6.92it/s]\n",
      "100%|██████████| 11/11 [00:00<00:00, 100.83it/s]\n"
     ]
    },
    {
     "name": "stdout",
     "output_type": "stream",
     "text": [
      "Training CTM model 27/54 with num_topics=3, epochs=10, learning_rate=0.005, batch_size=64\n"
     ]
    },
    {
     "name": "stderr",
     "output_type": "stream",
     "text": [
      "Epoch: [10/10]\t Seen Samples: [13440/13680]\tTrain Loss: 1205.183349609375\tTime: 0:00:00.176496: : 10it [00:01,  5.51it/s]\n",
      "100%|██████████| 22/22 [00:00<00:00, 191.25it/s]\n"
     ]
    },
    {
     "name": "stdout",
     "output_type": "stream",
     "text": [
      "Training CTM model 28/54 with num_topics=3, epochs=10, learning_rate=0.005, batch_size=128\n"
     ]
    },
    {
     "name": "stderr",
     "output_type": "stream",
     "text": [
      "Epoch: [10/10]\t Seen Samples: [12800/13680]\tTrain Loss: 1227.7889526367187\tTime: 0:00:00.143218: : 10it [00:01,  7.01it/s]\n",
      "100%|██████████| 11/11 [00:00<00:00, 103.92it/s]\n"
     ]
    },
    {
     "name": "stdout",
     "output_type": "stream",
     "text": [
      "Training CTM model 29/54 with num_topics=3, epochs=10, learning_rate=0.01, batch_size=64\n"
     ]
    },
    {
     "name": "stderr",
     "output_type": "stream",
     "text": [
      "Epoch: [10/10]\t Seen Samples: [13440/13680]\tTrain Loss: 1214.873302641369\tTime: 0:00:00.174520: : 10it [00:01,  5.44it/s]\n",
      "100%|██████████| 22/22 [00:00<00:00, 178.23it/s]\n"
     ]
    },
    {
     "name": "stdout",
     "output_type": "stream",
     "text": [
      "Training CTM model 30/54 with num_topics=3, epochs=10, learning_rate=0.01, batch_size=128\n"
     ]
    },
    {
     "name": "stderr",
     "output_type": "stream",
     "text": [
      "Epoch: [10/10]\t Seen Samples: [12800/13680]\tTrain Loss: 1214.6564453125\tTime: 0:00:00.141243: : 10it [00:01,  7.02it/s]  \n",
      "100%|██████████| 11/11 [00:00<00:00, 98.73it/s]\n"
     ]
    },
    {
     "name": "stdout",
     "output_type": "stream",
     "text": [
      "Training CTM model 31/54 with num_topics=3, epochs=20, learning_rate=0.002, batch_size=64\n"
     ]
    },
    {
     "name": "stderr",
     "output_type": "stream",
     "text": [
      "Epoch: [20/20]\t Seen Samples: [26880/27360]\tTrain Loss: 1196.177001953125\tTime: 0:00:00.166926: : 20it [00:03,  5.57it/s] \n",
      "100%|██████████| 22/22 [00:00<00:00, 190.24it/s]\n"
     ]
    },
    {
     "name": "stdout",
     "output_type": "stream",
     "text": [
      "Training CTM model 32/54 with num_topics=3, epochs=20, learning_rate=0.002, batch_size=128\n"
     ]
    },
    {
     "name": "stderr",
     "output_type": "stream",
     "text": [
      "Epoch: [20/20]\t Seen Samples: [25600/27360]\tTrain Loss: 1208.958154296875\tTime: 0:00:00.137808: : 20it [00:02,  7.04it/s] \n",
      "100%|██████████| 11/11 [00:00<00:00, 99.09it/s]\n"
     ]
    },
    {
     "name": "stdout",
     "output_type": "stream",
     "text": [
      "Training CTM model 33/54 with num_topics=3, epochs=20, learning_rate=0.005, batch_size=64\n"
     ]
    },
    {
     "name": "stderr",
     "output_type": "stream",
     "text": [
      "Epoch: [20/20]\t Seen Samples: [26880/27360]\tTrain Loss: 1191.4795968191963\tTime: 0:00:00.213732: : 20it [00:03,  5.43it/s]\n",
      "100%|██████████| 22/22 [00:00<00:00, 192.71it/s]\n"
     ]
    },
    {
     "name": "stdout",
     "output_type": "stream",
     "text": [
      "Training CTM model 34/54 with num_topics=3, epochs=20, learning_rate=0.005, batch_size=128\n"
     ]
    },
    {
     "name": "stderr",
     "output_type": "stream",
     "text": [
      "Epoch: [20/20]\t Seen Samples: [25600/27360]\tTrain Loss: 1196.7789428710937\tTime: 0:00:00.139709: : 20it [00:02,  7.14it/s]\n",
      "100%|██████████| 11/11 [00:00<00:00, 97.96it/s]\n"
     ]
    },
    {
     "name": "stdout",
     "output_type": "stream",
     "text": [
      "Training CTM model 35/54 with num_topics=3, epochs=20, learning_rate=0.01, batch_size=64\n"
     ]
    },
    {
     "name": "stderr",
     "output_type": "stream",
     "text": [
      "Epoch: [20/20]\t Seen Samples: [26880/27360]\tTrain Loss: 1207.3134591238838\tTime: 0:00:00.175164: : 20it [00:03,  5.59it/s]\n",
      "100%|██████████| 22/22 [00:00<00:00, 188.56it/s]\n"
     ]
    },
    {
     "name": "stdout",
     "output_type": "stream",
     "text": [
      "Training CTM model 36/54 with num_topics=3, epochs=20, learning_rate=0.01, batch_size=128\n"
     ]
    },
    {
     "name": "stderr",
     "output_type": "stream",
     "text": [
      "Epoch: [20/20]\t Seen Samples: [25600/27360]\tTrain Loss: 1223.1539306640625\tTime: 0:00:00.133257: : 20it [00:02,  7.08it/s]\n",
      "100%|██████████| 11/11 [00:00<00:00, 100.78it/s]\n"
     ]
    },
    {
     "name": "stdout",
     "output_type": "stream",
     "text": [
      "Training CTM model 37/54 with num_topics=4, epochs=5, learning_rate=0.002, batch_size=64\n"
     ]
    },
    {
     "name": "stderr",
     "output_type": "stream",
     "text": [
      "Epoch: [5/5]\t Seen Samples: [6720/6840]\tTrain Loss: 1239.0535481770833\tTime: 0:00:00.169442: : 5it [00:00,  5.56it/s]\n",
      "100%|██████████| 22/22 [00:00<00:00, 197.73it/s]\n"
     ]
    },
    {
     "name": "stdout",
     "output_type": "stream",
     "text": [
      "Training CTM model 38/54 with num_topics=4, epochs=5, learning_rate=0.002, batch_size=128\n"
     ]
    },
    {
     "name": "stderr",
     "output_type": "stream",
     "text": [
      "Epoch: [5/5]\t Seen Samples: [6400/6840]\tTrain Loss: 1245.09658203125\tTime: 0:00:00.142868: : 5it [00:00,  6.78it/s]  \n",
      "100%|██████████| 11/11 [00:00<00:00, 101.34it/s]\n"
     ]
    },
    {
     "name": "stdout",
     "output_type": "stream",
     "text": [
      "Training CTM model 39/54 with num_topics=4, epochs=5, learning_rate=0.005, batch_size=64\n"
     ]
    },
    {
     "name": "stderr",
     "output_type": "stream",
     "text": [
      "Epoch: [5/5]\t Seen Samples: [6720/6840]\tTrain Loss: 1226.292712983631\tTime: 0:00:00.182867: : 5it [00:00,  5.27it/s] \n",
      "100%|██████████| 22/22 [00:00<00:00, 197.46it/s]\n"
     ]
    },
    {
     "name": "stdout",
     "output_type": "stream",
     "text": [
      "Training CTM model 40/54 with num_topics=4, epochs=5, learning_rate=0.005, batch_size=128\n"
     ]
    },
    {
     "name": "stderr",
     "output_type": "stream",
     "text": [
      "Epoch: [5/5]\t Seen Samples: [6400/6840]\tTrain Loss: 1238.8992919921875\tTime: 0:00:00.143268: : 5it [00:00,  5.93it/s]\n",
      "100%|██████████| 11/11 [00:00<00:00, 95.81it/s]\n"
     ]
    },
    {
     "name": "stdout",
     "output_type": "stream",
     "text": [
      "Training CTM model 41/54 with num_topics=4, epochs=5, learning_rate=0.01, batch_size=64\n"
     ]
    },
    {
     "name": "stderr",
     "output_type": "stream",
     "text": [
      "Epoch: [5/5]\t Seen Samples: [6720/6840]\tTrain Loss: 1226.1017775762648\tTime: 0:00:00.172764: : 5it [00:00,  5.50it/s]\n",
      "100%|██████████| 22/22 [00:00<00:00, 199.91it/s]\n"
     ]
    },
    {
     "name": "stdout",
     "output_type": "stream",
     "text": [
      "Training CTM model 42/54 with num_topics=4, epochs=5, learning_rate=0.01, batch_size=128\n"
     ]
    },
    {
     "name": "stderr",
     "output_type": "stream",
     "text": [
      "Epoch: [5/5]\t Seen Samples: [6400/6840]\tTrain Loss: 1239.1460693359375\tTime: 0:00:00.136872: : 5it [00:00,  6.94it/s]\n",
      "100%|██████████| 11/11 [00:00<00:00, 100.74it/s]\n"
     ]
    },
    {
     "name": "stdout",
     "output_type": "stream",
     "text": [
      "Training CTM model 43/54 with num_topics=4, epochs=10, learning_rate=0.002, batch_size=64\n"
     ]
    },
    {
     "name": "stderr",
     "output_type": "stream",
     "text": [
      "Epoch: [10/10]\t Seen Samples: [13440/13680]\tTrain Loss: 1207.147914341518\tTime: 0:00:00.179173: : 10it [00:01,  5.47it/s]\n",
      "100%|██████████| 22/22 [00:00<00:00, 191.94it/s]\n"
     ]
    },
    {
     "name": "stdout",
     "output_type": "stream",
     "text": [
      "Training CTM model 44/54 with num_topics=4, epochs=10, learning_rate=0.002, batch_size=128\n"
     ]
    },
    {
     "name": "stderr",
     "output_type": "stream",
     "text": [
      "Epoch: [10/10]\t Seen Samples: [12800/13680]\tTrain Loss: 1232.5323974609375\tTime: 0:00:00.141209: : 10it [00:01,  6.93it/s]\n",
      "100%|██████████| 11/11 [00:00<00:00, 100.34it/s]\n"
     ]
    },
    {
     "name": "stdout",
     "output_type": "stream",
     "text": [
      "Training CTM model 45/54 with num_topics=4, epochs=10, learning_rate=0.005, batch_size=64\n"
     ]
    },
    {
     "name": "stderr",
     "output_type": "stream",
     "text": [
      "Epoch: [10/10]\t Seen Samples: [13440/13680]\tTrain Loss: 1200.844249906994\tTime: 0:00:00.182443: : 10it [00:01,  5.37it/s]\n",
      "100%|██████████| 22/22 [00:00<00:00, 198.77it/s]\n"
     ]
    },
    {
     "name": "stdout",
     "output_type": "stream",
     "text": [
      "Training CTM model 46/54 with num_topics=4, epochs=10, learning_rate=0.005, batch_size=128\n"
     ]
    },
    {
     "name": "stderr",
     "output_type": "stream",
     "text": [
      "Epoch: [10/10]\t Seen Samples: [12800/13680]\tTrain Loss: 1221.1052490234374\tTime: 0:00:00.147468: : 10it [00:01,  6.54it/s]\n",
      "100%|██████████| 11/11 [00:00<00:00, 100.49it/s]\n"
     ]
    },
    {
     "name": "stdout",
     "output_type": "stream",
     "text": [
      "Training CTM model 47/54 with num_topics=4, epochs=10, learning_rate=0.01, batch_size=64\n"
     ]
    },
    {
     "name": "stderr",
     "output_type": "stream",
     "text": [
      "Epoch: [10/10]\t Seen Samples: [13440/13680]\tTrain Loss: 1208.3815162295386\tTime: 0:00:00.174089: : 10it [00:01,  5.48it/s]\n",
      "100%|██████████| 22/22 [00:00<00:00, 194.20it/s]\n"
     ]
    },
    {
     "name": "stdout",
     "output_type": "stream",
     "text": [
      "Training CTM model 48/54 with num_topics=4, epochs=10, learning_rate=0.01, batch_size=128\n"
     ]
    },
    {
     "name": "stderr",
     "output_type": "stream",
     "text": [
      "Epoch: [10/10]\t Seen Samples: [12800/13680]\tTrain Loss: 1214.664453125\tTime: 0:00:00.134001: : 10it [00:01,  7.04it/s]   \n",
      "100%|██████████| 11/11 [00:00<00:00, 100.10it/s]\n"
     ]
    },
    {
     "name": "stdout",
     "output_type": "stream",
     "text": [
      "Training CTM model 49/54 with num_topics=4, epochs=20, learning_rate=0.002, batch_size=64\n"
     ]
    },
    {
     "name": "stderr",
     "output_type": "stream",
     "text": [
      "Epoch: [20/20]\t Seen Samples: [26880/27360]\tTrain Loss: 1201.345970517113\tTime: 0:00:00.169996: : 20it [00:03,  5.54it/s] \n",
      "100%|██████████| 22/22 [00:00<00:00, 191.24it/s]\n"
     ]
    },
    {
     "name": "stdout",
     "output_type": "stream",
     "text": [
      "Training CTM model 50/54 with num_topics=4, epochs=20, learning_rate=0.002, batch_size=128\n"
     ]
    },
    {
     "name": "stderr",
     "output_type": "stream",
     "text": [
      "Epoch: [20/20]\t Seen Samples: [25600/27360]\tTrain Loss: 1198.191748046875\tTime: 0:00:00.138559: : 20it [00:02,  7.09it/s] \n",
      "100%|██████████| 11/11 [00:00<00:00, 100.11it/s]\n"
     ]
    },
    {
     "name": "stdout",
     "output_type": "stream",
     "text": [
      "Training CTM model 51/54 with num_topics=4, epochs=20, learning_rate=0.005, batch_size=64\n"
     ]
    },
    {
     "name": "stderr",
     "output_type": "stream",
     "text": [
      "Epoch: [20/20]\t Seen Samples: [26880/27360]\tTrain Loss: 1195.790748232887\tTime: 0:00:00.187376: : 20it [00:03,  5.36it/s] \n",
      "100%|██████████| 22/22 [00:00<00:00, 189.16it/s]\n"
     ]
    },
    {
     "name": "stdout",
     "output_type": "stream",
     "text": [
      "Training CTM model 52/54 with num_topics=4, epochs=20, learning_rate=0.005, batch_size=128\n"
     ]
    },
    {
     "name": "stderr",
     "output_type": "stream",
     "text": [
      "Epoch: [20/20]\t Seen Samples: [25600/27360]\tTrain Loss: 1194.63837890625\tTime: 0:00:00.135661: : 20it [00:02,  7.09it/s]  \n",
      "100%|██████████| 11/11 [00:00<00:00, 98.07it/s]\n"
     ]
    },
    {
     "name": "stdout",
     "output_type": "stream",
     "text": [
      "Training CTM model 53/54 with num_topics=4, epochs=20, learning_rate=0.01, batch_size=64\n"
     ]
    },
    {
     "name": "stderr",
     "output_type": "stream",
     "text": [
      "Epoch: [20/20]\t Seen Samples: [26880/27360]\tTrain Loss: 1194.6287086123511\tTime: 0:00:00.186980: : 20it [00:03,  5.54it/s]\n",
      "100%|██████████| 22/22 [00:00<00:00, 186.79it/s]\n"
     ]
    },
    {
     "name": "stdout",
     "output_type": "stream",
     "text": [
      "Training CTM model 54/54 with num_topics=4, epochs=20, learning_rate=0.01, batch_size=128\n"
     ]
    },
    {
     "name": "stderr",
     "output_type": "stream",
     "text": [
      "Epoch: [20/20]\t Seen Samples: [25600/27360]\tTrain Loss: 1204.0016235351563\tTime: 0:00:00.139357: : 20it [00:02,  7.05it/s]\n",
      "100%|██████████| 11/11 [00:00<00:00, 102.87it/s]\n"
     ]
    }
   ],
   "execution_count": 7
  },
  {
   "metadata": {
    "ExecuteTime": {
     "end_time": "2024-10-21T20:11:43.904290Z",
     "start_time": "2024-10-21T20:11:43.889260Z"
    }
   },
   "cell_type": "code",
   "source": "results_df",
   "id": "1453e523195612ad",
   "outputs": [
    {
     "data": {
      "text/plain": [
       "    model_id  num_topics  epochs  learning_rate  batch_size  coherence_score  \\\n",
       "50        51           4      20          0.005          64         0.344316   \n",
       "34        35           3      20          0.010          64         0.324974   \n",
       "14        15           2      20          0.005          64         0.324572   \n",
       "8          9           2      10          0.005          64         0.321018   \n",
       "48        49           4      20          0.002          64         0.319100   \n",
       "17        18           2      20          0.010         128         0.316204   \n",
       "44        45           4      10          0.005          64         0.311485   \n",
       "39        40           4       5          0.005         128         0.311039   \n",
       "53        54           4      20          0.010         128         0.310354   \n",
       "49        50           4      20          0.002         128         0.306156   \n",
       "18        19           3       5          0.002          64         0.305378   \n",
       "0          1           2       5          0.002          64         0.302159   \n",
       "29        30           3      10          0.010         128         0.300683   \n",
       "43        44           4      10          0.002         128         0.296607   \n",
       "7          8           2      10          0.002         128         0.296547   \n",
       "12        13           2      20          0.002          64         0.296276   \n",
       "16        17           2      20          0.010          64         0.295731   \n",
       "45        46           4      10          0.005         128         0.295112   \n",
       "27        28           3      10          0.005         128         0.292997   \n",
       "19        20           3       5          0.002         128         0.290468   \n",
       "28        29           3      10          0.010          64         0.288241   \n",
       "10        11           2      10          0.010          64         0.285042   \n",
       "41        42           4       5          0.010         128         0.284724   \n",
       "33        34           3      20          0.005         128         0.281865   \n",
       "32        33           3      20          0.005          64         0.281759   \n",
       "9         10           2      10          0.005         128         0.279886   \n",
       "47        48           4      10          0.010         128         0.279265   \n",
       "36        37           4       5          0.002          64         0.278503   \n",
       "15        16           2      20          0.005         128         0.274547   \n",
       "11        12           2      10          0.010         128         0.273874   \n",
       "1          2           2       5          0.002         128         0.270839   \n",
       "26        27           3      10          0.005          64         0.268774   \n",
       "35        36           3      20          0.010         128         0.268302   \n",
       "13        14           2      20          0.002         128         0.268232   \n",
       "2          3           2       5          0.005          64         0.268103   \n",
       "52        53           4      20          0.010          64         0.266139   \n",
       "30        31           3      20          0.002          64         0.265918   \n",
       "46        47           4      10          0.010          64         0.265332   \n",
       "20        21           3       5          0.005          64         0.264318   \n",
       "38        39           4       5          0.005          64         0.258972   \n",
       "23        24           3       5          0.010         128         0.256680   \n",
       "21        22           3       5          0.005         128         0.256500   \n",
       "51        52           4      20          0.005         128         0.255504   \n",
       "24        25           3      10          0.002          64         0.255483   \n",
       "3          4           2       5          0.005         128         0.255336   \n",
       "4          5           2       5          0.010          64         0.253013   \n",
       "5          6           2       5          0.010         128         0.252724   \n",
       "37        38           4       5          0.002         128         0.251161   \n",
       "42        43           4      10          0.002          64         0.248911   \n",
       "40        41           4       5          0.010          64         0.245629   \n",
       "22        23           3       5          0.010          64         0.242180   \n",
       "6          7           2      10          0.002          64         0.240081   \n",
       "25        26           3      10          0.002         128         0.231598   \n",
       "31        32           3      20          0.002         128         0.231298   \n",
       "\n",
       "    topic_diversity  \n",
       "50         1.000000  \n",
       "34         1.000000  \n",
       "14         1.000000  \n",
       "8          1.000000  \n",
       "48         0.875000  \n",
       "17         1.000000  \n",
       "44         0.875000  \n",
       "39         0.975000  \n",
       "53         0.975000  \n",
       "49         0.975000  \n",
       "18         1.000000  \n",
       "0          1.000000  \n",
       "29         1.000000  \n",
       "43         0.925000  \n",
       "7          1.000000  \n",
       "12         1.000000  \n",
       "16         1.000000  \n",
       "45         0.950000  \n",
       "27         1.000000  \n",
       "19         1.000000  \n",
       "28         0.933333  \n",
       "10         1.000000  \n",
       "41         0.950000  \n",
       "33         1.000000  \n",
       "32         1.000000  \n",
       "9          1.000000  \n",
       "47         0.975000  \n",
       "36         1.000000  \n",
       "15         1.000000  \n",
       "11         1.000000  \n",
       "1          1.000000  \n",
       "26         1.000000  \n",
       "35         0.966667  \n",
       "13         1.000000  \n",
       "2          1.000000  \n",
       "52         0.875000  \n",
       "30         1.000000  \n",
       "46         0.925000  \n",
       "20         1.000000  \n",
       "38         0.925000  \n",
       "23         1.000000  \n",
       "21         1.000000  \n",
       "51         0.900000  \n",
       "24         1.000000  \n",
       "3          1.000000  \n",
       "4          1.000000  \n",
       "5          1.000000  \n",
       "37         0.950000  \n",
       "42         0.975000  \n",
       "40         0.925000  \n",
       "22         1.000000  \n",
       "6          1.000000  \n",
       "25         0.966667  \n",
       "31         1.000000  "
      ],
      "text/html": [
       "<div>\n",
       "<style scoped>\n",
       "    .dataframe tbody tr th:only-of-type {\n",
       "        vertical-align: middle;\n",
       "    }\n",
       "\n",
       "    .dataframe tbody tr th {\n",
       "        vertical-align: top;\n",
       "    }\n",
       "\n",
       "    .dataframe thead th {\n",
       "        text-align: right;\n",
       "    }\n",
       "</style>\n",
       "<table border=\"1\" class=\"dataframe\">\n",
       "  <thead>\n",
       "    <tr style=\"text-align: right;\">\n",
       "      <th></th>\n",
       "      <th>model_id</th>\n",
       "      <th>num_topics</th>\n",
       "      <th>epochs</th>\n",
       "      <th>learning_rate</th>\n",
       "      <th>batch_size</th>\n",
       "      <th>coherence_score</th>\n",
       "      <th>topic_diversity</th>\n",
       "    </tr>\n",
       "  </thead>\n",
       "  <tbody>\n",
       "    <tr>\n",
       "      <th>50</th>\n",
       "      <td>51</td>\n",
       "      <td>4</td>\n",
       "      <td>20</td>\n",
       "      <td>0.005</td>\n",
       "      <td>64</td>\n",
       "      <td>0.344316</td>\n",
       "      <td>1.000000</td>\n",
       "    </tr>\n",
       "    <tr>\n",
       "      <th>34</th>\n",
       "      <td>35</td>\n",
       "      <td>3</td>\n",
       "      <td>20</td>\n",
       "      <td>0.010</td>\n",
       "      <td>64</td>\n",
       "      <td>0.324974</td>\n",
       "      <td>1.000000</td>\n",
       "    </tr>\n",
       "    <tr>\n",
       "      <th>14</th>\n",
       "      <td>15</td>\n",
       "      <td>2</td>\n",
       "      <td>20</td>\n",
       "      <td>0.005</td>\n",
       "      <td>64</td>\n",
       "      <td>0.324572</td>\n",
       "      <td>1.000000</td>\n",
       "    </tr>\n",
       "    <tr>\n",
       "      <th>8</th>\n",
       "      <td>9</td>\n",
       "      <td>2</td>\n",
       "      <td>10</td>\n",
       "      <td>0.005</td>\n",
       "      <td>64</td>\n",
       "      <td>0.321018</td>\n",
       "      <td>1.000000</td>\n",
       "    </tr>\n",
       "    <tr>\n",
       "      <th>48</th>\n",
       "      <td>49</td>\n",
       "      <td>4</td>\n",
       "      <td>20</td>\n",
       "      <td>0.002</td>\n",
       "      <td>64</td>\n",
       "      <td>0.319100</td>\n",
       "      <td>0.875000</td>\n",
       "    </tr>\n",
       "    <tr>\n",
       "      <th>17</th>\n",
       "      <td>18</td>\n",
       "      <td>2</td>\n",
       "      <td>20</td>\n",
       "      <td>0.010</td>\n",
       "      <td>128</td>\n",
       "      <td>0.316204</td>\n",
       "      <td>1.000000</td>\n",
       "    </tr>\n",
       "    <tr>\n",
       "      <th>44</th>\n",
       "      <td>45</td>\n",
       "      <td>4</td>\n",
       "      <td>10</td>\n",
       "      <td>0.005</td>\n",
       "      <td>64</td>\n",
       "      <td>0.311485</td>\n",
       "      <td>0.875000</td>\n",
       "    </tr>\n",
       "    <tr>\n",
       "      <th>39</th>\n",
       "      <td>40</td>\n",
       "      <td>4</td>\n",
       "      <td>5</td>\n",
       "      <td>0.005</td>\n",
       "      <td>128</td>\n",
       "      <td>0.311039</td>\n",
       "      <td>0.975000</td>\n",
       "    </tr>\n",
       "    <tr>\n",
       "      <th>53</th>\n",
       "      <td>54</td>\n",
       "      <td>4</td>\n",
       "      <td>20</td>\n",
       "      <td>0.010</td>\n",
       "      <td>128</td>\n",
       "      <td>0.310354</td>\n",
       "      <td>0.975000</td>\n",
       "    </tr>\n",
       "    <tr>\n",
       "      <th>49</th>\n",
       "      <td>50</td>\n",
       "      <td>4</td>\n",
       "      <td>20</td>\n",
       "      <td>0.002</td>\n",
       "      <td>128</td>\n",
       "      <td>0.306156</td>\n",
       "      <td>0.975000</td>\n",
       "    </tr>\n",
       "    <tr>\n",
       "      <th>18</th>\n",
       "      <td>19</td>\n",
       "      <td>3</td>\n",
       "      <td>5</td>\n",
       "      <td>0.002</td>\n",
       "      <td>64</td>\n",
       "      <td>0.305378</td>\n",
       "      <td>1.000000</td>\n",
       "    </tr>\n",
       "    <tr>\n",
       "      <th>0</th>\n",
       "      <td>1</td>\n",
       "      <td>2</td>\n",
       "      <td>5</td>\n",
       "      <td>0.002</td>\n",
       "      <td>64</td>\n",
       "      <td>0.302159</td>\n",
       "      <td>1.000000</td>\n",
       "    </tr>\n",
       "    <tr>\n",
       "      <th>29</th>\n",
       "      <td>30</td>\n",
       "      <td>3</td>\n",
       "      <td>10</td>\n",
       "      <td>0.010</td>\n",
       "      <td>128</td>\n",
       "      <td>0.300683</td>\n",
       "      <td>1.000000</td>\n",
       "    </tr>\n",
       "    <tr>\n",
       "      <th>43</th>\n",
       "      <td>44</td>\n",
       "      <td>4</td>\n",
       "      <td>10</td>\n",
       "      <td>0.002</td>\n",
       "      <td>128</td>\n",
       "      <td>0.296607</td>\n",
       "      <td>0.925000</td>\n",
       "    </tr>\n",
       "    <tr>\n",
       "      <th>7</th>\n",
       "      <td>8</td>\n",
       "      <td>2</td>\n",
       "      <td>10</td>\n",
       "      <td>0.002</td>\n",
       "      <td>128</td>\n",
       "      <td>0.296547</td>\n",
       "      <td>1.000000</td>\n",
       "    </tr>\n",
       "    <tr>\n",
       "      <th>12</th>\n",
       "      <td>13</td>\n",
       "      <td>2</td>\n",
       "      <td>20</td>\n",
       "      <td>0.002</td>\n",
       "      <td>64</td>\n",
       "      <td>0.296276</td>\n",
       "      <td>1.000000</td>\n",
       "    </tr>\n",
       "    <tr>\n",
       "      <th>16</th>\n",
       "      <td>17</td>\n",
       "      <td>2</td>\n",
       "      <td>20</td>\n",
       "      <td>0.010</td>\n",
       "      <td>64</td>\n",
       "      <td>0.295731</td>\n",
       "      <td>1.000000</td>\n",
       "    </tr>\n",
       "    <tr>\n",
       "      <th>45</th>\n",
       "      <td>46</td>\n",
       "      <td>4</td>\n",
       "      <td>10</td>\n",
       "      <td>0.005</td>\n",
       "      <td>128</td>\n",
       "      <td>0.295112</td>\n",
       "      <td>0.950000</td>\n",
       "    </tr>\n",
       "    <tr>\n",
       "      <th>27</th>\n",
       "      <td>28</td>\n",
       "      <td>3</td>\n",
       "      <td>10</td>\n",
       "      <td>0.005</td>\n",
       "      <td>128</td>\n",
       "      <td>0.292997</td>\n",
       "      <td>1.000000</td>\n",
       "    </tr>\n",
       "    <tr>\n",
       "      <th>19</th>\n",
       "      <td>20</td>\n",
       "      <td>3</td>\n",
       "      <td>5</td>\n",
       "      <td>0.002</td>\n",
       "      <td>128</td>\n",
       "      <td>0.290468</td>\n",
       "      <td>1.000000</td>\n",
       "    </tr>\n",
       "    <tr>\n",
       "      <th>28</th>\n",
       "      <td>29</td>\n",
       "      <td>3</td>\n",
       "      <td>10</td>\n",
       "      <td>0.010</td>\n",
       "      <td>64</td>\n",
       "      <td>0.288241</td>\n",
       "      <td>0.933333</td>\n",
       "    </tr>\n",
       "    <tr>\n",
       "      <th>10</th>\n",
       "      <td>11</td>\n",
       "      <td>2</td>\n",
       "      <td>10</td>\n",
       "      <td>0.010</td>\n",
       "      <td>64</td>\n",
       "      <td>0.285042</td>\n",
       "      <td>1.000000</td>\n",
       "    </tr>\n",
       "    <tr>\n",
       "      <th>41</th>\n",
       "      <td>42</td>\n",
       "      <td>4</td>\n",
       "      <td>5</td>\n",
       "      <td>0.010</td>\n",
       "      <td>128</td>\n",
       "      <td>0.284724</td>\n",
       "      <td>0.950000</td>\n",
       "    </tr>\n",
       "    <tr>\n",
       "      <th>33</th>\n",
       "      <td>34</td>\n",
       "      <td>3</td>\n",
       "      <td>20</td>\n",
       "      <td>0.005</td>\n",
       "      <td>128</td>\n",
       "      <td>0.281865</td>\n",
       "      <td>1.000000</td>\n",
       "    </tr>\n",
       "    <tr>\n",
       "      <th>32</th>\n",
       "      <td>33</td>\n",
       "      <td>3</td>\n",
       "      <td>20</td>\n",
       "      <td>0.005</td>\n",
       "      <td>64</td>\n",
       "      <td>0.281759</td>\n",
       "      <td>1.000000</td>\n",
       "    </tr>\n",
       "    <tr>\n",
       "      <th>9</th>\n",
       "      <td>10</td>\n",
       "      <td>2</td>\n",
       "      <td>10</td>\n",
       "      <td>0.005</td>\n",
       "      <td>128</td>\n",
       "      <td>0.279886</td>\n",
       "      <td>1.000000</td>\n",
       "    </tr>\n",
       "    <tr>\n",
       "      <th>47</th>\n",
       "      <td>48</td>\n",
       "      <td>4</td>\n",
       "      <td>10</td>\n",
       "      <td>0.010</td>\n",
       "      <td>128</td>\n",
       "      <td>0.279265</td>\n",
       "      <td>0.975000</td>\n",
       "    </tr>\n",
       "    <tr>\n",
       "      <th>36</th>\n",
       "      <td>37</td>\n",
       "      <td>4</td>\n",
       "      <td>5</td>\n",
       "      <td>0.002</td>\n",
       "      <td>64</td>\n",
       "      <td>0.278503</td>\n",
       "      <td>1.000000</td>\n",
       "    </tr>\n",
       "    <tr>\n",
       "      <th>15</th>\n",
       "      <td>16</td>\n",
       "      <td>2</td>\n",
       "      <td>20</td>\n",
       "      <td>0.005</td>\n",
       "      <td>128</td>\n",
       "      <td>0.274547</td>\n",
       "      <td>1.000000</td>\n",
       "    </tr>\n",
       "    <tr>\n",
       "      <th>11</th>\n",
       "      <td>12</td>\n",
       "      <td>2</td>\n",
       "      <td>10</td>\n",
       "      <td>0.010</td>\n",
       "      <td>128</td>\n",
       "      <td>0.273874</td>\n",
       "      <td>1.000000</td>\n",
       "    </tr>\n",
       "    <tr>\n",
       "      <th>1</th>\n",
       "      <td>2</td>\n",
       "      <td>2</td>\n",
       "      <td>5</td>\n",
       "      <td>0.002</td>\n",
       "      <td>128</td>\n",
       "      <td>0.270839</td>\n",
       "      <td>1.000000</td>\n",
       "    </tr>\n",
       "    <tr>\n",
       "      <th>26</th>\n",
       "      <td>27</td>\n",
       "      <td>3</td>\n",
       "      <td>10</td>\n",
       "      <td>0.005</td>\n",
       "      <td>64</td>\n",
       "      <td>0.268774</td>\n",
       "      <td>1.000000</td>\n",
       "    </tr>\n",
       "    <tr>\n",
       "      <th>35</th>\n",
       "      <td>36</td>\n",
       "      <td>3</td>\n",
       "      <td>20</td>\n",
       "      <td>0.010</td>\n",
       "      <td>128</td>\n",
       "      <td>0.268302</td>\n",
       "      <td>0.966667</td>\n",
       "    </tr>\n",
       "    <tr>\n",
       "      <th>13</th>\n",
       "      <td>14</td>\n",
       "      <td>2</td>\n",
       "      <td>20</td>\n",
       "      <td>0.002</td>\n",
       "      <td>128</td>\n",
       "      <td>0.268232</td>\n",
       "      <td>1.000000</td>\n",
       "    </tr>\n",
       "    <tr>\n",
       "      <th>2</th>\n",
       "      <td>3</td>\n",
       "      <td>2</td>\n",
       "      <td>5</td>\n",
       "      <td>0.005</td>\n",
       "      <td>64</td>\n",
       "      <td>0.268103</td>\n",
       "      <td>1.000000</td>\n",
       "    </tr>\n",
       "    <tr>\n",
       "      <th>52</th>\n",
       "      <td>53</td>\n",
       "      <td>4</td>\n",
       "      <td>20</td>\n",
       "      <td>0.010</td>\n",
       "      <td>64</td>\n",
       "      <td>0.266139</td>\n",
       "      <td>0.875000</td>\n",
       "    </tr>\n",
       "    <tr>\n",
       "      <th>30</th>\n",
       "      <td>31</td>\n",
       "      <td>3</td>\n",
       "      <td>20</td>\n",
       "      <td>0.002</td>\n",
       "      <td>64</td>\n",
       "      <td>0.265918</td>\n",
       "      <td>1.000000</td>\n",
       "    </tr>\n",
       "    <tr>\n",
       "      <th>46</th>\n",
       "      <td>47</td>\n",
       "      <td>4</td>\n",
       "      <td>10</td>\n",
       "      <td>0.010</td>\n",
       "      <td>64</td>\n",
       "      <td>0.265332</td>\n",
       "      <td>0.925000</td>\n",
       "    </tr>\n",
       "    <tr>\n",
       "      <th>20</th>\n",
       "      <td>21</td>\n",
       "      <td>3</td>\n",
       "      <td>5</td>\n",
       "      <td>0.005</td>\n",
       "      <td>64</td>\n",
       "      <td>0.264318</td>\n",
       "      <td>1.000000</td>\n",
       "    </tr>\n",
       "    <tr>\n",
       "      <th>38</th>\n",
       "      <td>39</td>\n",
       "      <td>4</td>\n",
       "      <td>5</td>\n",
       "      <td>0.005</td>\n",
       "      <td>64</td>\n",
       "      <td>0.258972</td>\n",
       "      <td>0.925000</td>\n",
       "    </tr>\n",
       "    <tr>\n",
       "      <th>23</th>\n",
       "      <td>24</td>\n",
       "      <td>3</td>\n",
       "      <td>5</td>\n",
       "      <td>0.010</td>\n",
       "      <td>128</td>\n",
       "      <td>0.256680</td>\n",
       "      <td>1.000000</td>\n",
       "    </tr>\n",
       "    <tr>\n",
       "      <th>21</th>\n",
       "      <td>22</td>\n",
       "      <td>3</td>\n",
       "      <td>5</td>\n",
       "      <td>0.005</td>\n",
       "      <td>128</td>\n",
       "      <td>0.256500</td>\n",
       "      <td>1.000000</td>\n",
       "    </tr>\n",
       "    <tr>\n",
       "      <th>51</th>\n",
       "      <td>52</td>\n",
       "      <td>4</td>\n",
       "      <td>20</td>\n",
       "      <td>0.005</td>\n",
       "      <td>128</td>\n",
       "      <td>0.255504</td>\n",
       "      <td>0.900000</td>\n",
       "    </tr>\n",
       "    <tr>\n",
       "      <th>24</th>\n",
       "      <td>25</td>\n",
       "      <td>3</td>\n",
       "      <td>10</td>\n",
       "      <td>0.002</td>\n",
       "      <td>64</td>\n",
       "      <td>0.255483</td>\n",
       "      <td>1.000000</td>\n",
       "    </tr>\n",
       "    <tr>\n",
       "      <th>3</th>\n",
       "      <td>4</td>\n",
       "      <td>2</td>\n",
       "      <td>5</td>\n",
       "      <td>0.005</td>\n",
       "      <td>128</td>\n",
       "      <td>0.255336</td>\n",
       "      <td>1.000000</td>\n",
       "    </tr>\n",
       "    <tr>\n",
       "      <th>4</th>\n",
       "      <td>5</td>\n",
       "      <td>2</td>\n",
       "      <td>5</td>\n",
       "      <td>0.010</td>\n",
       "      <td>64</td>\n",
       "      <td>0.253013</td>\n",
       "      <td>1.000000</td>\n",
       "    </tr>\n",
       "    <tr>\n",
       "      <th>5</th>\n",
       "      <td>6</td>\n",
       "      <td>2</td>\n",
       "      <td>5</td>\n",
       "      <td>0.010</td>\n",
       "      <td>128</td>\n",
       "      <td>0.252724</td>\n",
       "      <td>1.000000</td>\n",
       "    </tr>\n",
       "    <tr>\n",
       "      <th>37</th>\n",
       "      <td>38</td>\n",
       "      <td>4</td>\n",
       "      <td>5</td>\n",
       "      <td>0.002</td>\n",
       "      <td>128</td>\n",
       "      <td>0.251161</td>\n",
       "      <td>0.950000</td>\n",
       "    </tr>\n",
       "    <tr>\n",
       "      <th>42</th>\n",
       "      <td>43</td>\n",
       "      <td>4</td>\n",
       "      <td>10</td>\n",
       "      <td>0.002</td>\n",
       "      <td>64</td>\n",
       "      <td>0.248911</td>\n",
       "      <td>0.975000</td>\n",
       "    </tr>\n",
       "    <tr>\n",
       "      <th>40</th>\n",
       "      <td>41</td>\n",
       "      <td>4</td>\n",
       "      <td>5</td>\n",
       "      <td>0.010</td>\n",
       "      <td>64</td>\n",
       "      <td>0.245629</td>\n",
       "      <td>0.925000</td>\n",
       "    </tr>\n",
       "    <tr>\n",
       "      <th>22</th>\n",
       "      <td>23</td>\n",
       "      <td>3</td>\n",
       "      <td>5</td>\n",
       "      <td>0.010</td>\n",
       "      <td>64</td>\n",
       "      <td>0.242180</td>\n",
       "      <td>1.000000</td>\n",
       "    </tr>\n",
       "    <tr>\n",
       "      <th>6</th>\n",
       "      <td>7</td>\n",
       "      <td>2</td>\n",
       "      <td>10</td>\n",
       "      <td>0.002</td>\n",
       "      <td>64</td>\n",
       "      <td>0.240081</td>\n",
       "      <td>1.000000</td>\n",
       "    </tr>\n",
       "    <tr>\n",
       "      <th>25</th>\n",
       "      <td>26</td>\n",
       "      <td>3</td>\n",
       "      <td>10</td>\n",
       "      <td>0.002</td>\n",
       "      <td>128</td>\n",
       "      <td>0.231598</td>\n",
       "      <td>0.966667</td>\n",
       "    </tr>\n",
       "    <tr>\n",
       "      <th>31</th>\n",
       "      <td>32</td>\n",
       "      <td>3</td>\n",
       "      <td>20</td>\n",
       "      <td>0.002</td>\n",
       "      <td>128</td>\n",
       "      <td>0.231298</td>\n",
       "      <td>1.000000</td>\n",
       "    </tr>\n",
       "  </tbody>\n",
       "</table>\n",
       "</div>"
      ]
     },
     "execution_count": 8,
     "metadata": {},
     "output_type": "execute_result"
    }
   ],
   "execution_count": 8
  },
  {
   "metadata": {
    "ExecuteTime": {
     "end_time": "2024-10-21T20:18:53.881991Z",
     "start_time": "2024-10-21T20:18:49.618942Z"
    }
   },
   "cell_type": "code",
   "source": [
    "results_df = pd.read_csv('saved_models/ctm_model_results_summary.csv')\n",
    "best_params = results_df.iloc[0]  # Assuming the first row has the best score after sorting\n",
    "\n",
    "# Extract hyperparameters\n",
    "best_num_topics = int(best_params['num_topics'])\n",
    "best_epochs = int(best_params['epochs'])\n",
    "best_learning_rate = best_params['learning_rate']\n",
    "best_batch_size = int(best_params['batch_size'])\n",
    "\n",
    "best_ctm_model = CombinedTM(\n",
    "    bow_size=len(tp.vocab),\n",
    "    contextual_size=768,\n",
    "    n_components=best_num_topics,\n",
    "    num_epochs=best_epochs,\n",
    "    batch_size=best_batch_size,\n",
    "    activation='softplus',\n",
    "    dropout=0.2,\n",
    "    solver='adam',\n",
    "    num_data_loader_workers=0,\n",
    ")\n",
    "\n",
    "# Train the model using the original training dataset\n",
    "best_ctm_model.fit(training_dataset)"
   ],
   "id": "cb4ca3b027caccce",
   "outputs": [
    {
     "name": "stderr",
     "output_type": "stream",
     "text": [
      "Epoch: [20/20]\t Seen Samples: [26880/27360]\tTrain Loss: 1191.5256405784971\tTime: 0:00:00.190655: : 20it [00:04,  4.84it/s]\n",
      "100%|██████████| 22/22 [00:00<00:00, 181.66it/s]\n"
     ]
    }
   ],
   "execution_count": 11
  },
  {
   "metadata": {},
   "cell_type": "code",
   "outputs": [],
   "execution_count": null,
   "source": "",
   "id": "2ce1e8773e98ef81"
  }
 ],
 "metadata": {
  "kernelspec": {
   "display_name": "Python 3",
   "language": "python",
   "name": "python3"
  },
  "language_info": {
   "codemirror_mode": {
    "name": "ipython",
    "version": 2
   },
   "file_extension": ".py",
   "mimetype": "text/x-python",
   "name": "python",
   "nbconvert_exporter": "python",
   "pygments_lexer": "ipython2",
   "version": "2.7.6"
  }
 },
 "nbformat": 4,
 "nbformat_minor": 5
}
