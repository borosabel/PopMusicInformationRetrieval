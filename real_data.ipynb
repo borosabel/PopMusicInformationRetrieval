{
 "cells": [
  {
   "metadata": {
    "ExecuteTime": {
     "end_time": "2024-10-28T18:05:28.035912Z",
     "start_time": "2024-10-28T18:05:28.027685Z"
    }
   },
   "cell_type": "code",
   "source": [
    "import os\n",
    "import pandas as pd"
   ],
   "id": "e441d6e1ea36c2a",
   "outputs": [],
   "execution_count": 5
  },
  {
   "cell_type": "code",
   "id": "initial_id",
   "metadata": {
    "collapsed": true,
    "ExecuteTime": {
     "end_time": "2024-10-28T18:05:32.266405Z",
     "start_time": "2024-10-28T18:05:32.261317Z"
    }
   },
   "source": [
    "def process_gunshot_data(file_path):\n",
    "    # Extract the base filename and replace .txt with .wav\n",
    "    base_name = os.path.basename(file_path)\n",
    "    wav_filename = os.path.splitext(base_name)[0] + '.wav'\n",
    "\n",
    "    # Read the file and extract the start times\n",
    "    start_times = []\n",
    "    with open(file_path, 'r') as file:\n",
    "        for line in file:\n",
    "            columns = line.split()\n",
    "            if len(columns) >= 1:\n",
    "                start_time = float(columns[0])\n",
    "                start_times.append(start_time)\n",
    "\n",
    "    # Get the length of the list\n",
    "    list_length = len(start_times)\n",
    "\n",
    "    return start_times, list_length, wav_filename"
   ],
   "outputs": [],
   "execution_count": 6
  },
  {
   "metadata": {
    "ExecuteTime": {
     "end_time": "2024-10-28T18:05:38.852282Z",
     "start_time": "2024-10-28T18:05:38.833332Z"
    }
   },
   "cell_type": "code",
   "source": [
    "def process_gunshot_data(file_path):\n",
    "    # Extract the base filename and replace .txt with .wav\n",
    "    base_name = os.path.basename(file_path)\n",
    "    wav_filename = os.path.splitext(base_name)[0] + '.wav'\n",
    "\n",
    "    # Read the file and extract the start times\n",
    "    start_times = []\n",
    "    with open(file_path, 'r') as file:\n",
    "        for line in file:\n",
    "            columns = line.split()\n",
    "            if len(columns) >= 1:\n",
    "                start_time = float(columns[0])\n",
    "                start_times.append(start_time)\n",
    "\n",
    "    # Get the length of the list\n",
    "    list_length = len(start_times)\n",
    "\n",
    "    return wav_filename, start_times, list_length\n",
    "\n",
    "def build_dataframe_from_folder(folder_path):\n",
    "    data = {\n",
    "        'filename': [],\n",
    "        'gunshot_location_in_seconds': [],\n",
    "        'num_gunshots': []\n",
    "    }\n",
    "\n",
    "    # Iterate through the folder and find all .txt files\n",
    "    for file_name in os.listdir(folder_path):\n",
    "        if file_name.endswith('.txt'):\n",
    "            file_path = os.path.join(folder_path, file_name)\n",
    "            wav_filename, start_times, list_length = process_gunshot_data(file_path)\n",
    "\n",
    "            # Append data to the dataframe columns\n",
    "            data['filename'].append(wav_filename)\n",
    "            data['gunshot_location_in_seconds'].append(start_times)\n",
    "            data['num_gunshots'].append(list_length)\n",
    "\n",
    "    # Create the DataFrame\n",
    "    df = pd.DataFrame(data, columns=['filename', 'gunshot_location_in_seconds', 'num_gunshots'])\n",
    "    return df\n",
    "\n",
    "# Example usage\n",
    "folder_path = './test_data_wav/'  # Change to the folder where your .txt files are located\n",
    "df = build_dataframe_from_folder(folder_path)"
   ],
   "id": "73d2e1cf8c082922",
   "outputs": [],
   "execution_count": 7
  },
  {
   "metadata": {},
   "cell_type": "code",
   "outputs": [],
   "execution_count": null,
   "source": "",
   "id": "c8b243bbdd2ad878"
  }
 ],
 "metadata": {
  "kernelspec": {
   "display_name": "Python 3",
   "language": "python",
   "name": "python3"
  },
  "language_info": {
   "codemirror_mode": {
    "name": "ipython",
    "version": 2
   },
   "file_extension": ".py",
   "mimetype": "text/x-python",
   "name": "python",
   "nbconvert_exporter": "python",
   "pygments_lexer": "ipython2",
   "version": "2.7.6"
  }
 },
 "nbformat": 4,
 "nbformat_minor": 5
}
