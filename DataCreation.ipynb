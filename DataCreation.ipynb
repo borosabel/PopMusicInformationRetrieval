{
 "cells": [
  {
   "cell_type": "code",
   "id": "initial_id",
   "metadata": {
    "collapsed": true,
    "ExecuteTime": {
     "end_time": "2024-12-03T17:40:01.116333Z",
     "start_time": "2024-12-03T17:40:00.538575Z"
    }
   },
   "source": [
    "import os\n",
    "import librosa\n",
    "import soundfile as sf\n",
    "import pandas as pd\n",
    "from tqdm import tqdm"
   ],
   "execution_count": 1,
   "outputs": []
  },
  {
   "metadata": {
    "ExecuteTime": {
     "end_time": "2024-12-03T17:40:04.336454Z",
     "start_time": "2024-12-03T17:40:01.136899Z"
    }
   },
   "cell_type": "code",
   "source": "df = pd.read_excel('/Users/borosabel/Documents/Uni/Thesis/PopMIR/Data/Excel/baseline_data_w_topics_w_features.xlsx', engine='openpyxl')",
   "id": "1f84e886d4fead59",
   "execution_count": 2,
   "outputs": []
  },
  {
   "metadata": {
    "ExecuteTime": {
     "end_time": "2024-12-03T17:40:04.357790Z",
     "start_time": "2024-12-03T17:40:04.337173Z"
    }
   },
   "cell_type": "code",
   "source": "df",
   "id": "b3189eda81254d41",
   "execution_count": 3,
   "outputs": []
  },
  {
   "metadata": {
    "ExecuteTime": {
     "end_time": "2024-12-03T17:47:27.991315Z",
     "start_time": "2024-12-03T17:47:27.985619Z"
    }
   },
   "cell_type": "code",
   "source": [
    "print(df[df['Coast'] == 'east_coast'].shape)\n",
    "print(df[df['Coast'] == 'west_coast'].shape)"
   ],
   "id": "521cd73ca69622b3",
   "execution_count": 5,
   "outputs": []
  },
  {
   "metadata": {
    "ExecuteTime": {
     "end_time": "2024-12-03T17:55:50.365394Z",
     "start_time": "2024-12-03T17:55:50.358240Z"
    }
   },
   "cell_type": "code",
   "source": "df[df['Release Year'] == 1996][['Artist', 'Album']]",
   "id": "d200a2ef38c91b7c",
   "execution_count": 13,
   "outputs": []
  },
  {
   "metadata": {
    "ExecuteTime": {
     "end_time": "2024-11-17T17:23:06.305812Z",
     "start_time": "2024-11-17T17:23:06.299524Z"
    }
   },
   "cell_type": "code",
   "source": [
    "import os\n",
    "import librosa\n",
    "import soundfile as sf\n",
    "import pandas as pd\n",
    "from tqdm import tqdm\n",
    "\n",
    "def process_music_files(df, output_folder, pickle_filename):\n",
    "    \"\"\"\n",
    "    Processes music files to calculate onsets, resample audio, and save results.\n",
    "    \n",
    "    Parameters:\n",
    "    - df: pandas DataFrame with a column 'path' containing paths to music files.\n",
    "    - output_folder: string, path to the folder where resampled audio files will be saved.\n",
    "    - pickle_filename: string, filename for the output pickle file.\n",
    "    \n",
    "    Returns:\n",
    "    - df_result: pandas DataFrame with columns 'path', 'onsets', 'num_onsets'.\n",
    "    \"\"\"\n",
    "    # Ensure output folder exists\n",
    "    if not os.path.exists(output_folder):\n",
    "        os.makedirs(output_folder)\n",
    "\n",
    "    # Lists to store results\n",
    "    onsets_list = []\n",
    "    num_onsets_list = []\n",
    "    resampled_paths = []\n",
    "\n",
    "    # Iterate over each file in the dataframe\n",
    "    for index, row in tqdm(df.iterrows(), total=df.shape[0]):\n",
    "        music_path = row['Path']\n",
    "\n",
    "        try:\n",
    "            # Load audio file with original sampling rate\n",
    "            y, sr = librosa.load(music_path, sr=None)\n",
    "\n",
    "            # Calculate onsets (times in seconds)\n",
    "            onset_frames = librosa.onset.onset_detect(y=y, sr=sr)\n",
    "            onset_times = librosa.frames_to_time(onset_frames, sr=sr)\n",
    "            onsets_list.append(onset_times.tolist())\n",
    "            num_onsets_list.append(len(onset_times))\n",
    "\n",
    "            # Resample audio to 44,100 Hz\n",
    "            if sr != 44100:\n",
    "                y_resampled = librosa.resample(y, orig_sr=sr, target_sr=44100)\n",
    "                sr_resampled = 44100\n",
    "            else:\n",
    "                y_resampled = y\n",
    "                sr_resampled = sr\n",
    "\n",
    "            # Save resampled audio to output folder\n",
    "            base_name = os.path.basename(music_path)\n",
    "            resampled_path = os.path.join(output_folder, base_name)\n",
    "            sf.write(resampled_path, y_resampled, sr_resampled)\n",
    "            resampled_paths.append(resampled_path)\n",
    "\n",
    "        except Exception as e:\n",
    "            print(f\"Error processing {music_path}: {e}\")\n",
    "            onsets_list.append([])\n",
    "            num_onsets_list.append(0)\n",
    "            resampled_paths.append(None)\n",
    "\n",
    "    # Create the result dataframe\n",
    "    df_result = df.copy()\n",
    "    df_result['onsets'] = onsets_list\n",
    "    df_result['num_onsets'] = num_onsets_list\n",
    "\n",
    "    # Save dataframe to pickle file\n",
    "    df_result.to_pickle(pickle_filename)\n",
    "\n",
    "    return df_result"
   ],
   "id": "d97ed3fcae21be4d",
   "execution_count": 33,
   "outputs": []
  },
  {
   "metadata": {
    "ExecuteTime": {
     "end_time": "2024-11-17T18:01:43.727315Z",
     "start_time": "2024-11-17T17:23:06.307866Z"
    }
   },
   "cell_type": "code",
   "source": "df_result = process_music_files(df, output_folder='/Users/borosabel/Documents/Uni/Thesis/PopMusicInformationRetrieval/Data/music2', pickle_filename='pkl_data/dataset_with_onset.pkl')",
   "id": "4c51d8df5fa481e4",
   "execution_count": 34,
   "outputs": []
  },
  {
   "metadata": {},
   "cell_type": "code",
   "execution_count": null,
   "source": " ",
   "id": "e2d8ec00decdc69d",
   "outputs": []
  },
  {
   "metadata": {
    "ExecuteTime": {
     "end_time": "2024-11-17T16:59:20.717186Z",
     "start_time": "2024-11-17T16:59:20.592090Z"
    }
   },
   "cell_type": "code",
   "source": "df = pd.read_csv('./Out_19.csv')",
   "id": "cf0c39390d99b680",
   "execution_count": 20,
   "outputs": []
  },
  {
   "metadata": {},
   "cell_type": "code",
   "execution_count": null,
   "source": "",
   "id": "100ee6acdba12f09",
   "outputs": []
  },
  {
   "metadata": {
    "ExecuteTime": {
     "end_time": "2024-11-17T17:17:14.590368Z",
     "start_time": "2024-11-17T17:17:14.576176Z"
    }
   },
   "cell_type": "code",
   "source": "df_processed = df.iloc[:, [10, -1, -2]]",
   "id": "826018e3f589d67",
   "execution_count": 27,
   "outputs": []
  },
  {
   "metadata": {},
   "cell_type": "code",
   "execution_count": null,
   "source": "",
   "id": "276299397adeaaab",
   "outputs": []
  },
  {
   "metadata": {
    "ExecuteTime": {
     "end_time": "2024-11-17T17:17:16.820208Z",
     "start_time": "2024-11-17T17:17:16.813902Z"
    }
   },
   "cell_type": "code",
   "source": "df_processed",
   "id": "ec419b879448e50b",
   "execution_count": 28,
   "outputs": []
  },
  {
   "metadata": {},
   "cell_type": "code",
   "execution_count": null,
   "source": "",
   "id": "ad66b6ffd24353fc",
   "outputs": []
  }
 ],
 "metadata": {
  "kernelspec": {
   "display_name": "Python 3",
   "language": "python",
   "name": "python3"
  },
  "language_info": {
   "codemirror_mode": {
    "name": "ipython",
    "version": 2
   },
   "file_extension": ".py",
   "mimetype": "text/x-python",
   "name": "python",
   "nbconvert_exporter": "python",
   "pygments_lexer": "ipython2",
   "version": "2.7.6"
  }
 },
 "nbformat": 4,
 "nbformat_minor": 5
}
