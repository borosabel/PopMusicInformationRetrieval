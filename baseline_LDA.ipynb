{
 "cells": [
  {
   "metadata": {
    "ExecuteTime": {
     "end_time": "2024-10-13T11:33:26.637374Z",
     "start_time": "2024-10-13T11:33:26.628602Z"
    }
   },
   "cell_type": "code",
   "source": [
    "import warnings\n",
    "from urllib3.exceptions import NotOpenSSLWarning\n",
    "\n",
    "warnings.filterwarnings(\"ignore\", category=NotOpenSSLWarning)"
   ],
   "id": "fc3f3b3bd294dd6b",
   "outputs": [],
   "execution_count": 81
  },
  {
   "cell_type": "code",
   "id": "initial_id",
   "metadata": {
    "collapsed": true,
    "ExecuteTime": {
     "end_time": "2024-10-13T11:33:27.250863Z",
     "start_time": "2024-10-13T11:33:26.793260Z"
    }
   },
   "source": [
    "import string\n",
    "import spacy\n",
    "spacy_nlp = spacy.load(\"en_core_web_sm\")\n",
    "import numpy as np\n",
    "import utility_functions as utils\n",
    "import importlib\n",
    "import pandas as pd\n",
    "import seaborn as sns\n",
    "\n",
    "# Text processing\n",
    "from gensim import corpora, models\n",
    "from gensim.models import CoherenceModel\n",
    "\n",
    "# Visualization\n",
    "import pyLDAvis\n",
    "import pyLDAvis.gensim_models as gensimvis\n",
    "import matplotlib.pyplot as plt\n",
    "\n",
    "# Octis is the library which can use different implemented topic modelling techniques\n",
    "from octis.preprocessing.preprocessing import Preprocessing\n",
    "from octis.evaluation_metrics.coherence_metrics import Coherence\n",
    "from octis.evaluation_metrics.diversity_metrics import TopicDiversity\n",
    "from octis.models.CTM import CTM\n",
    "\n",
    "importlib.reload(utils)\n",
    "\n",
    "data = './preprocessed_df.pkl'"
   ],
   "outputs": [],
   "execution_count": 82
  },
  {
   "metadata": {
    "ExecuteTime": {
     "end_time": "2024-10-13T11:33:27.287432Z",
     "start_time": "2024-10-13T11:33:27.251923Z"
    }
   },
   "cell_type": "code",
   "source": [
    "df = pd.read_pickle(data)\n",
    "df[['Artist', 'Song', 'Tokens', 'Lyrics', 'Coast']].head()"
   ],
   "id": "f2660c040bd72de1",
   "outputs": [
    {
     "data": {
      "text/plain": [
       "  Artist                       Song  \\\n",
       "0  Big L             8 Iz Enuff.mp3   \n",
       "1  Big L           Da Graveyard.mp3   \n",
       "2  Big L  I Don't Understand It.mp3   \n",
       "3  Big L      No Endz, No Skinz.mp3   \n",
       "4  Big L                    MVP.mp3   \n",
       "\n",
       "                                              Tokens  \\\n",
       "0  [crew, house, terra, herb, mcgruff, buddah, bl...   \n",
       "1  [number, one, crew, area, big, lightin, nigga,...   \n",
       "2  [many, mc, overrate, ask, even, suppose, make,...   \n",
       "3  [let, get, point, real, quick, pocket, thick, ...   \n",
       "4  [spark, phillies, pass, stout, making, quick, ...   \n",
       "\n",
       "                                              Lyrics       Coast  \n",
       "0  \\n\\nYo\\nMy crew is in the house\\nTerra, Herb M...  east_coast  \n",
       "1  \\n\\n[Intro:]\\nIt's the number one crew in the ...  east_coast  \n",
       "2  \\n\\n[Verse 1]\\nThere are too many MC's who are...  east_coast  \n",
       "3  \\n\\n[Verse 1:]\\nLet me get to the point real q...  east_coast  \n",
       "4  \\n\\n[Big L]\\n A yo spark up the phillies and p...  east_coast  "
      ],
      "text/html": [
       "<div>\n",
       "<style scoped>\n",
       "    .dataframe tbody tr th:only-of-type {\n",
       "        vertical-align: middle;\n",
       "    }\n",
       "\n",
       "    .dataframe tbody tr th {\n",
       "        vertical-align: top;\n",
       "    }\n",
       "\n",
       "    .dataframe thead th {\n",
       "        text-align: right;\n",
       "    }\n",
       "</style>\n",
       "<table border=\"1\" class=\"dataframe\">\n",
       "  <thead>\n",
       "    <tr style=\"text-align: right;\">\n",
       "      <th></th>\n",
       "      <th>Artist</th>\n",
       "      <th>Song</th>\n",
       "      <th>Tokens</th>\n",
       "      <th>Lyrics</th>\n",
       "      <th>Coast</th>\n",
       "    </tr>\n",
       "  </thead>\n",
       "  <tbody>\n",
       "    <tr>\n",
       "      <th>0</th>\n",
       "      <td>Big L</td>\n",
       "      <td>8 Iz Enuff.mp3</td>\n",
       "      <td>[crew, house, terra, herb, mcgruff, buddah, bl...</td>\n",
       "      <td>\\n\\nYo\\nMy crew is in the house\\nTerra, Herb M...</td>\n",
       "      <td>east_coast</td>\n",
       "    </tr>\n",
       "    <tr>\n",
       "      <th>1</th>\n",
       "      <td>Big L</td>\n",
       "      <td>Da Graveyard.mp3</td>\n",
       "      <td>[number, one, crew, area, big, lightin, nigga,...</td>\n",
       "      <td>\\n\\n[Intro:]\\nIt's the number one crew in the ...</td>\n",
       "      <td>east_coast</td>\n",
       "    </tr>\n",
       "    <tr>\n",
       "      <th>2</th>\n",
       "      <td>Big L</td>\n",
       "      <td>I Don't Understand It.mp3</td>\n",
       "      <td>[many, mc, overrate, ask, even, suppose, make,...</td>\n",
       "      <td>\\n\\n[Verse 1]\\nThere are too many MC's who are...</td>\n",
       "      <td>east_coast</td>\n",
       "    </tr>\n",
       "    <tr>\n",
       "      <th>3</th>\n",
       "      <td>Big L</td>\n",
       "      <td>No Endz, No Skinz.mp3</td>\n",
       "      <td>[let, get, point, real, quick, pocket, thick, ...</td>\n",
       "      <td>\\n\\n[Verse 1:]\\nLet me get to the point real q...</td>\n",
       "      <td>east_coast</td>\n",
       "    </tr>\n",
       "    <tr>\n",
       "      <th>4</th>\n",
       "      <td>Big L</td>\n",
       "      <td>MVP.mp3</td>\n",
       "      <td>[spark, phillies, pass, stout, making, quick, ...</td>\n",
       "      <td>\\n\\n[Big L]\\n A yo spark up the phillies and p...</td>\n",
       "      <td>east_coast</td>\n",
       "    </tr>\n",
       "  </tbody>\n",
       "</table>\n",
       "</div>"
      ]
     },
     "execution_count": 83,
     "metadata": {},
     "output_type": "execute_result"
    }
   ],
   "execution_count": 83
  },
  {
   "metadata": {
    "ExecuteTime": {
     "end_time": "2024-10-13T11:33:27.616962Z",
     "start_time": "2024-10-13T11:33:27.435316Z"
    }
   },
   "cell_type": "code",
   "source": [
    "# Create a dictionary representation of the documents\n",
    "dictionary = corpora.Dictionary(df['Tokens'])\n",
    "dictionary.filter_extremes(no_below=5, no_above=0.5)\n",
    "print(f\"Number of unique tokens: {len(dictionary)}\")"
   ],
   "id": "143514f57d9c8a2e",
   "outputs": [
    {
     "name": "stdout",
     "output_type": "stream",
     "text": [
      "Number of unique tokens: 5609\n"
     ]
    }
   ],
   "execution_count": 84
  },
  {
   "metadata": {
    "ExecuteTime": {
     "end_time": "2024-10-13T11:33:30.059645Z",
     "start_time": "2024-10-13T11:33:29.951698Z"
    }
   },
   "cell_type": "code",
   "source": [
    "# Convert documents to a bag-of-words representation\n",
    "corpus = [dictionary.doc2bow(text) for text in df['Tokens']]"
   ],
   "id": "1d16f9c2c26ac682",
   "outputs": [],
   "execution_count": 85
  },
  {
   "metadata": {
    "ExecuteTime": {
     "end_time": "2024-10-13T11:33:30.332326Z",
     "start_time": "2024-10-13T11:33:30.328351Z"
    }
   },
   "cell_type": "code",
   "source": [
    "from tqdm import tqdm\n",
    "from gensim import models\n",
    "from gensim.models.coherencemodel import CoherenceModel\n",
    "\n",
    "def compute_coherence_values(dictionary, corpus, texts, start, limit, step):\n",
    "    coherence_values = []\n",
    "    model_list = []\n",
    "\n",
    "    # Add tqdm for progress tracking\n",
    "    for num_topics in tqdm(range(start, limit, step), desc=\"Computing coherence\"):\n",
    "        model = models.LdaModel(\n",
    "            corpus=corpus,\n",
    "            id2word=dictionary,\n",
    "            num_topics=num_topics,\n",
    "            random_state=42,\n",
    "            chunksize=chunksize,\n",
    "            passes=passes,\n",
    "            iterations=iterations,\n",
    "            alpha='auto',\n",
    "            eta='auto',\n",
    "            eval_every=eval_every\n",
    "        )\n",
    "        model_list.append(model)\n",
    "\n",
    "        # Applies a sliding window and evaluates similarity of the top words in each topic. \n",
    "        coherencemodel = CoherenceModel(\n",
    "            model=model,\n",
    "            texts=texts,\n",
    "            dictionary=dictionary,\n",
    "            coherence='c_v'\n",
    "        )\n",
    "\n",
    "        coherence_values.append(coherencemodel.get_coherence())\n",
    "\n",
    "    return model_list, coherence_values"
   ],
   "id": "e512d4e3c00e40e2",
   "outputs": [],
   "execution_count": 86
  },
  {
   "metadata": {
    "ExecuteTime": {
     "end_time": "2024-10-13T11:33:51.688313Z",
     "start_time": "2024-10-13T11:33:30.980098Z"
    }
   },
   "cell_type": "code",
   "source": [
    "start = 2\n",
    "limit = 6\n",
    "step = 1\n",
    "\n",
    "model_list, coherence_values = compute_coherence_values(\n",
    "    dictionary=dictionary,\n",
    "    corpus=corpus,\n",
    "    texts=df['Tokens'],\n",
    "    start=start,\n",
    "    limit=limit,\n",
    "    step=step\n",
    ")"
   ],
   "id": "fbbef797391c9dbc",
   "outputs": [
    {
     "name": "stderr",
     "output_type": "stream",
     "text": [
      "Computing coherence:   0%|          | 0/4 [00:00<?, ?it/s]/Users/borosabel/lib/python3.9/site-packages/urllib3/__init__.py:35: NotOpenSSLWarning: urllib3 v2 only supports OpenSSL 1.1.1+, currently the 'ssl' module is compiled with 'LibreSSL 2.8.3'. See: https://github.com/urllib3/urllib3/issues/3020\n",
      "  warnings.warn(\n",
      "/Users/borosabel/lib/python3.9/site-packages/urllib3/__init__.py:35: NotOpenSSLWarning: urllib3 v2 only supports OpenSSL 1.1.1+, currently the 'ssl' module is compiled with 'LibreSSL 2.8.3'. See: https://github.com/urllib3/urllib3/issues/3020\n",
      "  warnings.warn(\n",
      "/Users/borosabel/lib/python3.9/site-packages/urllib3/__init__.py:35: NotOpenSSLWarning: urllib3 v2 only supports OpenSSL 1.1.1+, currently the 'ssl' module is compiled with 'LibreSSL 2.8.3'. See: https://github.com/urllib3/urllib3/issues/3020\n",
      "  warnings.warn(\n",
      "/Users/borosabel/lib/python3.9/site-packages/urllib3/__init__.py:35: NotOpenSSLWarning: urllib3 v2 only supports OpenSSL 1.1.1+, currently the 'ssl' module is compiled with 'LibreSSL 2.8.3'. See: https://github.com/urllib3/urllib3/issues/3020\n",
      "  warnings.warn(\n",
      "/Users/borosabel/lib/python3.9/site-packages/urllib3/__init__.py:35: NotOpenSSLWarning: urllib3 v2 only supports OpenSSL 1.1.1+, currently the 'ssl' module is compiled with 'LibreSSL 2.8.3'. See: https://github.com/urllib3/urllib3/issues/3020\n",
      "  warnings.warn(\n",
      "/Users/borosabel/lib/python3.9/site-packages/urllib3/__init__.py:35: NotOpenSSLWarning: urllib3 v2 only supports OpenSSL 1.1.1+, currently the 'ssl' module is compiled with 'LibreSSL 2.8.3'. See: https://github.com/urllib3/urllib3/issues/3020\n",
      "  warnings.warn(\n",
      "/Users/borosabel/lib/python3.9/site-packages/urllib3/__init__.py:35: NotOpenSSLWarning: urllib3 v2 only supports OpenSSL 1.1.1+, currently the 'ssl' module is compiled with 'LibreSSL 2.8.3'. See: https://github.com/urllib3/urllib3/issues/3020\n",
      "  warnings.warn(\n",
      "Computing coherence:  25%|██▌       | 1/4 [00:05<00:15,  5.33s/it]/Users/borosabel/lib/python3.9/site-packages/urllib3/__init__.py:35: NotOpenSSLWarning: urllib3 v2 only supports OpenSSL 1.1.1+, currently the 'ssl' module is compiled with 'LibreSSL 2.8.3'. See: https://github.com/urllib3/urllib3/issues/3020\n",
      "  warnings.warn(\n",
      "/Users/borosabel/lib/python3.9/site-packages/urllib3/__init__.py:35: NotOpenSSLWarning: urllib3 v2 only supports OpenSSL 1.1.1+, currently the 'ssl' module is compiled with 'LibreSSL 2.8.3'. See: https://github.com/urllib3/urllib3/issues/3020\n",
      "  warnings.warn(\n",
      "/Users/borosabel/lib/python3.9/site-packages/urllib3/__init__.py:35: NotOpenSSLWarning: urllib3 v2 only supports OpenSSL 1.1.1+, currently the 'ssl' module is compiled with 'LibreSSL 2.8.3'. See: https://github.com/urllib3/urllib3/issues/3020\n",
      "  warnings.warn(\n",
      "/Users/borosabel/lib/python3.9/site-packages/urllib3/__init__.py:35: NotOpenSSLWarning: urllib3 v2 only supports OpenSSL 1.1.1+, currently the 'ssl' module is compiled with 'LibreSSL 2.8.3'. See: https://github.com/urllib3/urllib3/issues/3020\n",
      "  warnings.warn(\n",
      "/Users/borosabel/lib/python3.9/site-packages/urllib3/__init__.py:35: NotOpenSSLWarning: urllib3 v2 only supports OpenSSL 1.1.1+, currently the 'ssl' module is compiled with 'LibreSSL 2.8.3'. See: https://github.com/urllib3/urllib3/issues/3020\n",
      "  warnings.warn(\n",
      "/Users/borosabel/lib/python3.9/site-packages/urllib3/__init__.py:35: NotOpenSSLWarning: urllib3 v2 only supports OpenSSL 1.1.1+, currently the 'ssl' module is compiled with 'LibreSSL 2.8.3'. See: https://github.com/urllib3/urllib3/issues/3020\n",
      "  warnings.warn(\n",
      "/Users/borosabel/lib/python3.9/site-packages/urllib3/__init__.py:35: NotOpenSSLWarning: urllib3 v2 only supports OpenSSL 1.1.1+, currently the 'ssl' module is compiled with 'LibreSSL 2.8.3'. See: https://github.com/urllib3/urllib3/issues/3020\n",
      "  warnings.warn(\n",
      "Computing coherence:  50%|█████     | 2/4 [00:10<00:10,  5.47s/it]/Users/borosabel/lib/python3.9/site-packages/urllib3/__init__.py:35: NotOpenSSLWarning: urllib3 v2 only supports OpenSSL 1.1.1+, currently the 'ssl' module is compiled with 'LibreSSL 2.8.3'. See: https://github.com/urllib3/urllib3/issues/3020\n",
      "  warnings.warn(\n",
      "/Users/borosabel/lib/python3.9/site-packages/urllib3/__init__.py:35: NotOpenSSLWarning: urllib3 v2 only supports OpenSSL 1.1.1+, currently the 'ssl' module is compiled with 'LibreSSL 2.8.3'. See: https://github.com/urllib3/urllib3/issues/3020\n",
      "  warnings.warn(\n",
      "/Users/borosabel/lib/python3.9/site-packages/urllib3/__init__.py:35: NotOpenSSLWarning: urllib3 v2 only supports OpenSSL 1.1.1+, currently the 'ssl' module is compiled with 'LibreSSL 2.8.3'. See: https://github.com/urllib3/urllib3/issues/3020\n",
      "  warnings.warn(\n",
      "/Users/borosabel/lib/python3.9/site-packages/urllib3/__init__.py:35: NotOpenSSLWarning: urllib3 v2 only supports OpenSSL 1.1.1+, currently the 'ssl' module is compiled with 'LibreSSL 2.8.3'. See: https://github.com/urllib3/urllib3/issues/3020\n",
      "  warnings.warn(\n",
      "/Users/borosabel/lib/python3.9/site-packages/urllib3/__init__.py:35: NotOpenSSLWarning: urllib3 v2 only supports OpenSSL 1.1.1+, currently the 'ssl' module is compiled with 'LibreSSL 2.8.3'. See: https://github.com/urllib3/urllib3/issues/3020\n",
      "  warnings.warn(\n",
      "/Users/borosabel/lib/python3.9/site-packages/urllib3/__init__.py:35: NotOpenSSLWarning: urllib3 v2 only supports OpenSSL 1.1.1+, currently the 'ssl' module is compiled with 'LibreSSL 2.8.3'. See: https://github.com/urllib3/urllib3/issues/3020\n",
      "  warnings.warn(\n",
      "/Users/borosabel/lib/python3.9/site-packages/urllib3/__init__.py:35: NotOpenSSLWarning: urllib3 v2 only supports OpenSSL 1.1.1+, currently the 'ssl' module is compiled with 'LibreSSL 2.8.3'. See: https://github.com/urllib3/urllib3/issues/3020\n",
      "  warnings.warn(\n",
      "Computing coherence:  75%|███████▌  | 3/4 [00:15<00:05,  5.19s/it]/Users/borosabel/lib/python3.9/site-packages/urllib3/__init__.py:35: NotOpenSSLWarning: urllib3 v2 only supports OpenSSL 1.1.1+, currently the 'ssl' module is compiled with 'LibreSSL 2.8.3'. See: https://github.com/urllib3/urllib3/issues/3020\n",
      "  warnings.warn(\n",
      "/Users/borosabel/lib/python3.9/site-packages/urllib3/__init__.py:35: NotOpenSSLWarning: urllib3 v2 only supports OpenSSL 1.1.1+, currently the 'ssl' module is compiled with 'LibreSSL 2.8.3'. See: https://github.com/urllib3/urllib3/issues/3020\n",
      "  warnings.warn(\n",
      "/Users/borosabel/lib/python3.9/site-packages/urllib3/__init__.py:35: NotOpenSSLWarning: urllib3 v2 only supports OpenSSL 1.1.1+, currently the 'ssl' module is compiled with 'LibreSSL 2.8.3'. See: https://github.com/urllib3/urllib3/issues/3020\n",
      "  warnings.warn(\n",
      "/Users/borosabel/lib/python3.9/site-packages/urllib3/__init__.py:35: NotOpenSSLWarning: urllib3 v2 only supports OpenSSL 1.1.1+, currently the 'ssl' module is compiled with 'LibreSSL 2.8.3'. See: https://github.com/urllib3/urllib3/issues/3020\n",
      "  warnings.warn(\n",
      "/Users/borosabel/lib/python3.9/site-packages/urllib3/__init__.py:35: NotOpenSSLWarning: urllib3 v2 only supports OpenSSL 1.1.1+, currently the 'ssl' module is compiled with 'LibreSSL 2.8.3'. See: https://github.com/urllib3/urllib3/issues/3020\n",
      "  warnings.warn(\n",
      "/Users/borosabel/lib/python3.9/site-packages/urllib3/__init__.py:35: NotOpenSSLWarning: urllib3 v2 only supports OpenSSL 1.1.1+, currently the 'ssl' module is compiled with 'LibreSSL 2.8.3'. See: https://github.com/urllib3/urllib3/issues/3020\n",
      "  warnings.warn(\n",
      "/Users/borosabel/lib/python3.9/site-packages/urllib3/__init__.py:35: NotOpenSSLWarning: urllib3 v2 only supports OpenSSL 1.1.1+, currently the 'ssl' module is compiled with 'LibreSSL 2.8.3'. See: https://github.com/urllib3/urllib3/issues/3020\n",
      "  warnings.warn(\n",
      "Computing coherence: 100%|██████████| 4/4 [00:20<00:00,  5.18s/it]\n"
     ]
    }
   ],
   "execution_count": 87
  },
  {
   "metadata": {
    "ExecuteTime": {
     "end_time": "2024-10-13T11:33:51.836021Z",
     "start_time": "2024-10-13T11:33:51.689552Z"
    }
   },
   "cell_type": "code",
   "source": [
    "# Prepare data for Seaborn\n",
    "x = list(range(start, limit, step))\n",
    "\n",
    "# Create a barplot with Seaborn\n",
    "plt.figure(figsize=(10, 6))\n",
    "sns.barplot(x=x, y=coherence_values)\n",
    "\n",
    "# Set plot labels and title\n",
    "plt.xlabel(\"Number of Topics\")\n",
    "plt.ylabel(\"Coherence Score\")\n",
    "plt.title(\"Coherence Scores for Different Numbers of Topics\")\n",
    "\n",
    "# Ensure integer values on the x-axis\n",
    "plt.xticks(ticks=x)\n",
    "\n",
    "plt.show()"
   ],
   "id": "1d615cd04185e696",
   "outputs": [
    {
     "data": {
      "text/plain": [
       "<Figure size 1000x600 with 1 Axes>"
      ],
      "image/png": "[encoded data removed]"
     },
     "metadata": {},
     "output_type": "display_data"
    }
   ],
   "execution_count": 88
  },
  {
   "metadata": {
    "ExecuteTime": {
     "end_time": "2024-10-13T11:33:51.847641Z",
     "start_time": "2024-10-13T11:33:51.838010Z"
    }
   },
   "cell_type": "code",
   "source": [
    "# Select the model with highest coherence\n",
    "optimal_index = coherence_values.index(max(coherence_values))\n",
    "optimal_model = model_list[optimal_index]\n",
    "optimal_num_topics = x[optimal_index]\n",
    "\n",
    "print(f'Optimal Number of Topics: {optimal_num_topics}')\n",
    "print(f'Highest Coherence Score: {coherence_values[optimal_index]:.4f}')"
   ],
   "id": "48071e2fe87f2f30",
   "outputs": [
    {
     "name": "stdout",
     "output_type": "stream",
     "text": [
      "Optimal Number of Topics: 4\n",
      "Highest Coherence Score: 0.3854\n"
     ]
    }
   ],
   "execution_count": 89
  },
  {
   "metadata": {
    "ExecuteTime": {
     "end_time": "2024-10-13T11:33:53.023411Z",
     "start_time": "2024-10-13T11:33:51.852075Z"
    }
   },
   "cell_type": "code",
   "source": [
    "# Prepare the visualization\n",
    "pyLDAvis.enable_notebook()\n",
    "vis = gensimvis.prepare(optimal_model, corpus, dictionary)\n",
    "\n",
    "# Display the visualization\n",
    "pyLDAvis.display(vis)"
   ],
   "id": "93cc9fae3837ae9e",
   "outputs": [
    {
     "data": {
      "text/plain": [
       "<IPython.core.display.HTML object>"
      ],
      "text/html": [
       "\n",
       "<link rel=\"stylesheet\" type=\"text/css\" href=\"https://cdn.jsdelivr.net/gh/bmabey/pyLDAvis@3.4.0/pyLDAvis/js/ldavis.v1.0.0.css\">\n",
       "\n",
       "\n",
       "<div id=\"ldavis_el677564170182088460696085\" style=\"background-color:white;\"></div>\n",
       "<script type=\"text/javascript\">\n",
       "\n",
       "var ldavis_el677564170182088460696085_data = {\"mdsDat\": {\"x\": [0.007598609267094124, 0.000609276748165873, -0.2391569732072075, 0.23094908719194743], \"y\": [0.12350963578861028, 0.1320180064262711, -0.12336564797284641, -0.13216199424203479], \"topics\": [1, 2, 3, 4], \"cluster\": [1, 1, 1, 1], \"Freq\": [38.827752393005085, 33.31682326051692, 18.14238161822936, 9.713042728248638]}, \"tinfo\": {\"Term\": [\"bitch\", \"fuck\", \"baby\", \"rhyme\", \"love\", \"as\", \"hoe\", \"dick\", \"ho\", \"mic\", \"would\", \"motherfucker\", \"girl\", \"ah\", \"mc\", \"beat\", \"funk\", \"rock\", \"rap\", \"style\", \"la\", \"good\", \"game\", \"big\", \"pimp\", \"fat\", \"hit\", \"street\", \"party\", \"tell\", \"motherfucker\", \"gun\", \"motherfuckin\", \"gangsta\", \"cop\", \"motherfucking\", \"gat\", \"tat\", \"tha\", \"hood\", \"buck\", \"police\", \"murder\", \"bang\", \"hill\", \"gang\", \"homies\", \"punk\", \"trigger\", \"gots\", \"cypress\", \"creep\", \"chronic\", \"gangster\", \"ta\", \"strap\", \"row\", \"snoop\", \"central\", \"clip\", \"die\", \"shoot\", \"rollin\", \"street\", \"dead\", \"kill\", \"fuckin\", \"fuck\", \"player\", \"as\", \"wit\", \"death\", \"ride\", \"fool\", \"ice\", \"game\", \"shot\", \"money\", \"hit\", \"put\", \"roll\", \"break\", \"life\", \"real\", \"run\", \"still\", \"head\", \"pull\", \"hard\", \"big\", \"think\", \"u\", \"bitch\", \"try\", \"lady\", \"guy\", \"father\", \"sister\", \"sorry\", \"upon\", \"ok\", \"rise\", \"humpty\", \"race\", \"booty\", \"today\", \"choice\", \"sea\", \"someone\", \"dear\", \"mary\", \"beg\", \"bird\", \"answer\", \"public\", \"plug\", \"hour\", \"prove\", \"cocoa\", \"okay\", \"different\", \"ego\", \"hmm\", \"letter\", \"please\", \"date\", \"kiss\", \"girl\", \"miss\", \"wow\", \"world\", \"doo\", \"alone\", \"brother\", \"family\", \"love\", \"heart\", \"would\", \"help\", \"woman\", \"seem\", \"eye\", \"ha\", \"de\", \"people\", \"hey\", \"mind\", \"need\", \"wonder\", \"look\", \"tell\", \"way\", \"name\", \"away\", \"mean\", \"around\", \"could\", \"feel\", \"u\", \"thing\", \"try\", \"right\", \"think\", \"day\", \"play\", \"little\", \"call\", \"every\", \"keep\", \"well\", \"baby\", \"mc\", \"la\", \"microphone\", \"mic\", \"di\", \"wicked\", \"mcs\", \"mi\", \"rockin\", \"rhythm\", \"hello\", \"ee\", \"emcee\", \"lyrical\", \"speaker\", \"aftermath\", \"dancin\", \"clap\", \"create\", \"vocal\", \"philly\", \"smith\", \"syndicate\", \"copy\", \"technique\", \"bronx\", \"funk\", \"competition\", \"disco\", \"wishin\", \"rhyme\", \"lyric\", \"stage\", \"effect\", \"ah\", \"party\", \"dj\", \"wack\", \"swing\", \"da\", \"style\", \"funky\", \"flavor\", \"rock\", \"beat\", \"jam\", \"flow\", \"rapper\", \"rap\", \"sound\", \"record\", \"hop\", \"stop\", \"cut\", \"yes\", \"hip\", \"track\", \"keep\", \"check\", \"new\", \"kick\", \"ooh\", \"move\", \"way\", \"well\", \"lick\", \"hort\", \"oakland\", \"mackin\", \"groupie\", \"freaky\", \"oaktown\", \"holla\", \"hahaha\", \"hatin\", \"dawg\", \"outlaw\", \"diggy\", \"jones\", \"umm\", \"beyeahtch\", \"gut\", \"slut\", \"sweater\", \"slim\", \"nate\", \"belongs\", \"yknow\", \"sprung\", \"candy\", \"condom\", \"hos\", \"itch\", \"ho\", \"panty\", \"doggy\", \"bong\", \"scrap\", \"fantasy\", \"uhh\", \"bitch\", \"dick\", \"suck\", \"dogg\", \"pussy\", \"pimpin\", \"nut\", \"pimp\", \"ay\", \"hoe\", \"baby\", \"gon\", \"warren\", \"bus\", \"lip\", \"trick\", \"fat\", \"bounce\", \"mack\", \"fuck\", \"good\", \"short\", \"freak\", \"high\", \"as\", \"love\", \"mouth\", \"big\", \"hit\", \"call\", \"real\", \"use\", \"tell\", \"thing\", \"game\", \"day\", \"would\"], \"Freq\": [2203.0, 2445.0, 1182.0, 953.0, 1432.0, 1388.0, 655.0, 515.0, 435.0, 531.0, 1359.0, 872.0, 950.0, 539.0, 452.0, 766.0, 436.0, 674.0, 703.0, 507.0, 368.0, 836.0, 781.0, 837.0, 284.0, 404.0, 1161.0, 754.0, 376.0, 1267.0, 871.5691110972025, 506.6169997392798, 425.76655033330354, 371.70142315560275, 284.5712185772, 291.6842972477207, 243.34919587591457, 251.62032820641954, 232.7860851114474, 231.01710293903656, 199.94796007961787, 192.08135862099937, 187.6465198630132, 200.95438441851007, 200.54390104611107, 191.32204277436705, 278.55709374014606, 521.1185665236787, 173.95518406355927, 173.47385530559572, 177.17907428535483, 159.88237004487357, 163.8056657900624, 161.161360445182, 148.42091002894517, 173.92655094167412, 145.8338842146666, 183.2915349623494, 136.04576775800314, 126.99638584597662, 543.085897633967, 181.27423519601209, 317.2752927660136, 727.2928288525936, 281.27488855005976, 445.7559771326557, 502.764509519161, 1967.4172805688745, 296.676186416396, 1108.5821093404734, 438.6735910429028, 297.7857165677377, 390.6627149333897, 469.76990547274147, 471.4318223569154, 590.1830914884665, 342.95151002155535, 513.4310184063708, 724.0619497574285, 645.2118859812884, 477.71171039765693, 588.796212016368, 593.4364519025318, 646.4413962210863, 475.8515008401587, 496.5076874179056, 410.15920028404616, 336.0322596489746, 380.21886676847754, 394.94375861674916, 399.175242418609, 400.7204743485391, 415.89273381345714, 385.8972599471584, 227.06641502527427, 174.7266694737709, 113.12561053493675, 109.20052152778237, 111.85093367289616, 98.694116860832, 113.59398621779562, 98.62305445804589, 93.28175093452903, 70.6769978454813, 72.51471855363032, 103.43149256962323, 67.02656451205047, 69.27392297603218, 65.75165392960925, 64.10742521069248, 63.520661594169084, 61.70801167436062, 74.37912329093398, 60.13041607161318, 62.98848594243631, 59.33631395724472, 57.51497647912998, 62.4986478862027, 52.6829041046013, 77.09269124869556, 88.7593979943157, 52.338747964427526, 59.58507227047916, 49.49886268087278, 497.2085715798651, 60.64942357394471, 301.7983421112053, 882.6769017487707, 162.86282812096724, 72.25498108206392, 605.7019919872885, 123.41468943228838, 174.22157118552553, 703.0967260295843, 176.70954195170515, 1184.5266395461238, 268.00317025003216, 1097.4963677811286, 167.50157382069338, 179.69053735226356, 163.81692040031206, 468.61200268638146, 319.54545039359704, 155.45923848778074, 480.63640425391907, 347.69970627914074, 488.3716602370897, 628.7718144706008, 188.55191523063647, 579.251090381523, 746.466111590051, 816.5754823893726, 466.1015035537803, 259.34454766945294, 354.8191033061585, 526.6913626285502, 546.5040576087084, 474.1231525351841, 654.8053940498008, 438.31340202855733, 577.606474028771, 568.0188755611681, 608.1774216588003, 499.4426193820062, 487.50349725820996, 422.15914958092475, 497.78646522215985, 408.0882693834965, 486.1940701629443, 449.82179455548857, 442.2157802533677, 451.26058126654465, 367.8822425372946, 248.8422471431442, 529.1359475040052, 135.3756885721843, 139.82868665129968, 112.81664772793124, 115.33156006965297, 107.45637947592864, 98.10177696327496, 92.46607698769506, 83.34790558805825, 75.38488360006153, 102.45638572749677, 68.59333888199426, 72.18096668008367, 65.87285073360476, 55.58295993990419, 66.46724065013841, 54.96631943625681, 52.1443005675386, 46.36159709670963, 169.08674354443943, 50.021210262428454, 46.374578675296355, 44.86708277340706, 429.1446896712254, 48.36570201473038, 44.00838332269742, 46.50149828401838, 933.01777749799, 179.33664039779774, 108.67977685189386, 128.82332524896745, 493.53471012308677, 340.1306199248397, 147.17311872595212, 183.89366493831875, 244.6789288616647, 244.78898980149518, 418.3979044277345, 343.7216064192541, 115.8500533825411, 495.0562926829451, 531.529375613405, 170.90433837929305, 372.8433039665885, 201.99131406679967, 485.569049602857, 319.1042869340019, 294.5694634871335, 241.99768344796996, 449.28157034213825, 241.7173657835281, 271.124223477991, 218.44630615163538, 205.91000005625074, 492.66812922138917, 358.05125768619257, 320.67342515716695, 305.52621381326577, 252.81971342243702, 259.5179099742537, 293.19084591612983, 269.84662754580285, 224.4725954103163, 185.47230625692703, 107.6374857003399, 58.92483605795507, 58.057996480365134, 58.07738086374424, 47.999223233389905, 44.76318124279793, 38.99605463616961, 39.52174302623413, 33.12383954372215, 64.77574893622614, 28.255211679924848, 28.94434778135213, 27.7131718711303, 26.719336662513456, 95.72216582287751, 26.78558159614468, 30.20786257327612, 28.035202917128228, 25.334328785290282, 24.139845930677794, 39.09575192345636, 26.640005940582583, 23.38853322299515, 22.690540864792556, 22.11652945385061, 22.604763638821254, 419.30622932060203, 21.01495835520312, 134.17955264218298, 56.58461050611542, 26.994894380595284, 38.40385374682537, 80.86458106547916, 1786.8944726786474, 433.1542041294114, 175.014497899836, 218.77956953123493, 170.04773493328352, 69.79606491803996, 195.72429181628695, 229.81154385582263, 96.27299873630673, 458.3077150408665, 734.1851424965756, 118.73901379834858, 86.00432106903702, 70.9649578605064, 75.86894759926432, 141.82782197617865, 205.76191906753894, 84.55439445313603, 134.1767207672449, 477.06754369184176, 247.65815266760436, 110.35422431466557, 155.29623247697015, 193.6117131124643, 273.1803923092626, 247.86856230502394, 112.05582882999491, 192.17359927065957, 207.99193416257398, 188.34982357372428, 173.749779893443, 148.7316804667041, 169.48439124841414, 149.2323373424977, 147.26813293120648, 143.55816403929532, 142.24507814076708], \"Total\": [2203.0, 2445.0, 1182.0, 953.0, 1432.0, 1388.0, 655.0, 515.0, 435.0, 531.0, 1359.0, 872.0, 950.0, 539.0, 452.0, 766.0, 436.0, 674.0, 703.0, 507.0, 368.0, 836.0, 781.0, 837.0, 284.0, 404.0, 1161.0, 754.0, 376.0, 1267.0, 872.6343097714307, 507.4354438204693, 426.58527972823725, 372.52238163056546, 285.3942023978873, 292.5475070602709, 244.1495454025817, 252.4675388640224, 233.60783359305148, 231.8506242927899, 200.76750750816524, 192.8916648017876, 188.44825983295505, 201.8161267929863, 201.40632597085508, 192.1885392105087, 279.8320288988725, 523.5323600326373, 174.78460549831183, 174.3026744381997, 178.06534177474177, 160.72433945258166, 164.67844440665425, 162.03180473775922, 149.25043152041474, 174.91247600480185, 146.70862127048014, 184.40163510310063, 136.90204748991607, 127.81024112258449, 548.570817634323, 182.47118956861507, 322.05739315269653, 754.170895963254, 286.7897061657765, 466.67595259578155, 545.5307309799197, 2445.0582752447262, 313.3177780889528, 1388.0261366707255, 494.27666872675303, 320.87681274438796, 444.0711703456689, 557.7234783711289, 570.2942861285935, 781.9228765790506, 408.2949113873808, 721.1864671117028, 1161.7498679514765, 997.680668138685, 668.9580761537952, 922.4191715028368, 947.8813898071617, 1122.8187008494494, 744.9516030874702, 898.2892153509404, 695.4386616477935, 430.9851803166059, 707.6020882954202, 837.3719562455797, 1206.982332962703, 1267.8851446170397, 2203.3545617926898, 1099.8911790963448, 227.84346900043684, 175.7718187633254, 113.92967641157816, 109.98094964087204, 112.65276071137292, 99.50858007520901, 114.5978416494607, 99.54808535267239, 94.24109426385827, 71.44655166511282, 73.3088433743537, 104.63343571933684, 67.81785852973928, 70.09214613562966, 66.53382079469688, 64.89659600744315, 64.32125385069277, 62.48874999607984, 75.32903318883177, 60.90846026061161, 63.818739105512336, 60.12904319694268, 58.30140495058017, 63.357797690873426, 53.45083060452161, 78.22613641323429, 90.09890479697559, 53.13250466631557, 60.49106152266821, 50.26379527411848, 515.9567761306433, 61.622113614039435, 314.49925214814976, 950.8372832713321, 169.7326589997123, 73.72788430357443, 672.7412465628564, 128.62433715970937, 184.40542976576648, 796.4923089366135, 189.31439255792083, 1432.9642909949955, 297.96764921479513, 1359.9933196178954, 182.78401699313898, 198.3524513188371, 179.51075792178844, 571.327301678103, 378.0116268259905, 170.83427239683292, 616.3130309377071, 437.7728951634209, 663.5259553099012, 943.2443775311256, 218.86429197083731, 909.3461756380534, 1267.7753457853653, 1431.4611742422271, 699.3068999734992, 335.03101116796984, 509.754751439222, 858.8044595459313, 906.67911335879, 763.5321911769081, 1267.8851446170397, 719.6448175414226, 1099.8911790963448, 1075.7123734470947, 1206.982332962703, 910.3902128470241, 882.03299010425, 732.8940214911283, 1011.826380563971, 698.9031672141253, 1355.5815217593122, 1097.406846747845, 1182.2946195719665, 452.00649612196463, 368.6222770755157, 249.74553456950213, 531.0691283543676, 136.1109998143856, 140.61222405148985, 113.54097787280723, 116.09309862043798, 108.24916401242366, 98.84731359620154, 93.24199879525261, 84.09556233106717, 76.12075858357507, 103.52485103095103, 69.34590337074044, 73.065168302363, 66.74716193873897, 56.33016686672006, 67.3658822345099, 55.72789207839692, 52.97265249871661, 47.10159857564017, 171.86956658325386, 50.847795331041354, 47.145081413312866, 45.62694592600211, 436.6343479244319, 49.28119532147086, 44.86865009821908, 47.41580836661749, 953.3842110724213, 186.05297860155213, 112.24272127679143, 133.9156818652511, 539.5551957908202, 376.6661594672987, 157.20444455574486, 204.92431729830795, 278.74124354405177, 279.6173943448062, 507.3025969721296, 417.3720814465421, 125.64423052642671, 674.1928743701342, 766.9870877147018, 199.5351060754057, 505.80531069401184, 243.95335437346392, 703.9858551148155, 426.2139878620594, 410.00860247712956, 347.08260194397326, 878.5671891095562, 359.16458236491127, 437.56979695849486, 310.13218042927724, 284.5023328651265, 1355.5815217593122, 825.759901703051, 685.9347945909751, 656.3805110903145, 489.8474277740989, 604.8802083815539, 1431.4611742422271, 1097.406846747845, 225.30468214456863, 186.2754983097603, 108.50261148500647, 59.74138180074934, 58.86329457131031, 59.031220696565114, 48.82618259509298, 45.69097256665208, 39.910965149187234, 40.46274231573429, 33.933460864939285, 66.52928707568779, 29.02683907918371, 29.74821571109514, 28.521330433072578, 27.506315080556185, 98.57816009072683, 27.590250017656366, 31.121021397538115, 28.929550999028503, 26.19405715940223, 24.972174778332, 40.47293323461884, 27.61095278092633, 24.24455286871888, 23.54503874370852, 22.95609150723719, 23.463647151418808, 435.37212692059376, 21.826184338762317, 141.25739577165507, 59.21456532377494, 28.046906756057503, 40.25354814166485, 87.54434952976341, 2203.3545617926898, 515.2922555830343, 201.03099800403447, 255.3537049110519, 198.67042679849024, 76.79115615347173, 236.04499383994926, 284.0269899593443, 110.6450344623899, 655.6996088177181, 1182.2946195719665, 154.85458292330796, 106.52696554489279, 87.34324468117842, 95.55432145837582, 224.2953179578604, 404.0060882373879, 119.11230391426918, 260.02524713945763, 2445.0582752447262, 836.1565950034407, 193.42445598662937, 374.68720712804975, 653.9743872891605, 1388.0261366707255, 1432.9642909949955, 227.353035228307, 837.3719562455797, 1161.7498679514765, 1011.826380563971, 1122.8187008494494, 635.5145154624726, 1267.7753457853653, 719.6448175414226, 781.9228765790506, 910.3902128470241, 1359.9933196178954], \"Category\": [\"Default\", \"Default\", \"Default\", \"Default\", \"Default\", \"Default\", \"Default\", \"Default\", \"Default\", \"Default\", \"Default\", \"Default\", \"Default\", \"Default\", \"Default\", \"Default\", \"Default\", \"Default\", \"Default\", \"Default\", \"Default\", \"Default\", \"Default\", \"Default\", \"Default\", \"Default\", \"Default\", \"Default\", \"Default\", \"Default\", \"Topic1\", \"Topic1\", \"Topic1\", \"Topic1\", \"Topic1\", \"Topic1\", \"Topic1\", \"Topic1\", \"Topic1\", \"Topic1\", \"Topic1\", \"Topic1\", \"Topic1\", \"Topic1\", \"Topic1\", \"Topic1\", \"Topic1\", \"Topic1\", \"Topic1\", \"Topic1\", \"Topic1\", \"Topic1\", \"Topic1\", \"Topic1\", \"Topic1\", \"Topic1\", \"Topic1\", \"Topic1\", \"Topic1\", \"Topic1\", \"Topic1\", \"Topic1\", \"Topic1\", \"Topic1\", \"Topic1\", \"Topic1\", \"Topic1\", \"Topic1\", \"Topic1\", \"Topic1\", \"Topic1\", \"Topic1\", \"Topic1\", \"Topic1\", \"Topic1\", \"Topic1\", \"Topic1\", \"Topic1\", \"Topic1\", \"Topic1\", \"Topic1\", \"Topic1\", \"Topic1\", \"Topic1\", \"Topic1\", \"Topic1\", \"Topic1\", \"Topic1\", \"Topic1\", \"Topic1\", \"Topic1\", \"Topic1\", \"Topic1\", \"Topic1\", \"Topic2\", \"Topic2\", \"Topic2\", \"Topic2\", \"Topic2\", \"Topic2\", \"Topic2\", \"Topic2\", \"Topic2\", \"Topic2\", \"Topic2\", \"Topic2\", \"Topic2\", \"Topic2\", \"Topic2\", \"Topic2\", \"Topic2\", \"Topic2\", \"Topic2\", \"Topic2\", \"Topic2\", \"Topic2\", \"Topic2\", \"Topic2\", \"Topic2\", \"Topic2\", \"Topic2\", \"Topic2\", \"Topic2\", \"Topic2\", \"Topic2\", \"Topic2\", \"Topic2\", \"Topic2\", \"Topic2\", \"Topic2\", \"Topic2\", \"Topic2\", \"Topic2\", \"Topic2\", \"Topic2\", \"Topic2\", \"Topic2\", \"Topic2\", \"Topic2\", \"Topic2\", \"Topic2\", \"Topic2\", \"Topic2\", \"Topic2\", \"Topic2\", \"Topic2\", \"Topic2\", \"Topic2\", \"Topic2\", \"Topic2\", \"Topic2\", \"Topic2\", \"Topic2\", \"Topic2\", \"Topic2\", \"Topic2\", \"Topic2\", \"Topic2\", \"Topic2\", \"Topic2\", \"Topic2\", \"Topic2\", \"Topic2\", \"Topic2\", \"Topic2\", \"Topic2\", \"Topic2\", \"Topic2\", \"Topic2\", \"Topic2\", \"Topic2\", \"Topic3\", \"Topic3\", \"Topic3\", \"Topic3\", \"Topic3\", \"Topic3\", \"Topic3\", \"Topic3\", \"Topic3\", \"Topic3\", \"Topic3\", \"Topic3\", \"Topic3\", \"Topic3\", \"Topic3\", \"Topic3\", \"Topic3\", \"Topic3\", \"Topic3\", \"Topic3\", \"Topic3\", \"Topic3\", \"Topic3\", \"Topic3\", \"Topic3\", \"Topic3\", \"Topic3\", \"Topic3\", \"Topic3\", \"Topic3\", \"Topic3\", \"Topic3\", \"Topic3\", \"Topic3\", \"Topic3\", \"Topic3\", \"Topic3\", \"Topic3\", \"Topic3\", \"Topic3\", \"Topic3\", \"Topic3\", \"Topic3\", \"Topic3\", \"Topic3\", \"Topic3\", \"Topic3\", \"Topic3\", \"Topic3\", \"Topic3\", \"Topic3\", \"Topic3\", \"Topic3\", \"Topic3\", \"Topic3\", \"Topic3\", \"Topic3\", \"Topic3\", \"Topic3\", \"Topic3\", \"Topic3\", \"Topic3\", \"Topic3\", \"Topic3\", \"Topic3\", \"Topic4\", \"Topic4\", \"Topic4\", \"Topic4\", \"Topic4\", \"Topic4\", \"Topic4\", \"Topic4\", \"Topic4\", \"Topic4\", \"Topic4\", \"Topic4\", \"Topic4\", \"Topic4\", \"Topic4\", \"Topic4\", \"Topic4\", \"Topic4\", \"Topic4\", \"Topic4\", \"Topic4\", \"Topic4\", \"Topic4\", \"Topic4\", \"Topic4\", \"Topic4\", \"Topic4\", \"Topic4\", \"Topic4\", \"Topic4\", \"Topic4\", \"Topic4\", \"Topic4\", \"Topic4\", \"Topic4\", \"Topic4\", \"Topic4\", \"Topic4\", \"Topic4\", \"Topic4\", \"Topic4\", \"Topic4\", \"Topic4\", \"Topic4\", \"Topic4\", \"Topic4\", \"Topic4\", \"Topic4\", \"Topic4\", \"Topic4\", \"Topic4\", \"Topic4\", \"Topic4\", \"Topic4\", \"Topic4\", \"Topic4\", \"Topic4\", \"Topic4\", \"Topic4\", \"Topic4\", \"Topic4\", \"Topic4\", \"Topic4\", \"Topic4\", \"Topic4\", \"Topic4\", \"Topic4\", \"Topic4\", \"Topic4\", \"Topic4\", \"Topic4\", \"Topic4\"], \"logprob\": [30.0, 29.0, 28.0, 27.0, 26.0, 25.0, 24.0, 23.0, 22.0, 21.0, 20.0, 19.0, 18.0, 17.0, 16.0, 15.0, 14.0, 13.0, 12.0, 11.0, 10.0, 9.0, 8.0, 7.0, 6.0, 5.0, 4.0, 3.0, 2.0, 1.0, -4.8748, -5.4174, -5.5912, -5.727, -5.9941, -5.9694, -6.1506, -6.1172, -6.195, -6.2026, -6.3471, -6.3872, -6.4106, -6.342, -6.3441, -6.3912, -6.0155, -5.3891, -6.4863, -6.4891, -6.468, -6.5707, -6.5464, -6.5627, -6.6451, -6.4865, -6.6627, -6.434, -6.7321, -6.801, -5.3479, -6.4451, -5.8854, -5.0558, -6.0058, -5.5453, -5.425, -4.0606, -5.9525, -4.6343, -5.5614, -5.9487, -5.6773, -5.4929, -5.4893, -5.2647, -5.8075, -5.404, -5.0602, -5.1755, -5.4761, -5.267, -5.2592, -5.1736, -5.48, -5.4375, -5.6286, -5.8279, -5.7044, -5.6664, -5.6557, -5.6519, -5.6147, -5.6895, -6.0668, -6.3288, -6.7635, -6.7989, -6.7749, -6.9, -6.7594, -6.9007, -6.9564, -7.2339, -7.2083, -6.8531, -7.287, -7.254, -7.3062, -7.3315, -7.3407, -7.3696, -7.1829, -7.3955, -7.3491, -7.4088, -7.44, -7.3569, -7.5278, -7.147, -7.0061, -7.5343, -7.4046, -7.5901, -5.283, -7.3869, -5.7823, -4.7091, -6.3991, -7.2118, -5.0857, -6.6765, -6.3317, -4.9366, -6.3175, -4.4149, -5.901, -4.4913, -6.3711, -6.3008, -6.3933, -5.3423, -5.7251, -6.4457, -5.3169, -5.6407, -5.301, -5.0483, -6.2527, -5.1303, -4.8767, -4.7869, -5.3476, -5.9339, -5.6204, -5.2254, -5.1885, -5.3306, -5.0077, -5.4091, -5.1332, -5.1499, -5.0816, -5.2786, -5.3027, -5.4467, -5.2819, -5.4806, -5.3054, -5.3832, -5.4002, -4.7722, -4.9765, -5.3674, -4.613, -5.9762, -5.9438, -6.1585, -6.1364, -6.2072, -6.2982, -6.3574, -6.4612, -6.5616, -6.2548, -6.656, -6.6051, -6.6965, -6.8664, -6.6875, -6.8775, -6.9302, -7.0478, -5.7538, -6.9718, -7.0475, -7.0805, -4.8224, -7.0054, -7.0999, -7.0448, -4.0458, -5.695, -6.1958, -6.0258, -4.6826, -5.0549, -5.8926, -5.6699, -5.3843, -5.3838, -4.8478, -5.0444, -6.1319, -4.6796, -4.6085, -5.7431, -4.9631, -5.576, -4.6989, -5.1187, -5.1987, -5.3953, -4.7766, -5.3965, -5.2817, -5.4977, -5.5568, -4.6844, -5.0036, -5.1138, -5.1622, -5.3516, -5.3254, -5.2034, -5.2864, -4.8457, -5.0365, -5.5807, -6.1832, -6.198, -6.1977, -6.3883, -6.4581, -6.596, -6.5826, -6.7592, -6.0885, -6.9182, -6.8941, -6.9375, -6.9741, -5.698, -6.9716, -6.8514, -6.926, -7.0273, -7.0756, -6.5934, -6.977, -7.1072, -7.1375, -7.1631, -7.1413, -4.2209, -7.2142, -5.3603, -6.2237, -6.9638, -6.6113, -5.8667, -2.7712, -4.1884, -5.0946, -4.8714, -5.1234, -6.0139, -4.9827, -4.8222, -5.6923, -4.1319, -3.6607, -5.4825, -5.8051, -5.9973, -5.9304, -5.3048, -4.9327, -5.8221, -5.3603, -4.0918, -4.7474, -5.5558, -5.2141, -4.9936, -4.6493, -4.7466, -5.5405, -5.0011, -4.922, -5.0212, -5.1018, -5.2573, -5.1267, -5.2539, -5.2672, -5.2927, -5.3019], \"loglift\": [30.0, 29.0, 28.0, 27.0, 26.0, 25.0, 24.0, 23.0, 22.0, 21.0, 20.0, 19.0, 18.0, 17.0, 16.0, 15.0, 14.0, 13.0, 12.0, 11.0, 10.0, 9.0, 8.0, 7.0, 6.0, 5.0, 4.0, 3.0, 2.0, 1.0, 0.9448, 0.9444, 0.9441, 0.9438, 0.9431, 0.9431, 0.9428, 0.9427, 0.9425, 0.9424, 0.9419, 0.9418, 0.9418, 0.9418, 0.9417, 0.9415, 0.9415, 0.9414, 0.9413, 0.9413, 0.941, 0.9408, 0.9407, 0.9406, 0.9405, 0.9404, 0.9401, 0.94, 0.9398, 0.9396, 0.936, 0.9395, 0.9311, 0.9097, 0.9266, 0.9002, 0.8644, 0.7287, 0.8915, 0.7212, 0.8267, 0.8714, 0.8179, 0.7744, 0.7557, 0.6647, 0.7716, 0.6063, 0.4732, 0.5102, 0.6093, 0.4971, 0.4777, 0.3939, 0.4978, 0.3531, 0.418, 0.6972, 0.3249, 0.1945, -0.1604, -0.2058, -0.7213, -0.1014, 1.0957, 1.0931, 1.092, 1.092, 1.092, 1.0909, 1.0903, 1.0898, 1.0889, 1.0883, 1.0882, 1.0876, 1.0874, 1.0874, 1.0873, 1.0869, 1.0866, 1.0865, 1.0864, 1.0863, 1.086, 1.0858, 1.0855, 1.0855, 1.0846, 1.0845, 1.0841, 1.0841, 1.084, 1.0838, 1.0621, 1.0832, 1.0579, 1.0247, 1.0578, 1.0789, 0.9941, 1.0578, 1.0423, 0.9744, 1.0302, 0.9087, 0.9931, 0.8847, 1.0118, 1.0003, 1.0076, 0.9009, 0.9311, 1.0048, 0.8505, 0.8687, 0.7926, 0.6936, 0.95, 0.6481, 0.5694, 0.5378, 0.6934, 0.843, 0.7368, 0.6102, 0.5929, 0.6226, 0.4383, 0.6033, 0.455, 0.4605, 0.4137, 0.4987, 0.5062, 0.5475, 0.3898, 0.5611, 0.0737, 0.2073, 0.1157, 1.7053, 1.7049, 1.7033, 1.7033, 1.7015, 1.7013, 1.7005, 1.7003, 1.6996, 1.6993, 1.6986, 1.698, 1.6972, 1.6965, 1.696, 1.6947, 1.6937, 1.6936, 1.6935, 1.6932, 1.6912, 1.6911, 1.6906, 1.6905, 1.6904, 1.6901, 1.6896, 1.6882, 1.6876, 1.6874, 1.6853, 1.6702, 1.6747, 1.6682, 1.6178, 1.6049, 1.641, 1.5986, 1.5766, 1.5739, 1.5142, 1.5128, 1.6258, 1.3981, 1.3402, 1.552, 1.4019, 1.5182, 1.3355, 1.4175, 1.3763, 1.3463, 1.0363, 1.3109, 1.2283, 1.3565, 1.3836, 0.6948, 0.8713, 0.9466, 0.9422, 1.0455, 0.8607, 0.1213, 0.3041, 2.328, 2.3274, 2.3237, 2.3179, 2.3179, 2.3154, 2.3146, 2.3112, 2.3085, 2.3082, 2.3076, 2.305, 2.3048, 2.3043, 2.303, 2.3027, 2.3023, 2.3021, 2.3019, 2.3003, 2.2983, 2.2978, 2.2971, 2.2959, 2.2958, 2.2947, 2.2944, 2.2944, 2.2941, 2.2938, 2.2803, 2.2863, 2.2935, 2.2847, 2.2523, 2.1222, 2.1581, 2.1931, 2.1771, 2.1761, 2.2362, 2.1444, 2.1199, 2.1926, 1.9735, 1.8552, 2.0661, 2.1177, 2.124, 2.101, 1.8734, 1.657, 1.989, 1.6701, 0.6975, 1.1149, 1.7705, 1.4509, 1.1145, 0.7062, 0.5771, 1.6242, 0.8598, 0.6115, 0.6505, 0.4657, 0.8794, 0.3194, 0.7584, 0.6622, 0.4846, 0.074]}, \"token.table\": {\"Topic\": [3, 2, 3, 1, 2, 2, 1, 2, 4, 1, 3, 4, 1, 2, 4, 1, 4, 1, 2, 3, 4, 1, 1, 2, 3, 2, 4, 4, 1, 2, 4, 2, 1, 4, 1, 2, 4, 2, 1, 2, 3, 4, 1, 2, 3, 4, 3, 1, 2, 3, 1, 1, 4, 1, 2, 3, 4, 4, 1, 1, 2, 3, 4, 2, 1, 3, 1, 2, 3, 4, 1, 3, 1, 2, 3, 4, 3, 1, 1, 2, 3, 1, 1, 3, 3, 2, 4, 1, 2, 3, 4, 2, 3, 1, 3, 2, 1, 2, 3, 1, 4, 1, 2, 2, 3, 4, 3, 2, 3, 1, 3, 4, 2, 4, 2, 3, 3, 2, 3, 2, 3, 1, 2, 3, 4, 1, 2, 4, 1, 2, 2, 4, 1, 2, 3, 4, 2, 1, 2, 3, 4, 1, 2, 3, 1, 2, 3, 4, 1, 2, 3, 4, 1, 2, 3, 4, 4, 1, 4, 1, 3, 4, 1, 2, 3, 1, 2, 3, 4, 1, 2, 3, 4, 1, 1, 1, 1, 2, 4, 1, 3, 4, 1, 2, 3, 4, 1, 4, 1, 1, 4, 2, 1, 2, 4, 4, 1, 2, 3, 4, 4, 1, 2, 3, 4, 1, 2, 3, 3, 1, 2, 3, 4, 1, 2, 3, 4, 1, 2, 3, 4, 1, 1, 2, 3, 1, 2, 3, 4, 2, 1, 4, 1, 4, 4, 1, 2, 1, 1, 2, 3, 4, 4, 4, 2, 2, 1, 2, 3, 4, 4, 2, 3, 4, 1, 2, 3, 4, 1, 2, 3, 1, 2, 2, 4, 3, 2, 2, 4, 1, 2, 4, 3, 4, 1, 2, 3, 4, 1, 2, 3, 4, 2, 4, 1, 3, 1, 3, 1, 2, 4, 4, 2, 3, 3, 1, 2, 3, 4, 3, 1, 3, 3, 1, 2, 3, 4, 2, 3, 1, 2, 4, 1, 1, 1, 1, 2, 3, 4, 1, 2, 3, 1, 1, 2, 3, 4, 4, 1, 2, 3, 4, 1, 2, 3, 4, 1, 2, 4, 4, 4, 2, 2, 2, 3, 1, 4, 4, 1, 2, 3, 1, 2, 3, 4, 3, 1, 4, 1, 4, 1, 2, 3, 4, 1, 2, 1, 2, 2, 1, 2, 2, 1, 2, 3, 1, 2, 1, 4, 1, 2, 3, 4, 2, 1, 2, 3, 4, 1, 3, 1, 2, 3, 4, 1, 2, 3, 1, 2, 3, 3, 1, 2, 4, 1, 2, 3, 4, 2, 1, 2, 3, 4, 3, 1, 2, 3, 4, 1, 2, 1, 1, 2, 3, 4, 4, 2, 1, 2, 3, 4, 1, 4, 1, 2, 3, 4, 1, 2, 3, 2, 4, 4, 3, 1, 2, 2, 1, 2, 3, 3, 4, 1, 2, 3, 1, 2, 3, 4, 1, 2, 3, 4, 1, 1, 2, 3, 4, 1, 2, 3, 4, 1, 2, 4, 4, 2, 3, 1, 3, 1, 1, 3, 1, 2, 3, 4, 1, 1, 2, 3, 4, 1, 2, 3, 4, 1, 2, 1, 2, 3, 1, 4, 1, 1, 2, 3, 4, 1, 2, 3, 4, 1, 2, 4, 4, 2, 1, 2, 3, 4, 3, 1, 2, 3, 3, 4, 1, 2, 3, 4, 1, 2, 3, 4, 3, 3, 1, 3, 2, 4, 1, 2, 3, 1, 2, 3, 4, 1, 2, 4, 1, 2, 4, 1, 2, 3, 1, 4], \"Freq\": [0.9854216677096389, 0.0852554110475728, 0.9155689795108906, 0.05422833813896963, 0.9435730836180716, 0.9850848263652612, 0.33651432149385974, 0.6136437627240972, 0.05006960492815214, 0.7989763093798878, 0.0043226851724791045, 0.19668217534779925, 0.22385987416071848, 0.7730627654350145, 0.0029847983221429134, 0.12653075728182664, 0.8676394785039541, 0.0033832514618464095, 0.37384928653402827, 0.0016916257309232048, 0.6208266432488161, 0.9959560873258486, 0.20600086041966284, 0.10039282438173443, 0.6936231502738015, 0.9921785922088295, 0.9610696790743455, 0.9815927695486157, 0.4717139104717721, 0.2985531078935266, 0.22928878686222845, 0.9823569594275795, 0.18880302208897998, 0.8110360588293443, 0.016887736902773398, 0.033775473805546796, 0.9626010034580836, 0.9957870925233866, 0.13432701303062666, 0.10074525977297, 0.05876806820089917, 0.7136122567252042, 0.6385383328930394, 0.2092324248698754, 0.14852249848276128, 0.00325231748502397, 0.9862593054766609, 0.09039635309991412, 0.8826199476283282, 0.02636560298747495, 0.996177132855355, 0.18318531740380647, 0.8128848459793913, 0.29451693069506746, 0.4921793002890724, 0.026684419895190676, 0.1858026274183647, 0.948666701528464, 0.9934110007377172, 0.33181557912281906, 0.1780178471936292, 0.4335400632334643, 0.05691727087143247, 0.9879403663360936, 0.9958801869358268, 0.994138720243786, 0.993660593114699, 0.9915655079739121, 0.9740023489058377, 0.9768512275710669, 0.998618744198112, 0.9833268025580689, 0.25257006213771727, 0.6033005414381282, 0.066175562132153, 0.07830774852304771, 0.9797244214845272, 0.9954932808867113, 0.3062662784724135, 0.01948967226642631, 0.6737858126393096, 0.9940171300932359, 0.1215947243899762, 0.8761972786924755, 0.9888060867752742, 0.9899043772186078, 0.9724914334952568, 0.2746075215573614, 0.5481166130284933, 0.018673311465900573, 0.15817393241704017, 0.9073120857151468, 0.0878043953917884, 0.9798120154200032, 0.01743437749857657, 0.9861842367303777, 0.9287053104625178, 0.07167859778737554, 0.9918375457097467, 0.15913299513345103, 0.8402998401559061, 0.9898448523777718, 0.009114593484141544, 0.9878033501133914, 0.011098914046217882, 0.9646244954063876, 0.9806401552906635, 0.0636114330498715, 0.935088065833111, 0.1409809190453688, 0.003916136640149133, 0.8576339241926602, 0.0424756521046098, 0.9486228970029522, 0.9562731495150425, 0.03887289225670905, 0.9869724120904958, 0.03733692671655221, 0.9632927092870471, 0.9786852761143492, 0.9852765710112498, 0.18600573884675423, 0.5837718573036594, 0.10731100318081975, 0.12304995031400665, 0.17153039897122774, 0.8208954807908756, 0.007001240774335826, 0.06338662284394778, 0.9349526869482296, 0.024842530563534092, 0.9440161614142955, 0.2871243859370756, 0.20049202811123384, 0.004950420447190959, 0.5098933060606687, 0.9918399100141421, 0.08382095835586242, 0.620798972823106, 0.18859715630069046, 0.10739560289344872, 0.06367184522903631, 0.007958980653629539, 0.9232417558210264, 0.12653089765345893, 0.02570158858585884, 0.7374378878865653, 0.11071453544677655, 0.8427115196453061, 0.1201312166302883, 0.025102045266030392, 0.012551022633015196, 0.005337785656814533, 0.32293603223727924, 0.25888260435550486, 0.4136783884031263, 0.9825309271196365, 0.8044798031667048, 0.1950873747384434, 0.9220378824424372, 0.001833077301078404, 0.07515616934421457, 0.009160983369756055, 0.006870737527317042, 0.9825154664063369, 0.023959436782023526, 0.1269850149447247, 0.8242046253016093, 0.023959436782023526, 0.7545501195479506, 0.04859814329291885, 0.008952289553958735, 0.18799808063313345, 0.9938157643770481, 0.9985977174625618, 0.9936320851364389, 0.9952916340651538, 0.9286552131843846, 0.07151591675712135, 0.22601849644536398, 0.0064576713270103996, 0.7684628879142374, 0.15188542524080362, 0.4185818805848919, 0.1339462017871654, 0.29659516110015194, 0.9925263657462607, 0.985333906679918, 0.999141873462384, 0.020288469557144216, 0.9738465387429223, 0.9956089732201916, 0.1296256425005575, 0.8465348081669062, 0.026454212755215818, 0.9771750659052708, 0.5370249837947793, 0.40700840877078004, 0.050876051096347505, 0.0056528945662608346, 0.9885637431065974, 0.5895559488000474, 0.2976538570770971, 0.10928354172878926, 0.004313824015610103, 0.0704774496672348, 0.899426500515187, 0.030204621285957772, 0.9866798351461783, 0.0054709378667257115, 0.9191175616099195, 0.06018031653398283, 0.021883751466902846, 0.0845187091498387, 0.7949327238957802, 0.002284289436482127, 0.1187830506970706, 0.11621250231990497, 0.5061360298406388, 0.08257204112203774, 0.2966477032902837, 0.9979825560647292, 0.13542612682716332, 0.16122157955614683, 0.7029260868648002, 0.6231978328318086, 0.08091242580965471, 0.1170647862777983, 0.17904026136604448, 0.9918820812479181, 0.03445328506924791, 0.9623950962676584, 0.30044245467098524, 0.6984905798949809, 0.9848772628850455, 0.9970266845359106, 0.0035735723460068483, 0.9963311537530488, 0.23049268258313263, 0.060504329178072316, 0.6972403648139762, 0.011524634129156632, 0.9931526243583616, 0.9583512939502018, 0.9948302283480877, 0.9868306467199603, 0.8258893898400307, 0.13852497196892236, 0.0017534806578344603, 0.03331613249885474, 0.9802397662892415, 0.14032618395190372, 0.8569920519919834, 0.974848383568226, 0.2604048479075361, 0.35851772261490805, 0.36368155812582237, 0.01770457889456336, 0.37325910178690436, 0.15996818648010186, 0.46619300059915403, 0.9556952688888807, 0.04285629008470317, 0.9602566554204021, 0.03815589359286366, 0.9983118842397357, 0.9962980330130278, 0.9748567479390235, 0.994209254187929, 0.6256056995914233, 0.37135447935275046, 0.002109968632686082, 0.19883977731218092, 0.7953591092487237, 0.26061066729865806, 0.5757994848169303, 0.0027289075109807126, 0.16100554314786206, 0.2892187893301063, 0.636721213011907, 0.0021993824283658273, 0.07038023770770648, 0.8269571038488206, 0.17306781582658862, 0.03224887902950212, 0.9620915577134798, 0.009659516435343896, 0.9852706764050775, 0.46533942888670676, 0.01538312161608948, 0.5153345741389976, 0.9875901464210853, 0.9950054790374814, 0.9977732706706652, 0.9952353953353013, 0.031387642694504, 0.6964133222843075, 0.18832585616702402, 0.0843542897414795, 0.9905842928354266, 0.001882994033373237, 0.9961038436544424, 0.9970148232248187, 0.0663124021718935, 0.7354648240882734, 0.19743010646631928, 0.001507100049361216, 0.9603337446111434, 0.03534970839059424, 0.7113278235163316, 0.14282020628105682, 0.1442068102255331, 0.9992731092917985, 0.9986279889249575, 0.9981284849569472, 0.2990943135274824, 0.17593783148675435, 0.03078912051018201, 0.4926259281629122, 0.25128942539994553, 0.31907144146177296, 0.42983717502622265, 0.997621310839631, 0.11010902366745985, 0.6663740912861856, 0.06720940405676121, 0.15586861791887174, 0.9544149593880829, 0.14630354899247328, 0.6668473356251138, 0.045587337729538775, 0.1420628664129813, 0.2944886330200718, 0.20993249086579377, 0.4679745108883319, 0.027699425878125565, 0.14827681549447227, 0.02118240221349604, 0.8303501667690447, 0.9953677475765095, 0.9830791073317288, 0.9947831334268108, 0.9843257449561723, 0.48382411861780034, 0.516487350254445, 0.015030974236389138, 0.977013325365294, 0.9621471015758328, 0.03185844997854609, 0.06371689995709218, 0.9026560827254725, 0.014602968861954276, 0.7804475580666674, 0.19795135568426908, 0.00649020838309079, 0.9816385917480689, 0.19012277673938513, 0.8097821972233071, 0.07813399746200773, 0.9115633037234235, 0.21767893282235054, 0.553267287590141, 0.1677941773838952, 0.06235594429806916, 0.9479193993124766, 0.05106636494612669, 0.03488664328626298, 0.9632589840707056, 0.9812229974582385, 0.9953773803409086, 0.9785693673019034, 0.9871708667863415, 0.7796091729956263, 0.2157846818112894, 0.004640530791640633, 0.9951629350428703, 0.0038202032055388497, 0.14093692982499184, 0.8556885025088791, 0.6464994467652051, 0.16738822885238644, 0.15536033216838263, 0.031072066433676524, 0.9937498499968772, 0.2798351679493199, 0.004261449258111471, 0.6903547798140582, 0.02698917863470598, 0.1680649159561619, 0.8280271469059685, 0.5753377633550988, 0.21998208598871424, 0.0489838653011307, 0.15496713749812258, 0.09999790187886849, 0.18048401802527483, 0.7194970988845416, 0.003146685213745493, 0.01783121621122446, 0.9786191014748482, 0.9914280564096777, 0.8804894938251501, 0.10133510798499169, 0.018015130308442966, 0.3160696189730328, 0.5280221869902431, 0.0585658411626502, 0.09760973527108366, 0.9944942652515046, 0.1453589969955655, 0.12014366078204904, 0.734211260334744, 0.0014832550713833213, 0.9884602895198313, 0.71454403054416, 0.11211464914395816, 0.07623796141789155, 0.09866089124668319, 0.9842966090509877, 0.012420146486447795, 0.9951698730153445, 0.6389676833061454, 0.3033754126621615, 0.05503713238561337, 0.0013423690825759358, 0.962673004721585, 0.9844184235204279, 0.0389948774159254, 0.9135942708873951, 0.016712090321110887, 0.027853483868518145, 0.9919374144921554, 0.005480317207138981, 0.2895187152749239, 0.06720970176025019, 0.07237967881873097, 0.5686974764328863, 0.8400790468695543, 0.04653499093446511, 0.1126636622623892, 0.9910807313077837, 0.9678684609014596, 0.9786065723478897, 0.9766122889890644, 0.9923990093563055, 0.9919767001455683, 0.9942055506917815, 0.07273341767946126, 0.1759679459986966, 0.7484503303144562, 0.9950119134090566, 0.9778728106279485, 0.026727791039580878, 0.008909263679860294, 0.9711097411047719, 0.553273925041874, 0.37181788926355314, 0.07347299608201949, 0.0022264544267278632, 0.2538223630067662, 0.13772424181084625, 0.5110593766369418, 0.09674843432993331, 0.9947832423069879, 0.9639724946843111, 0.03182302595931701, 0.0013259594149715422, 0.0013259594149715422, 0.1517831772586614, 0.015769680754146635, 0.8239658194041618, 0.007884840377073318, 0.09451278752353749, 0.029846143428485523, 0.8705125166641611, 0.9639786437849114, 0.1219769258675446, 0.8789513775749538, 0.01163673150377788, 0.9833038120692308, 0.9916219235838947, 0.9981481228591759, 0.975711540228892, 0.2673975331094605, 0.5884323294975149, 0.010254182685613532, 0.1333043749129759, 0.9973980598865091, 0.13339914032587924, 0.608633577736824, 0.050024677622204715, 0.20704658238079174, 0.33057650398295396, 0.5037356251168822, 0.09445042970941542, 0.07042356601140623, 0.009557174464597978, 0.9843889698535917, 0.2706480443395986, 0.003514909666748034, 0.724071391350095, 0.3655894413962123, 0.6330939107105139, 0.9955110148512513, 0.3509438091113088, 0.5255065328143432, 0.12092105339845614, 0.002727542557859913, 0.3162747049308797, 0.5166083085529332, 0.11594110130882623, 0.051266473367848335, 0.057113908857134126, 0.011422781771426825, 0.9252453234855729, 0.9817213844811371, 0.9948890831843382, 0.24389686817334832, 0.45002905998437176, 0.07238229636112273, 0.2344556990827671, 0.9869384602350841, 0.03415895239904649, 0.06343805445537205, 0.8978924630606505, 0.18774589042031395, 0.8073073288073499, 0.1467032454520939, 0.5707454834969558, 0.20468595674982626, 0.0775431440246782, 0.30617632922168553, 0.4100575837790431, 0.24603455026742588, 0.03827204115271069, 0.9956460111798981, 0.9912305962728195, 0.8881665426993658, 0.11127371263887272, 0.9074755507339969, 0.09074755507339968, 0.12793315779319028, 0.8635488151040345, 0.009138082699513592, 0.04905303512844251, 0.9007920996313988, 0.029729112199056065, 0.020810378539339248, 0.08823572753557, 0.8066216092210026, 0.10441227758375785, 0.013563389339676449, 0.9765640324567043, 0.013563389339676449, 0.07998723916340113, 0.3016661591305414, 0.619329766093763, 0.024707870670086302, 0.9636069561333658], \"Term\": [\"aftermath\", \"ah\", \"ah\", \"alone\", \"alone\", \"answer\", \"around\", \"around\", \"around\", \"as\", \"as\", \"as\", \"away\", \"away\", \"away\", \"ay\", \"ay\", \"baby\", \"baby\", \"baby\", \"baby\", \"bang\", \"beat\", \"beat\", \"beat\", \"beg\", \"belongs\", \"beyeahtch\", \"big\", \"big\", \"big\", \"bird\", \"bitch\", \"bitch\", \"bong\", \"bong\", \"bong\", \"booty\", \"bounce\", \"bounce\", \"bounce\", \"bounce\", \"break\", \"break\", \"break\", \"break\", \"bronx\", \"brother\", \"brother\", \"brother\", \"buck\", \"bus\", \"bus\", \"call\", \"call\", \"call\", \"call\", \"candy\", \"central\", \"check\", \"check\", \"check\", \"check\", \"choice\", \"chronic\", \"clap\", \"clip\", \"cocoa\", \"competition\", \"condom\", \"cop\", \"copy\", \"could\", \"could\", \"could\", \"could\", \"create\", \"creep\", \"cut\", \"cut\", \"cut\", \"cypress\", \"da\", \"da\", \"dancin\", \"date\", \"dawg\", \"day\", \"day\", \"day\", \"day\", \"de\", \"de\", \"dead\", \"dead\", \"dear\", \"death\", \"death\", \"di\", \"dick\", \"dick\", \"die\", \"die\", \"different\", \"different\", \"diggy\", \"disco\", \"dj\", \"dj\", \"dogg\", \"dogg\", \"dogg\", \"doggy\", \"doggy\", \"doo\", \"doo\", \"ee\", \"effect\", \"effect\", \"ego\", \"emcee\", \"every\", \"every\", \"every\", \"every\", \"eye\", \"eye\", \"eye\", \"family\", \"family\", \"fantasy\", \"fantasy\", \"fat\", \"fat\", \"fat\", \"fat\", \"father\", \"feel\", \"feel\", \"feel\", \"feel\", \"flavor\", \"flavor\", \"flavor\", \"flow\", \"flow\", \"flow\", \"flow\", \"fool\", \"fool\", \"fool\", \"fool\", \"freak\", \"freak\", \"freak\", \"freak\", \"freaky\", \"fuck\", \"fuck\", \"fuckin\", \"fuckin\", \"fuckin\", \"funk\", \"funk\", \"funk\", \"funky\", \"funky\", \"funky\", \"funky\", \"game\", \"game\", \"game\", \"game\", \"gang\", \"gangsta\", \"gangster\", \"gat\", \"girl\", \"girl\", \"gon\", \"gon\", \"gon\", \"good\", \"good\", \"good\", \"good\", \"gots\", \"groupie\", \"gun\", \"gut\", \"gut\", \"guy\", \"ha\", \"ha\", \"ha\", \"hahaha\", \"hard\", \"hard\", \"hard\", \"hard\", \"hatin\", \"head\", \"head\", \"head\", \"head\", \"heart\", \"heart\", \"heart\", \"hello\", \"help\", \"help\", \"help\", \"help\", \"hey\", \"hey\", \"hey\", \"hey\", \"high\", \"high\", \"high\", \"high\", \"hill\", \"hip\", \"hip\", \"hip\", \"hit\", \"hit\", \"hit\", \"hit\", \"hmm\", \"ho\", \"ho\", \"hoe\", \"hoe\", \"holla\", \"homies\", \"homies\", \"hood\", \"hop\", \"hop\", \"hop\", \"hop\", \"hort\", \"hos\", \"hour\", \"humpty\", \"ice\", \"ice\", \"ice\", \"ice\", \"itch\", \"jam\", \"jam\", \"jones\", \"keep\", \"keep\", \"keep\", \"keep\", \"kick\", \"kick\", \"kick\", \"kill\", \"kill\", \"kiss\", \"kiss\", \"la\", \"lady\", \"letter\", \"lick\", \"life\", \"life\", \"life\", \"lip\", \"lip\", \"little\", \"little\", \"little\", \"little\", \"look\", \"look\", \"look\", \"look\", \"love\", \"love\", \"lyric\", \"lyric\", \"lyrical\", \"lyrical\", \"mack\", \"mack\", \"mack\", \"mackin\", \"mary\", \"mc\", \"mcs\", \"mean\", \"mean\", \"mean\", \"mean\", \"mi\", \"mic\", \"mic\", \"microphone\", \"mind\", \"mind\", \"mind\", \"mind\", \"miss\", \"miss\", \"money\", \"money\", \"money\", \"motherfucker\", \"motherfuckin\", \"motherfucking\", \"mouth\", \"mouth\", \"mouth\", \"mouth\", \"move\", \"move\", \"move\", \"murder\", \"name\", \"name\", \"name\", \"name\", \"nate\", \"need\", \"need\", \"need\", \"need\", \"new\", \"new\", \"new\", \"new\", \"nut\", \"nut\", \"nut\", \"oakland\", \"oaktown\", \"ok\", \"okay\", \"ooh\", \"ooh\", \"outlaw\", \"outlaw\", \"panty\", \"party\", \"party\", \"party\", \"people\", \"people\", \"people\", \"people\", \"philly\", \"pimp\", \"pimp\", \"pimpin\", \"pimpin\", \"play\", \"play\", \"play\", \"play\", \"player\", \"player\", \"please\", \"please\", \"plug\", \"police\", \"prove\", \"public\", \"pull\", \"pull\", \"pull\", \"punk\", \"punk\", \"pussy\", \"pussy\", \"put\", \"put\", \"put\", \"put\", \"race\", \"rap\", \"rap\", \"rap\", \"rap\", \"rapper\", \"rapper\", \"real\", \"real\", \"real\", \"real\", \"record\", \"record\", \"record\", \"rhyme\", \"rhyme\", \"rhyme\", \"rhythm\", \"ride\", \"ride\", \"ride\", \"right\", \"right\", \"right\", \"right\", \"rise\", \"rock\", \"rock\", \"rock\", \"rock\", \"rockin\", \"roll\", \"roll\", \"roll\", \"roll\", \"rollin\", \"rollin\", \"row\", \"run\", \"run\", \"run\", \"run\", \"scrap\", \"sea\", \"seem\", \"seem\", \"seem\", \"seem\", \"shoot\", \"shoot\", \"short\", \"short\", \"short\", \"short\", \"shot\", \"shot\", \"shot\", \"sister\", \"slim\", \"slut\", \"smith\", \"snoop\", \"someone\", \"sorry\", \"sound\", \"sound\", \"sound\", \"speaker\", \"sprung\", \"stage\", \"stage\", \"stage\", \"still\", \"still\", \"still\", \"still\", \"stop\", \"stop\", \"stop\", \"stop\", \"strap\", \"street\", \"street\", \"street\", \"street\", \"style\", \"style\", \"style\", \"style\", \"suck\", \"suck\", \"suck\", \"sweater\", \"swing\", \"swing\", \"syndicate\", \"syndicate\", \"ta\", \"tat\", \"technique\", \"tell\", \"tell\", \"tell\", \"tell\", \"tha\", \"thing\", \"thing\", \"thing\", \"thing\", \"think\", \"think\", \"think\", \"think\", \"today\", \"today\", \"track\", \"track\", \"track\", \"trick\", \"trick\", \"trigger\", \"try\", \"try\", \"try\", \"try\", \"u\", \"u\", \"u\", \"u\", \"uhh\", \"uhh\", \"uhh\", \"umm\", \"upon\", \"use\", \"use\", \"use\", \"use\", \"vocal\", \"wack\", \"wack\", \"wack\", \"warren\", \"warren\", \"way\", \"way\", \"way\", \"way\", \"well\", \"well\", \"well\", \"well\", \"wicked\", \"wishin\", \"wit\", \"wit\", \"woman\", \"woman\", \"wonder\", \"wonder\", \"wonder\", \"world\", \"world\", \"world\", \"world\", \"would\", \"would\", \"would\", \"wow\", \"wow\", \"wow\", \"yes\", \"yes\", \"yes\", \"yknow\", \"yknow\"]}, \"R\": 30, \"lambda.step\": 0.01, \"plot.opts\": {\"xlab\": \"PC1\", \"ylab\": \"PC2\"}, \"topic.order\": [1, 4, 2, 3]};\n",
       "\n",
       "function LDAvis_load_lib(url, callback){\n",
       "  var s = document.createElement('script');\n",
       "  s.src = url;\n",
       "  s.async = true;\n",
       "  s.onreadystatechange = s.onload = callback;\n",
       "  s.onerror = function(){console.warn(\"failed to load library \" + url);};\n",
       "  document.getElementsByTagName(\"head\")[0].appendChild(s);\n",
       "}\n",
       "\n",
       "if(typeof(LDAvis) !== \"undefined\"){\n",
       "   // already loaded: just create the visualization\n",
       "   !function(LDAvis){\n",
       "       new LDAvis(\"#\" + \"ldavis_el677564170182088460696085\", ldavis_el677564170182088460696085_data);\n",
       "   }(LDAvis);\n",
       "}else if(typeof define === \"function\" && define.amd){\n",
       "   // require.js is available: use it to load d3/LDAvis\n",
       "   require.config({paths: {d3: \"https://d3js.org/d3.v5\"}});\n",
       "   require([\"d3\"], function(d3){\n",
       "      window.d3 = d3;\n",
       "      LDAvis_load_lib(\"https://cdn.jsdelivr.net/gh/bmabey/pyLDAvis@3.4.0/pyLDAvis/js/ldavis.v3.0.0.js\", function(){\n",
       "        new LDAvis(\"#\" + \"ldavis_el677564170182088460696085\", ldavis_el677564170182088460696085_data);\n",
       "      });\n",
       "    });\n",
       "}else{\n",
       "    // require.js not available: dynamically load d3 & LDAvis\n",
       "    LDAvis_load_lib(\"https://d3js.org/d3.v5.js\", function(){\n",
       "         LDAvis_load_lib(\"https://cdn.jsdelivr.net/gh/bmabey/pyLDAvis@3.4.0/pyLDAvis/js/ldavis.v3.0.0.js\", function(){\n",
       "                 new LDAvis(\"#\" + \"ldavis_el677564170182088460696085\", ldavis_el677564170182088460696085_data);\n",
       "            })\n",
       "         });\n",
       "}\n",
       "</script>"
      ]
     },
     "execution_count": 90,
     "metadata": {},
     "output_type": "execute_result"
    }
   ],
   "execution_count": 90
  },
  {
   "metadata": {
    "ExecuteTime": {
     "end_time": "2024-10-13T11:35:45.911874Z",
     "start_time": "2024-10-13T11:35:45.362950Z"
    }
   },
   "cell_type": "code",
   "source": [
    "def format_topics_sentences(ldamodel, corpus, texts):\n",
    "    # Init output\n",
    "    sent_topics_df = pd.DataFrame()\n",
    "\n",
    "    # Get main topic in each document\n",
    "    for i, row_list in enumerate(ldamodel[corpus]):\n",
    "        row = sorted(row_list, key=lambda x: (x[1]), reverse=True)\n",
    "        # Get the dominant topic, its percentage, and keywords\n",
    "        for j, (topic_num, prop_topic) in enumerate(row):\n",
    "            if j == 0:  # Only the dominant topic\n",
    "                wp = ldamodel.show_topic(topic_num)\n",
    "                topic_keywords = \", \".join([word for word, prop in wp])\n",
    "\n",
    "                # Creating a temporary DataFrame to hold the new row\n",
    "                temp_df = pd.DataFrame([[int(topic_num), round(prop_topic, 4), topic_keywords]],\n",
    "                                       columns=['Dominant_Topic', 'Perc_Contribution', 'Topic_Keywords'])\n",
    "\n",
    "                # Use pd.concat() instead of append\n",
    "                sent_topics_df = pd.concat([sent_topics_df, temp_df], ignore_index=True)\n",
    "\n",
    "            else:\n",
    "                break\n",
    "\n",
    "    # Add original text to the DataFrame\n",
    "    contents = pd.Series(texts)\n",
    "    sent_topics_df = pd.concat([sent_topics_df, contents.rename('Text')], axis=1)\n",
    "\n",
    "    return sent_topics_df\n",
    "\n",
    "# Apply the updated function\n",
    "df_topic_sents_keywords = format_topics_sentences(\n",
    "    ldamodel=optimal_model,\n",
    "    corpus=corpus,\n",
    "    texts=df['Lyrics']\n",
    ")\n",
    "\n",
    "# Format the output\n",
    "df_dominant_topic = df_topic_sents_keywords.reset_index()\n",
    "df_dominant_topic.columns = ['Document_No', 'Dominant_Topic', 'Topic_Perc_Contrib', 'Keywords', 'Text']\n",
    "\n",
    "# Display the result\n",
    "df_dominant_topic.head()"
   ],
   "id": "40fd12776f4eb9d9",
   "outputs": [
    {
     "data": {
      "text/plain": [
       "   Document_No  Dominant_Topic  Topic_Perc_Contrib  \\\n",
       "0            0               0              0.5879   \n",
       "1            1               0              0.7586   \n",
       "2            2               0              0.3500   \n",
       "3            3               3              0.4747   \n",
       "4            4               3              0.3867   \n",
       "\n",
       "                                            Keywords  \\\n",
       "0  fuck, as, motherfucker, street, hit, real, put...   \n",
       "1  fuck, as, motherfucker, street, hit, real, put...   \n",
       "2  fuck, as, motherfucker, street, hit, real, put...   \n",
       "3  love, would, girl, way, tell, brother, u, need...   \n",
       "4  love, would, girl, way, tell, brother, u, need...   \n",
       "\n",
       "                                                Text  \n",
       "0  \\n\\nYo\\nMy crew is in the house\\nTerra, Herb M...  \n",
       "1  \\n\\n[Intro:]\\nIt's the number one crew in the ...  \n",
       "2  \\n\\n[Verse 1]\\nThere are too many MC's who are...  \n",
       "3  \\n\\n[Verse 1:]\\nLet me get to the point real q...  \n",
       "4  \\n\\n[Big L]\\n A yo spark up the phillies and p...  "
      ],
      "text/html": [
       "<div>\n",
       "<style scoped>\n",
       "    .dataframe tbody tr th:only-of-type {\n",
       "        vertical-align: middle;\n",
       "    }\n",
       "\n",
       "    .dataframe tbody tr th {\n",
       "        vertical-align: top;\n",
       "    }\n",
       "\n",
       "    .dataframe thead th {\n",
       "        text-align: right;\n",
       "    }\n",
       "</style>\n",
       "<table border=\"1\" class=\"dataframe\">\n",
       "  <thead>\n",
       "    <tr style=\"text-align: right;\">\n",
       "      <th></th>\n",
       "      <th>Document_No</th>\n",
       "      <th>Dominant_Topic</th>\n",
       "      <th>Topic_Perc_Contrib</th>\n",
       "      <th>Keywords</th>\n",
       "      <th>Text</th>\n",
       "    </tr>\n",
       "  </thead>\n",
       "  <tbody>\n",
       "    <tr>\n",
       "      <th>0</th>\n",
       "      <td>0</td>\n",
       "      <td>0</td>\n",
       "      <td>0.5879</td>\n",
       "      <td>fuck, as, motherfucker, street, hit, real, put...</td>\n",
       "      <td>\\n\\nYo\\nMy crew is in the house\\nTerra, Herb M...</td>\n",
       "    </tr>\n",
       "    <tr>\n",
       "      <th>1</th>\n",
       "      <td>1</td>\n",
       "      <td>0</td>\n",
       "      <td>0.7586</td>\n",
       "      <td>fuck, as, motherfucker, street, hit, real, put...</td>\n",
       "      <td>\\n\\n[Intro:]\\nIt's the number one crew in the ...</td>\n",
       "    </tr>\n",
       "    <tr>\n",
       "      <th>2</th>\n",
       "      <td>2</td>\n",
       "      <td>0</td>\n",
       "      <td>0.3500</td>\n",
       "      <td>fuck, as, motherfucker, street, hit, real, put...</td>\n",
       "      <td>\\n\\n[Verse 1]\\nThere are too many MC's who are...</td>\n",
       "    </tr>\n",
       "    <tr>\n",
       "      <th>3</th>\n",
       "      <td>3</td>\n",
       "      <td>3</td>\n",
       "      <td>0.4747</td>\n",
       "      <td>love, would, girl, way, tell, brother, u, need...</td>\n",
       "      <td>\\n\\n[Verse 1:]\\nLet me get to the point real q...</td>\n",
       "    </tr>\n",
       "    <tr>\n",
       "      <th>4</th>\n",
       "      <td>4</td>\n",
       "      <td>3</td>\n",
       "      <td>0.3867</td>\n",
       "      <td>love, would, girl, way, tell, brother, u, need...</td>\n",
       "      <td>\\n\\n[Big L]\\n A yo spark up the phillies and p...</td>\n",
       "    </tr>\n",
       "  </tbody>\n",
       "</table>\n",
       "</div>"
      ]
     },
     "execution_count": 97,
     "metadata": {},
     "output_type": "execute_result"
    }
   ],
   "execution_count": 97
  },
  {
   "metadata": {
    "ExecuteTime": {
     "end_time": "2024-10-13T11:35:48.852620Z",
     "start_time": "2024-10-13T11:35:48.838738Z"
    }
   },
   "cell_type": "code",
   "source": [
    "# Assuming you have a 'Region' column indicating 'East' or 'West'\n",
    "df_dominant_topic['Coast'] = df['Coast']\n",
    "\n",
    "# Calculate the distribution of topics by region (East vs West) in percentages\n",
    "topic_region_dist = pd.crosstab(df_dominant_topic['Dominant_Topic'],\n",
    "                                df_dominant_topic['Coast'],\n",
    "                                normalize='index') * 100\n",
    "print(topic_region_dist)"
   ],
   "id": "bd13b4cea73ca753",
   "outputs": [
    {
     "name": "stdout",
     "output_type": "stream",
     "text": [
      "Coast           east_coast  west_coast\n",
      "Dominant_Topic                        \n",
      "0                36.092715   63.907285\n",
      "1                72.682927   27.317073\n",
      "2                39.705882   60.294118\n",
      "3                62.729124   37.270876\n"
     ]
    }
   ],
   "execution_count": 98
  },
  {
   "metadata": {
    "ExecuteTime": {
     "end_time": "2024-10-13T11:36:12.753972Z",
     "start_time": "2024-10-13T11:36:12.708552Z"
    }
   },
   "cell_type": "code",
   "source": [
    "# Reset the index to convert 'Dominant_Topic' from index to column\n",
    "topic_region_dist = topic_region_dist.reset_index()\n",
    "\n",
    "# Melt the DataFrame for easier plotting with seaborn\n",
    "topic_region_dist_melted = topic_region_dist.melt(id_vars='Dominant_Topic',\n",
    "                                                  value_vars=['east_coast', 'west_coast'],\n",
    "                                                  var_name='Coast',\n",
    "                                                  value_name='Percentage')\n",
    "\n",
    "# Define custom colors for East Coast (blue) and West Coast (red)\n",
    "palette = {\"east_coast\": \"blue\", \"west_coast\": \"red\"}\n",
    "\n",
    "# Create the bar plot with custom colors\n",
    "plt.figure(figsize=(12, 6))\n",
    "sns.barplot(x='Dominant_Topic', y='Percentage', hue='Coast', data=topic_region_dist_melted, palette=palette)\n",
    "\n",
    "# Set plot labels and title\n",
    "plt.xlabel(\"Dominant Topic\")\n",
    "plt.ylabel(\"Percentage Contribution\")\n",
    "plt.title(\"Percentage Contribution of East and West Coast to Each Topic\")\n",
    "\n",
    "# Show the plot\n",
    "plt.show()"
   ],
   "id": "8d9662bc11e19eea",
   "outputs": [
    {
     "ename": "KeyError",
     "evalue": "'Dominant_Topic'",
     "output_type": "error",
     "traceback": [
      "\u001B[0;31m---------------------------------------------------------------------------\u001B[0m",
      "\u001B[0;31mKeyError\u001B[0m                                  Traceback (most recent call last)",
      "File \u001B[0;32m~/lib/python3.9/site-packages/pandas/core/indexes/base.py:3790\u001B[0m, in \u001B[0;36mIndex.get_loc\u001B[0;34m(self, key)\u001B[0m\n\u001B[1;32m   3789\u001B[0m \u001B[38;5;28;01mtry\u001B[39;00m:\n\u001B[0;32m-> 3790\u001B[0m     \u001B[38;5;28;01mreturn\u001B[39;00m \u001B[38;5;28;43mself\u001B[39;49m\u001B[38;5;241;43m.\u001B[39;49m\u001B[43m_engine\u001B[49m\u001B[38;5;241;43m.\u001B[39;49m\u001B[43mget_loc\u001B[49m\u001B[43m(\u001B[49m\u001B[43mcasted_key\u001B[49m\u001B[43m)\u001B[49m\n\u001B[1;32m   3791\u001B[0m \u001B[38;5;28;01mexcept\u001B[39;00m \u001B[38;5;167;01mKeyError\u001B[39;00m \u001B[38;5;28;01mas\u001B[39;00m err:\n",
      "File \u001B[0;32mindex.pyx:152\u001B[0m, in \u001B[0;36mpandas._libs.index.IndexEngine.get_loc\u001B[0;34m()\u001B[0m\n",
      "File \u001B[0;32mindex.pyx:176\u001B[0m, in \u001B[0;36mpandas._libs.index.IndexEngine.get_loc\u001B[0;34m()\u001B[0m\n",
      "File \u001B[0;32mindex.pyx:219\u001B[0m, in \u001B[0;36mpandas._libs.index.IndexEngine._get_loc_duplicates\u001B[0;34m()\u001B[0m\n",
      "File \u001B[0;32mindex.pyx:227\u001B[0m, in \u001B[0;36mpandas._libs.index.IndexEngine._maybe_get_bool_indexer\u001B[0;34m()\u001B[0m\n",
      "File \u001B[0;32mindex.pyx:119\u001B[0m, in \u001B[0;36mpandas._libs.index._unpack_bool_indexer\u001B[0;34m()\u001B[0m\n",
      "\u001B[0;31mKeyError\u001B[0m: 'Dominant_Topic'",
      "\nThe above exception was the direct cause of the following exception:\n",
      "\u001B[0;31mKeyError\u001B[0m                                  Traceback (most recent call last)",
      "Cell \u001B[0;32mIn[100], line 5\u001B[0m\n\u001B[1;32m      2\u001B[0m topic_region_dist \u001B[38;5;241m=\u001B[39m topic_region_dist\u001B[38;5;241m.\u001B[39mreset_index()\n\u001B[1;32m      4\u001B[0m \u001B[38;5;66;03m# Melt the DataFrame for easier plotting with seaborn\u001B[39;00m\n\u001B[0;32m----> 5\u001B[0m topic_region_dist_melted \u001B[38;5;241m=\u001B[39m \u001B[43mtopic_region_dist\u001B[49m\u001B[38;5;241;43m.\u001B[39;49m\u001B[43mmelt\u001B[49m\u001B[43m(\u001B[49m\u001B[43mid_vars\u001B[49m\u001B[38;5;241;43m=\u001B[39;49m\u001B[38;5;124;43m'\u001B[39;49m\u001B[38;5;124;43mDominant_Topic\u001B[39;49m\u001B[38;5;124;43m'\u001B[39;49m\u001B[43m,\u001B[49m\n\u001B[1;32m      6\u001B[0m \u001B[43m                                                  \u001B[49m\u001B[43mvalue_vars\u001B[49m\u001B[38;5;241;43m=\u001B[39;49m\u001B[43m[\u001B[49m\u001B[38;5;124;43m'\u001B[39;49m\u001B[38;5;124;43meast_coast\u001B[39;49m\u001B[38;5;124;43m'\u001B[39;49m\u001B[43m,\u001B[49m\u001B[43m \u001B[49m\u001B[38;5;124;43m'\u001B[39;49m\u001B[38;5;124;43mwest_coast\u001B[39;49m\u001B[38;5;124;43m'\u001B[39;49m\u001B[43m]\u001B[49m\u001B[43m,\u001B[49m\n\u001B[1;32m      7\u001B[0m \u001B[43m                                                  \u001B[49m\u001B[43mvar_name\u001B[49m\u001B[38;5;241;43m=\u001B[39;49m\u001B[38;5;124;43m'\u001B[39;49m\u001B[38;5;124;43mCoast\u001B[39;49m\u001B[38;5;124;43m'\u001B[39;49m\u001B[43m,\u001B[49m\n\u001B[1;32m      8\u001B[0m \u001B[43m                                                  \u001B[49m\u001B[43mvalue_name\u001B[49m\u001B[38;5;241;43m=\u001B[39;49m\u001B[38;5;124;43m'\u001B[39;49m\u001B[38;5;124;43mPercentage\u001B[39;49m\u001B[38;5;124;43m'\u001B[39;49m\u001B[43m)\u001B[49m\n\u001B[1;32m     10\u001B[0m \u001B[38;5;66;03m# Define custom colors for East Coast (blue) and West Coast (red)\u001B[39;00m\n\u001B[1;32m     11\u001B[0m palette \u001B[38;5;241m=\u001B[39m {\u001B[38;5;124m\"\u001B[39m\u001B[38;5;124meast_coast\u001B[39m\u001B[38;5;124m\"\u001B[39m: \u001B[38;5;124m\"\u001B[39m\u001B[38;5;124mblue\u001B[39m\u001B[38;5;124m\"\u001B[39m, \u001B[38;5;124m\"\u001B[39m\u001B[38;5;124mwest_coast\u001B[39m\u001B[38;5;124m\"\u001B[39m: \u001B[38;5;124m\"\u001B[39m\u001B[38;5;124mred\u001B[39m\u001B[38;5;124m\"\u001B[39m}\n",
      "File \u001B[0;32m~/lib/python3.9/site-packages/pandas/core/frame.py:9636\u001B[0m, in \u001B[0;36mDataFrame.melt\u001B[0;34m(self, id_vars, value_vars, var_name, value_name, col_level, ignore_index)\u001B[0m\n\u001B[1;32m   9626\u001B[0m \u001B[38;5;129m@Appender\u001B[39m(_shared_docs[\u001B[38;5;124m\"\u001B[39m\u001B[38;5;124mmelt\u001B[39m\u001B[38;5;124m\"\u001B[39m] \u001B[38;5;241m%\u001B[39m {\u001B[38;5;124m\"\u001B[39m\u001B[38;5;124mcaller\u001B[39m\u001B[38;5;124m\"\u001B[39m: \u001B[38;5;124m\"\u001B[39m\u001B[38;5;124mdf.melt(\u001B[39m\u001B[38;5;124m\"\u001B[39m, \u001B[38;5;124m\"\u001B[39m\u001B[38;5;124mother\u001B[39m\u001B[38;5;124m\"\u001B[39m: \u001B[38;5;124m\"\u001B[39m\u001B[38;5;124mmelt\u001B[39m\u001B[38;5;124m\"\u001B[39m})\n\u001B[1;32m   9627\u001B[0m \u001B[38;5;28;01mdef\u001B[39;00m \u001B[38;5;21mmelt\u001B[39m(\n\u001B[1;32m   9628\u001B[0m     \u001B[38;5;28mself\u001B[39m,\n\u001B[0;32m   (...)\u001B[0m\n\u001B[1;32m   9634\u001B[0m     ignore_index: \u001B[38;5;28mbool\u001B[39m \u001B[38;5;241m=\u001B[39m \u001B[38;5;28;01mTrue\u001B[39;00m,\n\u001B[1;32m   9635\u001B[0m ) \u001B[38;5;241m-\u001B[39m\u001B[38;5;241m>\u001B[39m DataFrame:\n\u001B[0;32m-> 9636\u001B[0m     \u001B[38;5;28;01mreturn\u001B[39;00m \u001B[43mmelt\u001B[49m\u001B[43m(\u001B[49m\n\u001B[1;32m   9637\u001B[0m \u001B[43m        \u001B[49m\u001B[38;5;28;43mself\u001B[39;49m\u001B[43m,\u001B[49m\n\u001B[1;32m   9638\u001B[0m \u001B[43m        \u001B[49m\u001B[43mid_vars\u001B[49m\u001B[38;5;241;43m=\u001B[39;49m\u001B[43mid_vars\u001B[49m\u001B[43m,\u001B[49m\n\u001B[1;32m   9639\u001B[0m \u001B[43m        \u001B[49m\u001B[43mvalue_vars\u001B[49m\u001B[38;5;241;43m=\u001B[39;49m\u001B[43mvalue_vars\u001B[49m\u001B[43m,\u001B[49m\n\u001B[1;32m   9640\u001B[0m \u001B[43m        \u001B[49m\u001B[43mvar_name\u001B[49m\u001B[38;5;241;43m=\u001B[39;49m\u001B[43mvar_name\u001B[49m\u001B[43m,\u001B[49m\n\u001B[1;32m   9641\u001B[0m \u001B[43m        \u001B[49m\u001B[43mvalue_name\u001B[49m\u001B[38;5;241;43m=\u001B[39;49m\u001B[43mvalue_name\u001B[49m\u001B[43m,\u001B[49m\n\u001B[1;32m   9642\u001B[0m \u001B[43m        \u001B[49m\u001B[43mcol_level\u001B[49m\u001B[38;5;241;43m=\u001B[39;49m\u001B[43mcol_level\u001B[49m\u001B[43m,\u001B[49m\n\u001B[1;32m   9643\u001B[0m \u001B[43m        \u001B[49m\u001B[43mignore_index\u001B[49m\u001B[38;5;241;43m=\u001B[39;49m\u001B[43mignore_index\u001B[49m\u001B[43m,\u001B[49m\n\u001B[1;32m   9644\u001B[0m \u001B[43m    \u001B[49m\u001B[43m)\u001B[49m\u001B[38;5;241m.\u001B[39m__finalize__(\u001B[38;5;28mself\u001B[39m, method\u001B[38;5;241m=\u001B[39m\u001B[38;5;124m\"\u001B[39m\u001B[38;5;124mmelt\u001B[39m\u001B[38;5;124m\"\u001B[39m)\n",
      "File \u001B[0;32m~/lib/python3.9/site-packages/pandas/core/reshape/melt.py:124\u001B[0m, in \u001B[0;36mmelt\u001B[0;34m(frame, id_vars, value_vars, var_name, value_name, col_level, ignore_index)\u001B[0m\n\u001B[1;32m    122\u001B[0m mdata: \u001B[38;5;28mdict\u001B[39m[Hashable, AnyArrayLike] \u001B[38;5;241m=\u001B[39m {}\n\u001B[1;32m    123\u001B[0m \u001B[38;5;28;01mfor\u001B[39;00m col \u001B[38;5;129;01min\u001B[39;00m id_vars:\n\u001B[0;32m--> 124\u001B[0m     id_data \u001B[38;5;241m=\u001B[39m \u001B[43mframe\u001B[49m\u001B[38;5;241;43m.\u001B[39;49m\u001B[43mpop\u001B[49m\u001B[43m(\u001B[49m\u001B[43mcol\u001B[49m\u001B[43m)\u001B[49m\n\u001B[1;32m    125\u001B[0m     \u001B[38;5;28;01mif\u001B[39;00m \u001B[38;5;129;01mnot\u001B[39;00m \u001B[38;5;28misinstance\u001B[39m(id_data\u001B[38;5;241m.\u001B[39mdtype, np\u001B[38;5;241m.\u001B[39mdtype):\n\u001B[1;32m    126\u001B[0m         \u001B[38;5;66;03m# i.e. ExtensionDtype\u001B[39;00m\n\u001B[1;32m    127\u001B[0m         \u001B[38;5;28;01mif\u001B[39;00m K \u001B[38;5;241m>\u001B[39m \u001B[38;5;241m0\u001B[39m:\n",
      "File \u001B[0;32m~/lib/python3.9/site-packages/pandas/core/frame.py:5570\u001B[0m, in \u001B[0;36mDataFrame.pop\u001B[0;34m(self, item)\u001B[0m\n\u001B[1;32m   5529\u001B[0m \u001B[38;5;28;01mdef\u001B[39;00m \u001B[38;5;21mpop\u001B[39m(\u001B[38;5;28mself\u001B[39m, item: Hashable) \u001B[38;5;241m-\u001B[39m\u001B[38;5;241m>\u001B[39m Series:\n\u001B[1;32m   5530\u001B[0m \u001B[38;5;250m    \u001B[39m\u001B[38;5;124;03m\"\"\"\u001B[39;00m\n\u001B[1;32m   5531\u001B[0m \u001B[38;5;124;03m    Return item and drop from frame. Raise KeyError if not found.\u001B[39;00m\n\u001B[1;32m   5532\u001B[0m \n\u001B[0;32m   (...)\u001B[0m\n\u001B[1;32m   5568\u001B[0m \u001B[38;5;124;03m    3  monkey        NaN\u001B[39;00m\n\u001B[1;32m   5569\u001B[0m \u001B[38;5;124;03m    \"\"\"\u001B[39;00m\n\u001B[0;32m-> 5570\u001B[0m     \u001B[38;5;28;01mreturn\u001B[39;00m \u001B[38;5;28;43msuper\u001B[39;49m\u001B[43m(\u001B[49m\u001B[43m)\u001B[49m\u001B[38;5;241;43m.\u001B[39;49m\u001B[43mpop\u001B[49m\u001B[43m(\u001B[49m\u001B[43mitem\u001B[49m\u001B[38;5;241;43m=\u001B[39;49m\u001B[43mitem\u001B[49m\u001B[43m)\u001B[49m\n",
      "File \u001B[0;32m~/lib/python3.9/site-packages/pandas/core/generic.py:901\u001B[0m, in \u001B[0;36mNDFrame.pop\u001B[0;34m(self, item)\u001B[0m\n\u001B[1;32m    900\u001B[0m \u001B[38;5;28;01mdef\u001B[39;00m \u001B[38;5;21mpop\u001B[39m(\u001B[38;5;28mself\u001B[39m, item: Hashable) \u001B[38;5;241m-\u001B[39m\u001B[38;5;241m>\u001B[39m Series \u001B[38;5;241m|\u001B[39m Any:\n\u001B[0;32m--> 901\u001B[0m     result \u001B[38;5;241m=\u001B[39m \u001B[38;5;28;43mself\u001B[39;49m\u001B[43m[\u001B[49m\u001B[43mitem\u001B[49m\u001B[43m]\u001B[49m\n\u001B[1;32m    902\u001B[0m     \u001B[38;5;28;01mdel\u001B[39;00m \u001B[38;5;28mself\u001B[39m[item]\n\u001B[1;32m    904\u001B[0m     \u001B[38;5;28;01mreturn\u001B[39;00m result\n",
      "File \u001B[0;32m~/lib/python3.9/site-packages/pandas/core/frame.py:3893\u001B[0m, in \u001B[0;36mDataFrame.__getitem__\u001B[0;34m(self, key)\u001B[0m\n\u001B[1;32m   3891\u001B[0m \u001B[38;5;28;01mif\u001B[39;00m \u001B[38;5;28mself\u001B[39m\u001B[38;5;241m.\u001B[39mcolumns\u001B[38;5;241m.\u001B[39mnlevels \u001B[38;5;241m>\u001B[39m \u001B[38;5;241m1\u001B[39m:\n\u001B[1;32m   3892\u001B[0m     \u001B[38;5;28;01mreturn\u001B[39;00m \u001B[38;5;28mself\u001B[39m\u001B[38;5;241m.\u001B[39m_getitem_multilevel(key)\n\u001B[0;32m-> 3893\u001B[0m indexer \u001B[38;5;241m=\u001B[39m \u001B[38;5;28;43mself\u001B[39;49m\u001B[38;5;241;43m.\u001B[39;49m\u001B[43mcolumns\u001B[49m\u001B[38;5;241;43m.\u001B[39;49m\u001B[43mget_loc\u001B[49m\u001B[43m(\u001B[49m\u001B[43mkey\u001B[49m\u001B[43m)\u001B[49m\n\u001B[1;32m   3894\u001B[0m \u001B[38;5;28;01mif\u001B[39;00m is_integer(indexer):\n\u001B[1;32m   3895\u001B[0m     indexer \u001B[38;5;241m=\u001B[39m [indexer]\n",
      "File \u001B[0;32m~/lib/python3.9/site-packages/pandas/core/indexes/base.py:3797\u001B[0m, in \u001B[0;36mIndex.get_loc\u001B[0;34m(self, key)\u001B[0m\n\u001B[1;32m   3792\u001B[0m     \u001B[38;5;28;01mif\u001B[39;00m \u001B[38;5;28misinstance\u001B[39m(casted_key, \u001B[38;5;28mslice\u001B[39m) \u001B[38;5;129;01mor\u001B[39;00m (\n\u001B[1;32m   3793\u001B[0m         \u001B[38;5;28misinstance\u001B[39m(casted_key, abc\u001B[38;5;241m.\u001B[39mIterable)\n\u001B[1;32m   3794\u001B[0m         \u001B[38;5;129;01mand\u001B[39;00m \u001B[38;5;28many\u001B[39m(\u001B[38;5;28misinstance\u001B[39m(x, \u001B[38;5;28mslice\u001B[39m) \u001B[38;5;28;01mfor\u001B[39;00m x \u001B[38;5;129;01min\u001B[39;00m casted_key)\n\u001B[1;32m   3795\u001B[0m     ):\n\u001B[1;32m   3796\u001B[0m         \u001B[38;5;28;01mraise\u001B[39;00m InvalidIndexError(key)\n\u001B[0;32m-> 3797\u001B[0m     \u001B[38;5;28;01mraise\u001B[39;00m \u001B[38;5;167;01mKeyError\u001B[39;00m(key) \u001B[38;5;28;01mfrom\u001B[39;00m \u001B[38;5;21;01merr\u001B[39;00m\n\u001B[1;32m   3798\u001B[0m \u001B[38;5;28;01mexcept\u001B[39;00m \u001B[38;5;167;01mTypeError\u001B[39;00m:\n\u001B[1;32m   3799\u001B[0m     \u001B[38;5;66;03m# If we have a listlike key, _check_indexing_error will raise\u001B[39;00m\n\u001B[1;32m   3800\u001B[0m     \u001B[38;5;66;03m#  InvalidIndexError. Otherwise we fall through and re-raise\u001B[39;00m\n\u001B[1;32m   3801\u001B[0m     \u001B[38;5;66;03m#  the TypeError.\u001B[39;00m\n\u001B[1;32m   3802\u001B[0m     \u001B[38;5;28mself\u001B[39m\u001B[38;5;241m.\u001B[39m_check_indexing_error(key)\n",
      "\u001B[0;31mKeyError\u001B[0m: 'Dominant_Topic'"
     ]
    }
   ],
   "execution_count": 100
  },
  {
   "metadata": {},
   "cell_type": "code",
   "outputs": [],
   "execution_count": null,
   "source": "",
   "id": "a8da7b53267d4f1f"
  }
 ],
 "metadata": {
  "kernelspec": {
   "display_name": "Python 3",
   "language": "python",
   "name": "python3"
  },
  "language_info": {
   "codemirror_mode": {
    "name": "ipython",
    "version": 2
   },
   "file_extension": ".py",
   "mimetype": "text/x-python",
   "name": "python",
   "nbconvert_exporter": "python",
   "pygments_lexer": "ipython2",
   "version": "2.7.6"
  }
 },
 "nbformat": 4,
 "nbformat_minor": 5
}
