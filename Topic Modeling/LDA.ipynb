{
 "cells": [
  {
   "metadata": {
    "ExecuteTime": {
     "end_time": "2025-05-07T20:50:53.918501Z",
     "start_time": "2025-05-07T20:50:53.916983Z"
    }
   },
   "cell_type": "code",
   "source": [
    "import warnings\n",
    "warnings.filterwarnings(\"ignore\", category=ResourceWarning)"
   ],
   "id": "4cb2a3628ed8d3d9",
   "outputs": [],
   "execution_count": 1
  },
  {
   "cell_type": "code",
   "id": "initial_id",
   "metadata": {
    "collapsed": true,
    "ExecuteTime": {
     "end_time": "2025-05-07T20:50:54.172559Z",
     "start_time": "2025-05-07T20:50:53.921671Z"
    }
   },
   "source": [
    "import pandas as pd\n",
    "from gensim import corpora\n",
    "from gensim.models import LdaModel\n",
    "import numpy as np\n",
    "import os\n",
    "import itertools\n",
    "from gensim.models.coherencemodel import CoherenceModel\n",
    "import matplotlib.pyplot as plt\n",
    "save_dir = '../saved_models'\n",
    "\n",
    "df = pd.read_pickle('../Data/pkl_data/preprocessed_df.pkl')\n",
    "\n",
    "# Create a dictionary and corpus for LDA\n",
    "dictionary = corpora.Dictionary(df['Tokens'])\n",
    "corpus = [dictionary.doc2bow(text) for text in df['Tokens']]\n",
    "texts = df['Tokens']"
   ],
   "outputs": [],
   "execution_count": 2
  },
  {
   "metadata": {
    "ExecuteTime": {
     "end_time": "2025-05-07T20:50:54.916211Z",
     "start_time": "2025-05-07T20:50:54.911626Z"
    }
   },
   "cell_type": "code",
   "source": [
    "num_topics_list = [2, 3, 4]\n",
    "alpha_list = ['symmetric']\n",
    "beta_list = ['symmetric']\n",
    "passes_list = [10, 20]\n",
    "iterations_list = [50, 100]\n",
    "results = []"
   ],
   "id": "9f315eb19d8f48e3",
   "outputs": [],
   "execution_count": 3
  },
  {
   "metadata": {
    "jupyter": {
     "is_executing": true
    },
    "ExecuteTime": {
     "start_time": "2025-05-07T22:16:14.767798Z"
    }
   },
   "cell_type": "code",
   "source": [
    "def evaluate_lda_models(corpus, dictionary, texts, num_topics_list, alpha_list, beta_list, passes_list, iterations_list, metrics=('coherence', 'diversity')):\n",
    "    \"\"\"\n",
    "    Train LDA models with a given set of hyperparameters and metrics, then save the model parameters and evaluation metrics in a DataFrame.\n",
    "\n",
    "    Parameters:\n",
    "    - corpus: The BoW corpus.\n",
    "    - dictionary: The Gensim dictionary.\n",
    "    - texts: The list of tokenized texts.\n",
    "    - num_topics_list: List of values for the number of topics to try.\n",
    "    - alpha_list: List of values for the alpha hyperparameter.\n",
    "    - beta_list: List of values for the beta hyperparameter.\n",
    "    - passes_list: List of values for the number of passes during training.\n",
    "    - iterations_list: List of values for the number of iterations during training.\n",
    "    - metrics: Tuple of metrics to evaluate ('coherence', 'diversity', or both).\n",
    "    \n",
    "    Returns:\n",
    "    - results_df: A DataFrame containing the evaluation results and model parameters.\n",
    "    \"\"\"\n",
    "    results = []\n",
    "\n",
    "    # Generate all combinations of the hyperparameters\n",
    "    param_grid = list(itertools.product(num_topics_list, alpha_list, beta_list, passes_list, iterations_list))\n",
    "\n",
    "    # Iterate through each parameter combination\n",
    "    for idx, (num_topics, alpha, beta, passes, iterations) in enumerate(param_grid):\n",
    "        try:\n",
    "            print(f\"Training model {idx+1}/{len(param_grid)} with num_topics={num_topics}, alpha={alpha}, beta={beta}, passes={passes}, iterations={iterations}\")\n",
    "\n",
    "            # Train the LDA model\n",
    "            lda_model = LdaModel(\n",
    "                corpus=corpus,\n",
    "                id2word=dictionary,\n",
    "                num_topics=num_topics,\n",
    "                alpha=alpha,\n",
    "                eta=beta,\n",
    "                passes=passes,\n",
    "                iterations=iterations,\n",
    "                random_state=42\n",
    "            )\n",
    "\n",
    "            # Initialize result dictionary\n",
    "            result = {\n",
    "                'model_id': idx + 1,\n",
    "                'num_topics': num_topics,\n",
    "                'alpha': alpha,\n",
    "                'beta': beta,\n",
    "                'passes': passes,\n",
    "                'iterations': iterations,\n",
    "            }\n",
    "\n",
    "            # Evaluate the model based on specified metrics\n",
    "            if 'coherence' in metrics:\n",
    "                coherence_model_lda = CoherenceModel(model=lda_model, texts=texts, dictionary=dictionary, coherence='c_v')\n",
    "                coherence_lda = coherence_model_lda.get_coherence()\n",
    "                result['coherence_score'] = coherence_lda\n",
    "\n",
    "            if 'diversity' in metrics:\n",
    "                topic_words = lda_model.show_topics(num_topics=num_topics, num_words=10, formatted=False)\n",
    "                unique_words = set()\n",
    "                total_words = 0\n",
    "\n",
    "                for _, words in topic_words:\n",
    "                    words = [word for word, _ in words]\n",
    "                    unique_words.update(words)\n",
    "                    total_words += len(words)\n",
    "\n",
    "                topic_diversity = len(unique_words) / total_words if total_words > 0 else 0\n",
    "                result['topic_diversity'] = topic_diversity\n",
    "\n",
    "            # Append the result to the results list\n",
    "            results.append(result)\n",
    "\n",
    "        except Exception as e:\n",
    "            print(f\"An error occurred while training model {idx+1}: {e}\")\n",
    "            continue  # Skip this iteration if there's an error\n",
    "\n",
    "    # Convert results to a DataFrame and sort by coherence_score or other metric\n",
    "    results_df = pd.DataFrame(results)\n",
    "\n",
    "    if 'coherence' in metrics:\n",
    "        results_df = results_df.sort_values(by='coherence_score', ascending=False)\n",
    "\n",
    "    return results_df\n",
    "\n",
    "# Example Usage\n",
    "results_df = evaluate_lda_models(\n",
    "    corpus=corpus,\n",
    "    dictionary=dictionary,\n",
    "    texts=texts,\n",
    "    num_topics_list=[2, 3, 4],\n",
    "    alpha_list=[0.01, 0.1, 'auto'],\n",
    "    beta_list=[0.01, 0.1, 'auto'],\n",
    "    passes_list=[10, 20],\n",
    "    iterations_list=[100, 200],\n",
    "    metrics=('coherence', 'diversity')\n",
    ")\n",
    "\n",
    "# Display the top 5 results\n",
    "print(results_df.head(5))\n",
    "\n",
    "# Save the results DataFrame for future reference\n",
    "results_df_path = '../saved_models/lda_model_results_summary.csv'\n",
    "os.makedirs('../saved_models', exist_ok=True)\n",
    "results_df.to_csv(results_df_path, index=False)"
   ],
   "id": "7054aa74ae504a79",
   "outputs": [
    {
     "name": "stdout",
     "output_type": "stream",
     "text": [
      "Training model 1/108 with num_topics=2, alpha=0.01, beta=0.01, passes=10, iterations=100\n",
      "Training model 2/108 with num_topics=2, alpha=0.01, beta=0.01, passes=10, iterations=200\n",
      "Training model 3/108 with num_topics=2, alpha=0.01, beta=0.01, passes=20, iterations=100\n",
      "Training model 4/108 with num_topics=2, alpha=0.01, beta=0.01, passes=20, iterations=200\n",
      "Training model 5/108 with num_topics=2, alpha=0.01, beta=0.1, passes=10, iterations=100\n",
      "Training model 6/108 with num_topics=2, alpha=0.01, beta=0.1, passes=10, iterations=200\n",
      "Training model 7/108 with num_topics=2, alpha=0.01, beta=0.1, passes=20, iterations=100\n",
      "Training model 8/108 with num_topics=2, alpha=0.01, beta=0.1, passes=20, iterations=200\n"
     ]
    }
   ],
   "execution_count": null
  },
  {
   "metadata": {},
   "cell_type": "code",
   "outputs": [],
   "execution_count": null,
   "source": "results_df",
   "id": "64a57c778458e3c6"
  },
  {
   "metadata": {},
   "cell_type": "code",
   "outputs": [],
   "execution_count": null,
   "source": "",
   "id": "2bbcb03c992b042f"
  }
 ],
 "metadata": {
  "kernelspec": {
   "display_name": "Python 3",
   "language": "python",
   "name": "python3"
  },
  "language_info": {
   "codemirror_mode": {
    "name": "ipython",
    "version": 2
   },
   "file_extension": ".py",
   "mimetype": "text/x-python",
   "name": "python",
   "nbconvert_exporter": "python",
   "pygments_lexer": "ipython2",
   "version": "2.7.6"
  }
 },
 "nbformat": 4,
 "nbformat_minor": 5
}
