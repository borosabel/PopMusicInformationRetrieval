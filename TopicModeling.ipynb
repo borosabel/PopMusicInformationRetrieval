{
 "cells": [
  {
   "cell_type": "code",
   "id": "initial_id",
   "metadata": {
    "collapsed": true,
    "ExecuteTime": {
     "end_time": "2024-10-13T10:01:00.524435Z",
     "start_time": "2024-10-13T10:01:00.077449Z"
    }
   },
   "source": [
    "import string\n",
    "import spacy\n",
    "spacy_nlp = spacy.load(\"en_core_web_sm\")\n",
    "import numpy as np\n",
    "from spacy.lang.en.stop_words import STOP_WORDS\n",
    "import utility_functions as utils\n",
    "import importlib\n",
    "import pandas as pd\n",
    "import matplotlib.pyplot as plt\n",
    "\n",
    "# Octis is the library which can use different implemented topic modelling techniques\n",
    "from octis.preprocessing.preprocessing import Preprocessing\n",
    "from octis.evaluation_metrics.coherence_metrics import Coherence\n",
    "from octis.evaluation_metrics.diversity_metrics import TopicDiversity\n",
    "from octis.models.CTM import CTM\n",
    "\n",
    "importlib.reload(utils)\n",
    "\n",
    "data = '/Users/borosabel/Documents/Uni/Thesis/PopMIR/Data/Audio/test.json'"
   ],
   "outputs": [],
   "execution_count": 19
  },
  {
   "metadata": {
    "ExecuteTime": {
     "end_time": "2024-10-13T10:01:01.389968Z",
     "start_time": "2024-10-13T10:01:01.123929Z"
    }
   },
   "cell_type": "code",
   "source": [
    "import nltk\n",
    "nltk.download('punkt')\n",
    "nltk.download('wordnet')\n",
    "nltk.download('averaged_perceptron_tagger')\n",
    "nltk.download('stopwords')"
   ],
   "id": "deb89032d7419e40",
   "outputs": [
    {
     "name": "stderr",
     "output_type": "stream",
     "text": [
      "[nltk_data] Downloading package punkt to /Users/borosabel/nltk_data...\n",
      "[nltk_data]   Package punkt is already up-to-date!\n",
      "[nltk_data] Downloading package wordnet to\n",
      "[nltk_data]     /Users/borosabel/nltk_data...\n",
      "[nltk_data]   Package wordnet is already up-to-date!\n",
      "[nltk_data] Downloading package averaged_perceptron_tagger to\n",
      "[nltk_data]     /Users/borosabel/nltk_data...\n",
      "[nltk_data]   Package averaged_perceptron_tagger is already up-to-\n",
      "[nltk_data]       date!\n",
      "[nltk_data] Downloading package stopwords to\n",
      "[nltk_data]     /Users/borosabel/nltk_data...\n",
      "[nltk_data]   Package stopwords is already up-to-date!\n"
     ]
    },
    {
     "data": {
      "text/plain": [
       "True"
      ]
     },
     "execution_count": 20,
     "metadata": {},
     "output_type": "execute_result"
    }
   ],
   "execution_count": 20
  },
  {
   "metadata": {
    "ExecuteTime": {
     "end_time": "2024-10-13T10:01:05.519845Z",
     "start_time": "2024-10-13T10:01:05.343108Z"
    }
   },
   "cell_type": "code",
   "source": [
    "df = pd.read_excel('/Users/borosabel/Documents/Uni/Thesis/PopMIR/Data/Excel/baseline_data.xlsx', engine='openpyxl')\n",
    "df.head()"
   ],
   "id": "5461f32c955c8fe1",
   "outputs": [
    {
     "data": {
      "text/plain": [
       "  Artist                                Album                       Song  \\\n",
       "0  Big L  Lifestylez Ov Da Poor and Dangerous             8 Iz Enuff.mp3   \n",
       "1  Big L  Lifestylez Ov Da Poor and Dangerous           Da Graveyard.mp3   \n",
       "2  Big L  Lifestylez Ov Da Poor and Dangerous  I Don't Understand It.mp3   \n",
       "3  Big L  Lifestylez Ov Da Poor and Dangerous      No Endz, No Skinz.mp3   \n",
       "4  Big L  Lifestylez Ov Da Poor and Dangerous                    MVP.mp3   \n",
       "\n",
       "        Coast  Release Year      Tempo1     Tempo2  Duration (s)  \\\n",
       "0  east_coast          1995   96.774194  48.000000    298.840000   \n",
       "1  east_coast          1995   93.750000  46.511628    323.760000   \n",
       "2  east_coast          1995   93.750000  47.244094    260.226667   \n",
       "3  east_coast          1995  100.000000  50.420168    208.733333   \n",
       "4  east_coast          1995   86.956522  43.478261    218.866667   \n",
       "\n",
       "   Sample Rate (Hz)                                               Path  \\\n",
       "0             48000  /Users/borosabel/Documents/Uni/Thesis/PopMIR/D...   \n",
       "1             48000  /Users/borosabel/Documents/Uni/Thesis/PopMIR/D...   \n",
       "2             48000  /Users/borosabel/Documents/Uni/Thesis/PopMIR/D...   \n",
       "3             48000  /Users/borosabel/Documents/Uni/Thesis/PopMIR/D...   \n",
       "4             48000  /Users/borosabel/Documents/Uni/Thesis/PopMIR/D...   \n",
       "\n",
       "                                              Lyrics  \n",
       "0  \\n\\nYo\\nMy crew is in the house\\nTerra, Herb M...  \n",
       "1  \\n\\n[Intro:]\\nIt's the number one crew in the ...  \n",
       "2  \\n\\n[Verse 1]\\nThere are too many MC's who are...  \n",
       "3  \\n\\n[Verse 1:]\\nLet me get to the point real q...  \n",
       "4  \\n\\n[Big L]\\n A yo spark up the phillies and p...  "
      ],
      "text/html": [
       "<div>\n",
       "<style scoped>\n",
       "    .dataframe tbody tr th:only-of-type {\n",
       "        vertical-align: middle;\n",
       "    }\n",
       "\n",
       "    .dataframe tbody tr th {\n",
       "        vertical-align: top;\n",
       "    }\n",
       "\n",
       "    .dataframe thead th {\n",
       "        text-align: right;\n",
       "    }\n",
       "</style>\n",
       "<table border=\"1\" class=\"dataframe\">\n",
       "  <thead>\n",
       "    <tr style=\"text-align: right;\">\n",
       "      <th></th>\n",
       "      <th>Artist</th>\n",
       "      <th>Album</th>\n",
       "      <th>Song</th>\n",
       "      <th>Coast</th>\n",
       "      <th>Release Year</th>\n",
       "      <th>Tempo1</th>\n",
       "      <th>Tempo2</th>\n",
       "      <th>Duration (s)</th>\n",
       "      <th>Sample Rate (Hz)</th>\n",
       "      <th>Path</th>\n",
       "      <th>Lyrics</th>\n",
       "    </tr>\n",
       "  </thead>\n",
       "  <tbody>\n",
       "    <tr>\n",
       "      <th>0</th>\n",
       "      <td>Big L</td>\n",
       "      <td>Lifestylez Ov Da Poor and Dangerous</td>\n",
       "      <td>8 Iz Enuff.mp3</td>\n",
       "      <td>east_coast</td>\n",
       "      <td>1995</td>\n",
       "      <td>96.774194</td>\n",
       "      <td>48.000000</td>\n",
       "      <td>298.840000</td>\n",
       "      <td>48000</td>\n",
       "      <td>/Users/borosabel/Documents/Uni/Thesis/PopMIR/D...</td>\n",
       "      <td>\\n\\nYo\\nMy crew is in the house\\nTerra, Herb M...</td>\n",
       "    </tr>\n",
       "    <tr>\n",
       "      <th>1</th>\n",
       "      <td>Big L</td>\n",
       "      <td>Lifestylez Ov Da Poor and Dangerous</td>\n",
       "      <td>Da Graveyard.mp3</td>\n",
       "      <td>east_coast</td>\n",
       "      <td>1995</td>\n",
       "      <td>93.750000</td>\n",
       "      <td>46.511628</td>\n",
       "      <td>323.760000</td>\n",
       "      <td>48000</td>\n",
       "      <td>/Users/borosabel/Documents/Uni/Thesis/PopMIR/D...</td>\n",
       "      <td>\\n\\n[Intro:]\\nIt's the number one crew in the ...</td>\n",
       "    </tr>\n",
       "    <tr>\n",
       "      <th>2</th>\n",
       "      <td>Big L</td>\n",
       "      <td>Lifestylez Ov Da Poor and Dangerous</td>\n",
       "      <td>I Don't Understand It.mp3</td>\n",
       "      <td>east_coast</td>\n",
       "      <td>1995</td>\n",
       "      <td>93.750000</td>\n",
       "      <td>47.244094</td>\n",
       "      <td>260.226667</td>\n",
       "      <td>48000</td>\n",
       "      <td>/Users/borosabel/Documents/Uni/Thesis/PopMIR/D...</td>\n",
       "      <td>\\n\\n[Verse 1]\\nThere are too many MC's who are...</td>\n",
       "    </tr>\n",
       "    <tr>\n",
       "      <th>3</th>\n",
       "      <td>Big L</td>\n",
       "      <td>Lifestylez Ov Da Poor and Dangerous</td>\n",
       "      <td>No Endz, No Skinz.mp3</td>\n",
       "      <td>east_coast</td>\n",
       "      <td>1995</td>\n",
       "      <td>100.000000</td>\n",
       "      <td>50.420168</td>\n",
       "      <td>208.733333</td>\n",
       "      <td>48000</td>\n",
       "      <td>/Users/borosabel/Documents/Uni/Thesis/PopMIR/D...</td>\n",
       "      <td>\\n\\n[Verse 1:]\\nLet me get to the point real q...</td>\n",
       "    </tr>\n",
       "    <tr>\n",
       "      <th>4</th>\n",
       "      <td>Big L</td>\n",
       "      <td>Lifestylez Ov Da Poor and Dangerous</td>\n",
       "      <td>MVP.mp3</td>\n",
       "      <td>east_coast</td>\n",
       "      <td>1995</td>\n",
       "      <td>86.956522</td>\n",
       "      <td>43.478261</td>\n",
       "      <td>218.866667</td>\n",
       "      <td>48000</td>\n",
       "      <td>/Users/borosabel/Documents/Uni/Thesis/PopMIR/D...</td>\n",
       "      <td>\\n\\n[Big L]\\n A yo spark up the phillies and p...</td>\n",
       "    </tr>\n",
       "  </tbody>\n",
       "</table>\n",
       "</div>"
      ]
     },
     "execution_count": 21,
     "metadata": {},
     "output_type": "execute_result"
    }
   ],
   "execution_count": 21
  },
  {
   "metadata": {
    "ExecuteTime": {
     "end_time": "2024-10-12T16:53:32.327151Z",
     "start_time": "2024-10-12T16:51:31.329773Z"
    }
   },
   "cell_type": "code",
   "source": [
    "print(f\"Example lyrics before cleanup for {df['Lyrics'].iloc[0]}\")\n",
    "df['Lyrics'] = df['Lyrics'].apply(utils.cleanup)\n",
    "print(f\"Example lyrics after cleanup for {df['Lyrics'].iloc[0]}\")"
   ],
   "id": "c03b3ad0f15a093a",
   "outputs": [
    {
     "name": "stdout",
     "output_type": "stream",
     "text": [
      "Example lyrics before cleanup for \n",
      "\n",
      "Yo\n",
      "My crew is in the house\n",
      "Terra, Herb McGruff, Buddah Bless\n",
      "Big Twan, Killa Cam, Trooper J, and Mike Boogie\n",
      "And I'mma set it like this\n",
      "\n",
      "[Verse 1: Big L]\n",
      "Aiyo, folks who quote what I wrote get choked\n",
      "You better surrender before you get smoked\n",
      "You niggas be thinkin this kid is a joke?\n",
      "I put chumps to rest fast, when my Smith-Wes' blast\n",
      "So just dash or trespass and get your chest smashed\n",
      "Rap New York rules, I sport jewels and extort crews\n",
      "Don't get me pissed, I got a short fuse\n",
      "I go bezerk when I put in work or do dirt, jerk\n",
      "So stay alert, no smirk, cause these knuckles hurt\n",
      "I'm from the alley, not the valley\n",
      "I'm hotter than Cali, wicked like Harry\n",
      "And fuck Sally, I rather marry Halle\n",
      "I revive crowds with live styles\n",
      "Don't hang with jive pals\n",
      "Adios, ghost, I'm 5 thous'\n",
      "\n",
      "[Verse 2: Terra]\n",
      "Well, I'm flave, and I was down with the crime wave\n",
      "Now it's time saved, yo, cause now I'm a rhyme slave\n",
      "In '87 I sold cracks, collected some dough stacks\n",
      "Hold gats, a joker got his soul taxed\n",
      "Innovated, rappers you know who made it\n",
      "Tell the Terra to rotate it, his raps are gold-plated\n",
      "This nigga Terra is past butter, sharp like a glass cutter\n",
      "Ass brother, I leave your rhyme trash gutter\n",
      "I'm more rare, the MC in this warfare\n",
      "Put you in a morgue where it's too late for that Lord prayer\n",
      "Power struck, Terra drops the follow-up\n",
      "Sour luck, niggas gotten props to swallow nuts\n",
      "\n",
      "[Verse 3: Herb McGruff]\n",
      "For those that don't know, yo, I'm Herb McGruff\n",
      "I'm on some murder stuff\n",
      "And when I talk every verb is rough\n",
      "Front on this and get beat bad\n",
      "With big bats that bruise, break bones\n",
      "Then wind up bloody in a bodybag\n",
      "MC's are live, but I'm mad liver\n",
      "Aiyo, my rhymes are more funky than a African cab driver\n",
      "Step to this and get sliced with ease\n",
      "Ate up like rice and peas\n",
      "(Herb, can you fight?) Yo, I'm nice with these\n",
      "Ask the nigga in my last bout\n",
      "He thought I just was on some gun shit, I had to knock his ass out\n",
      "Microphones I gotta tear\n",
      "Peace to Big L, straight from hell\n",
      "I'm the fuck up outta here\n",
      "\n",
      "[Verse 4: Buddah Bless]\n",
      "Aiyo, it's time to get drastic, but God bless the fantastic\n",
      "Herb passed it, now I melt the mic like it's plastic\n",
      "I rag crews cause I'm bad news\n",
      "In a mad mood I'm serving brothers quicker than fast food\n",
      "Step to this and get your body blown\n",
      "Cause I'm no maricon, for poems I slide the hotties home\n",
      "Here's some advice, I'm mad nice\n",
      "Aiyo, I'm quick to lick the mag twice\n",
      "And cold take a fag's life\n",
      "My swellin melon got niggas jealin\n",
      "Aiyo, fuck bribes, I'm takin niggas lives like a felon\n",
      "\n",
      "[Verse 5: Big Twan]\n",
      "Yo, I bust chumps like a Glock 10, when I drops in\n",
      "The top ten is rocked when it's locked in\n",
      "I just abuse the flow, don't need a fuse to blow\n",
      "Bruise the groove slow, when I rhyme I just kill the show\n",
      "I got lines that's deeper than a jail bid\n",
      "Been no frail, kids get nailed and read braille when they fail\n",
      "Yeah, ain't I nasty, too nasty to trash me\n",
      "Bash me, aiyo, that's dead, so don't ask me\n",
      "You'd get bumped off if beef ever jumped off\n",
      "I never come soft, I gotta pump that sawed-off\n",
      "And when I let slugs out, you will get rubbed out\n",
      "For dissin, you come up missing like a cub scout\n",
      "\n",
      "[Verse 6: Killa Kam - Cam'Ron]\n",
      "Rappers be funny like Fletch, cause they sections say they slaughter, son\n",
      "Talk about nines and tecs, and never shot a watergun\n",
      "But Killa Kam, I get erratic when it comes to static\n",
      "There you have it, a trigger fanatic with a automatic\n",
      "Increase the peace that cease cause once I release\n",
      "My crew from the east, we leavin at least\n",
      "20 police deceased, it's the beast on attack\n",
      "So make tracks, I break backs\n",
      "I jack with def gats and black macs\n",
      "On Lenox Ave. ain't no light looks, you fight crooks\n",
      "Left and right hooks, if you front, get your life took\n",
      "\n",
      "[Verse 7: Trooper J]\n",
      "I'm havin nail-sharp pains in my brain like a hellraiser\n",
      "I'm blazin trails from jail cells, so a trailblazer\n",
      "Who find crime and fill the nine with nothin but lead\n",
      "Boom-bye-bye, dem find another batty bwoy dead\n",
      "In backyard alleys, but I call em crackyard valleys\n",
      "And I pack more rallies than riots back in Cali\n",
      "And people wanna know the reason why I blow my fuse\n",
      "I'm in a daze and I'm so confused\n",
      "From seein heads shake so many times the lead make\n",
      "And Mike Boogie's next up, and keep my head straight\n",
      "\n",
      "[Verse 8: Mike Boogie]\n",
      "I should never rhyme cause every time I step into a contest\n",
      "Kids evacuate the premises like it's a bomb threat\n",
      "Cause they know when I start droppin' poems\n",
      "That I be knockin' domes, poppin' bones and sendin' niggas hoppin' home\n",
      "Word to God, it's kinda hard for a fag to touch this\n",
      "So if you're come to see me, nigga, bring a cast and crutches\n",
      "And niggas, I dont' need a gun for you, none of you\n",
      "Cause I can kill you dead with the lead from my Number 2\n",
      "And it's death in every paragraph\n",
      "And niggas learn when I burn their muthafuckin' ass to ash\n",
      "No need to question am I nice, cause it's a fact, friend\n",
      "I shoot the gift like Santa Claus with a Mac-10\n",
      "And niggas ain't half as nice, so they get sacrificed\n",
      "And sent to the afterlife, they ain't no match for Mike\n",
      "Now I'm bout to skate in a rush, just finished makin' it tough\n",
      "Peace to Big L, ayo, 8 is enough\n",
      "\n",
      "[Outro: Big L]\n",
      "True, true\n",
      "And before I get up outta here\n",
      "I gotta say peace to D-Whiz and Short Man\n",
      "Brothers that was there since the beginning\n",
      "What's up to Rock-N-Will from the Hard Pack Crew\n",
      "Peace to Mase Murder and the B.B.O. Crew\n",
      "The Best Out Crew, the M&M Crew\n",
      "And all the other crews that's representin in Harlem\n",
      "You know what I'm sayin?\n",
      "And last but not least\n",
      "I gotta say peace to the 139th Street NFL Crew\n",
      "My crew\n",
      "Word up\n",
      "\n",
      "Example lyrics after cleanup for yeah my crew be in the house terra herb mcgruff buddah bless big twan killa cam trooper j and mike boogie and i'mma set it like this aiyeah folk who quote what I write get choke yeah well surrender before yeah get smoke yeah nigga be thinkin this kid be a joke I put chump to rest fast when my smith wes ' blast so just dash or trespass and get yeah chest smash rap new yeahk rule I sport jewel and extort crew do not get I piss I get a short fuse I go bezerk when I put in work or do dirt jerk so stay alert no smirk cause these knuckle hurt I be from the alley not the valley I be hot than cali wicked like harry and fuck sally I rather marry halle I revive crowd with live style do not hang with jive pal adio ghost I be 5 thous ' well I be flave and I be down with the crime wave now it be time save yeah cause now I be a rhyme slave in ' 87 I sell crack collect some dough stack hold gat a joker get his soul tax innovated rapper yeah know who make it tell the terra to rotate it his rap be gold plate this nigga terra be past butter sharp like a glass cutter ass brother I leave yeah rhyme trash gutter I be more rare the mc in this warfare put yeah in a morgue where it be too late for that lord prayer power strike terra drop the follow up sour luck nigga get prop to swallow nut for those that do not know yeah I be herb mcgruff I be on some murder stuff and when I talk every verb be rough front on this and get beat bad with big bat that bruise break bone then wind up bloody in a bodybag mc 's be live but I be mad liver aiyeah my rhyme be more funky than a african cab driver step to this and get slice with ease eat up like rice and pea yeah I be nice with these ask the nigga in my last bout he think I just be on some gun shit I have to knock his ass out microphone I get to tear peace to big l straight from hell I be the fuck up outta here aiyeah it be time to get drastic but god bless the fantastic herb pass it now I melt the mic like it be plastic I rag crew cause I be bad news in a mad mood I be serve brother quick than fast food step to this and get yeah body blow cause I be no maricon for poem I slide the hottie home here be some advice I be mad nice aiyeah I be quick to lick the mag twice and cold take a fag 's life my swellin melon get nigga jealin aiyeah fuck bribe I be takin nigga live like a felon yeah I bust chump like a glock 10 when I drop in the top ten be rock when it be lock in I just abuse the flow do not need a fuse to blow bruise the groove slow when I rhyme I just kill the show I get line that be deep than a jail bid be no frail kid get nail and read braille when they fail yeah be not I nasty too nasty to trash I bash I aiyeah that be dead so do not ask I yeah'd get bump off if beef ever jump off I never come soft I get to pump that saw off and when I let slug out yeah will get rub out for dissin yeah come up miss like a cub scout rapper be funny like fletch cause they section say they slaughter son talk about nine and tecs and never shoot a watergun but killa kam I get erratic when it come to static there yeah have it a trigger fanatic with a automatic increase the peace that cease cause once I release my crew from the east we leavin at least 20 police decease it be the beast on attack so make track I break back I jack with def gat and black mac on lenox ave be not no light look yeah fight crook leave and right hook if yeah front get yeah life take I be havin nail sharp pain in my brain like a hellraiser I be blazin trail from jail cell so a trailblazer who find crime and fill the nine with nothin but lead boom bye bye dem find another batty bwoy dead in backyeahd alley but I call em crackyeahd valley and I pack more rally than riot back in cali and people wanna know the reason why I blow my fuse I be in a daze and I be so confused from seein head shake so many time the lead make and mike boogie 's next up and keep my head straight I should never rhyme cause every time I step into a contest kid evacuate the premise like it be a bomb threat cause they know when I start droppin ' poem that I be knockin ' dome poppin ' bone and sendin ' nigga hoppin ' home word to god it be kinda hard for a fag to touch this so if yeah're come to see I nigga bring a cast and crutch and nigga I do not ' need a gun for yeah none of yeah cause I can kill yeah dead with the lead from my number 2 and it be death in every paragraph and nigga learn when I burn their muthafuckin ' ass to ash no need to question be I nice cause it be a fact friend I shoot the gift like santa claus with a mac 10 and nigga be not half as nice so they get sacrifice and send to the afterlife they be not no match for mike now I be bout to skate in a rush just finish makin ' it tough peace to big l ayeah 8 be enough true true and before I get up outta here I get to say peace to d whiz and short man brother that be there since the beginning what be up to rock n will from the hard pack crew peace to mase murder and the b b o crew the good out crew the m&m crew and all the other crew that be representin in harlem yeah know what I be sayin and last but not least I get to say peace to the 139th street nfl crew my crew word up\n"
     ]
    }
   ],
   "execution_count": 6
  },
  {
   "metadata": {},
   "cell_type": "code",
   "outputs": [],
   "execution_count": null,
   "source": "'''Example lyrics after cleanup for yeah my crew be in the house terra herb mcgruff buddah bless big twan killa cam trooper j and mike boogie and i'mma set it like this aiyeah folk who quote what I write get choke yeah well surrender before yeah get smoke yeah nigga be thinkin this kid be a joke I put chump to rest fast when my smith wes ' blast so just dash or trespass and get yeah chest smash rap new yeahk rule I sport jewel and extort crew do not get I piss I get a short fuse I go bezerk when I put in work or do dirt jerk so stay alert no smirk cause these knuckle hurt I be from the alley not the valley I be hot than cali wicked like harry and fuck sally I rather marry halle I revive crowd with live style do not hang with jive pal adio ghost I be 5 thous ' well I be flave and I be down with the crime wave now it be time save yeah cause now I be a rhyme slave in ' 87 I sell crack collect some dough stack hold gat a joker get his soul tax innovated rapper yeah know who make it tell the terra to rotate it his rap be gold plate this nigga terra be past butter sharp like a glass cutter ass brother I leave yeah rhyme trash gutter I be more rare the mc in this warfare put yeah in a morgue where it be too late for that lord prayer power strike terra drop the follow up sour luck nigga get prop to swallow nut for those that do not know yeah I be herb mcgruff I be on some murder stuff and when I talk every verb be rough front on this and get beat bad with big bat that bruise break bone then wind up bloody in a bodybag mc 's be live but I be mad liver aiyeah my rhyme be more funky than a african cab driver step to this and get slice with ease eat up like rice and pea yeah I be nice with these ask the nigga in my last bout he think I just be on some gun shit I have to knock his ass out microphone I get to tear peace to big l straight from hell I be the fuck up outta here aiyeah it be time to get drastic but god bless the fantastic herb pass it now I melt the mic like it be plastic I rag crew cause I be bad news in a mad mood I be serve brother quick than fast food step to this and get yeah body blow cause I be no maricon for poem I slide the hottie home here be some advice I be mad nice aiyeah I be quick to lick the mag twice and cold take a fag 's life my swellin melon get nigga jealin aiyeah fuck bribe I be takin nigga live like a felon yeah I bust chump like a glock 10 when I drop in the top ten be rock when it be lock in I just abuse the flow do not need a fuse to blow bruise the groove slow when I rhyme I just kill the show I get line that be deep than a jail bid be no frail kid get nail and read braille when they fail yeah be not I nasty too nasty to trash I bash I aiyeah that be dead so do not ask I yeah'd get bump off if beef ever jump off I never come soft I get to pump that saw off and when I let slug out yeah will get rub out for dissin yeah come up miss like a cub scout rapper be funny like fletch cause they section say they slaughter son talk about nine and tecs and never shoot a watergun but killa kam I get erratic when it come to static there yeah have it a trigger fanatic with a automatic increase the peace that cease cause once I release my crew from the east we leavin at least 20 police decease it be the beast on attack so make track I break back I jack with def gat and black mac on lenox ave be not no light look yeah fight crook leave and right hook if yeah front get yeah life take I be havin nail sharp pain in my brain like a hellraiser I be blazin trail from jail cell so a trailblazer who find crime and fill the nine with nothin but lead boom bye bye dem find another batty bwoy dead in backyeahd alley but I call em crackyeahd valley and I pack more rally than riot back in cali and people wanna know the reason why I blow my fuse I be in a daze and I be so confused from seein head shake so many time the lead make and mike boogie 's next up and keep my head straight I should never rhyme cause every time I step into a contest kid evacuate the premise like it be a bomb threat cause they know when I start droppin ' poem that I be knockin ' dome poppin ' bone and sendin ' nigga hoppin ' home word to god it be kinda hard for a fag to touch this so if yeah're come to see I nigga bring a cast and crutch and nigga I do not ' need a gun for yeah none of yeah cause I can kill yeah dead with the lead from my number 2 and it be death in every paragraph and nigga learn when I burn their muthafuckin ' ass to ash no need to question be I nice cause it be a fact friend I shoot the gift like santa claus with a mac 10 and nigga be not half as nice so they get sacrifice and send to the afterlife they be not no match for mike now I be bout to skate in a rush just finish makin ' it tough peace to big l ayeah 8 be enough true true and before I get up outta here I get to say peace to d whiz and short man brother that be there since the beginning what be up to rock n will from the hard pack crew peace to mase murder and the b b o crew the good out crew the m&m crew and all the other crew that be representin in harlem yeah know what I be sayin and last but not least I get to say peace to the 139th street nfl crew my crew word up'''",
   "id": "eff13d59b95ed2b1"
  },
  {
   "metadata": {
    "ExecuteTime": {
     "end_time": "2024-10-13T10:01:31.595408Z",
     "start_time": "2024-10-13T10:01:17.290898Z"
    }
   },
   "cell_type": "code",
   "source": [
    "# print(f\"Example lyrics before cleanup for {df['Lyrics'].iloc[0]}\")\n",
    "df['Lyrics'] = df['Lyrics'].apply(utils.cleanup)\n",
    "print(f\"Example lyrics after cleanup for {df['Lyrics'].iloc[0]}\")"
   ],
   "id": "86f4f64d9a602013",
   "outputs": [
    {
     "name": "stdout",
     "output_type": "stream",
     "text": [
      "Example lyrics after cleanup for crew house terra herb mcgruff buddah bless big twan killa cam trooper j mike boogie imma set aiyo folk quote write get choke well surrender get smoke niggas thinkin kid joke put chump rest fast smith wes blast dash trespass get chest smash rap new york rule sport jewel extort crew get piss get short fuse go bezerk put work dirt jerk stay alert smirk knuckle hurt alley valley hotter cali wicked harry fuck sally rather marry halle revive crowd live style hang jive pal adios ghost 5 thous well flave crime wave time save rhyme slave 87 sell crack collect dough stack hold gat joker get soul taxed innovated rapper know make tell terra rotate rap gold plat nigga terra past butter sharp glass cutter as brother leave rhyme trash gutter rare mc warfare put morgue late lord prayer power strike terra drop follow sour luck nigga get prop swallow nut know herb mcgruff murder stuff talk every verb rough front get beat bad big bat bruise break bone wind bloody bodybag mc live mad liver aiyo rhyme funky african cab driver step get sliced ease ate rice peas nice ask nigga last bout think gun shit knock as microphone get tear peace big l straight hell fuck aiyo time get drastic god bless fantastic herb pass melt mic plastic rag crew bad news mad mood serve brother quicker fast food step get body blown maricon poem slide hotties home advice mad nice aiyo quick lick mag twice cold take fag life swellin melon get niggas jealin aiyo fuck bribe takin niggas life felon bust chump glock 10 drop top ten rock locked abuse flow need fuse blow bruise groove slow rhyme kill show get line deep jail bid frail kid get nail read braille fail nasty nasty trash bash aiyo dead ask would get bump beef ever jump never come soft get pump saw let slug get rub dissin come miss cub scout rapper funny fletch section say slaughter son talk nine tecs never shoot watergun killa kam get erratic come static trigger fanatic automatic increase peace cease release crew east leavin least 20 police decease beast attack make track break back jack def gat black mac lenox ave light look fight crook leave right hook front get life take havin nail sharp pain brain hellraiser blazin trail jail cell trailblazer find crime fill nine nothin lead boom bye bye dem find another batty bwoy dead backyard alley call crackyard valley pack rally riot back cali people want know reason blow fuse daze confuse seein head shake many time lead make mike boogie next keep head straight never rhyme every time step contest kid evacuate premise bomb threat know start droppin poem knockin dome poppin bone sendin niggas hoppin home word god kind hard fag touch come see nigga bring cast crutch niggas need gun none kill dead lead number 2 death every paragraph nigga learn burn muthafuckin as ash need question nice fact friend shoot gift santa claus mac 10 niggas half nice get sacrifice sent afterlife match mike bout skate rush finish makin tough peace big l ayo 8 enough true true get get say peace whiz short man brother since begin rock n hard pack crew peace mase murder b b crew best crew mm crew crew representin harlem know sayin last least get say peace 139th street nfl crew crew word\n"
     ]
    }
   ],
   "execution_count": 22
  },
  {
   "metadata": {
    "ExecuteTime": {
     "end_time": "2024-10-13T10:02:22.093234Z",
     "start_time": "2024-10-13T10:02:22.084137Z"
    }
   },
   "cell_type": "code",
   "source": [
    "with open('corpus.tsv', 'w', encoding='utf-8') as file:\n",
    "    for lyrics in df['Lyrics']:\n",
    "        if pd.notna(lyrics):\n",
    "            file.write(lyrics + '\\n')"
   ],
   "id": "3036e9f9aa704ea5",
   "outputs": [],
   "execution_count": 23
  },
  {
   "metadata": {},
   "cell_type": "code",
   "outputs": [],
   "execution_count": null,
   "source": "",
   "id": "6b7421d995601309"
  }
 ],
 "metadata": {
  "kernelspec": {
   "display_name": "Python 3",
   "language": "python",
   "name": "python3"
  },
  "language_info": {
   "codemirror_mode": {
    "name": "ipython",
    "version": 2
   },
   "file_extension": ".py",
   "mimetype": "text/x-python",
   "name": "python",
   "nbconvert_exporter": "python",
   "pygments_lexer": "ipython2",
   "version": "2.7.6"
  }
 },
 "nbformat": 4,
 "nbformat_minor": 5
}
