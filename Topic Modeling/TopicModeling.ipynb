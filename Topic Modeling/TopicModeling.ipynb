{
 "cells": [
  {
   "cell_type": "code",
   "id": "initial_id",
   "metadata": {
    "collapsed": true,
    "ExecuteTime": {
     "end_time": "2024-10-13T10:01:00.524435Z",
     "start_time": "2024-10-13T10:01:00.077449Z"
    }
   },
   "source": [
    "\n",
    "import spacy\n",
    "spacy_nlp = spacy.load(\"en_core_web_sm\")\n",
    "from PopMusicInformationRetrieval import utility_functions as utils\n",
    "import importlib\n",
    "import pandas as pd\n",
    "\n",
    "# Octis is the library which can use different implemented topic modelling techniques\n",
    "\n",
    "importlib.reload(utils)\n",
    "\n",
    "data = '/Users/borosabel/Documents/Uni/Thesis/PopMIR/Data/Audio/test.json'"
   ],
   "execution_count": 19,
   "outputs": []
  },
  {
   "metadata": {
    "ExecuteTime": {
     "end_time": "2024-10-13T10:01:01.389968Z",
     "start_time": "2024-10-13T10:01:01.123929Z"
    }
   },
   "cell_type": "code",
   "source": [
    "import nltk\n",
    "nltk.download('punkt')\n",
    "nltk.download('wordnet')\n",
    "nltk.download('averaged_perceptron_tagger')\n",
    "nltk.download('stopwords')"
   ],
   "id": "deb89032d7419e40",
   "execution_count": 20,
   "outputs": []
  },
  {
   "metadata": {
    "ExecuteTime": {
     "end_time": "2024-10-13T10:01:05.519845Z",
     "start_time": "2024-10-13T10:01:05.343108Z"
    }
   },
   "cell_type": "code",
   "source": [
    "df = pd.read_excel('/Users/borosabel/Documents/Uni/Thesis/PopMIR/Data/Excel/baseline_data.xlsx', engine='openpyxl')\n",
    "df.head()"
   ],
   "id": "5461f32c955c8fe1",
   "execution_count": 21,
   "outputs": []
  },
  {
   "metadata": {
    "ExecuteTime": {
     "end_time": "2024-10-12T16:53:32.327151Z",
     "start_time": "2024-10-12T16:51:31.329773Z"
    }
   },
   "cell_type": "code",
   "source": [
    "print(f\"Example lyrics before cleanup for {df['Lyrics'].iloc[0]}\")\n",
    "df['Lyrics'] = df['Lyrics'].apply(utils.cleanup)\n",
    "print(f\"Example lyrics after cleanup for {df['Lyrics'].iloc[0]}\")"
   ],
   "id": "c03b3ad0f15a093a",
   "execution_count": 6,
   "outputs": []
  },
  {
   "metadata": {},
   "cell_type": "code",
   "execution_count": null,
   "source": "'''Example lyrics after cleanup for yeah my crew be in the house terra herb mcgruff buddah bless big twan killa cam trooper j and mike boogie and i'mma set it like this aiyeah folk who quote what I write get choke yeah well surrender before yeah get smoke yeah nigga be thinkin this kid be a joke I put chump to rest fast when my smith wes ' blast so just dash or trespass and get yeah chest smash rap new yeahk rule I sport jewel and extort crew do not get I piss I get a short fuse I go bezerk when I put in work or do dirt jerk so stay alert no smirk cause these knuckle hurt I be from the alley not the valley I be hot than cali wicked like harry and fuck sally I rather marry halle I revive crowd with live style do not hang with jive pal adio ghost I be 5 thous ' well I be flave and I be down with the crime wave now it be time save yeah cause now I be a rhyme slave in ' 87 I sell crack collect some dough stack hold gat a joker get his soul tax innovated rapper yeah know who make it tell the terra to rotate it his rap be gold plate this nigga terra be past butter sharp like a glass cutter ass brother I leave yeah rhyme trash gutter I be more rare the mc in this warfare put yeah in a morgue where it be too late for that lord prayer power strike terra drop the follow up sour luck nigga get prop to swallow nut for those that do not know yeah I be herb mcgruff I be on some murder stuff and when I talk every verb be rough front on this and get beat bad with big bat that bruise break bone then wind up bloody in a bodybag mc 's be live but I be mad liver aiyeah my rhyme be more funky than a african cab driver step to this and get slice with ease eat up like rice and pea yeah I be nice with these ask the nigga in my last bout he think I just be on some gun shit I have to knock his ass out microphone I get to tear peace to big l straight from hell I be the fuck up outta here aiyeah it be time to get drastic but god bless the fantastic herb pass it now I melt the mic like it be plastic I rag crew cause I be bad news in a mad mood I be serve brother quick than fast food step to this and get yeah body blow cause I be no maricon for poem I slide the hottie home here be some advice I be mad nice aiyeah I be quick to lick the mag twice and cold take a fag 's life my swellin melon get nigga jealin aiyeah fuck bribe I be takin nigga live like a felon yeah I bust chump like a glock 10 when I drop in the top ten be rock when it be lock in I just abuse the flow do not need a fuse to blow bruise the groove slow when I rhyme I just kill the show I get line that be deep than a jail bid be no frail kid get nail and read braille when they fail yeah be not I nasty too nasty to trash I bash I aiyeah that be dead so do not ask I yeah'd get bump off if beef ever jump off I never come soft I get to pump that saw off and when I let slug out yeah will get rub out for dissin yeah come up miss like a cub scout rapper be funny like fletch cause they section say they slaughter son talk about nine and tecs and never shoot a watergun but killa kam I get erratic when it come to static there yeah have it a trigger fanatic with a automatic increase the peace that cease cause once I release my crew from the east we leavin at least 20 police decease it be the beast on attack so make track I break back I jack with def gat and black mac on lenox ave be not no light look yeah fight crook leave and right hook if yeah front get yeah life take I be havin nail sharp pain in my brain like a hellraiser I be blazin trail from jail cell so a trailblazer who find crime and fill the nine with nothin but lead boom bye bye dem find another batty bwoy dead in backyeahd alley but I call em crackyeahd valley and I pack more rally than riot back in cali and people wanna know the reason why I blow my fuse I be in a daze and I be so confused from seein head shake so many time the lead make and mike boogie 's next up and keep my head straight I should never rhyme cause every time I step into a contest kid evacuate the premise like it be a bomb threat cause they know when I start droppin ' poem that I be knockin ' dome poppin ' bone and sendin ' nigga hoppin ' home word to god it be kinda hard for a fag to touch this so if yeah're come to see I nigga bring a cast and crutch and nigga I do not ' need a gun for yeah none of yeah cause I can kill yeah dead with the lead from my number 2 and it be death in every paragraph and nigga learn when I burn their muthafuckin ' ass to ash no need to question be I nice cause it be a fact friend I shoot the gift like santa claus with a mac 10 and nigga be not half as nice so they get sacrifice and send to the afterlife they be not no match for mike now I be bout to skate in a rush just finish makin ' it tough peace to big l ayeah 8 be enough true true and before I get up outta here I get to say peace to d whiz and short man brother that be there since the beginning what be up to rock n will from the hard pack crew peace to mase murder and the b b o crew the good out crew the m&m crew and all the other crew that be representin in harlem yeah know what I be sayin and last but not least I get to say peace to the 139th street nfl crew my crew word up'''",
   "id": "eff13d59b95ed2b1",
   "outputs": []
  },
  {
   "metadata": {
    "ExecuteTime": {
     "end_time": "2024-10-13T10:01:31.595408Z",
     "start_time": "2024-10-13T10:01:17.290898Z"
    }
   },
   "cell_type": "code",
   "source": [
    "# print(f\"Example lyrics before cleanup for {df['Lyrics'].iloc[0]}\")\n",
    "df['Lyrics'] = df['Lyrics'].apply(utils.cleanup)\n",
    "print(f\"Example lyrics after cleanup for {df['Lyrics'].iloc[0]}\")"
   ],
   "id": "86f4f64d9a602013",
   "execution_count": 22,
   "outputs": []
  },
  {
   "metadata": {
    "ExecuteTime": {
     "end_time": "2024-10-13T10:02:22.093234Z",
     "start_time": "2024-10-13T10:02:22.084137Z"
    }
   },
   "cell_type": "code",
   "source": [
    "with open('corpus.tsv', 'w', encoding='utf-8') as file:\n",
    "    for lyrics in df['Lyrics']:\n",
    "        if pd.notna(lyrics):\n",
    "            file.write(lyrics + '\\n')"
   ],
   "id": "3036e9f9aa704ea5",
   "execution_count": 23,
   "outputs": []
  },
  {
   "metadata": {},
   "cell_type": "code",
   "execution_count": null,
   "source": "",
   "id": "6b7421d995601309",
   "outputs": []
  }
 ],
 "metadata": {
  "kernelspec": {
   "display_name": "Python 3",
   "language": "python",
   "name": "python3"
  },
  "language_info": {
   "codemirror_mode": {
    "name": "ipython",
    "version": 2
   },
   "file_extension": ".py",
   "mimetype": "text/x-python",
   "name": "python",
   "nbconvert_exporter": "python",
   "pygments_lexer": "ipython2",
   "version": "2.7.6"
  }
 },
 "nbformat": 4,
 "nbformat_minor": 5
}
