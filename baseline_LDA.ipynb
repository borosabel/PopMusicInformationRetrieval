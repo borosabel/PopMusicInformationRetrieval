{
 "cells": [
  {
   "metadata": {
    "ExecuteTime": {
     "end_time": "2024-10-14T20:15:11.277484Z",
     "start_time": "2024-10-14T20:15:11.249658Z"
    }
   },
   "cell_type": "code",
   "source": [
    "import warnings\n",
    "from urllib3.exceptions import NotOpenSSLWarning\n",
    "\n",
    "warnings.filterwarnings(\"ignore\", category=NotOpenSSLWarning)"
   ],
   "id": "fc3f3b3bd294dd6b",
   "outputs": [
    {
     "name": "stderr",
     "output_type": "stream",
     "text": [
      "/Users/borosabel/lib/python3.9/site-packages/urllib3/__init__.py:35: NotOpenSSLWarning: urllib3 v2 only supports OpenSSL 1.1.1+, currently the 'ssl' module is compiled with 'LibreSSL 2.8.3'. See: https://github.com/urllib3/urllib3/issues/3020\n",
      "  warnings.warn(\n"
     ]
    }
   ],
   "execution_count": 1
  },
  {
   "cell_type": "code",
   "id": "initial_id",
   "metadata": {
    "collapsed": true,
    "ExecuteTime": {
     "end_time": "2024-10-14T20:15:14.754220Z",
     "start_time": "2024-10-14T20:15:11.278687Z"
    }
   },
   "source": [
    "import spacy\n",
    "spacy_nlp = spacy.load(\"en_core_web_sm\")\n",
    "import utility_functions as utils\n",
    "import importlib\n",
    "import pandas as pd\n",
    "import seaborn as sns\n",
    "\n",
    "# Text processing\n",
    "from gensim import corpora\n",
    "\n",
    "# Visualization\n",
    "import pyLDAvis\n",
    "import pyLDAvis.gensim_models as gensimvis\n",
    "import matplotlib.pyplot as plt\n",
    "from tqdm import tqdm\n",
    "from gensim import models\n",
    "from gensim.models.coherencemodel import CoherenceModel\n",
    "\n",
    "importlib.reload(utils)\n",
    "\n",
    "data = './preprocessed_df.pkl'"
   ],
   "outputs": [],
   "execution_count": 2
  },
  {
   "metadata": {
    "ExecuteTime": {
     "end_time": "2024-10-14T20:15:14.793865Z",
     "start_time": "2024-10-14T20:15:14.755108Z"
    }
   },
   "cell_type": "code",
   "source": [
    "df = pd.read_pickle(data)\n",
    "df[['Artist', 'Song', 'Tokens', 'Lyrics', 'Coast']].head()"
   ],
   "id": "f2660c040bd72de1",
   "outputs": [
    {
     "data": {
      "text/plain": [
       "  Artist                       Song  \\\n",
       "0  Big L             8 Iz Enuff.mp3   \n",
       "1  Big L           Da Graveyard.mp3   \n",
       "2  Big L  I Don't Understand It.mp3   \n",
       "3  Big L      No Endz, No Skinz.mp3   \n",
       "4  Big L                    MVP.mp3   \n",
       "\n",
       "                                              Tokens  \\\n",
       "0  [crew, house, terra, herb, mcgruff, buddah, bl...   \n",
       "1  [number, one, crew, area, big, lightin, nigga,...   \n",
       "2  [many, mc, overrate, ask, even, suppose, make,...   \n",
       "3  [let, get, point, real, quick, pocket, thick, ...   \n",
       "4  [spark, phillies, pass, stout, making, quick, ...   \n",
       "\n",
       "                                              Lyrics       Coast  \n",
       "0  crew house terra herb mcgruff buddah bless big...  east_coast  \n",
       "1  number one crew area big lightin nigga incense...  east_coast  \n",
       "2  many mc overrate ask even suppose make rap biz...  east_coast  \n",
       "3  let get point real quick pocket thick mad chic...  east_coast  \n",
       "4  spark phillies pass stout making quick money g...  east_coast  "
      ],
      "text/html": [
       "<div>\n",
       "<style scoped>\n",
       "    .dataframe tbody tr th:only-of-type {\n",
       "        vertical-align: middle;\n",
       "    }\n",
       "\n",
       "    .dataframe tbody tr th {\n",
       "        vertical-align: top;\n",
       "    }\n",
       "\n",
       "    .dataframe thead th {\n",
       "        text-align: right;\n",
       "    }\n",
       "</style>\n",
       "<table border=\"1\" class=\"dataframe\">\n",
       "  <thead>\n",
       "    <tr style=\"text-align: right;\">\n",
       "      <th></th>\n",
       "      <th>Artist</th>\n",
       "      <th>Song</th>\n",
       "      <th>Tokens</th>\n",
       "      <th>Lyrics</th>\n",
       "      <th>Coast</th>\n",
       "    </tr>\n",
       "  </thead>\n",
       "  <tbody>\n",
       "    <tr>\n",
       "      <th>0</th>\n",
       "      <td>Big L</td>\n",
       "      <td>8 Iz Enuff.mp3</td>\n",
       "      <td>[crew, house, terra, herb, mcgruff, buddah, bl...</td>\n",
       "      <td>crew house terra herb mcgruff buddah bless big...</td>\n",
       "      <td>east_coast</td>\n",
       "    </tr>\n",
       "    <tr>\n",
       "      <th>1</th>\n",
       "      <td>Big L</td>\n",
       "      <td>Da Graveyard.mp3</td>\n",
       "      <td>[number, one, crew, area, big, lightin, nigga,...</td>\n",
       "      <td>number one crew area big lightin nigga incense...</td>\n",
       "      <td>east_coast</td>\n",
       "    </tr>\n",
       "    <tr>\n",
       "      <th>2</th>\n",
       "      <td>Big L</td>\n",
       "      <td>I Don't Understand It.mp3</td>\n",
       "      <td>[many, mc, overrate, ask, even, suppose, make,...</td>\n",
       "      <td>many mc overrate ask even suppose make rap biz...</td>\n",
       "      <td>east_coast</td>\n",
       "    </tr>\n",
       "    <tr>\n",
       "      <th>3</th>\n",
       "      <td>Big L</td>\n",
       "      <td>No Endz, No Skinz.mp3</td>\n",
       "      <td>[let, get, point, real, quick, pocket, thick, ...</td>\n",
       "      <td>let get point real quick pocket thick mad chic...</td>\n",
       "      <td>east_coast</td>\n",
       "    </tr>\n",
       "    <tr>\n",
       "      <th>4</th>\n",
       "      <td>Big L</td>\n",
       "      <td>MVP.mp3</td>\n",
       "      <td>[spark, phillies, pass, stout, making, quick, ...</td>\n",
       "      <td>spark phillies pass stout making quick money g...</td>\n",
       "      <td>east_coast</td>\n",
       "    </tr>\n",
       "  </tbody>\n",
       "</table>\n",
       "</div>"
      ]
     },
     "execution_count": 3,
     "metadata": {},
     "output_type": "execute_result"
    }
   ],
   "execution_count": 3
  },
  {
   "metadata": {
    "ExecuteTime": {
     "end_time": "2024-10-14T20:15:19.112331Z",
     "start_time": "2024-10-14T20:15:18.909704Z"
    }
   },
   "cell_type": "code",
   "source": [
    "# Create a dictionary representation of the documents\n",
    "dictionary = corpora.Dictionary(df['Tokens'])\n",
    "dictionary.filter_extremes(no_below=5, no_above=0.5)\n",
    "print(f\"Number of unique tokens: {len(dictionary)}\")"
   ],
   "id": "143514f57d9c8a2e",
   "outputs": [
    {
     "name": "stdout",
     "output_type": "stream",
     "text": [
      "Number of unique tokens: 5609\n"
     ]
    }
   ],
   "execution_count": 4
  },
  {
   "metadata": {
    "ExecuteTime": {
     "end_time": "2024-10-14T20:15:27.599663Z",
     "start_time": "2024-10-14T20:15:27.493595Z"
    }
   },
   "cell_type": "code",
   "source": [
    "# Convert documents to a bag-of-words representation\n",
    "corpus = [dictionary.doc2bow(text) for text in df['Tokens']]"
   ],
   "id": "1d16f9c2c26ac682",
   "outputs": [],
   "execution_count": 5
  },
  {
   "metadata": {
    "ExecuteTime": {
     "end_time": "2024-10-14T20:17:11.666253Z",
     "start_time": "2024-10-14T20:17:11.658825Z"
    }
   },
   "cell_type": "code",
   "source": [
    "from tqdm import tqdm\n",
    "from gensim import models\n",
    "from gensim.models import CoherenceModel\n",
    "\n",
    "def compute_coherence_values(dictionary, corpus, texts, start, limit, step, chunksize, passes, iterations, eval_every):\n",
    "    coherence_values = []\n",
    "    model_list = []\n",
    "\n",
    "    # Add tqdm for progress tracking\n",
    "    for num_topics in tqdm(range(start, limit, step), desc=\"Computing coherence\"):\n",
    "        model = models.LdaModel(\n",
    "            corpus=corpus,\n",
    "            id2word=dictionary,\n",
    "            num_topics=num_topics,\n",
    "            random_state=42,\n",
    "            chunksize=chunksize,\n",
    "            passes=passes,\n",
    "            iterations=iterations,\n",
    "            alpha='auto',\n",
    "            eta='auto',\n",
    "            eval_every=eval_every\n",
    "        )\n",
    "        model_list.append(model)\n",
    "\n",
    "        # Applies a sliding window and evaluates similarity of the top words in each topic. \n",
    "        coherencemodel = CoherenceModel(\n",
    "            model=model,\n",
    "            texts=texts,\n",
    "            dictionary=dictionary,\n",
    "            coherence='c_v'\n",
    "        )\n",
    "\n",
    "        coherence_values.append(coherencemodel.get_coherence())\n",
    "\n",
    "    return model_list, coherence_values"
   ],
   "id": "e512d4e3c00e40e2",
   "outputs": [],
   "execution_count": 8
  },
  {
   "metadata": {
    "ExecuteTime": {
     "end_time": "2024-10-14T20:26:51.186081Z",
     "start_time": "2024-10-14T20:26:18.567278Z"
    }
   },
   "cell_type": "code",
   "source": [
    "start = 2\n",
    "limit = 6\n",
    "step = 1\n",
    "chunksize = 200\n",
    "passes = 15\n",
    "iterations = 100\n",
    "eval_every = 10\n",
    "\n",
    "model_list, coherence_values = compute_coherence_values(\n",
    "    dictionary=dictionary,\n",
    "    corpus=corpus,\n",
    "    texts=df['Tokens'],\n",
    "    start=start,\n",
    "    limit=limit,\n",
    "    step=step,\n",
    "    chunksize=chunksize,\n",
    "    passes=passes,\n",
    "    iterations=iterations,\n",
    "    eval_every=eval_every\n",
    ")"
   ],
   "id": "fbbef797391c9dbc",
   "outputs": [
    {
     "name": "stderr",
     "output_type": "stream",
     "text": [
      "Computing coherence:   0%|          | 0/4 [00:00<?, ?it/s]/Users/borosabel/lib/python3.9/site-packages/urllib3/__init__.py:35: NotOpenSSLWarning: urllib3 v2 only supports OpenSSL 1.1.1+, currently the 'ssl' module is compiled with 'LibreSSL 2.8.3'. See: https://github.com/urllib3/urllib3/issues/3020\n",
      "  warnings.warn(\n",
      "/Users/borosabel/lib/python3.9/site-packages/urllib3/__init__.py:35: NotOpenSSLWarning: urllib3 v2 only supports OpenSSL 1.1.1+, currently the 'ssl' module is compiled with 'LibreSSL 2.8.3'. See: https://github.com/urllib3/urllib3/issues/3020\n",
      "  warnings.warn(\n",
      "/Users/borosabel/lib/python3.9/site-packages/urllib3/__init__.py:35: NotOpenSSLWarning: urllib3 v2 only supports OpenSSL 1.1.1+, currently the 'ssl' module is compiled with 'LibreSSL 2.8.3'. See: https://github.com/urllib3/urllib3/issues/3020\n",
      "  warnings.warn(\n",
      "/Users/borosabel/lib/python3.9/site-packages/urllib3/__init__.py:35: NotOpenSSLWarning: urllib3 v2 only supports OpenSSL 1.1.1+, currently the 'ssl' module is compiled with 'LibreSSL 2.8.3'. See: https://github.com/urllib3/urllib3/issues/3020\n",
      "  warnings.warn(\n",
      "/Users/borosabel/lib/python3.9/site-packages/urllib3/__init__.py:35: NotOpenSSLWarning: urllib3 v2 only supports OpenSSL 1.1.1+, currently the 'ssl' module is compiled with 'LibreSSL 2.8.3'. See: https://github.com/urllib3/urllib3/issues/3020\n",
      "  warnings.warn(\n",
      "/Users/borosabel/lib/python3.9/site-packages/urllib3/__init__.py:35: NotOpenSSLWarning: urllib3 v2 only supports OpenSSL 1.1.1+, currently the 'ssl' module is compiled with 'LibreSSL 2.8.3'. See: https://github.com/urllib3/urllib3/issues/3020\n",
      "  warnings.warn(\n",
      "/Users/borosabel/lib/python3.9/site-packages/urllib3/__init__.py:35: NotOpenSSLWarning: urllib3 v2 only supports OpenSSL 1.1.1+, currently the 'ssl' module is compiled with 'LibreSSL 2.8.3'. See: https://github.com/urllib3/urllib3/issues/3020\n",
      "  warnings.warn(\n",
      "Computing coherence:  25%|██▌       | 1/4 [00:08<00:25,  8.45s/it]/Users/borosabel/lib/python3.9/site-packages/urllib3/__init__.py:35: NotOpenSSLWarning: urllib3 v2 only supports OpenSSL 1.1.1+, currently the 'ssl' module is compiled with 'LibreSSL 2.8.3'. See: https://github.com/urllib3/urllib3/issues/3020\n",
      "  warnings.warn(\n",
      "/Users/borosabel/lib/python3.9/site-packages/urllib3/__init__.py:35: NotOpenSSLWarning: urllib3 v2 only supports OpenSSL 1.1.1+, currently the 'ssl' module is compiled with 'LibreSSL 2.8.3'. See: https://github.com/urllib3/urllib3/issues/3020\n",
      "  warnings.warn(\n",
      "/Users/borosabel/lib/python3.9/site-packages/urllib3/__init__.py:35: NotOpenSSLWarning: urllib3 v2 only supports OpenSSL 1.1.1+, currently the 'ssl' module is compiled with 'LibreSSL 2.8.3'. See: https://github.com/urllib3/urllib3/issues/3020\n",
      "  warnings.warn(\n",
      "/Users/borosabel/lib/python3.9/site-packages/urllib3/__init__.py:35: NotOpenSSLWarning: urllib3 v2 only supports OpenSSL 1.1.1+, currently the 'ssl' module is compiled with 'LibreSSL 2.8.3'. See: https://github.com/urllib3/urllib3/issues/3020\n",
      "  warnings.warn(\n",
      "/Users/borosabel/lib/python3.9/site-packages/urllib3/__init__.py:35: NotOpenSSLWarning: urllib3 v2 only supports OpenSSL 1.1.1+, currently the 'ssl' module is compiled with 'LibreSSL 2.8.3'. See: https://github.com/urllib3/urllib3/issues/3020\n",
      "  warnings.warn(\n",
      "/Users/borosabel/lib/python3.9/site-packages/urllib3/__init__.py:35: NotOpenSSLWarning: urllib3 v2 only supports OpenSSL 1.1.1+, currently the 'ssl' module is compiled with 'LibreSSL 2.8.3'. See: https://github.com/urllib3/urllib3/issues/3020\n",
      "  warnings.warn(\n",
      "/Users/borosabel/lib/python3.9/site-packages/urllib3/__init__.py:35: NotOpenSSLWarning: urllib3 v2 only supports OpenSSL 1.1.1+, currently the 'ssl' module is compiled with 'LibreSSL 2.8.3'. See: https://github.com/urllib3/urllib3/issues/3020\n",
      "  warnings.warn(\n",
      "Computing coherence:  50%|█████     | 2/4 [00:17<00:17,  8.86s/it]/Users/borosabel/lib/python3.9/site-packages/urllib3/__init__.py:35: NotOpenSSLWarning: urllib3 v2 only supports OpenSSL 1.1.1+, currently the 'ssl' module is compiled with 'LibreSSL 2.8.3'. See: https://github.com/urllib3/urllib3/issues/3020\n",
      "  warnings.warn(\n",
      "/Users/borosabel/lib/python3.9/site-packages/urllib3/__init__.py:35: NotOpenSSLWarning: urllib3 v2 only supports OpenSSL 1.1.1+, currently the 'ssl' module is compiled with 'LibreSSL 2.8.3'. See: https://github.com/urllib3/urllib3/issues/3020\n",
      "  warnings.warn(\n",
      "/Users/borosabel/lib/python3.9/site-packages/urllib3/__init__.py:35: NotOpenSSLWarning: urllib3 v2 only supports OpenSSL 1.1.1+, currently the 'ssl' module is compiled with 'LibreSSL 2.8.3'. See: https://github.com/urllib3/urllib3/issues/3020\n",
      "  warnings.warn(\n",
      "/Users/borosabel/lib/python3.9/site-packages/urllib3/__init__.py:35: NotOpenSSLWarning: urllib3 v2 only supports OpenSSL 1.1.1+, currently the 'ssl' module is compiled with 'LibreSSL 2.8.3'. See: https://github.com/urllib3/urllib3/issues/3020\n",
      "  warnings.warn(\n",
      "/Users/borosabel/lib/python3.9/site-packages/urllib3/__init__.py:35: NotOpenSSLWarning: urllib3 v2 only supports OpenSSL 1.1.1+, currently the 'ssl' module is compiled with 'LibreSSL 2.8.3'. See: https://github.com/urllib3/urllib3/issues/3020\n",
      "  warnings.warn(\n",
      "/Users/borosabel/lib/python3.9/site-packages/urllib3/__init__.py:35: NotOpenSSLWarning: urllib3 v2 only supports OpenSSL 1.1.1+, currently the 'ssl' module is compiled with 'LibreSSL 2.8.3'. See: https://github.com/urllib3/urllib3/issues/3020\n",
      "  warnings.warn(\n",
      "/Users/borosabel/lib/python3.9/site-packages/urllib3/__init__.py:35: NotOpenSSLWarning: urllib3 v2 only supports OpenSSL 1.1.1+, currently the 'ssl' module is compiled with 'LibreSSL 2.8.3'. See: https://github.com/urllib3/urllib3/issues/3020\n",
      "  warnings.warn(\n",
      "Computing coherence:  75%|███████▌  | 3/4 [00:25<00:08,  8.24s/it]/Users/borosabel/lib/python3.9/site-packages/urllib3/__init__.py:35: NotOpenSSLWarning: urllib3 v2 only supports OpenSSL 1.1.1+, currently the 'ssl' module is compiled with 'LibreSSL 2.8.3'. See: https://github.com/urllib3/urllib3/issues/3020\n",
      "  warnings.warn(\n",
      "/Users/borosabel/lib/python3.9/site-packages/urllib3/__init__.py:35: NotOpenSSLWarning: urllib3 v2 only supports OpenSSL 1.1.1+, currently the 'ssl' module is compiled with 'LibreSSL 2.8.3'. See: https://github.com/urllib3/urllib3/issues/3020\n",
      "  warnings.warn(\n",
      "/Users/borosabel/lib/python3.9/site-packages/urllib3/__init__.py:35: NotOpenSSLWarning: urllib3 v2 only supports OpenSSL 1.1.1+, currently the 'ssl' module is compiled with 'LibreSSL 2.8.3'. See: https://github.com/urllib3/urllib3/issues/3020\n",
      "  warnings.warn(\n",
      "/Users/borosabel/lib/python3.9/site-packages/urllib3/__init__.py:35: NotOpenSSLWarning: urllib3 v2 only supports OpenSSL 1.1.1+, currently the 'ssl' module is compiled with 'LibreSSL 2.8.3'. See: https://github.com/urllib3/urllib3/issues/3020\n",
      "  warnings.warn(\n",
      "/Users/borosabel/lib/python3.9/site-packages/urllib3/__init__.py:35: NotOpenSSLWarning: urllib3 v2 only supports OpenSSL 1.1.1+, currently the 'ssl' module is compiled with 'LibreSSL 2.8.3'. See: https://github.com/urllib3/urllib3/issues/3020\n",
      "  warnings.warn(\n",
      "/Users/borosabel/lib/python3.9/site-packages/urllib3/__init__.py:35: NotOpenSSLWarning: urllib3 v2 only supports OpenSSL 1.1.1+, currently the 'ssl' module is compiled with 'LibreSSL 2.8.3'. See: https://github.com/urllib3/urllib3/issues/3020\n",
      "  warnings.warn(\n",
      "/Users/borosabel/lib/python3.9/site-packages/urllib3/__init__.py:35: NotOpenSSLWarning: urllib3 v2 only supports OpenSSL 1.1.1+, currently the 'ssl' module is compiled with 'LibreSSL 2.8.3'. See: https://github.com/urllib3/urllib3/issues/3020\n",
      "  warnings.warn(\n",
      "Computing coherence: 100%|██████████| 4/4 [00:32<00:00,  8.15s/it]\n"
     ]
    }
   ],
   "execution_count": 14
  },
  {
   "metadata": {
    "ExecuteTime": {
     "end_time": "2024-10-14T20:28:39.790052Z",
     "start_time": "2024-10-14T20:28:39.682380Z"
    }
   },
   "cell_type": "code",
   "source": [
    "# Prepare data for Seaborn\n",
    "x = list(range(start, limit, step))\n",
    "\n",
    "# Create a barplot with Seaborn\n",
    "plt.figure(figsize=(10, 6))\n",
    "sns.barplot(x=x, y=coherence_values)\n",
    "\n",
    "# Set plot labels and title\n",
    "plt.xlabel(\"Number of Topics\")\n",
    "plt.ylabel(\"Coherence Score\")\n",
    "plt.title(\"Coherence Scores for Different Numbers of Topics\")\n",
    "\n",
    "# Ensure integer values on the x-axis\n",
    "plt.xticks(ticks=range(start, limit, step))\n",
    "\n",
    "plt.show()"
   ],
   "id": "1d615cd04185e696",
   "outputs": [
    {
     "data": {
      "text/plain": [
       "<Figure size 1000x600 with 1 Axes>"
      ],
      "image/png": "[encoded data removed]"
     },
     "metadata": {},
     "output_type": "display_data"
    }
   ],
   "execution_count": 18
  },
  {
   "metadata": {
    "ExecuteTime": {
     "end_time": "2024-10-14T20:28:42.749745Z",
     "start_time": "2024-10-14T20:28:42.745175Z"
    }
   },
   "cell_type": "code",
   "source": [
    "# Select the model with highest coherence\n",
    "optimal_index = coherence_values.index(max(coherence_values))\n",
    "optimal_model = model_list[optimal_index]\n",
    "optimal_num_topics = x[optimal_index]\n",
    "\n",
    "print(f'Optimal Number of Topics: {optimal_num_topics}')\n",
    "print(f'Highest Coherence Score: {coherence_values[optimal_index]:.4f}')"
   ],
   "id": "48071e2fe87f2f30",
   "outputs": [
    {
     "name": "stdout",
     "output_type": "stream",
     "text": [
      "Optimal Number of Topics: 5\n",
      "Highest Coherence Score: 0.3303\n"
     ]
    }
   ],
   "execution_count": 19
  },
  {
   "metadata": {
    "ExecuteTime": {
     "end_time": "2024-10-14T20:28:46.219550Z",
     "start_time": "2024-10-14T20:28:44.569699Z"
    }
   },
   "cell_type": "code",
   "source": [
    "# Prepare the visualization\n",
    "pyLDAvis.enable_notebook()\n",
    "vis = gensimvis.prepare(optimal_model, corpus, dictionary)\n",
    "\n",
    "# Display the visualization\n",
    "pyLDAvis.display(vis)"
   ],
   "id": "93cc9fae3837ae9e",
   "outputs": [
    {
     "data": {
      "text/plain": [
       "<IPython.core.display.HTML object>"
      ],
      "text/html": [
       "\n",
       "<link rel=\"stylesheet\" type=\"text/css\" href=\"https://cdn.jsdelivr.net/gh/bmabey/pyLDAvis@3.4.0/pyLDAvis/js/ldavis.v1.0.0.css\">\n",
       "\n",
       "\n",
       "<div id=\"ldavis_el39234129794968806017001517\" style=\"background-color:white;\"></div>\n",
       "<script type=\"text/javascript\">\n",
       "\n",
       "var ldavis_el39234129794968806017001517_data = {\"mdsDat\": {\"x\": [0.06421139446956123, 0.09936048867183153, 0.0842244710763502, 0.09878245566092875, -0.34657880987867185], \"y\": [-0.012635682863818231, -0.08195658658902043, -0.1436147323933424, 0.232638047819014, 0.005568954027167218], \"topics\": [1, 2, 3, 4, 5], \"cluster\": [1, 1, 1, 1, 1], \"Freq\": [40.244035838503336, 29.340814076577594, 14.693976721861926, 14.267150923691615, 1.4540224393655226]}, \"tinfo\": {\"Term\": [\"love\", \"fuck\", \"bitch\", \"baby\", \"girl\", \"as\", \"hit\", \"life\", \"motherfucker\", \"dogg\", \"die\", \"rhyme\", \"kiss\", \"nothing\", \"live\", \"might\", \"would\", \"black\", \"people\", \"sayin\", \"brother\", \"pop\", \"la\", \"snoop\", \"chill\", \"ha\", \"god\", \"trip\", \"good\", \"fuckin\", \"rhyme\", \"mic\", \"mc\", \"jam\", \"microphone\", \"wack\", \"dj\", \"syndicate\", \"radio\", \"record\", \"effect\", \"crowd\", \"movin\", \"groove\", \"stage\", \"rockin\", \"mcs\", \"along\", \"hype\", \"hah\", \"different\", \"drama\", \"upon\", \"def\", \"fan\", \"plug\", \"battle\", \"jay\", \"emcee\", \"write\", \"sound\", \"rock\", \"music\", \"clear\", \"rapper\", \"weak\", \"beat\", \"dance\", \"style\", \"ill\", \"hip\", \"rap\", \"move\", \"party\", \"sucker\", \"swing\", \"new\", \"track\", \"line\", \"hop\", \"word\", \"show\", \"keep\", \"listen\", \"stop\", \"kick\", \"cut\", \"play\", \"well\", \"hear\", \"check\", \"flow\", \"brother\", \"step\", \"think\", \"try\", \"mind\", \"two\", \"way\", \"right\", \"hard\", \"still\", \"u\", \"call\", \"motherfucker\", \"motherfuckin\", \"gangsta\", \"gat\", \"tha\", \"motherfucking\", \"fuckin\", \"fo\", \"tat\", \"cypress\", \"cube\", \"ta\", \"clip\", \"fuck\", \"glock\", \"bye\", \"trippin\", \"central\", \"pig\", \"playeah\", \"killa\", \"cali\", \"dat\", \"pimpin\", \"compton\", \"mutha\", \"slug\", \"muthafucka\", \"muthafuckin\", \"outlaw\", \"bitch\", \"da\", \"hood\", \"thang\", \"as\", \"hoe\", \"spit\", \"eazy\", \"westside\", \"buck\", \"south\", \"hill\", \"rollin\", \"punk\", \"bang\", \"gun\", \"police\", \"cash\", \"game\", \"cop\", \"street\", \"wit\", \"money\", \"pimp\", \"fool\", \"hit\", \"dick\", \"roll\", \"real\", \"ho\", \"put\", \"big\", \"break\", \"ice\", \"run\", \"kill\", \"still\", \"gettin\", \"little\", \"call\", \"tell\", \"right\", \"ooh\", \"di\", \"hello\", \"freaky\", \"indo\", \"hump\", \"girlfriend\", \"hella\", \"oaktown\", \"dancin\", \"eh\", \"jimmy\", \"saturday\", \"root\", \"baby\", \"dum\", \"inglewood\", \"sale\", \"89\", \"hahaha\", \"ha\", \"spittin\", \"tender\", \"diddy\", \"outlawz\", \"sexy\", \"blam\", \"biggie\", \"bustas\", \"oak\", \"jean\", \"scandalous\", \"shook\", \"girl\", \"freak\", \"sex\", \"honey\", \"flipmode\", \"huh\", \"naked\", \"hey\", \"funk\", \"bounce\", \"gon\", \"love\", \"guy\", \"butt\", \"bud\", \"high\", \"good\", \"feel\", \"would\", \"need\", \"fine\", \"eat\", \"meet\", \"lick\", \"way\", \"tell\", \"lady\", \"big\", \"around\", \"look\", \"really\", \"name\", \"crazy\", \"thing\", \"call\", \"right\", \"kind\", \"real\", \"little\", \"head\", \"u\", \"think\", \"la\", \"de\", \"enemy\", \"weapon\", \"survive\", \"rebel\", \"war\", \"violent\", \"coward\", \"hatin\", \"affair\", \"ton\", \"creator\", \"searchin\", \"natural\", \"wildin\", \"prison\", \"forgive\", \"jealousy\", \"os\", \"guys\", \"tre\", \"justice\", \"ruckus\", \"suffer\", \"glory\", \"makaveli\", \"paranoid\", \"wa\", \"lord\", \"pistol\", \"pain\", \"search\", \"family\", \"heaven\", \"thug\", \"judge\", \"wicked\", \"god\", \"die\", \"ghetto\", \"live\", \"devil\", \"pray\", \"life\", \"livin\", \"eye\", \"race\", \"world\", \"rise\", \"black\", \"many\", \"bless\", \"please\", \"death\", \"power\", \"brother\", \"everybody\", \"u\", \"people\", \"white\", \"day\", \"would\", \"every\", \"mind\", \"love\", \"way\", \"look\", \"kid\", \"try\", \"tell\", \"keep\", \"could\", \"snoop\", \"doo\", \"warren\", \"diggy\", \"wow\", \"cocoa\", \"jones\", \"illusion\", \"burnin\", \"mischief\", \"bay\", \"doggy\", \"lbc\", \"snoopy\", \"gi\", \"milky\", \"alpha\", \"dive\", \"motivate\", \"wrms\", \"hallway\", \"shin\", \"reveal\", \"vibration\", \"na\", \"ing\", \"appreciate\", \"sac\", \"flavour\", \"dresser\", \"dogg\", \"scooby\", \"nas\", \"bong\", \"kiss\", \"93\", \"president\", \"mr\", \"represent\", \"love\", \"ego\", \"groupie\", \"ayeah\", \"chill\", \"aah\", \"nothing\", \"scoop\", \"trip\", \"sayin\", \"hit\", \"pop\", \"might\"], \"Freq\": [1316.0, 2263.0, 1999.0, 1165.0, 939.0, 1287.0, 1167.0, 1007.0, 800.0, 214.0, 612.0, 1000.0, 250.0, 480.0, 721.0, 410.0, 1213.0, 806.0, 629.0, 359.0, 865.0, 362.0, 370.0, 161.0, 213.0, 357.0, 453.0, 260.0, 857.0, 543.0, 999.7166407146204, 504.6618050960597, 444.5224559901182, 226.927803173259, 222.3685440487065, 185.76473609252614, 141.89096437119653, 145.49003882275798, 137.73806857618098, 396.32469972098005, 125.9918424599083, 148.15239409028197, 122.9526347447884, 118.97570257527092, 118.11488818883444, 115.18063483055705, 112.63588930975136, 111.8240921814899, 110.05864463757804, 113.02396498123059, 102.29358522007945, 107.1658345827078, 103.21231970424992, 90.47313434708157, 85.89945028140298, 84.48083478255253, 83.1818395711406, 81.36759510228335, 79.7741796128037, 270.6705867895849, 419.5783658159345, 698.3845092340223, 174.37326024675406, 136.17845358120636, 242.93316701370028, 179.71879227200026, 698.7179835770386, 167.67112275596605, 458.0812121073052, 212.3720391920822, 265.4061373928355, 650.9061685012177, 556.331379605832, 334.1860468895483, 370.63538748094453, 195.2190146419046, 575.271389273116, 247.729711255717, 238.2293830613498, 270.66177346040047, 546.8538008174222, 461.976400648637, 847.6941485295287, 317.38368267429667, 589.1826785576806, 467.94591638014157, 307.94256903538746, 606.602719440493, 681.2434102198974, 453.09350124694726, 513.8947038329865, 359.3891112334861, 524.7597760515642, 367.68485011991623, 616.7265355913519, 579.4989780329697, 433.8380294781678, 423.0968396179389, 554.7906444144697, 495.95197744622936, 418.2438074441806, 443.71264874633664, 466.6874280559109, 423.4626754040542, 799.2933812858768, 423.1669114884185, 305.2605733336564, 242.8619917147781, 199.9437843120826, 198.40707274962085, 541.4922560481707, 146.718424959771, 139.40549113366544, 139.44727731897163, 135.40088465583975, 131.41101679407112, 123.68802213988752, 2247.6368603966484, 104.17184553619823, 108.65822805633603, 98.72208161023254, 99.31465831113165, 92.5164816947411, 89.95003483440708, 85.44544992264022, 76.76392816839412, 76.3945441134463, 74.82956513033831, 106.4076674882386, 66.51010330269285, 61.890957778855764, 59.974485894623996, 58.87375825741966, 58.98666730113745, 1961.1856325715526, 265.5762271244075, 209.15726669471798, 104.74037660667729, 1216.055741621892, 557.611844286034, 94.79883871859651, 152.03465782745405, 121.29247495429689, 208.55312399538715, 136.56000452123746, 158.01002208666446, 258.1726427776077, 428.85754335568186, 170.24754118251715, 417.77044954654474, 179.55648321193078, 231.01198376603332, 562.1730644383853, 242.29088038249614, 512.0187587877074, 383.5657360526142, 514.6648423664096, 230.54034805220735, 354.26159231779843, 613.82090995599, 321.5746350000111, 385.9888127240553, 508.1990476459218, 258.385830634117, 461.35647287952054, 419.03776972886817, 416.5367832068802, 329.6202928986374, 352.6158471242878, 276.50573420491276, 326.4800038452806, 291.41980806457207, 296.5212165672872, 306.55080463440095, 310.63671445884114, 298.44209598043517, 320.33529225220553, 112.66451052978103, 82.04860110567617, 64.47766344897086, 64.85517797815426, 63.073691731790255, 61.12670285839712, 58.7814789452486, 49.928571667964476, 48.90684082792595, 48.472776048220105, 42.55428223742938, 41.21107677371094, 39.94195681424456, 1142.1036017343906, 37.31106790524763, 39.77266556680389, 41.351748475852986, 35.01784638971878, 34.82486558014274, 348.0278297631332, 30.914398409813447, 28.430018745490486, 28.318014354929637, 40.87584043262373, 26.115526150132773, 26.435590411469697, 25.56073083424665, 26.657949998835605, 24.039585911929134, 28.784964963171273, 108.73019792839432, 45.30356867680571, 753.1654694227735, 287.47737933755155, 160.71449464097967, 74.42133138663871, 46.30739973095824, 202.57517525941563, 69.100328406299, 319.9873727060909, 259.5247116798266, 124.4100181782136, 139.22213122311962, 735.3106542347934, 137.14286997127056, 121.02096523430494, 55.154464437680694, 345.4929385120094, 431.5660098203987, 366.1314318628097, 503.88267332089566, 375.96179315021317, 92.89945633780137, 117.61445497112767, 145.06183580783346, 131.36609620682336, 408.57512258603606, 386.59515089973416, 135.55515896318204, 296.06861286290723, 302.2187379479104, 302.1933765658854, 202.5734657293029, 239.40402494410623, 191.67199332175232, 223.00832387550113, 247.2711819621946, 248.89557747528994, 161.6222852990062, 206.1749629859238, 186.84747811038102, 186.38009257756661, 203.32057061279437, 194.1250483607748, 370.089489955931, 185.72539023788426, 137.92793364708857, 92.71939932444252, 86.17889731469243, 68.53663759609337, 172.74993456524567, 45.84544194891385, 44.69605853101322, 42.43955985372851, 40.59752639399737, 37.01185328382381, 36.166773268170026, 34.50107926555332, 34.07630087118452, 32.98040195439592, 33.12186944843763, 31.482840805236194, 30.946475058220983, 30.9874006730101, 34.197088309846684, 33.019662814963034, 28.319314703725684, 27.618401915500023, 27.01036874332625, 26.622139271195156, 24.30973463211185, 23.516386487758655, 24.38282759461008, 116.15122996725933, 74.24027107582432, 203.7993680814286, 43.87271795978934, 151.9946283892873, 85.80640245504676, 234.58995916696392, 86.40292148401642, 104.66456253076889, 355.4926515466466, 467.603352147892, 168.7132619612124, 506.7897723267987, 105.49314146351833, 64.36806861430064, 615.1213929684976, 208.05344489371535, 329.66117289136116, 67.28594338753263, 360.6247812485327, 84.76912876135195, 435.07594885701536, 264.4878319034192, 78.435778807755, 213.260288374527, 188.9334155614874, 150.28837736115938, 330.3471492703721, 196.3829221962255, 379.66148499407086, 247.035251644608, 152.3451445876207, 288.97899301287816, 320.41447375738795, 245.47438589721727, 221.38227760332109, 278.29373142409406, 273.5256800531769, 232.88468453427413, 192.84167263749816, 219.76874508599775, 217.98104315042121, 204.00380575826375, 189.5498335294861, 160.63509754306008, 108.18096595836244, 72.99401165302339, 59.38816111577281, 47.558901103459846, 34.3887061534842, 32.564154586273524, 27.998493823255323, 29.91159589525445, 26.240137211314316, 28.277447615995428, 108.70149820155095, 28.274293200791362, 17.20591793904546, 16.541820000725547, 16.083955141229925, 15.50169188807315, 15.926939895342, 15.23069179903213, 14.129374001922825, 13.94410833091079, 13.336085347032359, 9.435293712171028, 8.589496482678628, 38.59880163273359, 8.411617317679143, 8.664719832000818, 8.303932846723065, 7.853866457875476, 7.815801025065152, 189.9618210757997, 25.377847465231323, 26.1690981887849, 35.08856839364933, 98.84543336350005, 26.031165662256083, 33.21226252525145, 71.00858093007074, 46.3517372524574, 140.72809068286864, 24.10021975005528, 25.916002640048852, 28.940881833513732, 42.0819367535727, 19.304219011451366, 38.605874687393055, 20.853739405711977, 31.0253651742087, 30.887950091183388, 32.62455218413661, 28.084037185221476, 26.197682962018966], \"Total\": [1316.0, 2263.0, 1999.0, 1165.0, 939.0, 1287.0, 1167.0, 1007.0, 800.0, 214.0, 612.0, 1000.0, 250.0, 480.0, 721.0, 410.0, 1213.0, 806.0, 629.0, 359.0, 865.0, 362.0, 370.0, 161.0, 213.0, 357.0, 453.0, 260.0, 857.0, 543.0, 1000.4679505331718, 505.4157745552389, 445.3172953579505, 227.6797042895805, 223.12219247772651, 186.52104459434057, 142.64657634687123, 146.26966502291057, 138.4946431073323, 398.547175932127, 126.74934807166919, 149.0630322166964, 123.71149442717211, 119.7311248156664, 118.87056192672256, 115.9354507004186, 113.38346529518526, 112.57751731497927, 110.81274846236114, 113.80154666391495, 103.05579466628193, 107.96482424422067, 104.00897525493183, 91.22098073164432, 86.65876697596953, 85.24187303650933, 83.94007791945997, 82.12210644684777, 80.52203624463458, 273.41091211845776, 424.1662478547771, 719.6427932824091, 177.7161620114464, 138.34538914429328, 252.63059747838503, 185.62705066314575, 764.5170513960315, 172.69505663535963, 497.6637221503459, 222.1873695318291, 282.33802161040785, 737.6259865606434, 632.0401912016181, 370.0943471946466, 416.05845339018344, 205.72768767003907, 689.3491532021852, 270.55471240598865, 259.2899317377571, 301.49951080161054, 693.6825282742606, 594.9515847001763, 1325.1671260312187, 386.80764896104637, 858.2858684107989, 638.9929945495389, 373.778905769292, 916.8506093142387, 1090.4385581994563, 644.6735406366557, 785.9942898050059, 473.67267889403234, 865.0069062025625, 502.9453038154151, 1215.289662406118, 1125.4738316354626, 697.7023261115248, 704.4478419125223, 1367.3251789223284, 1145.7282700312837, 747.0233917469773, 915.943770006661, 1263.8223873619377, 1015.5073492502615, 800.0998332531252, 423.958951828711, 306.05294349685454, 243.64937247895293, 200.73755153594303, 199.19741252427298, 543.8276496651409, 147.50419617532162, 140.19254499421226, 140.24369832748943, 136.19373061075035, 132.21572176214, 124.48275637502297, 2263.8274448236666, 104.96151483800531, 109.51589541255913, 99.52856152808614, 100.15865004757566, 93.30670197012928, 90.7555043449446, 86.22989037347946, 77.55575518663763, 77.18669029769083, 75.61692374414565, 107.61081092693772, 67.30362367459021, 62.69413975966492, 60.76248052736592, 59.66646498473923, 59.79563114564551, 1999.4491026071307, 271.85919855196266, 214.3605209801895, 106.60287318809924, 1287.2245904694437, 608.0175754674382, 96.5933858685819, 158.12494656129485, 124.92776874176985, 222.23179386321343, 141.94009219599974, 166.92530721659233, 284.761443521942, 506.49862894250174, 181.77821459876728, 497.4943917680002, 196.61412485682862, 264.3590628480971, 808.6298962481809, 290.6235357748777, 746.2968920528028, 519.3257119608112, 782.913584299651, 275.6661629540433, 524.7776792313315, 1167.6474065986306, 479.52445085146314, 630.1727819058386, 1071.4707548711674, 362.24153311365825, 983.9767273320268, 858.5311428481288, 887.2007812888389, 582.8082634702017, 788.2995613682871, 463.2353766063367, 915.943770006661, 607.7268128241695, 723.1228910800794, 1015.5073492502615, 1252.468190466345, 1145.7282700312837, 321.1147336018358, 113.43788530485571, 82.81005664680698, 65.25161615430358, 65.64498881783237, 63.861849642122586, 61.898892778882384, 59.562222217080944, 50.710984468730565, 49.67863900424153, 49.238311579340596, 43.32261795237604, 41.99238896995221, 40.733677370550524, 1165.3877317371766, 38.08891484165799, 40.60707313711493, 42.230431610417355, 35.784809630181606, 35.62142152155384, 357.29058635091644, 31.737788527880657, 29.19636746252621, 29.0969059592211, 42.050608761713356, 26.885343968644154, 27.215923883895858, 26.32288343205325, 27.481061910183755, 24.81131042493861, 29.7537731963909, 116.00360493775759, 47.440904893921655, 939.6664534290229, 337.8703936799815, 185.28538485709646, 82.61075762068458, 49.70898526338899, 252.610193464468, 77.36016334570829, 433.5213358379002, 344.47267203567634, 150.96235300865933, 173.23544502922013, 1316.6975843830612, 182.54430829982334, 162.83619415276192, 60.73012110940145, 634.3393934492498, 857.742771946207, 769.8812972156952, 1213.0317765703905, 911.3374300553222, 123.83933607530923, 175.15554880059625, 241.51417426980268, 208.75478139215937, 1367.3251789223284, 1252.468190466345, 227.00526363270097, 858.5311428481288, 892.3009792607991, 898.8837537392495, 454.7076515725742, 695.4166642704367, 458.56328463758086, 755.358513883256, 1015.5073492502615, 1145.7282700312837, 342.57006804078276, 1071.4707548711674, 723.1228910800794, 726.4069638581412, 1263.8223873619377, 1215.289662406118, 370.86247932141447, 186.5048824360502, 138.86798277704278, 93.50043083652774, 86.95298785104765, 69.30295492142946, 175.31694968141167, 46.614926354119035, 45.49435275943219, 43.23739285035093, 41.36835600940645, 37.79423142428816, 36.9353004863824, 35.27001757948258, 34.86753965923587, 33.755543078212156, 33.90228743728738, 32.24565523362174, 31.71280501280791, 31.765955817124382, 35.068820171723765, 33.88620748471768, 29.093907204286207, 28.40465975894861, 27.78121330189295, 27.409717907914473, 25.077646242129493, 24.282504474178385, 25.18078214180388, 120.0146788599106, 77.1682481084743, 218.84101130819516, 45.88661668618125, 166.96150851829378, 93.10058807068576, 279.89679008521614, 96.45902747797967, 118.77159404814884, 453.00988892064436, 612.6966581153299, 208.44833469732927, 721.9395353919195, 127.82602390165444, 72.81328216583759, 1007.8464098000538, 297.11571764364095, 523.9531508874463, 77.59550028937667, 601.0784515909639, 103.22455201687845, 806.5979324285281, 441.2185070881224, 94.65239464493386, 367.7997644723668, 319.39087252142656, 239.30569275205985, 865.0069062025625, 401.26317681754944, 1263.8223873619377, 629.3347436816658, 270.4619338079542, 922.580030550104, 1213.0317765703905, 706.2778317669618, 697.7023261115248, 1316.6975843830612, 1367.3251789223284, 898.8837537392495, 536.3133171770949, 1125.4738316354626, 1252.468190466345, 1325.1671260312187, 910.9223482595252, 161.45957465610678, 109.03273798150595, 73.81512041346872, 60.16832392132094, 48.342713578638495, 35.18297364379865, 33.35893706458677, 28.792385306363954, 30.800539466239446, 27.037467490940774, 29.305362466717895, 113.01383042942389, 29.45974584220486, 18.01190248731234, 17.329372550352957, 16.867630285172346, 16.29189128407716, 16.739518518882306, 16.0313787639771, 14.93184801248702, 14.746192269751663, 14.215055082759642, 10.243785882572922, 9.374624513119171, 42.18106844567315, 9.207295384177092, 9.505036069746051, 9.123279005849692, 8.661121250146163, 8.623420988800573, 214.71456721589, 28.74726829941954, 30.79149834464572, 54.00153440150713, 250.41563859292756, 41.511755602728726, 58.03910027512069, 180.69238379153143, 114.59882585900698, 1316.6975843830612, 44.59352060495088, 53.52038006589094, 72.40862080426315, 213.17826440969122, 28.586762231994545, 480.34489846063155, 39.82002674370153, 260.83047016263447, 359.66265760457424, 1167.6474065986306, 362.6266166237071, 410.1739096984132], \"Category\": [\"Default\", \"Default\", \"Default\", \"Default\", \"Default\", \"Default\", \"Default\", \"Default\", \"Default\", \"Default\", \"Default\", \"Default\", \"Default\", \"Default\", \"Default\", \"Default\", \"Default\", \"Default\", \"Default\", \"Default\", \"Default\", \"Default\", \"Default\", \"Default\", \"Default\", \"Default\", \"Default\", \"Default\", \"Default\", \"Default\", \"Topic1\", \"Topic1\", \"Topic1\", \"Topic1\", \"Topic1\", \"Topic1\", \"Topic1\", \"Topic1\", \"Topic1\", \"Topic1\", \"Topic1\", \"Topic1\", \"Topic1\", \"Topic1\", \"Topic1\", \"Topic1\", \"Topic1\", \"Topic1\", \"Topic1\", \"Topic1\", \"Topic1\", \"Topic1\", \"Topic1\", \"Topic1\", \"Topic1\", \"Topic1\", \"Topic1\", \"Topic1\", \"Topic1\", \"Topic1\", \"Topic1\", \"Topic1\", \"Topic1\", \"Topic1\", \"Topic1\", \"Topic1\", \"Topic1\", \"Topic1\", \"Topic1\", \"Topic1\", \"Topic1\", \"Topic1\", \"Topic1\", \"Topic1\", \"Topic1\", \"Topic1\", \"Topic1\", \"Topic1\", \"Topic1\", \"Topic1\", \"Topic1\", \"Topic1\", \"Topic1\", \"Topic1\", \"Topic1\", \"Topic1\", \"Topic1\", \"Topic1\", \"Topic1\", \"Topic1\", \"Topic1\", \"Topic1\", \"Topic1\", \"Topic1\", \"Topic1\", \"Topic1\", \"Topic1\", \"Topic1\", \"Topic1\", \"Topic1\", \"Topic1\", \"Topic1\", \"Topic1\", \"Topic1\", \"Topic2\", \"Topic2\", \"Topic2\", \"Topic2\", \"Topic2\", \"Topic2\", \"Topic2\", \"Topic2\", \"Topic2\", \"Topic2\", \"Topic2\", \"Topic2\", \"Topic2\", \"Topic2\", \"Topic2\", \"Topic2\", \"Topic2\", \"Topic2\", \"Topic2\", \"Topic2\", \"Topic2\", \"Topic2\", \"Topic2\", \"Topic2\", \"Topic2\", \"Topic2\", \"Topic2\", \"Topic2\", \"Topic2\", \"Topic2\", \"Topic2\", \"Topic2\", \"Topic2\", \"Topic2\", \"Topic2\", \"Topic2\", \"Topic2\", \"Topic2\", \"Topic2\", \"Topic2\", \"Topic2\", \"Topic2\", \"Topic2\", \"Topic2\", \"Topic2\", \"Topic2\", \"Topic2\", \"Topic2\", \"Topic2\", \"Topic2\", \"Topic2\", \"Topic2\", \"Topic2\", \"Topic2\", \"Topic2\", \"Topic2\", \"Topic2\", \"Topic2\", \"Topic2\", \"Topic2\", \"Topic2\", \"Topic2\", \"Topic2\", \"Topic2\", \"Topic2\", \"Topic2\", \"Topic2\", \"Topic2\", \"Topic2\", \"Topic2\", \"Topic2\", \"Topic2\", \"Topic3\", \"Topic3\", \"Topic3\", \"Topic3\", \"Topic3\", \"Topic3\", \"Topic3\", \"Topic3\", \"Topic3\", \"Topic3\", \"Topic3\", \"Topic3\", \"Topic3\", \"Topic3\", \"Topic3\", \"Topic3\", \"Topic3\", \"Topic3\", \"Topic3\", \"Topic3\", \"Topic3\", \"Topic3\", \"Topic3\", \"Topic3\", \"Topic3\", \"Topic3\", \"Topic3\", \"Topic3\", \"Topic3\", \"Topic3\", \"Topic3\", \"Topic3\", \"Topic3\", \"Topic3\", \"Topic3\", \"Topic3\", \"Topic3\", \"Topic3\", \"Topic3\", \"Topic3\", \"Topic3\", \"Topic3\", \"Topic3\", \"Topic3\", \"Topic3\", \"Topic3\", \"Topic3\", \"Topic3\", \"Topic3\", \"Topic3\", \"Topic3\", \"Topic3\", \"Topic3\", \"Topic3\", \"Topic3\", \"Topic3\", \"Topic3\", \"Topic3\", \"Topic3\", \"Topic3\", \"Topic3\", \"Topic3\", \"Topic3\", \"Topic3\", \"Topic3\", \"Topic3\", \"Topic3\", \"Topic3\", \"Topic3\", \"Topic3\", \"Topic3\", \"Topic3\", \"Topic3\", \"Topic3\", \"Topic3\", \"Topic4\", \"Topic4\", \"Topic4\", \"Topic4\", \"Topic4\", \"Topic4\", \"Topic4\", \"Topic4\", \"Topic4\", \"Topic4\", \"Topic4\", \"Topic4\", \"Topic4\", \"Topic4\", \"Topic4\", \"Topic4\", \"Topic4\", \"Topic4\", \"Topic4\", \"Topic4\", \"Topic4\", \"Topic4\", \"Topic4\", \"Topic4\", \"Topic4\", \"Topic4\", \"Topic4\", \"Topic4\", \"Topic4\", \"Topic4\", \"Topic4\", \"Topic4\", \"Topic4\", \"Topic4\", \"Topic4\", \"Topic4\", \"Topic4\", \"Topic4\", \"Topic4\", \"Topic4\", \"Topic4\", \"Topic4\", \"Topic4\", \"Topic4\", \"Topic4\", \"Topic4\", \"Topic4\", \"Topic4\", \"Topic4\", \"Topic4\", \"Topic4\", \"Topic4\", \"Topic4\", \"Topic4\", \"Topic4\", \"Topic4\", \"Topic4\", \"Topic4\", \"Topic4\", \"Topic4\", \"Topic4\", \"Topic4\", \"Topic4\", \"Topic4\", \"Topic4\", \"Topic4\", \"Topic4\", \"Topic4\", \"Topic4\", \"Topic4\", \"Topic4\", \"Topic4\", \"Topic4\", \"Topic5\", \"Topic5\", \"Topic5\", \"Topic5\", \"Topic5\", \"Topic5\", \"Topic5\", \"Topic5\", \"Topic5\", \"Topic5\", \"Topic5\", \"Topic5\", \"Topic5\", \"Topic5\", \"Topic5\", \"Topic5\", \"Topic5\", \"Topic5\", \"Topic5\", \"Topic5\", \"Topic5\", \"Topic5\", \"Topic5\", \"Topic5\", \"Topic5\", \"Topic5\", \"Topic5\", \"Topic5\", \"Topic5\", \"Topic5\", \"Topic5\", \"Topic5\", \"Topic5\", \"Topic5\", \"Topic5\", \"Topic5\", \"Topic5\", \"Topic5\", \"Topic5\", \"Topic5\", \"Topic5\", \"Topic5\", \"Topic5\", \"Topic5\", \"Topic5\", \"Topic5\", \"Topic5\", \"Topic5\", \"Topic5\", \"Topic5\", \"Topic5\", \"Topic5\"], \"logprob\": [30.0, 29.0, 28.0, 27.0, 26.0, 25.0, 24.0, 23.0, 22.0, 21.0, 20.0, 19.0, 18.0, 17.0, 16.0, 15.0, 14.0, 13.0, 12.0, 11.0, 10.0, 9.0, 8.0, 7.0, 6.0, 5.0, 4.0, 3.0, 2.0, 1.0, -4.7734, -5.457, -5.5839, -6.2563, -6.2766, -6.4564, -6.7258, -6.7008, -6.7555, -5.6987, -6.8447, -6.6827, -6.8691, -6.902, -6.9092, -6.9344, -6.9567, -6.964, -6.9799, -6.9533, -7.0531, -7.0065, -7.0441, -7.1758, -7.2277, -7.2444, -7.2599, -7.2819, -7.3017, -6.08, -5.6416, -5.1321, -6.5197, -6.7669, -6.1881, -6.4895, -5.1317, -6.5589, -5.5539, -6.3226, -6.0996, -5.2025, -5.3595, -5.8692, -5.7657, -6.4068, -5.3261, -6.1686, -6.2077, -6.08, -5.3767, -5.5454, -4.9384, -5.9208, -5.3022, -5.5325, -5.951, -5.273, -5.157, -5.5648, -5.4389, -5.7965, -5.418, -5.7737, -5.2565, -5.3187, -5.6082, -5.6333, -5.3623, -5.4744, -5.6448, -5.5857, -5.5352, -5.6324, -4.6812, -5.3171, -5.6438, -5.8724, -6.0669, -6.0746, -5.0706, -6.3764, -6.4275, -6.4272, -6.4567, -6.4866, -6.5472, -3.6473, -6.7189, -6.6767, -6.7726, -6.7666, -6.8375, -6.8657, -6.917, -7.0242, -7.029, -7.0497, -6.6976, -7.1676, -7.2395, -7.271, -7.2895, -7.2876, -3.7836, -5.783, -6.0218, -6.7134, -4.2615, -5.0413, -6.8132, -6.3408, -6.5667, -6.0247, -6.4482, -6.3023, -5.8113, -5.3038, -6.2277, -5.33, -6.1744, -5.9224, -5.0331, -5.8748, -5.1266, -5.4154, -5.1214, -5.9245, -5.4949, -4.9452, -5.5917, -5.4091, -5.134, -5.8105, -5.2307, -5.327, -5.3329, -5.567, -5.4995, -5.7427, -5.5765, -5.6902, -5.6728, -5.6395, -5.6263, -5.6663, -4.904, -5.949, -6.2661, -6.5071, -6.5012, -6.5291, -6.5604, -6.5995, -6.7628, -6.7835, -6.7924, -6.9226, -6.9547, -6.9859, -3.6327, -7.0541, -6.9902, -6.9513, -7.1175, -7.123, -4.8211, -7.2422, -7.3259, -7.3299, -6.9628, -7.4108, -7.3987, -7.4323, -7.3903, -7.4937, -7.3135, -5.9845, -6.86, -4.0491, -5.0122, -5.5937, -6.3636, -6.8381, -5.3623, -6.4378, -4.9051, -5.1145, -5.8498, -5.7373, -4.0731, -5.7524, -5.8774, -6.6632, -4.8284, -4.606, -4.7704, -4.451, -4.7439, -6.1419, -5.906, -5.6962, -5.7954, -4.6607, -4.716, -5.764, -4.9828, -4.9622, -4.9623, -5.3623, -5.1952, -5.4176, -5.2662, -5.1629, -5.1563, -5.5881, -5.3446, -5.4431, -5.4456, -5.3586, -5.4049, -4.7302, -5.4196, -5.7172, -6.1143, -6.1875, -6.4165, -5.4921, -6.8186, -6.844, -6.8958, -6.9402, -7.0327, -7.0558, -7.1029, -7.1153, -7.148, -7.1437, -7.1945, -7.2116, -7.2103, -7.1118, -7.1468, -7.3004, -7.3254, -7.3477, -7.3622, -7.453, -7.4862, -7.45, -5.889, -6.3366, -5.3268, -6.8626, -5.6201, -6.1918, -5.1861, -6.1849, -5.9931, -4.7704, -4.4963, -5.5157, -4.4158, -5.9853, -6.4793, -4.2221, -5.3061, -4.8458, -6.4349, -4.7561, -6.204, -4.5684, -5.0661, -6.2816, -5.2814, -5.4025, -5.6313, -4.8438, -5.3638, -4.7046, -5.1344, -5.6177, -4.9775, -4.8743, -5.1407, -5.244, -5.0152, -5.0325, -5.1934, -5.382, -5.2513, -5.2595, -5.3258, -5.3992, -3.2811, -3.6765, -4.0699, -4.2762, -4.4983, -4.8225, -4.8771, -5.0281, -4.962, -5.093, -5.0182, -3.6717, -5.0183, -5.515, -5.5544, -5.5824, -5.6193, -5.5923, -5.637, -5.712, -5.7252, -5.7698, -6.1158, -6.2097, -4.707, -6.2307, -6.201, -6.2435, -6.2993, -6.3041, -3.1134, -5.1264, -5.0957, -4.8024, -3.7667, -5.101, -4.8574, -4.0975, -4.524, -3.4134, -5.178, -5.1054, -4.995, -4.6207, -5.3999, -4.7069, -5.3227, -4.9255, -4.9299, -4.8752, -5.0251, -5.0946], \"loglift\": [30.0, 29.0, 28.0, 27.0, 26.0, 25.0, 24.0, 23.0, 22.0, 21.0, 20.0, 19.0, 18.0, 17.0, 16.0, 15.0, 14.0, 13.0, 12.0, 11.0, 10.0, 9.0, 8.0, 7.0, 6.0, 5.0, 4.0, 3.0, 2.0, 1.0, 0.9095, 0.9087, 0.9084, 0.9069, 0.9068, 0.9061, 0.9049, 0.9049, 0.9047, 0.9046, 0.9042, 0.9041, 0.9041, 0.9039, 0.9038, 0.9037, 0.9036, 0.9035, 0.9034, 0.9034, 0.9028, 0.9028, 0.9025, 0.902, 0.9014, 0.9012, 0.9011, 0.901, 0.9009, 0.9001, 0.8993, 0.8802, 0.8912, 0.8944, 0.8711, 0.8779, 0.8202, 0.8807, 0.8273, 0.865, 0.8484, 0.7851, 0.7826, 0.8081, 0.7946, 0.8578, 0.7293, 0.8221, 0.8255, 0.8023, 0.6724, 0.6572, 0.4634, 0.7124, 0.534, 0.5987, 0.7165, 0.4971, 0.4398, 0.5576, 0.4853, 0.6341, 0.4104, 0.597, 0.2319, 0.2464, 0.4351, 0.4004, 0.0082, 0.0729, 0.3302, 0.1854, -0.086, 0.0355, 1.2252, 1.2243, 1.2236, 1.223, 1.2222, 1.2222, 1.2219, 1.2208, 1.2206, 1.2205, 1.2204, 1.2201, 1.2198, 1.219, 1.2186, 1.2183, 1.2181, 1.2177, 1.2177, 1.2173, 1.2171, 1.2159, 1.2159, 1.2157, 1.2149, 1.2143, 1.2133, 1.2131, 1.2128, 1.2126, 1.2069, 1.2028, 1.2016, 1.2086, 1.1693, 1.1396, 1.2074, 1.1869, 1.1967, 1.1627, 1.1875, 1.1713, 1.1282, 1.0598, 1.1607, 1.0515, 1.1354, 1.0914, 0.8627, 1.0443, 0.8494, 0.9232, 0.8067, 1.0474, 0.8333, 0.5831, 0.8266, 0.736, 0.4803, 0.8883, 0.4688, 0.5089, 0.4701, 0.6563, 0.4217, 0.7102, 0.1946, 0.4912, 0.3347, 0.0284, -0.1681, -0.119, 1.9153, 1.9109, 1.9085, 1.9058, 1.9056, 1.9053, 1.9052, 1.9045, 1.9022, 1.9021, 1.9021, 1.8998, 1.899, 1.8981, 1.8976, 1.8971, 1.897, 1.8967, 1.8961, 1.8951, 1.8915, 1.8914, 1.8911, 1.8906, 1.8894, 1.8887, 1.8886, 1.8884, 1.8873, 1.8861, 1.8846, 1.853, 1.8716, 1.6965, 1.7562, 1.7755, 1.8133, 1.8468, 1.697, 1.8048, 1.6141, 1.6346, 1.7243, 1.6992, 1.3351, 1.6318, 1.621, 1.8214, 1.3101, 1.2308, 1.1745, 1.0392, 1.0323, 1.6303, 1.5195, 1.408, 1.4546, 0.7098, 0.7422, 1.4021, 0.8531, 0.8351, 0.8276, 1.1092, 0.8514, 1.0454, 0.6977, 0.5051, 0.391, 1.1665, 0.2697, 0.5644, 0.5574, 0.0906, 0.0835, 1.9451, 1.943, 1.9404, 1.9388, 1.9383, 1.9361, 1.9325, 1.9306, 1.9295, 1.9286, 1.9284, 1.9263, 1.9262, 1.9252, 1.9243, 1.924, 1.9239, 1.9233, 1.9227, 1.9224, 1.922, 1.9213, 1.9202, 1.9191, 1.9191, 1.9181, 1.9161, 1.9152, 1.915, 1.9145, 1.9085, 1.876, 1.9023, 1.8533, 1.8656, 1.7706, 1.8371, 1.8208, 1.7048, 1.677, 1.7357, 1.5934, 1.7552, 1.8239, 1.4535, 1.5909, 1.4839, 1.8047, 1.4363, 1.7502, 1.3299, 1.4355, 1.7593, 1.4022, 1.4222, 1.482, 0.9846, 1.2327, 0.7446, 1.0121, 1.3732, 0.7864, 0.6159, 0.8904, 0.7993, 0.393, 0.338, 0.5966, 0.9244, 0.3138, 0.1987, 0.0761, 0.3774, 4.2257, 4.223, 4.2197, 4.2178, 4.2145, 4.208, 4.2067, 4.2029, 4.2016, 4.2009, 4.1951, 4.1919, 4.1898, 4.1851, 4.1843, 4.1833, 4.1811, 4.1811, 4.1796, 4.1756, 4.1749, 4.167, 4.1486, 4.1434, 4.1421, 4.1405, 4.1383, 4.1367, 4.133, 4.1325, 4.1083, 4.1062, 4.0682, 3.7997, 3.3013, 3.7642, 3.6726, 3.2968, 3.3257, 1.9948, 3.6155, 3.5056, 3.3138, 2.6083, 3.8382, 1.7097, 3.584, 2.1018, 1.776, 0.6532, 1.6727, 1.4799]}, \"token.table\": {\"Topic\": [3, 2, 5, 3, 5, 4, 1, 5, 5, 1, 2, 3, 4, 1, 2, 3, 1, 2, 3, 4, 5, 3, 4, 5, 1, 2, 3, 1, 5, 1, 2, 3, 1, 2, 3, 4, 3, 2, 3, 1, 2, 4, 3, 1, 4, 1, 3, 5, 1, 2, 3, 1, 2, 3, 4, 1, 2, 3, 4, 1, 2, 1, 2, 3, 5, 3, 1, 2, 3, 2, 2, 1, 2, 3, 4, 1, 2, 2, 1, 2, 3, 4, 1, 2, 3, 4, 5, 1, 4, 2, 5, 1, 2, 1, 2, 4, 1, 2, 3, 4, 4, 1, 2, 3, 4, 4, 1, 2, 1, 2, 4, 2, 2, 3, 1, 3, 3, 2, 1, 2, 3, 4, 4, 1, 2, 4, 1, 1, 2, 4, 3, 2, 3, 3, 1, 2, 4, 1, 5, 5, 1, 2, 3, 5, 3, 5, 5, 1, 5, 3, 1, 2, 3, 1, 2, 1, 1, 5, 3, 1, 4, 1, 2, 3, 4, 5, 1, 2, 3, 4, 1, 2, 3, 4, 1, 2, 3, 4, 1, 1, 2, 3, 4, 1, 3, 5, 1, 2, 3, 4, 1, 2, 3, 2, 1, 2, 3, 4, 1, 3, 3, 2, 3, 2, 4, 1, 3, 1, 2, 3, 4, 2, 2, 1, 2, 3, 4, 5, 1, 2, 4, 5, 1, 3, 3, 2, 4, 1, 2, 4, 2, 3, 4, 1, 2, 3, 4, 1, 1, 2, 5, 1, 2, 4, 1, 3, 4, 4, 2, 3, 5, 1, 3, 5, 1, 2, 3, 4, 4, 1, 2, 3, 4, 5, 1, 2, 3, 4, 2, 3, 4, 3, 3, 1, 2, 3, 4, 5, 1, 2, 3, 4, 1, 2, 1, 2, 3, 1, 2, 3, 4, 5, 2, 3, 2, 3, 1, 3, 2, 3, 1, 2, 3, 1, 2, 3, 3, 1, 1, 2, 3, 1, 2, 5, 3, 5, 3, 1, 1, 4, 3, 3, 5, 2, 4, 4, 1, 2, 3, 4, 1, 2, 3, 4, 1, 2, 4, 1, 2, 4, 2, 1, 2, 3, 4, 1, 2, 3, 4, 5, 4, 1, 3, 4, 3, 5, 2, 3, 1, 2, 3, 4, 1, 2, 3, 4, 1, 2, 3, 4, 1, 2, 3, 4, 1, 2, 3, 4, 1, 2, 4, 1, 2, 3, 4, 1, 4, 1, 2, 3, 4, 5, 4, 1, 2, 3, 4, 1, 1, 1, 2, 3, 4, 1, 1, 1, 2, 3, 4, 5, 5, 1, 2, 3, 4, 5, 1, 2, 3, 4, 2, 2, 2, 5, 1, 2, 3, 4, 1, 1, 2, 3, 4, 5, 1, 3, 2, 2, 2, 2, 5, 2, 3, 1, 2, 3, 4, 2, 5, 4, 1, 2, 3, 4, 5, 1, 2, 3, 4, 1, 2, 3, 4, 5, 3, 3, 3, 4, 2, 3, 4, 1, 2, 4, 4, 1, 2, 3, 4, 1, 2, 4, 5, 2, 2, 3, 2, 3, 4, 1, 2, 3, 4, 2, 1, 2, 3, 4, 1, 2, 4, 1, 2, 3, 4, 5, 1, 4, 1, 4, 1, 2, 5, 4, 1, 2, 4, 1, 2, 3, 4, 1, 4, 1, 1, 2, 3, 1, 2, 1, 2, 3, 4, 5, 1, 2, 3, 4, 4, 1, 2, 4, 1, 2, 5, 5, 1, 1, 2, 3, 4, 1, 3, 4, 5, 1, 2, 3, 1, 1, 2, 3, 1, 2, 3, 3, 4, 1, 2, 4, 5, 3, 3, 1, 2, 3, 4, 5, 2, 3, 3, 5, 1, 5, 2, 4, 4, 1, 3, 3, 5, 3, 4, 1, 2, 3, 4, 5, 2, 5, 5, 1, 2, 3, 4, 1, 2, 2, 3, 3, 1, 1, 2, 4, 1, 2, 3, 4, 1, 2, 3, 4, 1, 2, 4, 1, 2, 1, 2, 4, 4, 4, 1, 3, 5, 1, 2, 2, 1, 2, 3, 4, 3, 2, 1, 2, 1, 2, 3, 4, 1, 2, 3, 4, 2, 3, 4, 4, 1, 2, 4, 1, 2, 3, 4, 5, 2, 1, 2, 3, 4, 1, 2, 3, 4, 1, 2, 3, 4, 1, 5, 4, 4, 1, 1, 2, 4, 5, 1, 2, 3, 4, 1, 2, 4, 4, 1, 2, 3, 4, 2, 3, 1, 2, 3, 4, 2, 4, 4, 1, 2, 1, 2, 3, 4, 1, 2, 3, 4, 1, 2, 3, 4, 5, 1, 2, 5], \"Freq\": [0.9780686375506192, 0.36134342627065363, 0.6263286055357996, 0.3148310370709672, 0.664643300483153, 0.9910957058742511, 0.9948700475125647, 0.9820836464602216, 0.946866475199021, 0.19612216512972303, 0.2543984656254122, 0.33845082210957916, 0.20957054216718976, 0.006991786877469261, 0.9446680936669579, 0.04816564293367713, 0.041431530758052657, 0.1519156127795264, 0.2900207153063686, 0.12429459227415796, 0.40050479732784233, 0.9799313729669061, 0.01716167027963058, 0.002574250541944587, 0.016503627822628777, 0.9352055766156306, 0.04400967419367673, 0.9888006070191886, 0.9554565322916447, 0.9143026943919754, 0.07848091797356012, 0.007848091797356013, 0.1630692155622426, 0.48804286657556895, 0.3447749129030272, 0.004659120444635503, 0.9877337362038356, 0.9807701518598317, 0.019005234967197148, 0.2380368115027532, 0.22191973572392093, 0.5393021510609252, 0.9553230715560848, 0.169039569046512, 0.8240678991017459, 0.16666193099410928, 0.1851799233267881, 0.6481297316437583, 0.06624168079459115, 0.10598668927134586, 0.8213968418529304, 0.43733054364126167, 0.4700176203567168, 0.06537415343091024, 0.0270513738334801, 0.6069315704134487, 0.009248481072966839, 0.0011560601341208548, 0.38149984425988204, 0.05849748037403536, 0.9404594921671839, 0.016466293525062525, 0.08233146762531261, 0.9056461438784388, 0.9740089141257763, 0.9824947845263037, 0.22108106976651168, 0.030705704134237732, 0.7430780400485532, 0.9952893101899437, 0.9928341206232831, 0.4165405600582768, 0.30231194311558146, 0.24322817573142874, 0.03741971934329673, 0.12483022009713385, 0.8738115406799369, 0.9884318523959209, 0.6539487712150125, 0.2748111567751803, 0.06234141982399924, 0.008905917117714178, 0.5722909900679997, 0.1078909243570819, 0.1219636536210491, 0.004690909754655735, 0.19701820969554085, 0.9830468571536775, 0.01445657142873055, 0.9961219016265306, 0.9663765304270363, 0.00929274662449063, 0.985031142196007, 0.017204387754311445, 0.8326923673086739, 0.1479577346870784, 0.43362642354171665, 0.17015720417459768, 0.1877218187990723, 0.20857979866563586, 0.9891337555224434, 0.2573254422086139, 0.202807340045772, 0.4186990246106261, 0.11993982475825227, 0.9746773283534749, 0.9928685724361823, 0.9912350546137685, 0.8240165382422816, 0.13911967528765795, 0.037455297192830986, 0.9911318772798959, 0.9784476722392649, 0.022070248245998455, 0.9728130224058867, 0.02316221481918778, 0.986339420365691, 0.9846257134084381, 0.357692545982414, 0.1842658570212436, 0.1441609351989729, 0.3132519569361141, 0.9972929264400179, 0.04070247811833723, 0.36632230306503505, 0.5917514126435182, 0.9866151325950308, 0.03129253244298267, 0.14081639599342202, 0.8214289766282952, 0.9961398671733087, 0.6714986053959161, 0.32740770511540007, 0.9623016288825211, 0.0016321290262558716, 0.23502657978084548, 0.7638363842877478, 0.9897551159573236, 0.980582408729738, 0.9558219958329074, 0.995467284505315, 0.0512308044239019, 0.06520284199405696, 0.8848957127764874, 0.0353938981167262, 0.9644837236807888, 0.990528184464366, 0.991063531562482, 0.9277060705246533, 0.9714112400895434, 0.23407765429501728, 0.09134737728586041, 0.6736869074832205, 0.03794467685511082, 0.9612651469961407, 0.9940879532473376, 0.44849564978683365, 0.5381947797442004, 0.9748506490246882, 0.9935168524172864, 0.9937495831675156, 0.42476202212019276, 0.15008258114913478, 0.07504129057456739, 0.34688898473149077, 0.0014158734070673093, 0.2517051297879839, 0.12211436989714068, 0.13706714988454566, 0.4884574795885627, 0.1183311902886497, 0.03244564895011363, 0.2194852723095922, 0.6298273031492645, 0.029947022187165707, 0.017968213312299423, 0.04791523549946513, 0.9103894744898374, 0.992398149674202, 0.28186163345542836, 0.015586818439931524, 0.4753979624179115, 0.22730776891566806, 0.24224936075041928, 0.7509730183262998, 0.923667937319893, 0.020117087377691995, 0.020117087377691995, 0.9253860193738318, 0.020117087377691995, 0.757907339807356, 0.054890225167106566, 0.18578230056559145, 0.9965818180879251, 0.2381961065552442, 0.6745713737644516, 0.08575059835988791, 0.9613698272031723, 0.1479857393109092, 0.8494381436446188, 0.9808186183259612, 0.9930085462742062, 0.007067676485937411, 0.9948004672677419, 0.0036776357385129087, 0.24385098389256343, 0.7547768549055535, 0.18673561378400458, 0.6950027479907985, 0.11006271276010866, 0.007419958163602831, 0.9965596034306222, 0.9973348075049566, 0.31593142831358073, 0.47883357103777074, 0.09214666659146104, 0.0855647618349281, 0.026327619026131725, 0.05756822196456602, 0.13432585125065405, 0.8107524593343047, 0.9809933943427024, 0.19794257773197113, 0.8013481775923348, 0.9854780475299705, 0.9908393582210652, 0.9850520932287242, 0.0397342319455484, 0.1743891290943513, 0.7836473522594268, 0.15585724962605563, 0.802376211037842, 0.0346349443613457, 0.32993574443988233, 0.1270777248902727, 0.5036474968128238, 0.039638923360268544, 0.993893611065694, 0.07473788480342348, 0.42974283761968507, 0.4857962512222527, 0.026130947836015758, 0.8402104765734297, 0.1346748850010043, 0.1752999055300097, 0.750502720550354, 0.07121558662156645, 0.9695222090024699, 0.0027988422818893983, 0.9739971140975106, 0.022390738255115186, 0.9929566276785137, 0.9825548365278508, 0.9493976305135868, 0.5595540977940084, 0.27308381806214765, 0.004015938500913936, 0.16197618620352877, 0.9713814185181407, 0.28496422845476005, 0.389588776099986, 0.2560548139738424, 0.066078661670669, 0.002753277569611208, 0.702681235455443, 0.14891257969916674, 0.04033049033519099, 0.10703091665877609, 0.04296428285676388, 0.03222321214257291, 0.9237320814204234, 0.9905607582095936, 0.9902178952701125, 0.10610781107483959, 0.04613383090210417, 0.7381412944336667, 0.1084145026199448, 0.0023066915451052084, 0.20020828173610916, 0.02679953377569965, 0.5438728913303753, 0.22858425867508528, 0.04792562693696095, 0.9465311320049788, 0.9385912619507825, 0.03896039200550418, 0.02125112291209319, 0.3211585945215937, 0.5258436720966894, 0.12075563154011922, 0.005138537512345499, 0.028261956317900242, 0.7122319679423644, 0.2843406693723393, 0.917736628864741, 0.08223446495203773, 0.0847347270695808, 0.8957671147355685, 0.9749929653292599, 0.023325190558116268, 0.8988405960576185, 0.08955238410906162, 0.01326701986800913, 0.1148013847037377, 0.08313203719925834, 0.8036096929261639, 0.9865044678951153, 0.9926655689562902, 0.4083675797300507, 0.5662239550878855, 0.024021622337061805, 0.9541496460699144, 0.04050635289919448, 0.9724793448707838, 0.9901745917023119, 0.8688762189326682, 0.9850500641830287, 0.9970146469941124, 0.9863361219603636, 0.977523116844441, 0.9746662989122223, 0.9925531288822229, 0.9892401528294554, 0.09330386419305939, 0.8915702578447898, 0.962400814830225, 0.6399192851543939, 0.13507730193707135, 0.07093444906192574, 0.15394284690034946, 0.7324023956317687, 0.24569909426108477, 0.02034451098977135, 0.0015649623838285655, 0.40834339365786154, 0.23120813156883485, 0.3598642692966542, 0.056126974132407706, 0.5979681474875744, 0.3475554936660631, 0.9857370759935731, 0.35029330112318535, 0.06422043853925065, 0.4728959565163002, 0.11384532286503524, 0.003993360820510045, 0.00798672164102009, 0.539103710768856, 0.055907051487140626, 0.3953427212304944, 0.9976743958488532, 0.3524147357633151, 0.5991050507976357, 0.04845702616745583, 0.03394462414429156, 0.9504494760401637, 0.36885382689918134, 0.6275305366726333, 0.11906576124412324, 0.26095246006003675, 0.008929932093309244, 0.6102120263761316, 0.9178914059829769, 0.03085349263808326, 0.019283432898802036, 0.03085349263808326, 0.8195287783254865, 0.03877896427407665, 0.13443374281679907, 0.005170528569876887, 0.2599834721304386, 0.4107185703337248, 0.25860058132123415, 0.07191032207863195, 0.17175953652778425, 0.062332089868953965, 0.0651024049742408, 0.7022748791902147, 0.1615532169778071, 0.13799337283521024, 0.7000639402371641, 0.17577356286921283, 0.22806063536828247, 0.3359722530791283, 0.25921038068687713, 0.024996942278217537, 0.9665484347577448, 0.07898548704995856, 0.04480907438411111, 0.5582147402088418, 0.21113428269123538, 0.10708609301965535, 0.95702761607989, 0.24930957843531762, 0.13372059206985218, 0.018131605704386735, 0.5983429882447623, 0.9992874847636549, 0.996617978695686, 0.17804338039374623, 0.17804338039374623, 0.6003788408626327, 0.04140543730087122, 0.9991773613405621, 0.9949705026413339, 0.5729277129615276, 0.321814715365624, 0.002437990267921394, 0.0390078442867423, 0.06338774696595624, 0.9485624079669895, 0.6220417845226259, 0.0028665520024084143, 0.05733104004816829, 0.31675399626612977, 0.9616285256269512, 0.13283713820476414, 0.6577992901485916, 0.1698782632810926, 0.03959568542642008, 0.9986253799745797, 0.9977381021804713, 0.9939888148691336, 0.9356649993015802, 0.879690892667676, 0.10758809478669418, 0.01107524505157146, 0.0015821778645102086, 0.9942487605499668, 0.1051510838548718, 0.02213707028523617, 0.39293299756294203, 0.08854828114094468, 0.39293299756294203, 0.9790893412878957, 0.01688085071186027, 0.9954887469943934, 0.9874514581901817, 0.9888301580308186, 0.07112195377089207, 0.924585399021597, 0.10341239798382376, 0.8919319326104799, 0.4774116253718222, 0.12079089316636465, 0.3436788507947756, 0.05751947293636412, 0.12990598753033897, 0.8443889189472032, 0.9751189883853457, 0.41258044232548985, 0.12399359037973498, 0.41258044232548985, 0.0471834016489257, 0.003291865231320398, 0.8341201223342233, 0.13781115064652386, 0.02466094274727269, 0.002901287382032081, 0.11033738501199844, 0.3497486921135045, 0.2498204943667889, 0.20818374530565742, 0.0811916606692064, 0.9673007829476375, 0.9859796752877283, 0.9965285504363746, 0.975887524948597, 0.9866941592487322, 0.9750156111254702, 0.02378086856403586, 0.018278109647221357, 0.05026480152985873, 0.9321835920082892, 0.9883659251672826, 0.9024725790376279, 0.0756563838714179, 0.016212082258160978, 0.0027020137096934967, 0.5831554727981748, 0.0031779589798265656, 0.3924779340085809, 0.02224571285878596, 0.9967129695546686, 0.8379700922470864, 0.16324092706112073, 0.9918414593770959, 0.025917395418756022, 0.9589436304939728, 0.6620489683199399, 0.14288041985158506, 0.19087078987807163, 0.003272070683624085, 0.9916753881717955, 0.17944546564536654, 0.027188706915964627, 0.2120719139445241, 0.5791194573100465, 0.9854311854928688, 0.9154988235513254, 0.08137767320456225, 0.4439828534899511, 0.3612531292371651, 0.055153149501857276, 0.06342612192713587, 0.07721440930260018, 0.3677304914395628, 0.6268133376810731, 0.10987006438989268, 0.8789605151191414, 0.189527403902836, 0.22398693188516985, 0.5685822117085081, 0.9733856472382156, 0.1362293914675788, 0.8469914339071203, 0.015794712054212033, 0.3587483221855571, 0.4685070156587587, 0.13821465104032793, 0.03455366276008198, 0.12887345223250096, 0.8634521299577566, 0.9964284314812887, 0.8825610971699118, 0.11523455185782258, 0.0013557006100920303, 0.9618787368809947, 0.03562513840299981, 0.30518798437883465, 0.47411466686375536, 0.19225909719278267, 0.02613230447280541, 0.0018665931766289581, 0.3914603138618838, 0.16054271298830067, 0.44644069502226075, 0.0021992152464150776, 0.995628542509148, 0.9936088471178609, 0.0025091132502976284, 0.0025091132502976284, 0.12216530051734086, 0.4624829233870761, 0.40140027312840565, 0.878581425184912, 0.9995322683421068, 0.4329124217092565, 0.26009657594628716, 0.2173290181564614, 0.0890263447869842, 0.07750094181752326, 0.08718855954471366, 0.8234475068111846, 0.019375235454380815, 0.9699256443829685, 0.023622830880387483, 0.005558313148326466, 0.9919312799081978, 0.268180417898868, 0.6125304219465268, 0.1190149783574858, 0.07023422747349194, 0.9060215344080459, 0.02107026824204758, 0.981988432719287, 0.9857537544056966, 0.4300395644158198, 0.44779931043889204, 0.12304966887414313, 0.8768777097434525, 0.9708638637234805, 0.9763674086115387, 0.34754789622176846, 0.4087163259567997, 0.13623877531893322, 0.02224306535819318, 0.08619187826299857, 0.06034295230528302, 0.9396259716108356, 0.10435774170795127, 0.8696478475662606, 0.45203385009898617, 0.5273728251154839, 0.02179284663410693, 0.958885251900705, 0.9923442743153138, 0.12952991418351903, 0.8689298409811068, 0.9670696432347411, 0.9145233644410362, 0.9485485173737823, 0.042157711883279214, 0.7765337749840993, 0.08404045183810598, 0.08908287894839234, 0.04538184399257723, 0.0050424271102863585, 0.9889281556087081, 0.9971536240134062, 0.9438203439073063, 0.9901777949663654, 0.004715132356982692, 0.002357566178491346, 0.002357566178491346, 0.03522612901431463, 0.9651959349922209, 0.9835041928155438, 0.010352675713847828, 0.9767536251861867, 0.9926763875545637, 0.7316899018805808, 0.24853597210617556, 0.019882877768494043, 0.4847459140387746, 0.3559170449924336, 0.025110711763269854, 0.13428771942966053, 0.6862515412150403, 0.1642809292212575, 0.1479693475964518, 0.001165112973200408, 0.22243158422299175, 0.6860540429046492, 0.09111655257327374, 0.9203001537283777, 0.07836617029564788, 0.891701627444336, 0.0745087613228421, 0.0336491180167674, 0.9718797990064847, 0.9890401943095948, 0.947854915439263, 0.024303972190750332, 0.024303972190750332, 0.9913196969261419, 0.9908050136100522, 0.9914935206129435, 0.26906870974066105, 0.2483096994936071, 0.30898988329268795, 0.17405631668683713, 0.9590234139893684, 0.9963257919093879, 0.00938061020396246, 0.9849640714160585, 0.5441124875750349, 0.10590997325061507, 0.2952240504360895, 0.05427886129094023, 0.507697892186805, 0.2394490869146844, 0.1596327246097896, 0.09380479693564955, 0.13933707488437516, 0.021436473059134643, 0.8395951948161068, 0.9789853796635815, 0.9166353001009884, 0.0813144217831522, 0.9738475459339216, 0.26837355296853627, 0.4869063032429158, 0.08051206589056088, 0.0421729868950557, 0.11885114488606606, 0.9946893482637444, 0.5144499887293126, 0.21502054796631026, 0.07463523152549613, 0.19547322542391843, 0.6004702901091827, 0.2682952360062306, 0.1291791877067036, 0.0014195515132604793, 0.36951394805942694, 0.1693275907595661, 0.16062383609435477, 0.30067516116184634, 0.9902991520447272, 0.9600384513966497, 0.9868083808725208, 0.953107805184351, 0.9972065104209888, 0.00570395504722854, 0.00570395504722854, 0.9867842231705374, 0.9889572704223349, 0.4059019818807323, 0.09507613989999135, 0.29912416322381896, 0.20039124871228947, 0.969686257239754, 0.010774291747108377, 0.021548583494216754, 0.9946478232019842, 0.6245193687248866, 0.20450487404647535, 0.1659882609973634, 0.004585311077275232, 0.9685596822761744, 0.02401387642007044, 0.025881645899087823, 0.38452731050073335, 0.025881645899087823, 0.5620014538087641, 0.11787330221672816, 0.8840497666254612, 0.977617214557575, 0.25995246699856683, 0.7394203505737013, 0.7885451596435958, 0.08505331703651217, 0.0014415816446866469, 0.12397602144305163, 0.2196052772323079, 0.0016636763426689993, 0.17801336866558293, 0.6005871597035087, 0.20362203593573125, 0.11706206114523822, 0.4154878789943666, 0.26380182793293117, 0.9929107500744448, 0.9911820925515467, 0.007314996993000345, 0.9375932562595236], \"Term\": [\"89\", \"93\", \"93\", \"aah\", \"aah\", \"affair\", \"along\", \"alpha\", \"appreciate\", \"around\", \"around\", \"around\", \"around\", \"as\", \"as\", \"as\", \"ayeah\", \"ayeah\", \"ayeah\", \"ayeah\", \"ayeah\", \"baby\", \"baby\", \"baby\", \"bang\", \"bang\", \"bang\", \"battle\", \"bay\", \"beat\", \"beat\", \"beat\", \"big\", \"big\", \"big\", \"big\", \"biggie\", \"bitch\", \"bitch\", \"black\", \"black\", \"black\", \"blam\", \"bless\", \"bless\", \"bong\", \"bong\", \"bong\", \"bounce\", \"bounce\", \"bounce\", \"break\", \"break\", \"break\", \"break\", \"brother\", \"brother\", \"brother\", \"brother\", \"buck\", \"buck\", \"bud\", \"bud\", \"bud\", \"burnin\", \"bustas\", \"butt\", \"butt\", \"butt\", \"bye\", \"cali\", \"call\", \"call\", \"call\", \"call\", \"cash\", \"cash\", \"central\", \"check\", \"check\", \"check\", \"check\", \"chill\", \"chill\", \"chill\", \"chill\", \"chill\", \"clear\", \"clear\", \"clip\", \"cocoa\", \"compton\", \"compton\", \"cop\", \"cop\", \"cop\", \"could\", \"could\", \"could\", \"could\", \"coward\", \"crazy\", \"crazy\", \"crazy\", \"crazy\", \"creator\", \"crowd\", \"cube\", \"cut\", \"cut\", \"cut\", \"cypress\", \"da\", \"da\", \"dance\", \"dance\", \"dancin\", \"dat\", \"day\", \"day\", \"day\", \"day\", \"de\", \"death\", \"death\", \"death\", \"def\", \"devil\", \"devil\", \"devil\", \"di\", \"dick\", \"dick\", \"diddy\", \"die\", \"die\", \"die\", \"different\", \"diggy\", \"dive\", \"dj\", \"dogg\", \"dogg\", \"dogg\", \"doggy\", \"doggy\", \"doo\", \"drama\", \"dresser\", \"dum\", \"eat\", \"eat\", \"eat\", \"eazy\", \"eazy\", \"effect\", \"ego\", \"ego\", \"eh\", \"emcee\", \"enemy\", \"every\", \"every\", \"every\", \"every\", \"every\", \"everybody\", \"everybody\", \"everybody\", \"everybody\", \"eye\", \"eye\", \"eye\", \"eye\", \"family\", \"family\", \"family\", \"family\", \"fan\", \"feel\", \"feel\", \"feel\", \"feel\", \"fine\", \"fine\", \"flavour\", \"flipmode\", \"flipmode\", \"flipmode\", \"flipmode\", \"flow\", \"flow\", \"flow\", \"fo\", \"fool\", \"fool\", \"fool\", \"forgive\", \"freak\", \"freak\", \"freaky\", \"fuck\", \"fuck\", \"fuckin\", \"fuckin\", \"funk\", \"funk\", \"game\", \"game\", \"game\", \"game\", \"gangsta\", \"gat\", \"gettin\", \"gettin\", \"gettin\", \"gettin\", \"gettin\", \"ghetto\", \"ghetto\", \"ghetto\", \"gi\", \"girl\", \"girl\", \"girlfriend\", \"glock\", \"glory\", \"god\", \"god\", \"god\", \"gon\", \"gon\", \"gon\", \"good\", \"good\", \"good\", \"good\", \"groove\", \"groupie\", \"groupie\", \"groupie\", \"gun\", \"gun\", \"gun\", \"guy\", \"guy\", \"guy\", \"guys\", \"ha\", \"ha\", \"ha\", \"hah\", \"hahaha\", \"hallway\", \"hard\", \"hard\", \"hard\", \"hard\", \"hatin\", \"head\", \"head\", \"head\", \"head\", \"head\", \"hear\", \"hear\", \"hear\", \"hear\", \"heaven\", \"heaven\", \"heaven\", \"hella\", \"hello\", \"hey\", \"hey\", \"hey\", \"hey\", \"hey\", \"high\", \"high\", \"high\", \"high\", \"hill\", \"hill\", \"hip\", \"hip\", \"hip\", \"hit\", \"hit\", \"hit\", \"hit\", \"hit\", \"ho\", \"ho\", \"hoe\", \"hoe\", \"honey\", \"honey\", \"hood\", \"hood\", \"hop\", \"hop\", \"hop\", \"huh\", \"huh\", \"huh\", \"hump\", \"hype\", \"ice\", \"ice\", \"ice\", \"ill\", \"ill\", \"illusion\", \"indo\", \"ing\", \"inglewood\", \"jam\", \"jay\", \"jealousy\", \"jean\", \"jimmy\", \"jones\", \"judge\", \"judge\", \"justice\", \"keep\", \"keep\", \"keep\", \"keep\", \"kick\", \"kick\", \"kick\", \"kick\", \"kid\", \"kid\", \"kid\", \"kill\", \"kill\", \"kill\", \"killa\", \"kind\", \"kind\", \"kind\", \"kind\", \"kiss\", \"kiss\", \"kiss\", \"kiss\", \"kiss\", \"la\", \"lady\", \"lady\", \"lady\", \"lbc\", \"lbc\", \"lick\", \"lick\", \"life\", \"life\", \"life\", \"life\", \"line\", \"line\", \"line\", \"line\", \"listen\", \"listen\", \"listen\", \"listen\", \"little\", \"little\", \"little\", \"little\", \"live\", \"live\", \"live\", \"live\", \"livin\", \"livin\", \"livin\", \"look\", \"look\", \"look\", \"look\", \"lord\", \"lord\", \"love\", \"love\", \"love\", \"love\", \"love\", \"makaveli\", \"many\", \"many\", \"many\", \"many\", \"mc\", \"mcs\", \"meet\", \"meet\", \"meet\", \"meet\", \"mic\", \"microphone\", \"might\", \"might\", \"might\", \"might\", \"might\", \"milky\", \"mind\", \"mind\", \"mind\", \"mind\", \"mischief\", \"money\", \"money\", \"money\", \"money\", \"motherfucker\", \"motherfuckin\", \"motherfucking\", \"motivate\", \"move\", \"move\", \"move\", \"move\", \"movin\", \"mr\", \"mr\", \"mr\", \"mr\", \"mr\", \"music\", \"music\", \"mutha\", \"muthafucka\", \"muthafuckin\", \"na\", \"na\", \"naked\", \"naked\", \"name\", \"name\", \"name\", \"name\", \"nas\", \"nas\", \"natural\", \"need\", \"need\", \"need\", \"need\", \"need\", \"new\", \"new\", \"new\", \"new\", \"nothing\", \"nothing\", \"nothing\", \"nothing\", \"nothing\", \"oak\", \"oaktown\", \"ooh\", \"os\", \"outlaw\", \"outlawz\", \"outlawz\", \"pain\", \"pain\", \"pain\", \"paranoid\", \"party\", \"party\", \"party\", \"party\", \"people\", \"people\", \"people\", \"people\", \"pig\", \"pimp\", \"pimp\", \"pimpin\", \"pistol\", \"pistol\", \"play\", \"play\", \"play\", \"play\", \"playeah\", \"please\", \"please\", \"please\", \"please\", \"plug\", \"police\", \"police\", \"pop\", \"pop\", \"pop\", \"pop\", \"pop\", \"power\", \"power\", \"pray\", \"pray\", \"president\", \"president\", \"president\", \"prison\", \"punk\", \"punk\", \"punk\", \"put\", \"put\", \"put\", \"put\", \"race\", \"race\", \"radio\", \"rap\", \"rap\", \"rap\", \"rapper\", \"rapper\", \"real\", \"real\", \"real\", \"real\", \"real\", \"really\", \"really\", \"really\", \"really\", \"rebel\", \"record\", \"record\", \"record\", \"represent\", \"represent\", \"represent\", \"reveal\", \"rhyme\", \"right\", \"right\", \"right\", \"right\", \"rise\", \"rise\", \"rise\", \"rise\", \"rock\", \"rock\", \"rock\", \"rockin\", \"roll\", \"roll\", \"roll\", \"rollin\", \"rollin\", \"rollin\", \"root\", \"ruckus\", \"run\", \"run\", \"run\", \"sac\", \"sale\", \"saturday\", \"sayin\", \"sayin\", \"sayin\", \"sayin\", \"sayin\", \"scandalous\", \"scandalous\", \"scooby\", \"scooby\", \"scoop\", \"scoop\", \"search\", \"search\", \"searchin\", \"sex\", \"sex\", \"sexy\", \"shin\", \"shook\", \"shook\", \"show\", \"show\", \"show\", \"show\", \"show\", \"slug\", \"snoop\", \"snoopy\", \"sound\", \"sound\", \"sound\", \"sound\", \"south\", \"south\", \"spit\", \"spit\", \"spittin\", \"stage\", \"step\", \"step\", \"step\", \"still\", \"still\", \"still\", \"still\", \"stop\", \"stop\", \"stop\", \"stop\", \"street\", \"street\", \"street\", \"style\", \"style\", \"sucker\", \"sucker\", \"sucker\", \"suffer\", \"survive\", \"swing\", \"swing\", \"swing\", \"syndicate\", \"ta\", \"tat\", \"tell\", \"tell\", \"tell\", \"tell\", \"tender\", \"tha\", \"thang\", \"thang\", \"thing\", \"thing\", \"thing\", \"thing\", \"think\", \"think\", \"think\", \"think\", \"thug\", \"thug\", \"thug\", \"ton\", \"track\", \"track\", \"tre\", \"trip\", \"trip\", \"trip\", \"trip\", \"trip\", \"trippin\", \"try\", \"try\", \"try\", \"try\", \"two\", \"two\", \"two\", \"two\", \"u\", \"u\", \"u\", \"u\", \"upon\", \"vibration\", \"violent\", \"wa\", \"wack\", \"war\", \"war\", \"war\", \"warren\", \"way\", \"way\", \"way\", \"way\", \"weak\", \"weak\", \"weak\", \"weapon\", \"well\", \"well\", \"well\", \"well\", \"westside\", \"westside\", \"white\", \"white\", \"white\", \"white\", \"wicked\", \"wicked\", \"wildin\", \"wit\", \"wit\", \"word\", \"word\", \"word\", \"word\", \"world\", \"world\", \"world\", \"world\", \"would\", \"would\", \"would\", \"would\", \"wow\", \"write\", \"write\", \"wrms\"]}, \"R\": 30, \"lambda.step\": 0.01, \"plot.opts\": {\"xlab\": \"PC1\", \"ylab\": \"PC2\"}, \"topic.order\": [5, 1, 2, 4, 3]};\n",
       "\n",
       "function LDAvis_load_lib(url, callback){\n",
       "  var s = document.createElement('script');\n",
       "  s.src = url;\n",
       "  s.async = true;\n",
       "  s.onreadystatechange = s.onload = callback;\n",
       "  s.onerror = function(){console.warn(\"failed to load library \" + url);};\n",
       "  document.getElementsByTagName(\"head\")[0].appendChild(s);\n",
       "}\n",
       "\n",
       "if(typeof(LDAvis) !== \"undefined\"){\n",
       "   // already loaded: just create the visualization\n",
       "   !function(LDAvis){\n",
       "       new LDAvis(\"#\" + \"ldavis_el39234129794968806017001517\", ldavis_el39234129794968806017001517_data);\n",
       "   }(LDAvis);\n",
       "}else if(typeof define === \"function\" && define.amd){\n",
       "   // require.js is available: use it to load d3/LDAvis\n",
       "   require.config({paths: {d3: \"https://d3js.org/d3.v5\"}});\n",
       "   require([\"d3\"], function(d3){\n",
       "      window.d3 = d3;\n",
       "      LDAvis_load_lib(\"https://cdn.jsdelivr.net/gh/bmabey/pyLDAvis@3.4.0/pyLDAvis/js/ldavis.v3.0.0.js\", function(){\n",
       "        new LDAvis(\"#\" + \"ldavis_el39234129794968806017001517\", ldavis_el39234129794968806017001517_data);\n",
       "      });\n",
       "    });\n",
       "}else{\n",
       "    // require.js not available: dynamically load d3 & LDAvis\n",
       "    LDAvis_load_lib(\"https://d3js.org/d3.v5.js\", function(){\n",
       "         LDAvis_load_lib(\"https://cdn.jsdelivr.net/gh/bmabey/pyLDAvis@3.4.0/pyLDAvis/js/ldavis.v3.0.0.js\", function(){\n",
       "                 new LDAvis(\"#\" + \"ldavis_el39234129794968806017001517\", ldavis_el39234129794968806017001517_data);\n",
       "            })\n",
       "         });\n",
       "}\n",
       "</script>"
      ]
     },
     "execution_count": 20,
     "metadata": {},
     "output_type": "execute_result"
    }
   ],
   "execution_count": 20
  },
  {
   "metadata": {
    "ExecuteTime": {
     "end_time": "2024-10-14T20:28:51.802251Z",
     "start_time": "2024-10-14T20:28:51.240215Z"
    }
   },
   "cell_type": "code",
   "source": [
    "def format_topics_sentences(ldamodel, corpus, texts):\n",
    "    # Init output\n",
    "    sent_topics_df = pd.DataFrame()\n",
    "\n",
    "    # Get main topic in each document\n",
    "    for i, row_list in enumerate(ldamodel[corpus]):\n",
    "        row = sorted(row_list, key=lambda x: (x[1]), reverse=True)\n",
    "        # Get the dominant topic, its percentage, and keywords\n",
    "        for j, (topic_num, prop_topic) in enumerate(row):\n",
    "            if j == 0:  # Only the dominant topic\n",
    "                wp = ldamodel.show_topic(topic_num)\n",
    "                topic_keywords = \", \".join([word for word, prop in wp])\n",
    "\n",
    "                # Creating a temporary DataFrame to hold the new row\n",
    "                temp_df = pd.DataFrame([[int(topic_num), round(prop_topic, 4), topic_keywords]],\n",
    "                                       columns=['Dominant_Topic', 'Perc_Contribution', 'Topic_Keywords'])\n",
    "\n",
    "                # Use pd.concat() instead of append\n",
    "                sent_topics_df = pd.concat([sent_topics_df, temp_df], ignore_index=True)\n",
    "\n",
    "            else:\n",
    "                break\n",
    "\n",
    "    # Add original text to the DataFrame\n",
    "    contents = pd.Series(texts)\n",
    "    sent_topics_df = pd.concat([sent_topics_df, contents.rename('Text')], axis=1)\n",
    "\n",
    "    return sent_topics_df\n",
    "\n",
    "# Apply the updated function\n",
    "df_topic_sents_keywords = format_topics_sentences(\n",
    "    ldamodel=optimal_model,\n",
    "    corpus=corpus,\n",
    "    texts=df['Lyrics']\n",
    ")\n",
    "\n",
    "# Format the output\n",
    "df_dominant_topic = df_topic_sents_keywords.reset_index()\n",
    "df_dominant_topic.columns = ['Document_No', 'Dominant_Topic', 'Topic_Perc_Contrib', 'Keywords', 'Text']\n",
    "\n",
    "# Display the result\n",
    "df_dominant_topic.head()"
   ],
   "id": "40fd12776f4eb9d9",
   "outputs": [
    {
     "data": {
      "text/plain": [
       "   Document_No  Dominant_Topic  Topic_Perc_Contrib  \\\n",
       "0            0               4              0.4977   \n",
       "1            1               0              0.5851   \n",
       "2            2               4              0.9752   \n",
       "3            3               1              0.4143   \n",
       "4            4               4              0.6290   \n",
       "\n",
       "                                            Keywords  \\\n",
       "0  rhyme, keep, beat, rock, well, rap, think, pla...   \n",
       "1  fuck, bitch, as, motherfucker, hit, game, hoe,...   \n",
       "2  rhyme, keep, beat, rock, well, rap, think, pla...   \n",
       "3  baby, girl, love, would, good, way, tell, need...   \n",
       "4  rhyme, keep, beat, rock, well, rap, think, pla...   \n",
       "\n",
       "                                                Text  \n",
       "0  crew house terra herb mcgruff buddah bless big...  \n",
       "1  number one crew area big lightin nigga incense...  \n",
       "2  many mc overrate ask even suppose make rap biz...  \n",
       "3  let get point real quick pocket thick mad chic...  \n",
       "4  spark phillies pass stout making quick money g...  "
      ],
      "text/html": [
       "<div>\n",
       "<style scoped>\n",
       "    .dataframe tbody tr th:only-of-type {\n",
       "        vertical-align: middle;\n",
       "    }\n",
       "\n",
       "    .dataframe tbody tr th {\n",
       "        vertical-align: top;\n",
       "    }\n",
       "\n",
       "    .dataframe thead th {\n",
       "        text-align: right;\n",
       "    }\n",
       "</style>\n",
       "<table border=\"1\" class=\"dataframe\">\n",
       "  <thead>\n",
       "    <tr style=\"text-align: right;\">\n",
       "      <th></th>\n",
       "      <th>Document_No</th>\n",
       "      <th>Dominant_Topic</th>\n",
       "      <th>Topic_Perc_Contrib</th>\n",
       "      <th>Keywords</th>\n",
       "      <th>Text</th>\n",
       "    </tr>\n",
       "  </thead>\n",
       "  <tbody>\n",
       "    <tr>\n",
       "      <th>0</th>\n",
       "      <td>0</td>\n",
       "      <td>4</td>\n",
       "      <td>0.4977</td>\n",
       "      <td>rhyme, keep, beat, rock, well, rap, think, pla...</td>\n",
       "      <td>crew house terra herb mcgruff buddah bless big...</td>\n",
       "    </tr>\n",
       "    <tr>\n",
       "      <th>1</th>\n",
       "      <td>1</td>\n",
       "      <td>0</td>\n",
       "      <td>0.5851</td>\n",
       "      <td>fuck, bitch, as, motherfucker, hit, game, hoe,...</td>\n",
       "      <td>number one crew area big lightin nigga incense...</td>\n",
       "    </tr>\n",
       "    <tr>\n",
       "      <th>2</th>\n",
       "      <td>2</td>\n",
       "      <td>4</td>\n",
       "      <td>0.9752</td>\n",
       "      <td>rhyme, keep, beat, rock, well, rap, think, pla...</td>\n",
       "      <td>many mc overrate ask even suppose make rap biz...</td>\n",
       "    </tr>\n",
       "    <tr>\n",
       "      <th>3</th>\n",
       "      <td>3</td>\n",
       "      <td>1</td>\n",
       "      <td>0.4143</td>\n",
       "      <td>baby, girl, love, would, good, way, tell, need...</td>\n",
       "      <td>let get point real quick pocket thick mad chic...</td>\n",
       "    </tr>\n",
       "    <tr>\n",
       "      <th>4</th>\n",
       "      <td>4</td>\n",
       "      <td>4</td>\n",
       "      <td>0.6290</td>\n",
       "      <td>rhyme, keep, beat, rock, well, rap, think, pla...</td>\n",
       "      <td>spark phillies pass stout making quick money g...</td>\n",
       "    </tr>\n",
       "  </tbody>\n",
       "</table>\n",
       "</div>"
      ]
     },
     "execution_count": 21,
     "metadata": {},
     "output_type": "execute_result"
    }
   ],
   "execution_count": 21
  },
  {
   "metadata": {
    "ExecuteTime": {
     "end_time": "2024-10-14T20:28:55.722897Z",
     "start_time": "2024-10-14T20:28:55.709528Z"
    }
   },
   "cell_type": "code",
   "source": [
    "# Assuming you have a 'Region' column indicating 'East' or 'West'\n",
    "df_dominant_topic['Coast'] = df['Coast']\n",
    "\n",
    "# Calculate the distribution of topics by region (East vs West) in percentages\n",
    "topic_region_dist = pd.crosstab(df_dominant_topic['Dominant_Topic'],\n",
    "                                df_dominant_topic['Coast'],\n",
    "                                normalize='index') * 100\n",
    "print(topic_region_dist)"
   ],
   "id": "bd13b4cea73ca753",
   "outputs": [
    {
     "name": "stdout",
     "output_type": "stream",
     "text": [
      "Coast           east_coast  west_coast\n",
      "Dominant_Topic                        \n",
      "0                24.878049   75.121951\n",
      "1                47.727273   52.272727\n",
      "2                45.454545   54.545455\n",
      "3                45.081967   54.918033\n",
      "4                68.831169   31.168831\n"
     ]
    }
   ],
   "execution_count": 22
  },
  {
   "metadata": {
    "ExecuteTime": {
     "end_time": "2024-10-14T20:28:58.680191Z",
     "start_time": "2024-10-14T20:28:58.466041Z"
    }
   },
   "cell_type": "code",
   "source": [
    "# Reset the index to convert 'Dominant_Topic' from index to column\n",
    "topic_region_dist = topic_region_dist.reset_index()\n",
    "\n",
    "# Melt the DataFrame for easier plotting with seaborn\n",
    "topic_region_dist_melted = topic_region_dist.melt(id_vars='Dominant_Topic',\n",
    "                                                  value_vars=['east_coast', 'west_coast'],\n",
    "                                                  var_name='Coast',\n",
    "                                                  value_name='Percentage')\n",
    "\n",
    "# Define custom colors for East Coast (blue) and West Coast (red)\n",
    "palette = {\"east_coast\": \"blue\", \"west_coast\": \"red\"}\n",
    "\n",
    "# Create the bar plot with custom colors\n",
    "plt.figure(figsize=(12, 6))\n",
    "sns.barplot(x='Dominant_Topic', y='Percentage', hue='Coast', data=topic_region_dist_melted, palette=palette)\n",
    "\n",
    "# Set plot labels and title\n",
    "plt.xlabel(\"Dominant Topic\")\n",
    "plt.ylabel(\"Percentage Contribution\")\n",
    "plt.title(\"Percentage Contribution of East and West Coast to Each Topic\")\n",
    "\n",
    "# Show the plot\n",
    "plt.show()"
   ],
   "id": "8d9662bc11e19eea",
   "outputs": [
    {
     "data": {
      "text/plain": [
       "<Figure size 1200x600 with 1 Axes>"
      ],
      "image/png": "[encoded data removed]"
     },
     "metadata": {},
     "output_type": "display_data"
    }
   ],
   "execution_count": 23
  },
  {
   "metadata": {
    "ExecuteTime": {
     "end_time": "2024-10-14T20:30:49.457084Z",
     "start_time": "2024-10-14T20:30:49.437131Z"
    }
   },
   "cell_type": "code",
   "source": "df.head()",
   "id": "a8da7b53267d4f1f",
   "outputs": [
    {
     "data": {
      "text/plain": [
       "  Artist                                Album                       Song  \\\n",
       "0  Big L  Lifestylez Ov Da Poor and Dangerous             8 Iz Enuff.mp3   \n",
       "1  Big L  Lifestylez Ov Da Poor and Dangerous           Da Graveyard.mp3   \n",
       "2  Big L  Lifestylez Ov Da Poor and Dangerous  I Don't Understand It.mp3   \n",
       "3  Big L  Lifestylez Ov Da Poor and Dangerous      No Endz, No Skinz.mp3   \n",
       "4  Big L  Lifestylez Ov Da Poor and Dangerous                    MVP.mp3   \n",
       "\n",
       "        Coast  Release Year      Tempo1     Tempo2  Duration (s)  \\\n",
       "0  east_coast          1995   96.774194  48.000000    298.840000   \n",
       "1  east_coast          1995   93.750000  46.511628    323.760000   \n",
       "2  east_coast          1995   93.750000  47.244094    260.226667   \n",
       "3  east_coast          1995  100.000000  50.420168    208.733333   \n",
       "4  east_coast          1995   86.956522  43.478261    218.866667   \n",
       "\n",
       "   Sample Rate (Hz)                                               Path  \\\n",
       "0             48000  /Users/borosabel/Documents/Uni/Thesis/PopMIR/D...   \n",
       "1             48000  /Users/borosabel/Documents/Uni/Thesis/PopMIR/D...   \n",
       "2             48000  /Users/borosabel/Documents/Uni/Thesis/PopMIR/D...   \n",
       "3             48000  /Users/borosabel/Documents/Uni/Thesis/PopMIR/D...   \n",
       "4             48000  /Users/borosabel/Documents/Uni/Thesis/PopMIR/D...   \n",
       "\n",
       "                                              Lyrics  \\\n",
       "0  crew house terra herb mcgruff buddah bless big...   \n",
       "1  number one crew area big lightin nigga incense...   \n",
       "2  many mc overrate ask even suppose make rap biz...   \n",
       "3  let get point real quick pocket thick mad chic...   \n",
       "4  spark phillies pass stout making quick money g...   \n",
       "\n",
       "                                              Tokens  \n",
       "0  [crew, house, terra, herb, mcgruff, buddah, bl...  \n",
       "1  [number, one, crew, area, big, lightin, nigga,...  \n",
       "2  [many, mc, overrate, ask, even, suppose, make,...  \n",
       "3  [let, get, point, real, quick, pocket, thick, ...  \n",
       "4  [spark, phillies, pass, stout, making, quick, ...  "
      ],
      "text/html": [
       "<div>\n",
       "<style scoped>\n",
       "    .dataframe tbody tr th:only-of-type {\n",
       "        vertical-align: middle;\n",
       "    }\n",
       "\n",
       "    .dataframe tbody tr th {\n",
       "        vertical-align: top;\n",
       "    }\n",
       "\n",
       "    .dataframe thead th {\n",
       "        text-align: right;\n",
       "    }\n",
       "</style>\n",
       "<table border=\"1\" class=\"dataframe\">\n",
       "  <thead>\n",
       "    <tr style=\"text-align: right;\">\n",
       "      <th></th>\n",
       "      <th>Artist</th>\n",
       "      <th>Album</th>\n",
       "      <th>Song</th>\n",
       "      <th>Coast</th>\n",
       "      <th>Release Year</th>\n",
       "      <th>Tempo1</th>\n",
       "      <th>Tempo2</th>\n",
       "      <th>Duration (s)</th>\n",
       "      <th>Sample Rate (Hz)</th>\n",
       "      <th>Path</th>\n",
       "      <th>Lyrics</th>\n",
       "      <th>Tokens</th>\n",
       "    </tr>\n",
       "  </thead>\n",
       "  <tbody>\n",
       "    <tr>\n",
       "      <th>0</th>\n",
       "      <td>Big L</td>\n",
       "      <td>Lifestylez Ov Da Poor and Dangerous</td>\n",
       "      <td>8 Iz Enuff.mp3</td>\n",
       "      <td>east_coast</td>\n",
       "      <td>1995</td>\n",
       "      <td>96.774194</td>\n",
       "      <td>48.000000</td>\n",
       "      <td>298.840000</td>\n",
       "      <td>48000</td>\n",
       "      <td>/Users/borosabel/Documents/Uni/Thesis/PopMIR/D...</td>\n",
       "      <td>crew house terra herb mcgruff buddah bless big...</td>\n",
       "      <td>[crew, house, terra, herb, mcgruff, buddah, bl...</td>\n",
       "    </tr>\n",
       "    <tr>\n",
       "      <th>1</th>\n",
       "      <td>Big L</td>\n",
       "      <td>Lifestylez Ov Da Poor and Dangerous</td>\n",
       "      <td>Da Graveyard.mp3</td>\n",
       "      <td>east_coast</td>\n",
       "      <td>1995</td>\n",
       "      <td>93.750000</td>\n",
       "      <td>46.511628</td>\n",
       "      <td>323.760000</td>\n",
       "      <td>48000</td>\n",
       "      <td>/Users/borosabel/Documents/Uni/Thesis/PopMIR/D...</td>\n",
       "      <td>number one crew area big lightin nigga incense...</td>\n",
       "      <td>[number, one, crew, area, big, lightin, nigga,...</td>\n",
       "    </tr>\n",
       "    <tr>\n",
       "      <th>2</th>\n",
       "      <td>Big L</td>\n",
       "      <td>Lifestylez Ov Da Poor and Dangerous</td>\n",
       "      <td>I Don't Understand It.mp3</td>\n",
       "      <td>east_coast</td>\n",
       "      <td>1995</td>\n",
       "      <td>93.750000</td>\n",
       "      <td>47.244094</td>\n",
       "      <td>260.226667</td>\n",
       "      <td>48000</td>\n",
       "      <td>/Users/borosabel/Documents/Uni/Thesis/PopMIR/D...</td>\n",
       "      <td>many mc overrate ask even suppose make rap biz...</td>\n",
       "      <td>[many, mc, overrate, ask, even, suppose, make,...</td>\n",
       "    </tr>\n",
       "    <tr>\n",
       "      <th>3</th>\n",
       "      <td>Big L</td>\n",
       "      <td>Lifestylez Ov Da Poor and Dangerous</td>\n",
       "      <td>No Endz, No Skinz.mp3</td>\n",
       "      <td>east_coast</td>\n",
       "      <td>1995</td>\n",
       "      <td>100.000000</td>\n",
       "      <td>50.420168</td>\n",
       "      <td>208.733333</td>\n",
       "      <td>48000</td>\n",
       "      <td>/Users/borosabel/Documents/Uni/Thesis/PopMIR/D...</td>\n",
       "      <td>let get point real quick pocket thick mad chic...</td>\n",
       "      <td>[let, get, point, real, quick, pocket, thick, ...</td>\n",
       "    </tr>\n",
       "    <tr>\n",
       "      <th>4</th>\n",
       "      <td>Big L</td>\n",
       "      <td>Lifestylez Ov Da Poor and Dangerous</td>\n",
       "      <td>MVP.mp3</td>\n",
       "      <td>east_coast</td>\n",
       "      <td>1995</td>\n",
       "      <td>86.956522</td>\n",
       "      <td>43.478261</td>\n",
       "      <td>218.866667</td>\n",
       "      <td>48000</td>\n",
       "      <td>/Users/borosabel/Documents/Uni/Thesis/PopMIR/D...</td>\n",
       "      <td>spark phillies pass stout making quick money g...</td>\n",
       "      <td>[spark, phillies, pass, stout, making, quick, ...</td>\n",
       "    </tr>\n",
       "  </tbody>\n",
       "</table>\n",
       "</div>"
      ]
     },
     "execution_count": 24,
     "metadata": {},
     "output_type": "execute_result"
    }
   ],
   "execution_count": 24
  },
  {
   "metadata": {},
   "cell_type": "code",
   "outputs": [],
   "execution_count": null,
   "source": "",
   "id": "ff1e7a0e62b2c6c4"
  }
 ],
 "metadata": {
  "kernelspec": {
   "display_name": "Python 3",
   "language": "python",
   "name": "python3"
  },
  "language_info": {
   "codemirror_mode": {
    "name": "ipython",
    "version": 2
   },
   "file_extension": ".py",
   "mimetype": "text/x-python",
   "name": "python",
   "nbconvert_exporter": "python",
   "pygments_lexer": "ipython2",
   "version": "2.7.6"
  }
 },
 "nbformat": 4,
 "nbformat_minor": 5
}
