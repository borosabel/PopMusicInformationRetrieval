{
 "cells": [
  {
   "metadata": {
    "ExecuteTime": {
     "end_time": "2024-10-19T16:21:13.553651Z",
     "start_time": "2024-10-19T16:21:13.530774Z"
    }
   },
   "cell_type": "code",
   "source": [
    "import warnings\n",
    "from urllib3.exceptions import NotOpenSSLWarning\n",
    "\n",
    "warnings.filterwarnings(\"ignore\", category=NotOpenSSLWarning)"
   ],
   "id": "fc3f3b3bd294dd6b",
   "outputs": [
    {
     "name": "stderr",
     "output_type": "stream",
     "text": [
      "/Users/borosabel/lib/python3.9/site-packages/urllib3/__init__.py:35: NotOpenSSLWarning: urllib3 v2 only supports OpenSSL 1.1.1+, currently the 'ssl' module is compiled with 'LibreSSL 2.8.3'. See: https://github.com/urllib3/urllib3/issues/3020\n",
      "  warnings.warn(\n"
     ]
    }
   ],
   "execution_count": 1
  },
  {
   "cell_type": "code",
   "id": "initial_id",
   "metadata": {
    "collapsed": true,
    "ExecuteTime": {
     "end_time": "2024-10-19T16:21:22.196018Z",
     "start_time": "2024-10-19T16:21:21.688919Z"
    }
   },
   "source": [
    "import spacy\n",
    "spacy_nlp = spacy.load(\"en_core_web_sm\")\n",
    "import utility_functions as utils\n",
    "import importlib\n",
    "import pandas as pd\n",
    "import seaborn as sns\n",
    "\n",
    "# Text processing\n",
    "from gensim import corpora\n",
    "\n",
    "# Visualization\n",
    "import pyLDAvis\n",
    "import pyLDAvis.gensim_models as gensimvis\n",
    "import matplotlib.pyplot as plt\n",
    "from tqdm import tqdm\n",
    "from gensim import models\n",
    "from gensim.models.coherencemodel import CoherenceModel\n",
    "\n",
    "importlib.reload(utils)\n",
    "\n",
    "data = './preprocessed_df.pkl'"
   ],
   "outputs": [],
   "execution_count": 4
  },
  {
   "metadata": {
    "ExecuteTime": {
     "end_time": "2024-10-19T16:21:22.406854Z",
     "start_time": "2024-10-19T16:21:22.197913Z"
    }
   },
   "cell_type": "code",
   "source": [
    "df = pd.read_pickle(data)\n",
    "df[['Artist', 'Song', 'Tokens', 'Lyrics', 'Coast']].head()"
   ],
   "id": "f2660c040bd72de1",
   "outputs": [
    {
     "data": {
      "text/plain": [
       "  Artist                       Song  \\\n",
       "0  Big L             8 Iz Enuff.mp3   \n",
       "1  Big L           Da Graveyard.mp3   \n",
       "2  Big L  I Don't Understand It.mp3   \n",
       "3  Big L      No Endz, No Skinz.mp3   \n",
       "4  Big L                    MVP.mp3   \n",
       "\n",
       "                                              Tokens  \\\n",
       "0  [crew, house, bless, big, mike, imma, set, fol...   \n",
       "1  [number, one, crew, big, nigga, men, win, kill...   \n",
       "2  [many, mcs, ask, even, supposed, make, rap, kn...   \n",
       "3  [let, point, real, quick, pocket, thick, mad, ...   \n",
       "4  [pass, make, quick, money, grip, ass, street, ...   \n",
       "\n",
       "                                              Lyrics       Coast  \n",
       "0  \\n\\nYo\\nMy crew is in the house\\nTerra, Herb M...  east_coast  \n",
       "1  \\n\\n[Intro:]\\nIt's the number one crew in the ...  east_coast  \n",
       "2  \\n\\n[Verse 1]\\nThere are too many MC's who are...  east_coast  \n",
       "3  \\n\\n[Verse 1:]\\nLet me get to the point real q...  east_coast  \n",
       "4  \\n\\n[Big L]\\n A yo spark up the phillies and p...  east_coast  "
      ],
      "text/html": [
       "<div>\n",
       "<style scoped>\n",
       "    .dataframe tbody tr th:only-of-type {\n",
       "        vertical-align: middle;\n",
       "    }\n",
       "\n",
       "    .dataframe tbody tr th {\n",
       "        vertical-align: top;\n",
       "    }\n",
       "\n",
       "    .dataframe thead th {\n",
       "        text-align: right;\n",
       "    }\n",
       "</style>\n",
       "<table border=\"1\" class=\"dataframe\">\n",
       "  <thead>\n",
       "    <tr style=\"text-align: right;\">\n",
       "      <th></th>\n",
       "      <th>Artist</th>\n",
       "      <th>Song</th>\n",
       "      <th>Tokens</th>\n",
       "      <th>Lyrics</th>\n",
       "      <th>Coast</th>\n",
       "    </tr>\n",
       "  </thead>\n",
       "  <tbody>\n",
       "    <tr>\n",
       "      <th>0</th>\n",
       "      <td>Big L</td>\n",
       "      <td>8 Iz Enuff.mp3</td>\n",
       "      <td>[crew, house, bless, big, mike, imma, set, fol...</td>\n",
       "      <td>\\n\\nYo\\nMy crew is in the house\\nTerra, Herb M...</td>\n",
       "      <td>east_coast</td>\n",
       "    </tr>\n",
       "    <tr>\n",
       "      <th>1</th>\n",
       "      <td>Big L</td>\n",
       "      <td>Da Graveyard.mp3</td>\n",
       "      <td>[number, one, crew, big, nigga, men, win, kill...</td>\n",
       "      <td>\\n\\n[Intro:]\\nIt's the number one crew in the ...</td>\n",
       "      <td>east_coast</td>\n",
       "    </tr>\n",
       "    <tr>\n",
       "      <th>2</th>\n",
       "      <td>Big L</td>\n",
       "      <td>I Don't Understand It.mp3</td>\n",
       "      <td>[many, mcs, ask, even, supposed, make, rap, kn...</td>\n",
       "      <td>\\n\\n[Verse 1]\\nThere are too many MC's who are...</td>\n",
       "      <td>east_coast</td>\n",
       "    </tr>\n",
       "    <tr>\n",
       "      <th>3</th>\n",
       "      <td>Big L</td>\n",
       "      <td>No Endz, No Skinz.mp3</td>\n",
       "      <td>[let, point, real, quick, pocket, thick, mad, ...</td>\n",
       "      <td>\\n\\n[Verse 1:]\\nLet me get to the point real q...</td>\n",
       "      <td>east_coast</td>\n",
       "    </tr>\n",
       "    <tr>\n",
       "      <th>4</th>\n",
       "      <td>Big L</td>\n",
       "      <td>MVP.mp3</td>\n",
       "      <td>[pass, make, quick, money, grip, ass, street, ...</td>\n",
       "      <td>\\n\\n[Big L]\\n A yo spark up the phillies and p...</td>\n",
       "      <td>east_coast</td>\n",
       "    </tr>\n",
       "  </tbody>\n",
       "</table>\n",
       "</div>"
      ]
     },
     "execution_count": 5,
     "metadata": {},
     "output_type": "execute_result"
    }
   ],
   "execution_count": 5
  },
  {
   "metadata": {
    "ExecuteTime": {
     "end_time": "2024-10-19T16:21:22.515142Z",
     "start_time": "2024-10-19T16:21:22.407880Z"
    }
   },
   "cell_type": "code",
   "source": [
    "# Create a dictionary representation of the documents\n",
    "dictionary = corpora.Dictionary(df['Tokens'])\n",
    "dictionary.filter_extremes(no_below=5, no_above=0.5)\n",
    "print(f\"Number of unique tokens: {len(dictionary)}\")"
   ],
   "id": "143514f57d9c8a2e",
   "outputs": [
    {
     "name": "stdout",
     "output_type": "stream",
     "text": [
      "Number of unique tokens: 921\n"
     ]
    }
   ],
   "execution_count": 6
  },
  {
   "metadata": {
    "ExecuteTime": {
     "end_time": "2024-10-19T16:21:25.647069Z",
     "start_time": "2024-10-19T16:21:25.552387Z"
    }
   },
   "cell_type": "code",
   "source": [
    "# Convert documents to a bag-of-words representation\n",
    "corpus = [dictionary.doc2bow(text) for text in df['Tokens']]"
   ],
   "id": "1d16f9c2c26ac682",
   "outputs": [],
   "execution_count": 7
  },
  {
   "metadata": {
    "ExecuteTime": {
     "end_time": "2024-10-19T16:21:25.923047Z",
     "start_time": "2024-10-19T16:21:25.917943Z"
    }
   },
   "cell_type": "code",
   "source": [
    "from tqdm import tqdm\n",
    "from gensim import models\n",
    "from gensim.models import CoherenceModel\n",
    "\n",
    "def compute_coherence_values(dictionary, corpus, texts, start, limit, step, chunksize, passes, iterations, eval_every):\n",
    "    coherence_values = []\n",
    "    model_list = []\n",
    "\n",
    "    # Add tqdm for progress tracking\n",
    "    for num_topics in tqdm(range(start, limit, step), desc=\"Computing coherence\"):\n",
    "        model = models.LdaModel(\n",
    "            corpus=corpus,\n",
    "            id2word=dictionary,\n",
    "            num_topics=num_topics,\n",
    "            random_state=42,\n",
    "            chunksize=chunksize,\n",
    "            passes=passes,\n",
    "            iterations=iterations,\n",
    "            alpha='auto',\n",
    "            eta='auto',\n",
    "            eval_every=eval_every\n",
    "        )\n",
    "        model_list.append(model)\n",
    "\n",
    "        # Applies a sliding window and evaluates similarity of the top words in each topic. \n",
    "        coherencemodel = CoherenceModel(\n",
    "            model=model,\n",
    "            texts=texts,\n",
    "            dictionary=dictionary,\n",
    "            coherence='c_v'\n",
    "        )\n",
    "\n",
    "        coherence_values.append(coherencemodel.get_coherence())\n",
    "\n",
    "    return model_list, coherence_values"
   ],
   "id": "e512d4e3c00e40e2",
   "outputs": [],
   "execution_count": 8
  },
  {
   "metadata": {
    "ExecuteTime": {
     "end_time": "2024-10-19T16:21:59.418487Z",
     "start_time": "2024-10-19T16:21:27.694472Z"
    }
   },
   "cell_type": "code",
   "source": [
    "start = 2\n",
    "limit = 6\n",
    "step = 1\n",
    "chunksize = 200\n",
    "passes = 15\n",
    "iterations = 100\n",
    "eval_every = 10\n",
    "\n",
    "model_list, coherence_values = compute_coherence_values(\n",
    "    dictionary=dictionary,\n",
    "    corpus=corpus,\n",
    "    texts=df['Tokens'],\n",
    "    start=start,\n",
    "    limit=limit,\n",
    "    step=step,\n",
    "    chunksize=chunksize,\n",
    "    passes=passes,\n",
    "    iterations=iterations,\n",
    "    eval_every=eval_every\n",
    ")"
   ],
   "id": "fbbef797391c9dbc",
   "outputs": [
    {
     "name": "stderr",
     "output_type": "stream",
     "text": [
      "Computing coherence:   0%|          | 0/4 [00:00<?, ?it/s]/Users/borosabel/lib/python3.9/site-packages/urllib3/__init__.py:35: NotOpenSSLWarning: urllib3 v2 only supports OpenSSL 1.1.1+, currently the 'ssl' module is compiled with 'LibreSSL 2.8.3'. See: https://github.com/urllib3/urllib3/issues/3020\n",
      "  warnings.warn(\n",
      "/Users/borosabel/lib/python3.9/site-packages/urllib3/__init__.py:35: NotOpenSSLWarning: urllib3 v2 only supports OpenSSL 1.1.1+, currently the 'ssl' module is compiled with 'LibreSSL 2.8.3'. See: https://github.com/urllib3/urllib3/issues/3020\n",
      "  warnings.warn(\n",
      "/Users/borosabel/lib/python3.9/site-packages/urllib3/__init__.py:35: NotOpenSSLWarning: urllib3 v2 only supports OpenSSL 1.1.1+, currently the 'ssl' module is compiled with 'LibreSSL 2.8.3'. See: https://github.com/urllib3/urllib3/issues/3020\n",
      "  warnings.warn(\n",
      "/Users/borosabel/lib/python3.9/site-packages/urllib3/__init__.py:35: NotOpenSSLWarning: urllib3 v2 only supports OpenSSL 1.1.1+, currently the 'ssl' module is compiled with 'LibreSSL 2.8.3'. See: https://github.com/urllib3/urllib3/issues/3020\n",
      "  warnings.warn(\n",
      "/Users/borosabel/lib/python3.9/site-packages/urllib3/__init__.py:35: NotOpenSSLWarning: urllib3 v2 only supports OpenSSL 1.1.1+, currently the 'ssl' module is compiled with 'LibreSSL 2.8.3'. See: https://github.com/urllib3/urllib3/issues/3020\n",
      "  warnings.warn(\n",
      "/Users/borosabel/lib/python3.9/site-packages/urllib3/__init__.py:35: NotOpenSSLWarning: urllib3 v2 only supports OpenSSL 1.1.1+, currently the 'ssl' module is compiled with 'LibreSSL 2.8.3'. See: https://github.com/urllib3/urllib3/issues/3020\n",
      "  warnings.warn(\n",
      "/Users/borosabel/lib/python3.9/site-packages/urllib3/__init__.py:35: NotOpenSSLWarning: urllib3 v2 only supports OpenSSL 1.1.1+, currently the 'ssl' module is compiled with 'LibreSSL 2.8.3'. See: https://github.com/urllib3/urllib3/issues/3020\n",
      "  warnings.warn(\n",
      "Computing coherence:  25%|██▌       | 1/4 [00:07<00:22,  7.38s/it]/Users/borosabel/lib/python3.9/site-packages/urllib3/__init__.py:35: NotOpenSSLWarning: urllib3 v2 only supports OpenSSL 1.1.1+, currently the 'ssl' module is compiled with 'LibreSSL 2.8.3'. See: https://github.com/urllib3/urllib3/issues/3020\n",
      "  warnings.warn(\n",
      "/Users/borosabel/lib/python3.9/site-packages/urllib3/__init__.py:35: NotOpenSSLWarning: urllib3 v2 only supports OpenSSL 1.1.1+, currently the 'ssl' module is compiled with 'LibreSSL 2.8.3'. See: https://github.com/urllib3/urllib3/issues/3020\n",
      "  warnings.warn(\n",
      "/Users/borosabel/lib/python3.9/site-packages/urllib3/__init__.py:35: NotOpenSSLWarning: urllib3 v2 only supports OpenSSL 1.1.1+, currently the 'ssl' module is compiled with 'LibreSSL 2.8.3'. See: https://github.com/urllib3/urllib3/issues/3020\n",
      "  warnings.warn(\n",
      "/Users/borosabel/lib/python3.9/site-packages/urllib3/__init__.py:35: NotOpenSSLWarning: urllib3 v2 only supports OpenSSL 1.1.1+, currently the 'ssl' module is compiled with 'LibreSSL 2.8.3'. See: https://github.com/urllib3/urllib3/issues/3020\n",
      "  warnings.warn(\n",
      "/Users/borosabel/lib/python3.9/site-packages/urllib3/__init__.py:35: NotOpenSSLWarning: urllib3 v2 only supports OpenSSL 1.1.1+, currently the 'ssl' module is compiled with 'LibreSSL 2.8.3'. See: https://github.com/urllib3/urllib3/issues/3020\n",
      "  warnings.warn(\n",
      "/Users/borosabel/lib/python3.9/site-packages/urllib3/__init__.py:35: NotOpenSSLWarning: urllib3 v2 only supports OpenSSL 1.1.1+, currently the 'ssl' module is compiled with 'LibreSSL 2.8.3'. See: https://github.com/urllib3/urllib3/issues/3020\n",
      "  warnings.warn(\n",
      "/Users/borosabel/lib/python3.9/site-packages/urllib3/__init__.py:35: NotOpenSSLWarning: urllib3 v2 only supports OpenSSL 1.1.1+, currently the 'ssl' module is compiled with 'LibreSSL 2.8.3'. See: https://github.com/urllib3/urllib3/issues/3020\n",
      "  warnings.warn(\n",
      "Computing coherence:  50%|█████     | 2/4 [00:15<00:15,  7.67s/it]/Users/borosabel/lib/python3.9/site-packages/urllib3/__init__.py:35: NotOpenSSLWarning: urllib3 v2 only supports OpenSSL 1.1.1+, currently the 'ssl' module is compiled with 'LibreSSL 2.8.3'. See: https://github.com/urllib3/urllib3/issues/3020\n",
      "  warnings.warn(\n",
      "/Users/borosabel/lib/python3.9/site-packages/urllib3/__init__.py:35: NotOpenSSLWarning: urllib3 v2 only supports OpenSSL 1.1.1+, currently the 'ssl' module is compiled with 'LibreSSL 2.8.3'. See: https://github.com/urllib3/urllib3/issues/3020\n",
      "  warnings.warn(\n",
      "/Users/borosabel/lib/python3.9/site-packages/urllib3/__init__.py:35: NotOpenSSLWarning: urllib3 v2 only supports OpenSSL 1.1.1+, currently the 'ssl' module is compiled with 'LibreSSL 2.8.3'. See: https://github.com/urllib3/urllib3/issues/3020\n",
      "  warnings.warn(\n",
      "/Users/borosabel/lib/python3.9/site-packages/urllib3/__init__.py:35: NotOpenSSLWarning: urllib3 v2 only supports OpenSSL 1.1.1+, currently the 'ssl' module is compiled with 'LibreSSL 2.8.3'. See: https://github.com/urllib3/urllib3/issues/3020\n",
      "  warnings.warn(\n",
      "/Users/borosabel/lib/python3.9/site-packages/urllib3/__init__.py:35: NotOpenSSLWarning: urllib3 v2 only supports OpenSSL 1.1.1+, currently the 'ssl' module is compiled with 'LibreSSL 2.8.3'. See: https://github.com/urllib3/urllib3/issues/3020\n",
      "  warnings.warn(\n",
      "/Users/borosabel/lib/python3.9/site-packages/urllib3/__init__.py:35: NotOpenSSLWarning: urllib3 v2 only supports OpenSSL 1.1.1+, currently the 'ssl' module is compiled with 'LibreSSL 2.8.3'. See: https://github.com/urllib3/urllib3/issues/3020\n",
      "  warnings.warn(\n",
      "/Users/borosabel/lib/python3.9/site-packages/urllib3/__init__.py:35: NotOpenSSLWarning: urllib3 v2 only supports OpenSSL 1.1.1+, currently the 'ssl' module is compiled with 'LibreSSL 2.8.3'. See: https://github.com/urllib3/urllib3/issues/3020\n",
      "  warnings.warn(\n",
      "Computing coherence:  75%|███████▌  | 3/4 [00:22<00:07,  7.64s/it]/Users/borosabel/lib/python3.9/site-packages/urllib3/__init__.py:35: NotOpenSSLWarning: urllib3 v2 only supports OpenSSL 1.1.1+, currently the 'ssl' module is compiled with 'LibreSSL 2.8.3'. See: https://github.com/urllib3/urllib3/issues/3020\n",
      "  warnings.warn(\n",
      "/Users/borosabel/lib/python3.9/site-packages/urllib3/__init__.py:35: NotOpenSSLWarning: urllib3 v2 only supports OpenSSL 1.1.1+, currently the 'ssl' module is compiled with 'LibreSSL 2.8.3'. See: https://github.com/urllib3/urllib3/issues/3020\n",
      "  warnings.warn(\n",
      "/Users/borosabel/lib/python3.9/site-packages/urllib3/__init__.py:35: NotOpenSSLWarning: urllib3 v2 only supports OpenSSL 1.1.1+, currently the 'ssl' module is compiled with 'LibreSSL 2.8.3'. See: https://github.com/urllib3/urllib3/issues/3020\n",
      "  warnings.warn(\n",
      "/Users/borosabel/lib/python3.9/site-packages/urllib3/__init__.py:35: NotOpenSSLWarning: urllib3 v2 only supports OpenSSL 1.1.1+, currently the 'ssl' module is compiled with 'LibreSSL 2.8.3'. See: https://github.com/urllib3/urllib3/issues/3020\n",
      "  warnings.warn(\n",
      "/Users/borosabel/lib/python3.9/site-packages/urllib3/__init__.py:35: NotOpenSSLWarning: urllib3 v2 only supports OpenSSL 1.1.1+, currently the 'ssl' module is compiled with 'LibreSSL 2.8.3'. See: https://github.com/urllib3/urllib3/issues/3020\n",
      "  warnings.warn(\n",
      "/Users/borosabel/lib/python3.9/site-packages/urllib3/__init__.py:35: NotOpenSSLWarning: urllib3 v2 only supports OpenSSL 1.1.1+, currently the 'ssl' module is compiled with 'LibreSSL 2.8.3'. See: https://github.com/urllib3/urllib3/issues/3020\n",
      "  warnings.warn(\n",
      "/Users/borosabel/lib/python3.9/site-packages/urllib3/__init__.py:35: NotOpenSSLWarning: urllib3 v2 only supports OpenSSL 1.1.1+, currently the 'ssl' module is compiled with 'LibreSSL 2.8.3'. See: https://github.com/urllib3/urllib3/issues/3020\n",
      "  warnings.warn(\n",
      "Computing coherence: 100%|██████████| 4/4 [00:31<00:00,  7.92s/it]\n"
     ]
    }
   ],
   "execution_count": 9
  },
  {
   "metadata": {
    "ExecuteTime": {
     "end_time": "2024-10-19T16:21:59.652606Z",
     "start_time": "2024-10-19T16:21:59.421534Z"
    }
   },
   "cell_type": "code",
   "source": [
    "# Prepare data for Seaborn\n",
    "x = list(range(start, limit, step))\n",
    "\n",
    "# Create a barplot with Seaborn\n",
    "plt.figure(figsize=(10, 6))\n",
    "sns.barplot(x=x, y=coherence_values)\n",
    "\n",
    "# Set plot labels and title\n",
    "plt.xlabel(\"Number of Topics\")\n",
    "plt.ylabel(\"Coherence Score\")\n",
    "plt.title(\"Coherence Scores for Different Numbers of Topics\")\n",
    "\n",
    "# Ensure integer values on the x-axis\n",
    "plt.xticks(ticks=range(start, limit, step))\n",
    "\n",
    "plt.show()"
   ],
   "id": "1d615cd04185e696",
   "outputs": [
    {
     "data": {
      "text/plain": [
       "<Figure size 1000x600 with 1 Axes>"
      ],
      "image/png": "[encoded data removed]"
     },
     "metadata": {},
     "output_type": "display_data"
    }
   ],
   "execution_count": 10
  },
  {
   "metadata": {
    "ExecuteTime": {
     "end_time": "2024-10-19T16:22:14.111018Z",
     "start_time": "2024-10-19T16:22:14.107263Z"
    }
   },
   "cell_type": "code",
   "source": [
    "# Select the model with highest coherence\n",
    "optimal_index = coherence_values.index(max(coherence_values))\n",
    "optimal_model = model_list[optimal_index]\n",
    "optimal_num_topics = x[optimal_index]\n",
    "\n",
    "print(f'Optimal Number of Topics: {optimal_num_topics}')\n",
    "print(f'Highest Coherence Score: {coherence_values[optimal_index]:.4f}')"
   ],
   "id": "48071e2fe87f2f30",
   "outputs": [
    {
     "name": "stdout",
     "output_type": "stream",
     "text": [
      "Optimal Number of Topics: 4\n",
      "Highest Coherence Score: 0.2839\n"
     ]
    }
   ],
   "execution_count": 11
  },
  {
   "metadata": {
    "ExecuteTime": {
     "end_time": "2024-10-19T16:22:36.256039Z",
     "start_time": "2024-10-19T16:22:35.709342Z"
    }
   },
   "cell_type": "code",
   "source": [
    "# Prepare the visualization\n",
    "pyLDAvis.enable_notebook()\n",
    "vis = gensimvis.prepare(optimal_model, corpus, dictionary)\n",
    "\n",
    "# Display the visualization\n",
    "pyLDAvis.display(vis)"
   ],
   "id": "93cc9fae3837ae9e",
   "outputs": [
    {
     "data": {
      "text/plain": [
       "<IPython.core.display.HTML object>"
      ],
      "text/html": [
       "\n",
       "<link rel=\"stylesheet\" type=\"text/css\" href=\"https://cdn.jsdelivr.net/gh/bmabey/pyLDAvis@3.4.0/pyLDAvis/js/ldavis.v1.0.0.css\">\n",
       "\n",
       "\n",
       "<div id=\"ldavis_el2009462923971845449668118\" style=\"background-color:white;\"></div>\n",
       "<script type=\"text/javascript\">\n",
       "\n",
       "var ldavis_el2009462923971845449668118_data = {\"mdsDat\": {\"x\": [0.07810851542654342, 0.10119288090293364, -0.022179415269682357, -0.1571219810597946], \"y\": [0.05356961280843161, -0.11562634066951816, 0.1279566274043595, -0.0658998995432729], \"topics\": [1, 2, 3, 4], \"cluster\": [1, 1, 1, 1], \"Freq\": [28.385600007338418, 27.132216766944158, 26.31877122133947, 18.163412004377953]}, \"tinfo\": {\"Term\": [\"fuck\", \"bitch\", \"motherfucker\", \"ass\", \"rhyme\", \"girl\", \"baby\", \"said\", \"live\", \"life\", \"mic\", \"rap\", \"would\", \"rock\", \"love\", \"hoe\", \"la\", \"around\", \"good\", \"look\", \"world\", \"freak\", \"die\", \"mc\", \"gangster\", \"dog\", \"god\", \"party\", \"dick\", \"record\", \"rhyme\", \"mic\", \"la\", \"mc\", \"mcs\", \"microphone\", \"jam\", \"wack\", \"beats\", \"stage\", \"radio\", \"groove\", \"rhythm\", \"def\", \"plug\", \"effect\", \"skills\", \"lyrics\", \"tribe\", \"flavor\", \"party\", \"raps\", \"wreck\", \"crowd\", \"music\", \"swing\", \"wax\", \"dj\", \"rock\", \"record\", \"hip\", \"hop\", \"sound\", \"rap\", \"style\", \"funk\", \"yes\", \"beat\", \"flow\", \"funky\", \"move\", \"sucker\", \"track\", \"cut\", \"kick\", \"check\", \"stop\", \"new\", \"keep\", \"word\", \"play\", \"step\", \"way\", \"give\", \"show\", \"us\", \"hit\", \"well\", \"think\", \"brother\", \"fuck\", \"gat\", \"murder\", \"trigger\", \"glock\", \"clip\", \"niggas\", \"bang\", \"creep\", \"mob\", \"clique\", \"bitch\", \"motherfucker\", \"compton\", \"buck\", \"gangster\", \"ass\", \"hole\", \"thang\", \"bounce\", \"criminal\", \"police\", \"plot\", \"south\", \"cock\", \"platinum\", \"gang\", \"spit\", \"cube\", \"click\", \"hoe\", \"loot\", \"dog\", \"punk\", \"blast\", \"hood\", \"roll\", \"gun\", \"wit\", \"fool\", \"hit\", \"smoke\", \"game\", \"dick\", \"real\", \"cop\", \"put\", \"give\", \"drop\", \"street\", \"quick\", \"ice\", \"kill\", \"money\", \"run\", \"talk\", \"bust\", \"shot\", \"crew\", \"straight\", \"head\", \"still\", \"big\", \"trapped\", \"rise\", \"heaven\", \"grow\", \"sky\", \"survive\", \"ghetto\", \"war\", \"instead\", \"pain\", \"lord\", \"escape\", \"cry\", \"tears\", \"family\", \"enemy\", \"live\", \"pray\", \"teach\", \"thug\", \"different\", \"earth\", \"hustle\", \"bless\", \"drug\", \"race\", \"life\", \"explain\", \"god\", \"blame\", \"world\", \"eye\", \"change\", \"love\", \"many\", \"die\", \"high\", \"feel\", \"every\", \"day\", \"black\", \"remember\", \"heart\", \"death\", \"mind\", \"brother\", \"us\", \"mom\", \"thing\", \"people\", \"stay\", \"even\", \"would\", \"keep\", \"right\", \"still\", \"hard\", \"could\", \"look\", \"way\", \"street\", \"baby\", \"think\", \"grabbed\", \"asked\", \"freaky\", \"girl\", \"rub\", \"saw\", \"sister\", \"met\", \"sex\", \"hort\", \"naked\", \"butt\", \"named\", \"freak\", \"kiss\", \"legs\", \"booty\", \"pipe\", \"lips\", \"food\", \"okay\", \"said\", \"guy\", \"pimp\", \"honey\", \"hat\", \"went\", \"threw\", \"fine\", \"jumped\", \"car\", \"baby\", \"good\", \"around\", \"hey\", \"little\", \"player\", \"please\", \"would\", \"look\", \"call\", \"big\", \"took\", \"cool\", \"tried\", \"homie\", \"play\", \"house\", \"ride\", \"way\", \"walk\", \"talk\", \"money\", \"tell\", \"start\", \"could\", \"need\", \"love\", \"right\", \"name\", \"well\"], \"Freq\": [2857.0, 2028.0, 1736.0, 1432.0, 1030.0, 901.0, 1113.0, 979.0, 1097.0, 993.0, 545.0, 876.0, 1214.0, 700.0, 1214.0, 609.0, 402.0, 881.0, 630.0, 1184.0, 561.0, 332.0, 586.0, 327.0, 362.0, 473.0, 448.0, 338.0, 446.0, 384.0, 1029.9723532726123, 545.0573608477704, 401.6059094601443, 327.1278432823429, 242.7002514083121, 215.32600047976982, 186.37316653139374, 189.9110042359394, 205.95715970180248, 113.0566949389635, 136.0187822657231, 109.1994031893293, 103.39860239479952, 92.55004164867434, 82.29835434806142, 77.23423400245036, 66.71043534036103, 165.73701824362314, 51.432131005429085, 112.46215491530478, 323.9840564093369, 118.2192552795972, 120.98365287820555, 127.85426479511365, 166.24052176369258, 177.19934165009292, 63.19945512304188, 107.41676804712417, 652.1327882782562, 357.28311000365727, 232.03642099396924, 216.77744175475638, 362.4587057774218, 728.9860531541192, 355.6225861982808, 301.28172586772433, 333.28939902774295, 447.8520566678914, 363.57047222134247, 316.61158031689104, 472.73122521923364, 324.14759424689134, 222.62111008673727, 283.4378308150801, 466.01911412160115, 478.874801056867, 472.51271645778667, 422.9610689712967, 576.2943305495779, 378.53197653065956, 436.75676134922963, 285.4146687919461, 443.9922464091178, 426.8670717284062, 283.78780443155057, 387.02832906372777, 366.0033917115433, 311.0767036802827, 321.3132468747583, 307.0442863069489, 2856.5655654339344, 193.01564728852657, 155.7419050234719, 140.48265039082696, 103.60586667979071, 90.70669764557363, 76.16844601353587, 160.93608110242195, 109.60242649623643, 62.32422421706051, 49.84778009128972, 1978.002179436635, 1685.5770303103961, 96.03965062708725, 152.03753981027802, 339.9800332740752, 1336.030893603244, 71.70332255155915, 96.83047172882937, 111.33065512020305, 59.990214573690025, 175.51992616593387, 40.01105095696742, 125.47246630539824, 66.33507509828627, 52.111257656563446, 133.44981303889344, 74.52747422003745, 112.11712917637223, 62.93878778493294, 512.962649595542, 110.45832691396858, 370.17440963545357, 393.7947135939667, 141.89116897701734, 157.73999166549038, 590.2068187921119, 355.0520237545539, 357.6055844728779, 355.0715601861113, 670.9972167824001, 337.1309998243961, 428.8018254220313, 282.40783752680454, 502.46215882597284, 195.8418840224686, 460.0800819952731, 530.4885725754582, 284.2627370368846, 362.9603611395789, 210.8537740705495, 290.5604434900989, 267.8430107876742, 325.43787688307805, 338.12609415778456, 330.2255410171576, 259.93975338032453, 243.28526139665533, 244.77885065376702, 243.77139756872063, 260.39813922658124, 263.4990485842824, 254.39663843682445, 85.87936369883386, 83.65704316457108, 90.54142927232357, 85.87246862996606, 69.52871609117399, 75.0675095902904, 203.7704789525083, 153.0272952507881, 84.34653166449925, 205.4632581977252, 111.7137587010498, 55.325873242403986, 107.12025769238133, 67.84777184860927, 147.64502287944546, 133.05797453546228, 1000.2401461793979, 60.55205964143029, 54.42485628751237, 278.9701716097067, 88.67978519382204, 91.04698797960977, 82.52942666640857, 62.80818133552048, 120.40404608610159, 65.11826843528253, 845.1226950744048, 39.63676305771983, 378.18186498709, 49.0877573429164, 464.25517318303696, 435.95359383197535, 192.22934719995698, 840.6823933025532, 328.1556336107172, 406.0267149763496, 401.35079184667313, 575.6035851683457, 456.9483859630188, 559.9796165298493, 460.00158374717506, 176.29297371672394, 182.52324762455257, 222.99471546150625, 382.8319974947259, 443.1917368108209, 582.9062537338935, 158.72415437310468, 385.18144471206034, 334.96391654501963, 254.54238291441914, 350.3516264148801, 495.4712399194853, 474.1616649110646, 432.1204994048965, 379.0560493984233, 327.62881357551777, 363.854684127546, 401.50840392756555, 416.2151384091933, 318.4758149733617, 352.6559890752444, 325.9774047435076, 71.25149475075145, 48.46004159943034, 59.68582190780834, 811.3967778867838, 55.269879490888904, 111.94594130977791, 56.40712809512897, 101.47804475214107, 151.45523699153333, 169.7131217382336, 64.62247577936361, 119.8853592120103, 91.82909306784808, 277.36723087350043, 185.57728866120863, 46.66483782726206, 51.813556013226254, 83.80655150384044, 58.5228054759917, 51.6620790859163, 111.55731746505033, 771.7868049509283, 166.93973874653835, 173.23893206281483, 47.330592711876285, 44.890626459601755, 228.0594522795323, 45.79315604088069, 79.17594768680428, 54.146161956973444, 233.4777344266677, 737.8163148041886, 398.4232328129808, 485.47480484070593, 253.9586230245078, 374.880507059064, 130.23074438456376, 213.00214151499404, 559.9092776834817, 492.79709765373576, 423.81907650439393, 327.98685075373066, 178.76465065454067, 178.41895908983645, 171.105667251377, 282.1956953993969, 371.23995122783515, 245.50049858396773, 228.29982229028764, 413.49421423062597, 207.9407513934005, 286.800658282295, 265.1870850142193, 292.5019297163941, 229.53197449717635, 254.6578904662279, 243.76852158241905, 258.8567605076993, 243.65242254576086, 209.0376182757309, 213.62327643685296], \"Total\": [2857.0, 2028.0, 1736.0, 1432.0, 1030.0, 901.0, 1113.0, 979.0, 1097.0, 993.0, 545.0, 876.0, 1214.0, 700.0, 1214.0, 609.0, 402.0, 881.0, 630.0, 1184.0, 561.0, 332.0, 586.0, 327.0, 362.0, 473.0, 448.0, 338.0, 446.0, 384.0, 1030.7785275086865, 545.8411889807022, 402.34671403389643, 327.86755618128745, 243.42739970720902, 216.07978985211733, 187.1185177904888, 190.72062568931867, 207.08905958528047, 113.81285154742606, 136.9480768286181, 109.95162352598138, 104.13346446707617, 93.28466315957169, 83.0369694977809, 77.99075982397066, 67.4459336568416, 167.90762546652488, 52.207653886313906, 114.43165840872274, 338.18021733333757, 124.02958583283512, 127.42942231372548, 135.02361889062723, 176.2187512167111, 189.7372293777516, 67.87453423572109, 115.40148299999493, 700.8648040656263, 384.3420004483539, 250.4272543465558, 235.79391462149036, 400.54511605620644, 876.6154985489912, 411.93004646535553, 347.2871203521866, 395.1440909223667, 552.9493405598411, 459.43194684558483, 400.58247141100594, 662.0205670187687, 421.4992562638713, 267.40829743358444, 365.6939926255016, 718.5914460011978, 797.5307398595899, 782.4515185204385, 684.5507913309319, 1280.2580940454852, 692.8480165944447, 1027.5083596614086, 449.20065791985274, 1375.4517827395039, 1358.3665164527902, 453.0362778920299, 1281.9135502030076, 1215.8381132069649, 664.3212210699053, 1078.2620962956084, 850.8411483357286, 2857.5730713246085, 193.80897498358826, 156.55540889245611, 141.32153657256885, 104.40186256523104, 91.51805029770144, 76.9738516883983, 162.87152855435295, 111.01119116516975, 63.183944423839165, 50.67430152071443, 2028.327298351709, 1736.05780519921, 98.98728087461024, 160.36765812731085, 362.1488715947732, 1432.0034925853208, 78.06962526435147, 106.60109917707622, 123.24260802448023, 66.46317471906005, 196.654146078347, 44.885828282311266, 142.06214889685046, 75.63165731545165, 59.44398572919009, 152.42800831198443, 85.33278753626368, 128.95805925031115, 72.84359937628335, 609.8554024064483, 130.0965630454947, 473.93031361564397, 521.6916748590385, 172.61490422685355, 195.36870651377697, 874.2592356640425, 499.55687782550916, 521.2613143535431, 525.1504202258598, 1215.8381132069649, 540.8782535587251, 771.1033238561381, 446.0295949186683, 1055.9096707492813, 279.6759364837876, 1000.9065885606154, 1358.3665164527902, 516.336390796236, 785.4705078955288, 323.8883605906004, 569.3618426787386, 501.22074526670036, 784.7252638187704, 854.5367233983956, 907.923769183816, 522.3635066268517, 460.7379029087229, 504.8554414094772, 500.6030985330225, 715.0183589603133, 925.1680110022576, 717.2962524188799, 86.6486483494346, 84.41496055933185, 91.4773836570451, 88.33577611082725, 72.49397291979157, 78.43760539646682, 213.12682542419543, 160.18765499293517, 88.67219780441117, 216.68084361032788, 118.16329046021146, 58.60783203441429, 114.04058487515314, 73.20457289407086, 159.88165575786502, 145.6537522720083, 1097.837978030597, 66.61791548095545, 60.79742740883257, 313.4177808324255, 100.03178177338344, 102.7080422859835, 93.57531560896346, 72.1615010011908, 140.74534342084573, 76.3360902187635, 993.5127931622995, 46.958825774307215, 448.5367780193014, 58.68039699455537, 561.1374103058175, 544.4003749268225, 243.2474553043993, 1214.647839426299, 453.93286809560374, 586.9885108453029, 589.509623712057, 903.3044914300932, 713.7147193425918, 932.2287706336616, 767.7093895118146, 236.42806481060853, 247.21555536647847, 323.87930676259003, 672.1776266962684, 850.8411483357286, 1281.9135502030076, 207.67012758852505, 749.2604826849706, 638.5257235281118, 422.1368226203486, 685.3303210728326, 1214.2700942388128, 1280.2580940454852, 1143.3798123466454, 925.1680110022576, 714.9173145523084, 916.429098427426, 1184.799753412041, 1375.4517827395039, 785.4705078955288, 1113.5712947669322, 1078.2620962956084, 72.06127798989588, 49.23661968183096, 62.5982136216551, 901.6315417197304, 61.439611965598445, 125.3890575387059, 63.682237795371734, 116.8990907542641, 176.0526316347598, 197.67386501758864, 75.60862823741991, 140.62157008268014, 108.3972035991309, 332.3538552966586, 222.9328078837425, 57.754758116727686, 64.7647631082581, 105.2282585973364, 73.51038803549591, 65.39530688368343, 141.36883074786647, 979.1022770148876, 212.51986792568985, 220.73464356579566, 62.19986981255942, 59.74342652902837, 310.0076230296986, 64.90783093625461, 112.46988989188074, 77.30890466316247, 343.1305740129126, 1113.5712947669322, 630.4598491688175, 881.9504638052126, 431.057991331579, 726.750807208784, 200.37483538381912, 365.2385207516495, 1214.2700942388128, 1184.799753412041, 1005.0135608784244, 717.2962524188799, 313.35362416508735, 312.631275072171, 297.3118042466026, 638.3556138713901, 1027.5083596614086, 531.1940707063629, 487.55178146302774, 1375.4517827395039, 430.281393012864, 907.923769183816, 784.7252638187704, 1048.4597919238918, 664.9510665980868, 916.429098427426, 804.2464085096408, 1214.647839426299, 1143.3798123466454, 554.1494191366346, 664.3212210699053], \"Category\": [\"Default\", \"Default\", \"Default\", \"Default\", \"Default\", \"Default\", \"Default\", \"Default\", \"Default\", \"Default\", \"Default\", \"Default\", \"Default\", \"Default\", \"Default\", \"Default\", \"Default\", \"Default\", \"Default\", \"Default\", \"Default\", \"Default\", \"Default\", \"Default\", \"Default\", \"Default\", \"Default\", \"Default\", \"Default\", \"Default\", \"Topic1\", \"Topic1\", \"Topic1\", \"Topic1\", \"Topic1\", \"Topic1\", \"Topic1\", \"Topic1\", \"Topic1\", \"Topic1\", \"Topic1\", \"Topic1\", \"Topic1\", \"Topic1\", \"Topic1\", \"Topic1\", \"Topic1\", \"Topic1\", \"Topic1\", \"Topic1\", \"Topic1\", \"Topic1\", \"Topic1\", \"Topic1\", \"Topic1\", \"Topic1\", \"Topic1\", \"Topic1\", \"Topic1\", \"Topic1\", \"Topic1\", \"Topic1\", \"Topic1\", \"Topic1\", \"Topic1\", \"Topic1\", \"Topic1\", \"Topic1\", \"Topic1\", \"Topic1\", \"Topic1\", \"Topic1\", \"Topic1\", \"Topic1\", \"Topic1\", \"Topic1\", \"Topic1\", \"Topic1\", \"Topic1\", \"Topic1\", \"Topic1\", \"Topic1\", \"Topic1\", \"Topic1\", \"Topic1\", \"Topic1\", \"Topic1\", \"Topic1\", \"Topic1\", \"Topic1\", \"Topic2\", \"Topic2\", \"Topic2\", \"Topic2\", \"Topic2\", \"Topic2\", \"Topic2\", \"Topic2\", \"Topic2\", \"Topic2\", \"Topic2\", \"Topic2\", \"Topic2\", \"Topic2\", \"Topic2\", \"Topic2\", \"Topic2\", \"Topic2\", \"Topic2\", \"Topic2\", \"Topic2\", \"Topic2\", \"Topic2\", \"Topic2\", \"Topic2\", \"Topic2\", \"Topic2\", \"Topic2\", \"Topic2\", \"Topic2\", \"Topic2\", \"Topic2\", \"Topic2\", \"Topic2\", \"Topic2\", \"Topic2\", \"Topic2\", \"Topic2\", \"Topic2\", \"Topic2\", \"Topic2\", \"Topic2\", \"Topic2\", \"Topic2\", \"Topic2\", \"Topic2\", \"Topic2\", \"Topic2\", \"Topic2\", \"Topic2\", \"Topic2\", \"Topic2\", \"Topic2\", \"Topic2\", \"Topic2\", \"Topic2\", \"Topic2\", \"Topic2\", \"Topic2\", \"Topic2\", \"Topic2\", \"Topic2\", \"Topic2\", \"Topic3\", \"Topic3\", \"Topic3\", \"Topic3\", \"Topic3\", \"Topic3\", \"Topic3\", \"Topic3\", \"Topic3\", \"Topic3\", \"Topic3\", \"Topic3\", \"Topic3\", \"Topic3\", \"Topic3\", \"Topic3\", \"Topic3\", \"Topic3\", \"Topic3\", \"Topic3\", \"Topic3\", \"Topic3\", \"Topic3\", \"Topic3\", \"Topic3\", \"Topic3\", \"Topic3\", \"Topic3\", \"Topic3\", \"Topic3\", \"Topic3\", \"Topic3\", \"Topic3\", \"Topic3\", \"Topic3\", \"Topic3\", \"Topic3\", \"Topic3\", \"Topic3\", \"Topic3\", \"Topic3\", \"Topic3\", \"Topic3\", \"Topic3\", \"Topic3\", \"Topic3\", \"Topic3\", \"Topic3\", \"Topic3\", \"Topic3\", \"Topic3\", \"Topic3\", \"Topic3\", \"Topic3\", \"Topic3\", \"Topic3\", \"Topic3\", \"Topic3\", \"Topic3\", \"Topic3\", \"Topic3\", \"Topic3\", \"Topic3\", \"Topic4\", \"Topic4\", \"Topic4\", \"Topic4\", \"Topic4\", \"Topic4\", \"Topic4\", \"Topic4\", \"Topic4\", \"Topic4\", \"Topic4\", \"Topic4\", \"Topic4\", \"Topic4\", \"Topic4\", \"Topic4\", \"Topic4\", \"Topic4\", \"Topic4\", \"Topic4\", \"Topic4\", \"Topic4\", \"Topic4\", \"Topic4\", \"Topic4\", \"Topic4\", \"Topic4\", \"Topic4\", \"Topic4\", \"Topic4\", \"Topic4\", \"Topic4\", \"Topic4\", \"Topic4\", \"Topic4\", \"Topic4\", \"Topic4\", \"Topic4\", \"Topic4\", \"Topic4\", \"Topic4\", \"Topic4\", \"Topic4\", \"Topic4\", \"Topic4\", \"Topic4\", \"Topic4\", \"Topic4\", \"Topic4\", \"Topic4\", \"Topic4\", \"Topic4\", \"Topic4\", \"Topic4\", \"Topic4\", \"Topic4\", \"Topic4\", \"Topic4\", \"Topic4\", \"Topic4\", \"Topic4\"], \"logprob\": [30.0, 29.0, 28.0, 27.0, 26.0, 25.0, 24.0, 23.0, 22.0, 21.0, 20.0, 19.0, 18.0, 17.0, 16.0, 15.0, 14.0, 13.0, 12.0, 11.0, 10.0, 9.0, 8.0, 7.0, 6.0, 5.0, 4.0, 3.0, 2.0, 1.0, -4.0097, -4.6461, -4.9515, -5.1566, -5.4551, -5.5748, -5.7192, -5.7004, -5.6193, -6.2191, -6.0342, -6.2538, -6.3084, -6.4192, -6.5366, -6.6001, -6.7466, -5.8366, -7.0067, -6.2244, -5.1663, -6.1744, -6.1513, -6.0961, -5.8335, -5.7697, -6.8007, -6.2703, -4.4667, -5.0684, -5.5001, -5.5681, -5.0541, -4.3553, -5.0731, -5.2389, -5.138, -4.8425, -5.051, -5.1893, -4.7884, -5.1658, -5.5415, -5.3, -4.8027, -4.7755, -4.7889, -4.8997, -4.5904, -5.0107, -4.8676, -5.293, -4.8512, -4.8905, -5.2987, -4.9885, -5.0443, -5.2069, -5.1746, -5.22, -2.9444, -5.639, -5.8536, -5.9567, -6.2612, -6.3942, -6.5689, -5.8208, -6.2049, -6.7695, -6.9928, -3.312, -3.4719, -6.337, -5.8777, -5.0729, -3.7044, -6.6293, -6.3288, -6.1893, -6.8076, -5.7341, -7.2127, -6.0697, -6.7071, -6.9484, -6.0081, -6.5906, -6.1823, -6.7596, -4.6616, -6.1972, -4.9878, -4.926, -5.9467, -5.8409, -4.5213, -5.0295, -5.0224, -5.0295, -4.393, -5.0813, -4.8408, -5.2585, -4.6823, -5.6245, -4.7704, -4.628, -5.2519, -5.0075, -5.5506, -5.23, -5.3114, -5.1166, -5.0784, -5.102, -5.3414, -5.4076, -5.4015, -5.4056, -5.3396, -5.3278, -5.3629, -6.4184, -6.4446, -6.3656, -6.4185, -6.6296, -6.553, -5.5544, -5.8408, -6.4364, -5.5461, -6.1554, -6.8581, -6.1974, -6.6541, -5.8766, -5.9806, -3.9634, -6.7679, -6.8745, -5.2403, -6.3863, -6.36, -6.4582, -6.7313, -6.0805, -6.6952, -4.1319, -7.1916, -4.936, -6.9778, -4.7309, -4.7938, -5.6127, -4.1372, -5.0779, -4.865, -4.8765, -4.516, -4.7468, -4.5435, -4.7401, -5.6992, -5.6645, -5.4642, -4.9238, -4.7774, -4.5033, -5.8042, -4.9177, -5.0573, -5.3319, -5.0124, -4.6659, -4.7098, -4.8027, -4.9337, -5.0795, -4.9746, -4.8761, -4.8402, -5.1078, -5.0059, -5.0845, -6.2343, -6.6198, -6.4114, -3.8017, -6.4883, -5.7825, -6.4679, -5.8807, -5.4802, -5.3664, -6.3319, -5.714, -5.9806, -4.8752, -5.277, -6.6575, -6.5528, -6.072, -6.4311, -6.5558, -5.786, -3.8518, -5.3829, -5.3458, -6.6433, -6.6963, -5.0709, -6.6764, -6.1288, -6.5088, -5.0474, -3.8968, -4.513, -4.3154, -4.9633, -4.5739, -5.6312, -5.1392, -4.1727, -4.3004, -4.4512, -4.7075, -5.3144, -5.3164, -5.3582, -4.8579, -4.5836, -4.9972, -5.0698, -4.4759, -5.1632, -4.8417, -4.9201, -4.822, -5.0645, -4.9606, -5.0043, -4.9442, -5.0048, -5.158, -5.1363], \"loglift\": [30.0, 29.0, 28.0, 27.0, 26.0, 25.0, 24.0, 23.0, 22.0, 21.0, 20.0, 19.0, 18.0, 17.0, 16.0, 15.0, 14.0, 13.0, 12.0, 11.0, 10.0, 9.0, 8.0, 7.0, 6.0, 5.0, 4.0, 3.0, 2.0, 1.0, 1.2585, 1.2579, 1.2574, 1.257, 1.2563, 1.2558, 1.2553, 1.255, 1.2538, 1.2526, 1.2525, 1.2524, 1.2522, 1.2514, 1.2504, 1.2495, 1.2483, 1.2463, 1.2443, 1.2419, 1.2164, 1.2113, 1.2074, 1.2047, 1.201, 1.1909, 1.1879, 1.1876, 1.1872, 1.1863, 1.183, 1.1752, 1.1594, 1.0749, 1.1123, 1.1172, 1.089, 1.0485, 1.0253, 1.024, 0.9225, 0.9967, 1.076, 1.0045, 0.8262, 0.7492, 0.7549, 0.7778, 0.4611, 0.6548, 0.4038, 0.8058, 0.1286, 0.1017, 0.7915, 0.0617, 0.0587, 0.5006, 0.0486, 0.2401, 1.3041, 1.3003, 1.2992, 1.2985, 1.2968, 1.2955, 1.2939, 1.2925, 1.2917, 1.2907, 1.288, 1.2793, 1.2749, 1.2742, 1.2511, 1.2413, 1.2351, 1.2194, 1.2083, 1.2028, 1.202, 1.1908, 1.1895, 1.1803, 1.1733, 1.1728, 1.1715, 1.1691, 1.1645, 1.1583, 1.1314, 1.1408, 1.0574, 1.0232, 1.1084, 1.0905, 0.9115, 0.963, 0.9276, 0.9131, 0.71, 0.8317, 0.7176, 0.8474, 0.5618, 0.9481, 0.5272, 0.3642, 0.7076, 0.5325, 0.8752, 0.6317, 0.6778, 0.4243, 0.3773, 0.2931, 0.6065, 0.6659, 0.5805, 0.5849, 0.2944, 0.0485, 0.2679, 1.326, 1.3259, 1.3246, 1.3066, 1.2931, 1.291, 1.29, 1.2892, 1.2849, 1.2817, 1.2788, 1.2773, 1.2723, 1.2589, 1.2553, 1.2444, 1.2418, 1.2394, 1.2242, 1.2185, 1.2144, 1.2144, 1.2093, 1.1961, 1.1788, 1.1759, 1.1731, 1.1654, 1.1643, 1.1564, 1.1454, 1.1127, 1.0995, 0.9669, 1.0104, 0.9663, 0.9504, 0.8842, 0.889, 0.8252, 0.8227, 1.0414, 1.0315, 0.9617, 0.772, 0.6827, 0.5468, 1.0661, 0.6695, 0.6897, 0.829, 0.6639, 0.4385, 0.3416, 0.3618, 0.4426, 0.5546, 0.4112, 0.2528, 0.1396, 0.4322, 0.1851, 0.1386, 1.6945, 1.6899, 1.6581, 1.6003, 1.5999, 1.5924, 1.5845, 1.5643, 1.5553, 1.5533, 1.5488, 1.5462, 1.5399, 1.5249, 1.5224, 1.4925, 1.4827, 1.4781, 1.4778, 1.47, 1.4689, 1.4678, 1.4644, 1.4635, 1.4326, 1.4199, 1.3988, 1.3569, 1.3547, 1.3496, 1.3207, 1.2941, 1.2468, 1.1088, 1.1767, 1.0438, 1.2749, 1.1665, 0.9316, 0.8285, 0.8423, 0.9232, 1.1445, 1.1449, 1.1533, 0.8895, 0.6877, 0.9339, 0.947, 0.5039, 0.9786, 0.5534, 0.6209, 0.4292, 0.6421, 0.4252, 0.5121, 0.1598, 0.1598, 0.7308, 0.5712]}, \"token.table\": {\"Topic\": [1, 2, 3, 4, 4, 1, 2, 4, 1, 2, 3, 4, 2, 3, 1, 2, 3, 4, 1, 2, 1, 2, 3, 4, 2, 4, 1, 2, 3, 4, 2, 3, 1, 2, 3, 1, 3, 1, 4, 1, 2, 3, 1, 3, 4, 1, 2, 1, 2, 3, 4, 1, 4, 1, 2, 3, 4, 1, 2, 3, 4, 1, 2, 3, 4, 1, 2, 3, 4, 1, 2, 2, 2, 1, 2, 1, 2, 1, 2, 3, 4, 2, 3, 4, 1, 2, 3, 4, 2, 3, 1, 2, 3, 1, 2, 1, 2, 2, 3, 2, 4, 1, 2, 3, 4, 1, 2, 3, 4, 2, 3, 1, 2, 4, 2, 3, 1, 3, 1, 4, 1, 2, 4, 1, 2, 3, 4, 1, 2, 3, 1, 3, 1, 1, 3, 1, 3, 1, 2, 3, 4, 1, 2, 3, 4, 1, 2, 3, 1, 2, 3, 4, 1, 2, 3, 1, 2, 3, 4, 1, 2, 3, 4, 1, 2, 1, 2, 3, 1, 2, 3, 4, 1, 2, 3, 4, 1, 4, 2, 3, 4, 2, 1, 2, 1, 4, 1, 2, 3, 4, 1, 2, 4, 1, 2, 2, 2, 3, 1, 3, 4, 1, 2, 3, 4, 2, 1, 2, 3, 1, 2, 3, 4, 4, 1, 3, 4, 1, 2, 3, 1, 3, 4, 1, 2, 3, 4, 1, 3, 4, 1, 2, 3, 4, 1, 3, 3, 1, 2, 3, 4, 1, 2, 3, 4, 1, 2, 1, 2, 3, 4, 2, 4, 1, 2, 4, 1, 2, 3, 4, 1, 3, 4, 2, 3, 4, 1, 2, 1, 2, 4, 1, 2, 4, 1, 2, 3, 1, 2, 4, 1, 2, 3, 1, 1, 2, 4, 1, 2, 3, 4, 1, 2, 3, 4, 1, 2, 3, 4, 3, 4, 1, 1, 2, 4, 1, 2, 3, 4, 2, 4, 1, 2, 3, 4, 1, 2, 3, 4, 1, 2, 3, 4, 1, 2, 3, 4, 1, 3, 1, 2, 3, 4, 1, 3, 1, 2, 3, 4, 1, 1, 1, 3, 4, 1, 1, 1, 2, 3, 4, 2, 1, 2, 3, 4, 1, 2, 3, 4, 2, 3, 4, 1, 2, 3, 2, 1, 2, 2, 3, 4, 1, 2, 3, 4, 1, 2, 4, 1, 2, 3, 4, 1, 2, 3, 4, 2, 1, 3, 4, 1, 2, 3, 1, 2, 1, 2, 3, 4, 2, 4, 1, 2, 4, 1, 2, 4, 1, 2, 3, 4, 2, 3, 4, 1, 3, 4, 1, 2, 1, 2, 3, 4, 1, 2, 3, 1, 2, 4, 1, 2, 3, 4, 1, 2, 3, 4, 1, 3, 1, 1, 2, 4, 1, 2, 1, 2, 3, 4, 1, 2, 3, 4, 1, 2, 3, 4, 1, 1, 1, 2, 3, 4, 1, 2, 3, 4, 3, 1, 2, 3, 4, 1, 2, 3, 4, 2, 4, 1, 2, 3, 4, 1, 2, 3, 4, 3, 4, 1, 3, 4, 1, 2, 3, 4, 1, 2, 3, 4, 1, 3, 4, 1, 2, 3, 1, 2, 3, 4, 1, 2, 3, 4, 2, 3, 4, 1, 2, 1, 1, 2, 3, 4, 1, 2, 3, 4, 1, 2, 3, 1, 2, 3, 4, 1, 2, 3, 4, 1, 2, 3, 4, 1, 2, 3, 4, 1, 2, 3, 1, 2, 3, 4, 2, 3, 1, 2, 4, 1, 2, 3, 4, 1, 3, 2, 3, 1, 2, 3, 4, 2, 4, 1, 2, 3, 4, 1, 2, 3, 4, 2, 4, 2, 3, 1, 2, 3, 4, 1, 2, 3, 1, 1, 2, 3, 4, 2, 1, 2, 3, 4, 1, 1, 2, 3, 4, 2, 3, 1, 2, 1, 2, 3, 4, 1, 2, 3, 4, 1, 2, 3, 4, 1, 2, 3, 1, 2, 3, 4, 1, 2, 3, 4, 1, 2, 3, 4, 1, 2, 1, 2, 3, 4], \"Freq\": [0.11451890343617625, 0.2222347036979262, 0.11225120237803414, 0.5499175065994603, 0.9748841474125957, 0.016759735660051154, 0.9329586184095142, 0.04958088466098466, 0.0008980116537660013, 0.019756256382852028, 0.31699811377939846, 0.6627326004793089, 0.9885091730214322, 0.0061398085280834295, 0.81020080347038, 0.05967996989848781, 0.018084839363178125, 0.11212600405170438, 0.9947411051676924, 0.004828840316348022, 0.14638303162175603, 0.35410752411358126, 0.04182372332050172, 0.4572727083041522, 0.9751877823699328, 0.02465085395272833, 0.18366324800281747, 0.17845294309493612, 0.5991850644063549, 0.0390772868091101, 0.15337319549550865, 0.8350318421422138, 0.02896621252026367, 0.8226404355754883, 0.14483106260131837, 0.12472024382989876, 0.8730417068092913, 0.1852859398241185, 0.8029057392378469, 0.06491261527353367, 0.9006625369202798, 0.024342230727575128, 0.36081940865283896, 0.5206612313785265, 0.11753075200418206, 0.04988537023873636, 0.9478220345359909, 0.35415950320617245, 0.4977376801816478, 0.09380440895731054, 0.05551689509718379, 0.14222569118123743, 0.8533541470874245, 0.2766131829674181, 0.19104219830843264, 0.11144128234658571, 0.42188485459778874, 0.032057767022492294, 0.2040039719613146, 0.08451593124111605, 0.6790417923855185, 0.13566431746923674, 0.06988767869627348, 0.7893196652755592, 0.004111039923310204, 0.6006038088065807, 0.22945824010773336, 0.03761610493569399, 0.13165636727492896, 0.12355237902934062, 0.8648666532053843, 0.9943393647917951, 0.9866934224946585, 0.11899778901395683, 0.8726504527690168, 0.020204616010550406, 0.9698215685064195, 0.3646468190800267, 0.044781188308073455, 0.019191937846317196, 0.5693608227740768, 0.7008110975302368, 0.22526070992043326, 0.07151133648267723, 0.23351506446840212, 0.09166011876329802, 0.39719384797429147, 0.27825393196001186, 0.9908910880555706, 0.009008100800505188, 0.4516144252371724, 0.48528743062766333, 0.06338448073504174, 0.09027555522832019, 0.9027555522832019, 0.9479822941472443, 0.05184278171117743, 0.05261284836945153, 0.9382624625885523, 0.86849942261154, 0.12407134608736285, 0.7738710662655415, 0.18321329130668296, 0.01640716041552385, 0.024610740623285773, 0.12657837187302443, 0.1169240892725395, 0.6007109173635057, 0.15554121967447915, 0.3087569903726575, 0.6885280885310262, 0.9969484462940628, 0.6322450420614389, 0.3654466023262927, 0.3066499542568353, 0.6916660079348618, 0.1099650511566404, 0.8897172320855451, 0.9271977899972456, 0.060657799345614195, 0.012660089105137894, 0.7807054948168368, 0.20678145538391896, 0.3718506063535812, 0.5500290218980055, 0.021303940989007255, 0.0561649353346555, 0.00710503080027222, 0.13499558520517219, 0.8526036960326664, 0.10709969497199893, 0.8860065674956276, 0.9872964460635226, 0.08238716691342086, 0.9131244332904146, 0.05118769788717678, 0.9384411279315744, 0.1794754970237605, 0.16050654205376957, 0.5107026338074486, 0.1488333389953136, 0.18074448586239458, 0.13450752436271224, 0.640311860768328, 0.04623696149968233, 0.12777150836004944, 0.021295251393341576, 0.851810055733663, 0.06061715149339457, 0.031227017435991142, 0.8008811530642435, 0.10653923595808742, 0.018763878731299803, 0.05629163619389941, 0.925684684077457, 0.19262607642360635, 0.056459367227608755, 0.6376587357471106, 0.11291873445521751, 0.26673805788233207, 0.017782537192155473, 0.008891268596077737, 0.7024102190901411, 0.9787501252491034, 0.008738840404009853, 0.7922827363207733, 0.19371748223227697, 0.015236206467707177, 0.1223329376560515, 0.030583234414012873, 0.06116646882802575, 0.7951640947643347, 0.16757103605125642, 0.6759967931613184, 0.09521081593821387, 0.060934922200456876, 0.16247742922012948, 0.8334490350736271, 0.015974896760537302, 0.031949793521074604, 0.9584938056322381, 0.999799455233408, 0.8667180046721961, 0.1295757814293981, 0.7913476565347549, 0.2071982823103617, 0.08299795633086941, 0.556345676030359, 0.29568021942872225, 0.06613899645116156, 0.07216521505342756, 0.8725430547368969, 0.052483792766129134, 0.06074849799509225, 0.9388404235605166, 0.995825915783019, 0.04222837731518271, 0.9571765524774748, 0.08983714106263889, 0.009981904562515432, 0.899480511133335, 0.314348148918643, 0.39017451739316344, 0.14870802361022456, 0.1464994886061123, 0.9961508103844416, 0.04458943163661679, 0.11147357909154197, 0.8427402579320573, 0.1681312460099525, 0.045998171078194545, 0.15385595153740936, 0.6312852444524631, 0.9852725621929063, 0.991345070718701, 0.9735579828053272, 0.02264088332105412, 0.044039029340888, 0.7106297916370564, 0.24421643543583346, 0.17410136925615585, 0.03764353929862829, 0.7858088828588655, 0.2545748946001833, 0.1916305525287094, 0.45879431554318745, 0.09511589468578277, 0.2343354041335012, 0.016738243152392942, 0.7532209418576824, 0.2251690435391131, 0.36362702683335035, 0.2629303117102687, 0.14684937622116073, 0.25888338581738846, 0.740244681321595, 0.9947814023755331, 0.16007126973067465, 0.07423595117944332, 0.17631038405117788, 0.5892478624868314, 0.044104453861638006, 0.13909866217901218, 0.6802263845583401, 0.1357060118819631, 0.9264167376884024, 0.07187716068272088, 0.3010269179953713, 0.5518826829915141, 0.047703719245168134, 0.09951982808043697, 0.8411830049807488, 0.15741436350516938, 0.012809079031875727, 0.9222536902950523, 0.06404539515937864, 0.010965674692743118, 0.3305367657383997, 0.21618044394265004, 0.441760037621937, 0.11254042847830137, 0.12861763254663014, 0.7556285912114521, 0.8087272666099071, 0.005118527003860171, 0.18426697213896617, 0.9202951668550929, 0.0763378479418971, 0.02529418848341489, 0.11129442932702552, 0.8600024084361062, 0.342624306325526, 0.19578531790030057, 0.4631075788795571, 0.01068657897109151, 0.1068657897109151, 0.8869860546005952, 0.25818379276769426, 0.5110985285401295, 0.23183850779139892, 0.02255498396928768, 0.03383247595393152, 0.9473093267100825, 0.9940224099480033, 0.025870241063614446, 0.2716375311679517, 0.6984965087175901, 0.4499092821041253, 0.167153795781741, 0.37023784673151977, 0.012497480058447925, 0.6484908811441978, 0.20178364327448214, 0.011132890663419704, 0.13776952195981884, 0.0698295119077253, 0.5346945483220108, 0.3671037197434701, 0.02793180476309012, 0.16596929070796604, 0.8343321100454508, 0.9991382704970538, 0.06925836295454016, 0.10388754443181022, 0.8137857647158468, 0.004026118261918106, 0.11675742959562507, 0.8505174828301999, 0.02818282783342674, 0.19044927355355315, 0.8026076528328311, 0.1293428215938607, 0.21327805688349372, 0.14035072130397652, 0.5159952989116784, 0.044633179923234866, 0.030969961579387455, 0.9108812229231605, 0.013663218343847407, 0.07427415455360582, 0.17133697016343163, 0.33929784239260846, 0.4161040703969054, 0.03843299071822138, 0.8455257958008704, 0.06149278514915421, 0.05380618700550993, 0.050777191263308215, 0.9478409035817533, 0.032108071767056726, 0.06256957575118746, 0.692381752720377, 0.21323052788891517, 0.9886388395927546, 0.011911311320394634, 0.16522266897008236, 0.09913360138204942, 0.7225738056291602, 0.01321781351760659, 0.9973539431854985, 0.9982442415778869, 0.042771932337015345, 0.08554386467403069, 0.8639930332077099, 0.9984589125964036, 0.9950028188529046, 0.3451468641410643, 0.00743851000304018, 0.5697898662328778, 0.0788482060322259, 0.981261941864578, 0.004815329058695372, 0.13001388458477503, 0.765637320332564, 0.1011219102326028, 0.03313261494025839, 0.4141576867532299, 0.21536199711167955, 0.3376978061218644, 0.9711658188746395, 0.027648848935932797, 0.0017280530584957998, 0.7144793131277297, 0.11026847750174264, 0.17522114233153624, 0.9964523174485933, 0.9420109883530826, 0.0510728849107093, 0.10580802993646528, 0.03967801122617448, 0.8596902432337804, 0.33384497684438647, 0.09203293956250655, 0.1966978512218277, 0.3771545954620366, 0.009225330237283148, 0.13837995355924723, 0.8487303818300496, 0.2064044032321098, 0.15293820239487654, 0.3369614052765166, 0.303389604750812, 0.6179234694588344, 0.15484607036084264, 0.13439470257733513, 0.09349196701032009, 0.987348279096899, 0.18391607161532947, 0.02122108518638417, 0.7922538469583423, 0.032305578487540794, 0.018460330564309027, 0.9460919414208376, 0.9580690513325905, 0.04139804542795144, 0.4494728864080986, 0.001566107618146685, 0.5246460520791395, 0.023491614272200277, 0.21292534438976923, 0.7837464804134059, 0.009503150706185995, 0.1900630141237199, 0.7982646593196236, 0.10093535832765817, 0.8747731055063708, 0.016822559721276362, 0.4253006760392715, 0.13722516091884962, 0.07591179114659766, 0.3610676219921504, 0.339363971876736, 0.009981293290492237, 0.6487840638819953, 0.1177312839607042, 0.2956971783199082, 0.5831805461309301, 0.08911498691395055, 0.8911498691395056, 0.9875119539639676, 0.894972231756973, 0.09661632047376413, 0.01017013899723833, 0.07505488521971822, 0.015010977043943642, 0.9156695996805622, 0.220436716823348, 0.7552353602469488, 0.0249189332061176, 0.3057228351749115, 0.459583346994965, 0.11189855405094801, 0.1218894963769255, 0.19142398290245724, 0.6514590385873947, 0.10188695864163047, 0.052487221118415694, 0.1440995991342531, 0.8514976312478593, 0.9930771073930118, 0.8316074735236483, 0.1619866409332758, 0.006844505954927147, 0.9513859068999739, 0.040312962156778556, 0.19130424277358812, 0.47541945481357045, 0.19603949630758782, 0.13732235248599148, 0.9288602327706623, 0.03642589148120245, 0.020814795132115683, 0.013009246957572301, 0.05921462839538422, 0.02960731419769211, 0.7444124712562588, 0.1649550362442846, 0.9992447189304883, 0.9891152717056242, 0.016408513524438142, 0.41841709487317263, 0.09640001695607409, 0.46764263544648704, 0.2387658038492925, 0.16967240273539466, 0.37782720609118814, 0.2134024034403933, 0.9950842770454156, 0.930279272432903, 0.014268087000504647, 0.0028536174001009295, 0.051365113201816734, 0.1692861727535389, 0.6748570400309998, 0.05833510007047625, 0.09722516678412708, 0.08138072230663865, 0.8951879453730252, 0.2808539333986107, 0.3955359562030434, 0.2913859559010586, 0.032766292229837915, 0.08068615695681686, 0.01736284390209983, 0.11336915724312242, 0.7884773819071217, 0.10367730849230665, 0.8932198885491034, 0.11360239159328309, 0.022720478318656617, 0.8576980565292873, 0.07379466674079073, 0.5274148240591807, 0.39718894157543244, 0.002170431374729139, 0.6268813643831067, 0.1037444511479085, 0.1456836973566375, 0.12581773862618692, 0.01570296576595299, 0.09421779459571794, 0.8793660828933675, 0.9933882795794559, 0.027588500387650573, 0.96559751356777, 0.09613993474107048, 0.6230607309180913, 0.17933795519007378, 0.10168646943767069, 0.9037683533986778, 0.06740813685570249, 0.017476183629256202, 0.009986390645289257, 0.879896587308143, 0.042235036190790866, 0.07039172698465145, 0.11718824954300623, 0.8789118715725467, 0.992857998579472, 0.2210688987267247, 0.20001471789560804, 0.23309985920164847, 0.34589011365405903, 0.18951201533050932, 0.18714311513887796, 0.6040695488659985, 0.018951201533050934, 0.6344603352091489, 0.3072123728381142, 0.05565441536922359, 0.2702211890456186, 0.2842726908759908, 0.4096553225931578, 0.035669196954021654, 0.6045102971931221, 0.20704158170250694, 0.08818437739180851, 0.10096472194134598, 0.35157593014456756, 0.48741208497315053, 0.1158602497067325, 0.04594458178025599, 0.1069422711045599, 0.46214338584470527, 0.40485288346726245, 0.02546244550108569, 0.8642244066795467, 0.13109021899071777, 0.00485519329595251, 0.7686846303642495, 0.01660738398935107, 0.10676175421725688, 0.10676175421725688, 0.03824696055975127, 0.9561740139937818, 0.9328691084004774, 0.015811340820347075, 0.047434022461041225, 0.23900684987581453, 0.36346663805999446, 0.08150464004981693, 0.31610583370672246, 0.09868838626432289, 0.8881954763789061, 0.0683017440349682, 0.9289037188755677, 0.19361734380629053, 0.22413830440629692, 0.3033020459625635, 0.2794575454938085, 0.9099343322799351, 0.08442689680947853, 0.1801776593318098, 0.08274825835979413, 0.5138399914277538, 0.22422108716847441, 0.29770127421041886, 0.21423362723553507, 0.3023383657090235, 0.1854836599441862, 0.2773163074526036, 0.7086972301566536, 0.10848140111801352, 0.8901856150566404, 0.0829733502182255, 0.0989297637217304, 0.24892005065467648, 0.5712396034254755, 0.8339307423898691, 0.16454238863297865, 0.9925140396094958, 0.9768682597968554, 0.09081375046113235, 0.14126583405065032, 0.1917179176401683, 0.575153752920505, 0.9906487248538355, 0.3018924325581187, 0.1856599456042177, 0.4547888583498274, 0.057726201574420634, 0.9962215639408999, 0.1743045393500382, 0.08366617888801833, 0.2579707182380565, 0.4834045891307726, 0.04369874819822242, 0.9551297820468614, 0.9281831648554325, 0.05893226443526555, 0.32280302775549125, 0.07415745232220745, 0.30244608005919904, 0.3002649785203106, 0.46814702005022063, 0.0948336407175688, 0.11590778309925077, 0.32213331926285277, 0.07096599685193035, 0.07419172398156354, 0.1161261766667951, 0.735465785556369, 0.2513134897847989, 0.6867956438393741, 0.0633079783427356, 0.5470175145523233, 0.08226912487990086, 0.3507262692248405, 0.02020645172488793, 0.14969595406982464, 0.0071283787652297445, 0.8268919367666504, 0.014256757530459489, 0.07164798047220089, 0.059294880390786946, 0.40765230268666025, 0.461182403039454, 0.9495452290610207, 0.04708488739145557, 0.8427305574093071, 0.0809831166279214, 0.06579878226018614, 0.010122889578490175], \"Term\": [\"around\", \"around\", \"around\", \"around\", \"asked\", \"ass\", \"ass\", \"ass\", \"baby\", \"baby\", \"baby\", \"baby\", \"bang\", \"bang\", \"beat\", \"beat\", \"beat\", \"beat\", \"beats\", \"beats\", \"big\", \"big\", \"big\", \"big\", \"bitch\", \"bitch\", \"black\", \"black\", \"black\", \"black\", \"blame\", \"blame\", \"blast\", \"blast\", \"blast\", \"bless\", \"bless\", \"booty\", \"booty\", \"bounce\", \"bounce\", \"bounce\", \"brother\", \"brother\", \"brother\", \"buck\", \"buck\", \"bust\", \"bust\", \"bust\", \"bust\", \"butt\", \"butt\", \"call\", \"call\", \"call\", \"call\", \"car\", \"car\", \"car\", \"car\", \"change\", \"change\", \"change\", \"change\", \"check\", \"check\", \"check\", \"check\", \"click\", \"click\", \"clip\", \"clique\", \"cock\", \"cock\", \"compton\", \"compton\", \"cool\", \"cool\", \"cool\", \"cool\", \"cop\", \"cop\", \"cop\", \"could\", \"could\", \"could\", \"could\", \"creep\", \"creep\", \"crew\", \"crew\", \"crew\", \"criminal\", \"criminal\", \"crowd\", \"crowd\", \"cry\", \"cry\", \"cube\", \"cube\", \"cut\", \"cut\", \"cut\", \"cut\", \"day\", \"day\", \"day\", \"day\", \"death\", \"death\", \"def\", \"dick\", \"dick\", \"die\", \"die\", \"different\", \"different\", \"dj\", \"dj\", \"dog\", \"dog\", \"dog\", \"drop\", \"drop\", \"drop\", \"drop\", \"drug\", \"drug\", \"drug\", \"earth\", \"earth\", \"effect\", \"enemy\", \"enemy\", \"escape\", \"escape\", \"even\", \"even\", \"even\", \"even\", \"every\", \"every\", \"every\", \"every\", \"explain\", \"explain\", \"explain\", \"eye\", \"eye\", \"eye\", \"eye\", \"family\", \"family\", \"family\", \"feel\", \"feel\", \"feel\", \"feel\", \"fine\", \"fine\", \"fine\", \"fine\", \"flavor\", \"flavor\", \"flow\", \"flow\", \"flow\", \"food\", \"food\", \"food\", \"food\", \"fool\", \"fool\", \"fool\", \"fool\", \"freak\", \"freak\", \"freaky\", \"freaky\", \"freaky\", \"fuck\", \"funk\", \"funk\", \"funky\", \"funky\", \"game\", \"game\", \"game\", \"game\", \"gang\", \"gang\", \"gang\", \"gangster\", \"gangster\", \"gat\", \"ghetto\", \"ghetto\", \"girl\", \"girl\", \"girl\", \"give\", \"give\", \"give\", \"give\", \"glock\", \"god\", \"god\", \"god\", \"good\", \"good\", \"good\", \"good\", \"grabbed\", \"groove\", \"grow\", \"grow\", \"gun\", \"gun\", \"gun\", \"guy\", \"guy\", \"guy\", \"hard\", \"hard\", \"hard\", \"hard\", \"hat\", \"hat\", \"hat\", \"head\", \"head\", \"head\", \"head\", \"heart\", \"heart\", \"heaven\", \"hey\", \"hey\", \"hey\", \"hey\", \"high\", \"high\", \"high\", \"high\", \"hip\", \"hip\", \"hit\", \"hit\", \"hit\", \"hit\", \"hoe\", \"hoe\", \"hole\", \"hole\", \"hole\", \"homie\", \"homie\", \"homie\", \"homie\", \"honey\", \"honey\", \"honey\", \"hood\", \"hood\", \"hood\", \"hop\", \"hop\", \"hort\", \"hort\", \"hort\", \"house\", \"house\", \"house\", \"hustle\", \"hustle\", \"hustle\", \"ice\", \"ice\", \"ice\", \"instead\", \"instead\", \"instead\", \"jam\", \"jumped\", \"jumped\", \"jumped\", \"keep\", \"keep\", \"keep\", \"keep\", \"kick\", \"kick\", \"kick\", \"kick\", \"kill\", \"kill\", \"kill\", \"kill\", \"kiss\", \"kiss\", \"la\", \"legs\", \"legs\", \"legs\", \"life\", \"life\", \"life\", \"life\", \"lips\", \"lips\", \"little\", \"little\", \"little\", \"little\", \"live\", \"live\", \"live\", \"live\", \"look\", \"look\", \"look\", \"look\", \"loot\", \"loot\", \"loot\", \"loot\", \"lord\", \"lord\", \"love\", \"love\", \"love\", \"love\", \"lyrics\", \"lyrics\", \"many\", \"many\", \"many\", \"many\", \"mc\", \"mcs\", \"met\", \"met\", \"met\", \"mic\", \"microphone\", \"mind\", \"mind\", \"mind\", \"mind\", \"mob\", \"mom\", \"mom\", \"mom\", \"mom\", \"money\", \"money\", \"money\", \"money\", \"motherfucker\", \"motherfucker\", \"motherfucker\", \"move\", \"move\", \"move\", \"murder\", \"music\", \"music\", \"naked\", \"naked\", \"naked\", \"name\", \"name\", \"name\", \"name\", \"named\", \"named\", \"named\", \"need\", \"need\", \"need\", \"need\", \"new\", \"new\", \"new\", \"new\", \"niggas\", \"okay\", \"okay\", \"okay\", \"pain\", \"pain\", \"pain\", \"party\", \"party\", \"people\", \"people\", \"people\", \"people\", \"pimp\", \"pimp\", \"pipe\", \"pipe\", \"pipe\", \"platinum\", \"platinum\", \"platinum\", \"play\", \"play\", \"play\", \"play\", \"player\", \"player\", \"player\", \"please\", \"please\", \"please\", \"plot\", \"plot\", \"plug\", \"police\", \"police\", \"police\", \"pray\", \"pray\", \"pray\", \"punk\", \"punk\", \"punk\", \"put\", \"put\", \"put\", \"put\", \"quick\", \"quick\", \"quick\", \"quick\", \"race\", \"race\", \"radio\", \"rap\", \"rap\", \"rap\", \"raps\", \"raps\", \"real\", \"real\", \"real\", \"real\", \"record\", \"record\", \"record\", \"record\", \"remember\", \"remember\", \"remember\", \"remember\", \"rhyme\", \"rhythm\", \"ride\", \"ride\", \"ride\", \"ride\", \"right\", \"right\", \"right\", \"right\", \"rise\", \"rock\", \"rock\", \"rock\", \"rock\", \"roll\", \"roll\", \"roll\", \"roll\", \"rub\", \"rub\", \"run\", \"run\", \"run\", \"run\", \"said\", \"said\", \"said\", \"said\", \"saw\", \"saw\", \"sex\", \"sex\", \"sex\", \"shot\", \"shot\", \"shot\", \"shot\", \"show\", \"show\", \"show\", \"show\", \"sister\", \"sister\", \"sister\", \"skills\", \"sky\", \"sky\", \"smoke\", \"smoke\", \"smoke\", \"smoke\", \"sound\", \"sound\", \"sound\", \"sound\", \"south\", \"south\", \"south\", \"spit\", \"spit\", \"stage\", \"start\", \"start\", \"start\", \"start\", \"stay\", \"stay\", \"stay\", \"stay\", \"step\", \"step\", \"step\", \"still\", \"still\", \"still\", \"still\", \"stop\", \"stop\", \"stop\", \"stop\", \"straight\", \"straight\", \"straight\", \"straight\", \"street\", \"street\", \"street\", \"street\", \"style\", \"style\", \"style\", \"sucker\", \"sucker\", \"sucker\", \"sucker\", \"survive\", \"survive\", \"swing\", \"swing\", \"swing\", \"talk\", \"talk\", \"talk\", \"talk\", \"teach\", \"teach\", \"tears\", \"tears\", \"tell\", \"tell\", \"tell\", \"tell\", \"thang\", \"thang\", \"thing\", \"thing\", \"thing\", \"thing\", \"think\", \"think\", \"think\", \"think\", \"threw\", \"threw\", \"thug\", \"thug\", \"took\", \"took\", \"took\", \"took\", \"track\", \"track\", \"trapped\", \"tribe\", \"tried\", \"tried\", \"tried\", \"tried\", \"trigger\", \"us\", \"us\", \"us\", \"us\", \"wack\", \"walk\", \"walk\", \"walk\", \"walk\", \"war\", \"war\", \"wax\", \"wax\", \"way\", \"way\", \"way\", \"way\", \"well\", \"well\", \"well\", \"well\", \"went\", \"went\", \"went\", \"went\", \"wit\", \"wit\", \"wit\", \"word\", \"word\", \"word\", \"word\", \"world\", \"world\", \"world\", \"world\", \"would\", \"would\", \"would\", \"would\", \"wreck\", \"wreck\", \"yes\", \"yes\", \"yes\", \"yes\"]}, \"R\": 30, \"lambda.step\": 0.01, \"plot.opts\": {\"xlab\": \"PC1\", \"ylab\": \"PC2\"}, \"topic.order\": [3, 2, 1, 4]};\n",
       "\n",
       "function LDAvis_load_lib(url, callback){\n",
       "  var s = document.createElement('script');\n",
       "  s.src = url;\n",
       "  s.async = true;\n",
       "  s.onreadystatechange = s.onload = callback;\n",
       "  s.onerror = function(){console.warn(\"failed to load library \" + url);};\n",
       "  document.getElementsByTagName(\"head\")[0].appendChild(s);\n",
       "}\n",
       "\n",
       "if(typeof(LDAvis) !== \"undefined\"){\n",
       "   // already loaded: just create the visualization\n",
       "   !function(LDAvis){\n",
       "       new LDAvis(\"#\" + \"ldavis_el2009462923971845449668118\", ldavis_el2009462923971845449668118_data);\n",
       "   }(LDAvis);\n",
       "}else if(typeof define === \"function\" && define.amd){\n",
       "   // require.js is available: use it to load d3/LDAvis\n",
       "   require.config({paths: {d3: \"https://d3js.org/d3.v5\"}});\n",
       "   require([\"d3\"], function(d3){\n",
       "      window.d3 = d3;\n",
       "      LDAvis_load_lib(\"https://cdn.jsdelivr.net/gh/bmabey/pyLDAvis@3.4.0/pyLDAvis/js/ldavis.v3.0.0.js\", function(){\n",
       "        new LDAvis(\"#\" + \"ldavis_el2009462923971845449668118\", ldavis_el2009462923971845449668118_data);\n",
       "      });\n",
       "    });\n",
       "}else{\n",
       "    // require.js not available: dynamically load d3 & LDAvis\n",
       "    LDAvis_load_lib(\"https://d3js.org/d3.v5.js\", function(){\n",
       "         LDAvis_load_lib(\"https://cdn.jsdelivr.net/gh/bmabey/pyLDAvis@3.4.0/pyLDAvis/js/ldavis.v3.0.0.js\", function(){\n",
       "                 new LDAvis(\"#\" + \"ldavis_el2009462923971845449668118\", ldavis_el2009462923971845449668118_data);\n",
       "            })\n",
       "         });\n",
       "}\n",
       "</script>"
      ]
     },
     "execution_count": 13,
     "metadata": {},
     "output_type": "execute_result"
    }
   ],
   "execution_count": 13
  },
  {
   "metadata": {
    "ExecuteTime": {
     "end_time": "2024-10-19T16:22:38.365033Z",
     "start_time": "2024-10-19T16:22:37.758906Z"
    }
   },
   "cell_type": "code",
   "source": [
    "def format_topics_sentences(ldamodel, corpus, texts):\n",
    "    # Init output\n",
    "    sent_topics_df = pd.DataFrame()\n",
    "\n",
    "    # Get main topic in each document\n",
    "    for i, row_list in enumerate(ldamodel[corpus]):\n",
    "        row = sorted(row_list, key=lambda x: (x[1]), reverse=True)\n",
    "        # Get the dominant topic, its percentage, and keywords\n",
    "        for j, (topic_num, prop_topic) in enumerate(row):\n",
    "            if j == 0:  # Only the dominant topic\n",
    "                wp = ldamodel.show_topic(topic_num)\n",
    "                topic_keywords = \", \".join([word for word, prop in wp])\n",
    "\n",
    "                # Creating a temporary DataFrame to hold the new row\n",
    "                temp_df = pd.DataFrame([[int(topic_num), round(prop_topic, 4), topic_keywords]],\n",
    "                                       columns=['Dominant_Topic', 'Perc_Contribution', 'Topic_Keywords'])\n",
    "\n",
    "                # Use pd.concat() instead of append\n",
    "                sent_topics_df = pd.concat([sent_topics_df, temp_df], ignore_index=True)\n",
    "\n",
    "            else:\n",
    "                break\n",
    "\n",
    "    # Add original text to the DataFrame\n",
    "    contents = pd.Series(texts)\n",
    "    sent_topics_df = pd.concat([sent_topics_df, contents.rename('Text')], axis=1)\n",
    "\n",
    "    return sent_topics_df\n",
    "\n",
    "# Apply the updated function\n",
    "df_topic_sents_keywords = format_topics_sentences(\n",
    "    ldamodel=optimal_model,\n",
    "    corpus=corpus,\n",
    "    texts=df['Lyrics']\n",
    ")\n",
    "\n",
    "# Format the output\n",
    "df_dominant_topic = df_topic_sents_keywords.reset_index()\n",
    "df_dominant_topic.columns = ['Document_No', 'Dominant_Topic', 'Topic_Perc_Contrib', 'Keywords', 'Text']\n",
    "\n",
    "# Display the result\n",
    "df_dominant_topic.head()"
   ],
   "id": "40fd12776f4eb9d9",
   "outputs": [
    {
     "data": {
      "text/plain": [
       "   Document_No  Dominant_Topic  Topic_Perc_Contrib  \\\n",
       "0            0               2              0.4467   \n",
       "1            1               1              0.5864   \n",
       "2            2               2              0.7749   \n",
       "3            3               3              0.6271   \n",
       "4            4               2              0.3542   \n",
       "\n",
       "                                            Keywords  \\\n",
       "0  rhyme, rap, rock, keep, mic, check, move, stop...   \n",
       "1  fuck, bitch, motherfucker, ass, hit, roll, giv...   \n",
       "2  rhyme, rap, rock, keep, mic, check, move, stop...   \n",
       "3  girl, said, baby, would, look, around, call, w...   \n",
       "4  rhyme, rap, rock, keep, mic, check, move, stop...   \n",
       "\n",
       "                                                Text  \n",
       "0  \\n\\nYo\\nMy crew is in the house\\nTerra, Herb M...  \n",
       "1  \\n\\n[Intro:]\\nIt's the number one crew in the ...  \n",
       "2  \\n\\n[Verse 1]\\nThere are too many MC's who are...  \n",
       "3  \\n\\n[Verse 1:]\\nLet me get to the point real q...  \n",
       "4  \\n\\n[Big L]\\n A yo spark up the phillies and p...  "
      ],
      "text/html": [
       "<div>\n",
       "<style scoped>\n",
       "    .dataframe tbody tr th:only-of-type {\n",
       "        vertical-align: middle;\n",
       "    }\n",
       "\n",
       "    .dataframe tbody tr th {\n",
       "        vertical-align: top;\n",
       "    }\n",
       "\n",
       "    .dataframe thead th {\n",
       "        text-align: right;\n",
       "    }\n",
       "</style>\n",
       "<table border=\"1\" class=\"dataframe\">\n",
       "  <thead>\n",
       "    <tr style=\"text-align: right;\">\n",
       "      <th></th>\n",
       "      <th>Document_No</th>\n",
       "      <th>Dominant_Topic</th>\n",
       "      <th>Topic_Perc_Contrib</th>\n",
       "      <th>Keywords</th>\n",
       "      <th>Text</th>\n",
       "    </tr>\n",
       "  </thead>\n",
       "  <tbody>\n",
       "    <tr>\n",
       "      <th>0</th>\n",
       "      <td>0</td>\n",
       "      <td>2</td>\n",
       "      <td>0.4467</td>\n",
       "      <td>rhyme, rap, rock, keep, mic, check, move, stop...</td>\n",
       "      <td>\\n\\nYo\\nMy crew is in the house\\nTerra, Herb M...</td>\n",
       "    </tr>\n",
       "    <tr>\n",
       "      <th>1</th>\n",
       "      <td>1</td>\n",
       "      <td>1</td>\n",
       "      <td>0.5864</td>\n",
       "      <td>fuck, bitch, motherfucker, ass, hit, roll, giv...</td>\n",
       "      <td>\\n\\n[Intro:]\\nIt's the number one crew in the ...</td>\n",
       "    </tr>\n",
       "    <tr>\n",
       "      <th>2</th>\n",
       "      <td>2</td>\n",
       "      <td>2</td>\n",
       "      <td>0.7749</td>\n",
       "      <td>rhyme, rap, rock, keep, mic, check, move, stop...</td>\n",
       "      <td>\\n\\n[Verse 1]\\nThere are too many MC's who are...</td>\n",
       "    </tr>\n",
       "    <tr>\n",
       "      <th>3</th>\n",
       "      <td>3</td>\n",
       "      <td>3</td>\n",
       "      <td>0.6271</td>\n",
       "      <td>girl, said, baby, would, look, around, call, w...</td>\n",
       "      <td>\\n\\n[Verse 1:]\\nLet me get to the point real q...</td>\n",
       "    </tr>\n",
       "    <tr>\n",
       "      <th>4</th>\n",
       "      <td>4</td>\n",
       "      <td>2</td>\n",
       "      <td>0.3542</td>\n",
       "      <td>rhyme, rap, rock, keep, mic, check, move, stop...</td>\n",
       "      <td>\\n\\n[Big L]\\n A yo spark up the phillies and p...</td>\n",
       "    </tr>\n",
       "  </tbody>\n",
       "</table>\n",
       "</div>"
      ]
     },
     "execution_count": 14,
     "metadata": {},
     "output_type": "execute_result"
    }
   ],
   "execution_count": 14
  },
  {
   "metadata": {
    "ExecuteTime": {
     "end_time": "2024-10-19T16:22:51.665117Z",
     "start_time": "2024-10-19T16:22:51.630063Z"
    }
   },
   "cell_type": "code",
   "source": [
    "# Assuming you have a 'Region' column indicating 'East' or 'West'\n",
    "df_dominant_topic['Coast'] = df['Coast']\n",
    "\n",
    "# Calculate the distribution of topics by region (East vs West) in percentages\n",
    "topic_region_dist = pd.crosstab(df_dominant_topic['Dominant_Topic'],\n",
    "                                df_dominant_topic['Coast'],\n",
    "                                normalize='index') * 100\n",
    "print(topic_region_dist)"
   ],
   "id": "bd13b4cea73ca753",
   "outputs": [
    {
     "name": "stdout",
     "output_type": "stream",
     "text": [
      "Coast           east_coast  west_coast\n",
      "Dominant_Topic                        \n",
      "0                57.348703   42.651297\n",
      "1                24.709302   75.290698\n",
      "2                70.065076   29.934924\n",
      "3                43.981481   56.018519\n"
     ]
    }
   ],
   "execution_count": 15
  },
  {
   "metadata": {
    "ExecuteTime": {
     "end_time": "2024-10-19T16:22:54.317426Z",
     "start_time": "2024-10-19T16:22:54.113300Z"
    }
   },
   "cell_type": "code",
   "source": [
    "# Reset the index to convert 'Dominant_Topic' from index to column\n",
    "topic_region_dist = topic_region_dist.reset_index()\n",
    "\n",
    "# Melt the DataFrame for easier plotting with seaborn\n",
    "topic_region_dist_melted = topic_region_dist.melt(id_vars='Dominant_Topic',\n",
    "                                                  value_vars=['east_coast', 'west_coast'],\n",
    "                                                  var_name='Coast',\n",
    "                                                  value_name='Percentage')\n",
    "\n",
    "# Define custom colors for East Coast (blue) and West Coast (red)\n",
    "palette = {\"east_coast\": \"blue\", \"west_coast\": \"red\"}\n",
    "\n",
    "# Create the bar plot with custom colors\n",
    "plt.figure(figsize=(12, 6))\n",
    "sns.barplot(x='Dominant_Topic', y='Percentage', hue='Coast', data=topic_region_dist_melted, palette=palette)\n",
    "\n",
    "# Set plot labels and title\n",
    "plt.xlabel(\"Dominant Topic\")\n",
    "plt.ylabel(\"Percentage Contribution\")\n",
    "plt.title(\"Percentage Contribution of East and West Coast to Each Topic\")\n",
    "\n",
    "# Show the plot\n",
    "plt.show()"
   ],
   "id": "8d9662bc11e19eea",
   "outputs": [
    {
     "data": {
      "text/plain": [
       "<Figure size 1200x600 with 1 Axes>"
      ],
      "image/png": "[encoded data removed]"
     },
     "metadata": {},
     "output_type": "display_data"
    }
   ],
   "execution_count": 16
  },
  {
   "metadata": {
    "ExecuteTime": {
     "end_time": "2024-10-19T16:22:55.592571Z",
     "start_time": "2024-10-19T16:22:55.578524Z"
    }
   },
   "cell_type": "code",
   "source": "df.head()",
   "id": "a8da7b53267d4f1f",
   "outputs": [
    {
     "data": {
      "text/plain": [
       "  Artist                                Album                       Song  \\\n",
       "0  Big L  Lifestylez Ov Da Poor and Dangerous             8 Iz Enuff.mp3   \n",
       "1  Big L  Lifestylez Ov Da Poor and Dangerous           Da Graveyard.mp3   \n",
       "2  Big L  Lifestylez Ov Da Poor and Dangerous  I Don't Understand It.mp3   \n",
       "3  Big L  Lifestylez Ov Da Poor and Dangerous      No Endz, No Skinz.mp3   \n",
       "4  Big L  Lifestylez Ov Da Poor and Dangerous                    MVP.mp3   \n",
       "\n",
       "        Coast  Release Year      Tempo1     Tempo2  Duration (s)  \\\n",
       "0  east_coast          1995   96.774194  48.000000    298.840000   \n",
       "1  east_coast          1995   93.750000  46.511628    323.760000   \n",
       "2  east_coast          1995   93.750000  47.244094    260.226667   \n",
       "3  east_coast          1995  100.000000  50.420168    208.733333   \n",
       "4  east_coast          1995   86.956522  43.478261    218.866667   \n",
       "\n",
       "   Sample Rate (Hz)                                               Path  \\\n",
       "0             48000  /Users/borosabel/Documents/Uni/Thesis/PopMIR/D...   \n",
       "1             48000  /Users/borosabel/Documents/Uni/Thesis/PopMIR/D...   \n",
       "2             48000  /Users/borosabel/Documents/Uni/Thesis/PopMIR/D...   \n",
       "3             48000  /Users/borosabel/Documents/Uni/Thesis/PopMIR/D...   \n",
       "4             48000  /Users/borosabel/Documents/Uni/Thesis/PopMIR/D...   \n",
       "\n",
       "                                              Lyrics  \\\n",
       "0  \\n\\nYo\\nMy crew is in the house\\nTerra, Herb M...   \n",
       "1  \\n\\n[Intro:]\\nIt's the number one crew in the ...   \n",
       "2  \\n\\n[Verse 1]\\nThere are too many MC's who are...   \n",
       "3  \\n\\n[Verse 1:]\\nLet me get to the point real q...   \n",
       "4  \\n\\n[Big L]\\n A yo spark up the phillies and p...   \n",
       "\n",
       "                                              Tokens  \\\n",
       "0  [crew, house, bless, big, mike, imma, set, fol...   \n",
       "1  [number, one, crew, big, nigga, men, win, kill...   \n",
       "2  [many, mcs, ask, even, supposed, make, rap, kn...   \n",
       "3  [let, point, real, quick, pocket, thick, mad, ...   \n",
       "4  [pass, make, quick, money, grip, ass, street, ...   \n",
       "\n",
       "                                    Processed_Lyrics  \n",
       "0  crew house terra herb mcgruff buddah bless big...  \n",
       "1  number one crew area big lightin nigga incense...  \n",
       "2  many mcs overrated ask even supposed make rap ...  \n",
       "3  let get point real quick pocket thick mad chic...  \n",
       "4  spark phillies pass stout make quick money gri...  "
      ],
      "text/html": [
       "<div>\n",
       "<style scoped>\n",
       "    .dataframe tbody tr th:only-of-type {\n",
       "        vertical-align: middle;\n",
       "    }\n",
       "\n",
       "    .dataframe tbody tr th {\n",
       "        vertical-align: top;\n",
       "    }\n",
       "\n",
       "    .dataframe thead th {\n",
       "        text-align: right;\n",
       "    }\n",
       "</style>\n",
       "<table border=\"1\" class=\"dataframe\">\n",
       "  <thead>\n",
       "    <tr style=\"text-align: right;\">\n",
       "      <th></th>\n",
       "      <th>Artist</th>\n",
       "      <th>Album</th>\n",
       "      <th>Song</th>\n",
       "      <th>Coast</th>\n",
       "      <th>Release Year</th>\n",
       "      <th>Tempo1</th>\n",
       "      <th>Tempo2</th>\n",
       "      <th>Duration (s)</th>\n",
       "      <th>Sample Rate (Hz)</th>\n",
       "      <th>Path</th>\n",
       "      <th>Lyrics</th>\n",
       "      <th>Tokens</th>\n",
       "      <th>Processed_Lyrics</th>\n",
       "    </tr>\n",
       "  </thead>\n",
       "  <tbody>\n",
       "    <tr>\n",
       "      <th>0</th>\n",
       "      <td>Big L</td>\n",
       "      <td>Lifestylez Ov Da Poor and Dangerous</td>\n",
       "      <td>8 Iz Enuff.mp3</td>\n",
       "      <td>east_coast</td>\n",
       "      <td>1995</td>\n",
       "      <td>96.774194</td>\n",
       "      <td>48.000000</td>\n",
       "      <td>298.840000</td>\n",
       "      <td>48000</td>\n",
       "      <td>/Users/borosabel/Documents/Uni/Thesis/PopMIR/D...</td>\n",
       "      <td>\\n\\nYo\\nMy crew is in the house\\nTerra, Herb M...</td>\n",
       "      <td>[crew, house, bless, big, mike, imma, set, fol...</td>\n",
       "      <td>crew house terra herb mcgruff buddah bless big...</td>\n",
       "    </tr>\n",
       "    <tr>\n",
       "      <th>1</th>\n",
       "      <td>Big L</td>\n",
       "      <td>Lifestylez Ov Da Poor and Dangerous</td>\n",
       "      <td>Da Graveyard.mp3</td>\n",
       "      <td>east_coast</td>\n",
       "      <td>1995</td>\n",
       "      <td>93.750000</td>\n",
       "      <td>46.511628</td>\n",
       "      <td>323.760000</td>\n",
       "      <td>48000</td>\n",
       "      <td>/Users/borosabel/Documents/Uni/Thesis/PopMIR/D...</td>\n",
       "      <td>\\n\\n[Intro:]\\nIt's the number one crew in the ...</td>\n",
       "      <td>[number, one, crew, big, nigga, men, win, kill...</td>\n",
       "      <td>number one crew area big lightin nigga incense...</td>\n",
       "    </tr>\n",
       "    <tr>\n",
       "      <th>2</th>\n",
       "      <td>Big L</td>\n",
       "      <td>Lifestylez Ov Da Poor and Dangerous</td>\n",
       "      <td>I Don't Understand It.mp3</td>\n",
       "      <td>east_coast</td>\n",
       "      <td>1995</td>\n",
       "      <td>93.750000</td>\n",
       "      <td>47.244094</td>\n",
       "      <td>260.226667</td>\n",
       "      <td>48000</td>\n",
       "      <td>/Users/borosabel/Documents/Uni/Thesis/PopMIR/D...</td>\n",
       "      <td>\\n\\n[Verse 1]\\nThere are too many MC's who are...</td>\n",
       "      <td>[many, mcs, ask, even, supposed, make, rap, kn...</td>\n",
       "      <td>many mcs overrated ask even supposed make rap ...</td>\n",
       "    </tr>\n",
       "    <tr>\n",
       "      <th>3</th>\n",
       "      <td>Big L</td>\n",
       "      <td>Lifestylez Ov Da Poor and Dangerous</td>\n",
       "      <td>No Endz, No Skinz.mp3</td>\n",
       "      <td>east_coast</td>\n",
       "      <td>1995</td>\n",
       "      <td>100.000000</td>\n",
       "      <td>50.420168</td>\n",
       "      <td>208.733333</td>\n",
       "      <td>48000</td>\n",
       "      <td>/Users/borosabel/Documents/Uni/Thesis/PopMIR/D...</td>\n",
       "      <td>\\n\\n[Verse 1:]\\nLet me get to the point real q...</td>\n",
       "      <td>[let, point, real, quick, pocket, thick, mad, ...</td>\n",
       "      <td>let get point real quick pocket thick mad chic...</td>\n",
       "    </tr>\n",
       "    <tr>\n",
       "      <th>4</th>\n",
       "      <td>Big L</td>\n",
       "      <td>Lifestylez Ov Da Poor and Dangerous</td>\n",
       "      <td>MVP.mp3</td>\n",
       "      <td>east_coast</td>\n",
       "      <td>1995</td>\n",
       "      <td>86.956522</td>\n",
       "      <td>43.478261</td>\n",
       "      <td>218.866667</td>\n",
       "      <td>48000</td>\n",
       "      <td>/Users/borosabel/Documents/Uni/Thesis/PopMIR/D...</td>\n",
       "      <td>\\n\\n[Big L]\\n A yo spark up the phillies and p...</td>\n",
       "      <td>[pass, make, quick, money, grip, ass, street, ...</td>\n",
       "      <td>spark phillies pass stout make quick money gri...</td>\n",
       "    </tr>\n",
       "  </tbody>\n",
       "</table>\n",
       "</div>"
      ]
     },
     "execution_count": 17,
     "metadata": {},
     "output_type": "execute_result"
    }
   ],
   "execution_count": 17
  },
  {
   "metadata": {},
   "cell_type": "code",
   "outputs": [],
   "execution_count": null,
   "source": "",
   "id": "ff1e7a0e62b2c6c4"
  }
 ],
 "metadata": {
  "kernelspec": {
   "display_name": "Python 3",
   "language": "python",
   "name": "python3"
  },
  "language_info": {
   "codemirror_mode": {
    "name": "ipython",
    "version": 2
   },
   "file_extension": ".py",
   "mimetype": "text/x-python",
   "name": "python",
   "nbconvert_exporter": "python",
   "pygments_lexer": "ipython2",
   "version": "2.7.6"
  }
 },
 "nbformat": 4,
 "nbformat_minor": 5
}
